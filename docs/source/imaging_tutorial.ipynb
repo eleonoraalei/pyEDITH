{
 "cells": [
  {
   "cell_type": "markdown",
   "metadata": {},
   "source": [
    "\n",
    "# pyEDITH Tutorial: Imaging Mode\n",
    "\n",
    "This tutorial will guide you through using pyEDITH in imaging mode. We'll explore how to set up parameters, run the Exposure Time Calculator (ETC), and analyze the results.\n",
    "\n",
    "## 1. Basic Usage\n",
    "\n",
    "This section will explain how to use the premade ``umbrella'' functions in the code.\n",
    "\n",
    "### 1.1 Setup and Imports\n",
    "\n",
    "First, let's import the necessary modules and set up our environment:\n"
   ]
  },
  {
   "cell_type": "code",
   "execution_count": 48,
   "metadata": {},
   "outputs": [],
   "source": [
    "import os\n",
    "import numpy as np\n",
    "import matplotlib.pyplot as plt\n",
    "from astropy import units as u\n",
    "from pyEDITH import parse_input, calculate_texp, calculate_snr, AstrophysicalScene, Observation, ObservatoryBuilder\n",
    "from pyEDITH.units import *\n",
    "\n",
    "# Set the necessary environment variables\n",
    "# Replace with your paths or add to your .bashrc/.zshrc:\n",
    "# export SCI_ENG_DIR=\"/path/to/Sci-Eng-Interface/hwo_sci_eng\"\n",
    "# export YIP_CORO_DIR=\"/path/to/yips\"\n",
    "\n"
   ]
  },
  {
   "cell_type": "markdown",
   "metadata": {},
   "source": [
    "### 1.2 Defining Input Parameters\n",
    "\n",
    "Let's set up the parameters for an Earth-like planet around a Sun-like star.\n",
    "\n",
    "\n",
    "**Note:** Parameters that vary with lambda (wavelength, resolution, snr, fluxes, contrasts...) can be both floats and lists. If len(wavelength)>1 and any of the other values is a float, it becomes a list of length len(wavelength) internally."
   ]
  },
  {
   "cell_type": "code",
   "execution_count": 49,
   "metadata": {},
   "outputs": [],
   "source": [
    "imaging_params = {\n",
    "    'wavelength': 0.5,              # Wavelength in microns\n",
    "    'snr': 7,                       # Desired signal-to-noise ratio\n",
    "    'bandwidth': 0.2,               # Bandwidth of observation\n",
    "    'CRb_multiplier': 2.0,          # Count rate ratio multiplier (assuming differential imaging for PSF subtraction)\n",
    "    'psf_trunc_ratio': 0.3,         # PSF Truncation Ratio to calculate photometric aperture of solid angle Omega. \n",
    "    'distance': 10,                 # Distance to star in parsecs\n",
    "    'FstarV_10pc': 122.9279,        # Stellar flux at 10 pc in the V band [ph/cm2/s/nm]\n",
    "    'Fstar_10pc': 115.59984,        # Stellar flux at 10 pc in the observed band [ph/cm2/s/nm]\n",
    "    'Fp/Fs': 1e-10,                 # Planet-to-star contrast\n",
    "    'stellar_radius': 1,            # Stellar radius in solar radii\n",
    "    'nzodis': 3.0,                  # Number of zodiacal light disks\n",
    "    'ra': 236.00757736823,          # Right ascension of star [deg]\n",
    "    'dec': 2.51516683165,           # Declination of star [deg]\n",
    "    'separation': 0.1,              # Separation between star and planet in arcseconds\n",
    "    'observatory_preset': 'EAC1',   # Preset observatory configuration\n",
    "    'observing_mode': 'IMAGER',     # Observing mode\n",
    "}\n"
   ]
  },
  {
   "cell_type": "markdown",
   "metadata": {},
   "source": [
    "### 1.3 Running the ETC\n",
    "\n",
    "We can now package the parameters so that they will be ingested by the ETC. "
   ]
  },
  {
   "cell_type": "code",
   "execution_count": 50,
   "metadata": {},
   "outputs": [],
   "source": [
    "# Make the parameters be the shape that the code desires \n",
    "parsed_parameters= parse_input.parse_parameters(imaging_params)"
   ]
  },
  {
   "cell_type": "markdown",
   "metadata": {},
   "source": [
    "Then, we can calculate the exposure time:"
   ]
  },
  {
   "cell_type": "code",
   "execution_count": 51,
   "metadata": {},
   "outputs": [
    {
     "name": "stdout",
     "output_type": "stream",
     "text": [
      "WARNING: ez_PPF not set. Assuming EZ subtraction to Poisson limit (ez_PPF = inf)\n",
      "Observatory Configuration:\n",
      "  Using preset: EAC1\n",
      "\n"
     ]
    },
    {
     "name": "stderr",
     "output_type": "stream",
     "text": [
      "\u001b[38;5;229m\u001b[48;5;16m[yippy]\u001b[0m \u001b[32mINFO [2025-09-02 18:05:06,760] \u001b[0mCreating usort_offaxis_ovc coronagraph\n",
      "\u001b[38;5;229m\u001b[48;5;16m[yippy]\u001b[0m \u001b[33mWARNING [2025-09-02 18:05:06,763] \u001b[0mUnhandled header fields: {'D_INSC'}\n",
      "\u001b[38;5;229m\u001b[48;5;16m[yippy]\u001b[0m \u001b[33mWARNING [2025-09-02 18:05:06,763] \u001b[0mUsing default unit for D: m. Could not extract unit from comment: \"circumscribed diameter of the telescope in mete\"\n",
      "\u001b[38;5;229m\u001b[48;5;16m[yippy]\u001b[0m \u001b[32mINFO [2025-09-02 18:05:06,823] \u001b[0musort_offaxis_ovc is radially symmetric\n",
      "\u001b[38;5;229m\u001b[48;5;16m[yippy]\u001b[0m \u001b[32mINFO [2025-09-02 18:05:06,889] \u001b[0mCreated usort_offaxis_ovc\n"
     ]
    },
    {
     "name": "stdout",
     "output_type": "stream",
     "text": [
      "Using psf_trunc_ratio to calculate Omega...\n",
      "WARNING: noisefloor_PPF value not provided. Using the default value: 30.0\n",
      "Azimuthally averaging contrast maps and noise floor...\n",
      "Calculating optics throughput from preset...\n",
      "Calculating epswarmTrcold as 1 - optics throughput...\n",
      "Calculated exposure time: [3.85955507] h\n"
     ]
    }
   ],
   "source": [
    "\n",
    "# Calculate Exposure time\n",
    "texp, validation_output = calculate_texp(parsed_parameters, verbose=False)\n",
    "print(f\"Calculated exposure time: {texp.to(u.hr)}\")"
   ]
  },
  {
   "cell_type": "markdown",
   "metadata": {},
   "source": [
    "We can also calculate the SNR for a given exposure time (e.g. 3 hours):\n"
   ]
  },
  {
   "cell_type": "code",
   "execution_count": 52,
   "metadata": {},
   "outputs": [
    {
     "name": "stdout",
     "output_type": "stream",
     "text": [
      "WARNING: ez_PPF not set. Assuming EZ subtraction to Poisson limit (ez_PPF = inf)\n",
      "Observatory Configuration:\n",
      "  Using preset: EAC1\n",
      "\n"
     ]
    },
    {
     "name": "stderr",
     "output_type": "stream",
     "text": [
      "\u001b[38;5;229m\u001b[48;5;16m[yippy]\u001b[0m \u001b[32mINFO [2025-09-02 18:05:12,052] \u001b[0mCreating usort_offaxis_ovc coronagraph\n",
      "\u001b[38;5;229m\u001b[48;5;16m[yippy]\u001b[0m \u001b[33mWARNING [2025-09-02 18:05:12,053] \u001b[0mUnhandled header fields: {'D_INSC'}\n",
      "\u001b[38;5;229m\u001b[48;5;16m[yippy]\u001b[0m \u001b[33mWARNING [2025-09-02 18:05:12,053] \u001b[0mUsing default unit for D: m. Could not extract unit from comment: \"circumscribed diameter of the telescope in mete\"\n",
      "\u001b[38;5;229m\u001b[48;5;16m[yippy]\u001b[0m \u001b[32mINFO [2025-09-02 18:05:12,086] \u001b[0musort_offaxis_ovc is radially symmetric\n",
      "\u001b[38;5;229m\u001b[48;5;16m[yippy]\u001b[0m \u001b[32mINFO [2025-09-02 18:05:12,106] \u001b[0mCreated usort_offaxis_ovc\n"
     ]
    },
    {
     "name": "stdout",
     "output_type": "stream",
     "text": [
      "Using psf_trunc_ratio to calculate Omega...\n",
      "WARNING: noisefloor_PPF value not provided. Using the default value: 30.0\n",
      "Azimuthally averaging contrast maps and noise floor...\n",
      "Calculating optics throughput from preset...\n",
      "Calculating epswarmTrcold as 1 - optics throughput...\n",
      "Calculated snr: [4.70499861]\n"
     ]
    }
   ],
   "source": [
    "\n",
    "# Calculate SNR given a specific exposure time\n",
    "texp = 3*u.hr\n",
    "snr, validation_output = calculate_snr(parsed_parameters, texp, verbose=False)\n",
    "print(f\"Calculated snr: {snr}\")"
   ]
  },
  {
   "cell_type": "markdown",
   "metadata": {},
   "source": [
    "`validation_output` contains some interesting quantities that you can use to double check or validate, or to plot additional quantities."
   ]
  },
  {
   "cell_type": "code",
   "execution_count": 53,
   "metadata": {},
   "outputs": [
    {
     "data": {
      "text/plain": [
       "{0: {'F0': <Quantity 12638.83670769 ph / (nm s cm2)>,\n",
       "  'magstar': <Quantity [5.09687467] mag>,\n",
       "  'dist': <Quantity 10. pc>,\n",
       "  'D': <Quantity 7.225765 m>,\n",
       "  'A_cm': <Quantity 410069.58591604 cm2>,\n",
       "  'wavelength': <Quantity 500. nm>,\n",
       "  'deltalambda_nm': <Quantity 100. nm>,\n",
       "  'snr': <Quantity 4.70499861>,\n",
       "  'nzodis': <Quantity 3. zodi>,\n",
       "  'toverhead_fixed': <Quantity 8250. s>,\n",
       "  'toverhead_multi': <Quantity 1.1>,\n",
       "  'det_DC': <Quantity 3.e-05 electron / (pix s)>,\n",
       "  'det_RN': <Quantity 0.1 electron / (pix read)>,\n",
       "  'det_CIC': <Quantity 0. electron / (frame pix)>,\n",
       "  'det_tread': <Quantity 1000. s / read>,\n",
       "  'det_pixscale_mas': <Quantity 7.13643491 mas>,\n",
       "  'dQE': <Quantity 0.75>,\n",
       "  'QE': <Quantity 0.88749741 electron / ph>,\n",
       "  'T_optical': <Quantity 0.36198356>,\n",
       "  'Fs_over_F0': <Quantity 115.59984 ph / (nm s cm2)>,\n",
       "  'Fp': <Quantity 1.1559984e-08 ph / (nm s cm2)>,\n",
       "  'Fzodi': <Quantity 7.72303075e-06 ph / (nm s arcsec2 cm2)>,\n",
       "  'Fexozodi': <Quantity 4.69979038e-05 arcsec^-2 ph / (nm s arcsec2 cm2 pc2)>,\n",
       "  'sp_lod': <Quantity 7.00629946 λ/D>,\n",
       "  'omega_lod': <Quantity 2.52356026>,\n",
       "  'T_core or photometric_aperture_throughput': <Quantity 0.3941733>,\n",
       "  'Istar': <Quantity 5.33657648e-15>,\n",
       "  'Istar*oneopixscale2 in (l/D)^-2': <Quantity 8.53852237e-14>,\n",
       "  'skytrans': <Quantity 0.67984173>,\n",
       "  'skytrans*oneopixscale2  in (l/D)^-2': <Quantity 10.87746765>,\n",
       "  'det_npix': <Quantity 27.0660789 pix>,\n",
       "  't_photon_count': <Quantity 3.35388201 s / frame>,\n",
       "  'CRp': <Quantity 0.09004284 electron / s>,\n",
       "  'CRbs': <Quantity 0.00049222 electron / s>,\n",
       "  'CRbz': <Quantity 0.05333799>,\n",
       "  'CRbez': <Quantity 0.32458419>,\n",
       "  'CRbbin': <Quantity 0. electron / s>,\n",
       "  'CRbth': <Quantity 1.62844801e-29 electron / s>,\n",
       "  'CRb': <Quantity 0.37949704 electron / s>,\n",
       "  'CRbd': <Quantity 0.00108264 electron / s>,\n",
       "  'CRnf': <Quantity 1.6407301e-05 electron / s>,\n",
       "  'sciencetime': <Quantity 0.>,\n",
       "  'exptime': <Quantity 0. s>}}"
      ]
     },
     "execution_count": 53,
     "metadata": {},
     "output_type": "execute_result"
    }
   ],
   "source": [
    "validation_output"
   ]
  },
  {
   "cell_type": "markdown",
   "metadata": {},
   "source": [
    "\n",
    "\n",
    "The code can also perform **simultaneous observations**. This is the key feature used in [Alei et al. 2025](DUMMY LINK). For example, we assume the primary (detection) bandpass to be 0.5 micron with 20% bandwidth. What is the SNR of a secondary bandpass at 1 micron with 20% bandpass?\n"
   ]
  },
  {
   "cell_type": "code",
   "execution_count": 54,
   "metadata": {
    "nbsphinx": {
     "scrolled": true
    }
   },
   "outputs": [
    {
     "name": "stdout",
     "output_type": "stream",
     "text": [
      "Calculating texp from primary lambda\n",
      "WARNING: ez_PPF not set. Assuming EZ subtraction to Poisson limit (ez_PPF = inf)\n",
      "Observatory Configuration:\n",
      "  Using preset: EAC1\n",
      "\n"
     ]
    },
    {
     "name": "stderr",
     "output_type": "stream",
     "text": [
      "\u001b[38;5;229m\u001b[48;5;16m[yippy]\u001b[0m \u001b[32mINFO [2025-09-02 18:05:16,944] \u001b[0mCreating usort_offaxis_ovc coronagraph\n",
      "\u001b[38;5;229m\u001b[48;5;16m[yippy]\u001b[0m \u001b[33mWARNING [2025-09-02 18:05:16,946] \u001b[0mUnhandled header fields: {'D_INSC'}\n",
      "\u001b[38;5;229m\u001b[48;5;16m[yippy]\u001b[0m \u001b[33mWARNING [2025-09-02 18:05:16,947] \u001b[0mUsing default unit for D: m. Could not extract unit from comment: \"circumscribed diameter of the telescope in mete\"\n",
      "\u001b[38;5;229m\u001b[48;5;16m[yippy]\u001b[0m \u001b[32mINFO [2025-09-02 18:05:16,985] \u001b[0musort_offaxis_ovc is radially symmetric\n",
      "\u001b[38;5;229m\u001b[48;5;16m[yippy]\u001b[0m \u001b[32mINFO [2025-09-02 18:05:17,001] \u001b[0mCreated usort_offaxis_ovc\n"
     ]
    },
    {
     "name": "stdout",
     "output_type": "stream",
     "text": [
      "Using psf_trunc_ratio to calculate Omega...\n",
      "WARNING: noisefloor_PPF value not provided. Using the default value: 30.0\n",
      "Azimuthally averaging contrast maps and noise floor...\n",
      "Calculating optics throughput from preset...\n",
      "Calculating epswarmTrcold as 1 - optics throughput...\n",
      "Reference exposure time:  [3.85955507] h\n",
      "Calculating snr on secondary lambda\n",
      "WARNING: ez_PPF not set. Assuming EZ subtraction to Poisson limit (ez_PPF = inf)\n",
      "Observatory Configuration:\n",
      "  Using preset: EAC1\n",
      "\n"
     ]
    },
    {
     "name": "stderr",
     "output_type": "stream",
     "text": [
      "\u001b[38;5;229m\u001b[48;5;16m[yippy]\u001b[0m \u001b[32mINFO [2025-09-02 18:05:21,638] \u001b[0mCreating usort_offaxis_ovc coronagraph\n",
      "\u001b[38;5;229m\u001b[48;5;16m[yippy]\u001b[0m \u001b[33mWARNING [2025-09-02 18:05:21,639] \u001b[0mUnhandled header fields: {'D_INSC'}\n",
      "\u001b[38;5;229m\u001b[48;5;16m[yippy]\u001b[0m \u001b[33mWARNING [2025-09-02 18:05:21,639] \u001b[0mUsing default unit for D: m. Could not extract unit from comment: \"circumscribed diameter of the telescope in mete\"\n",
      "\u001b[38;5;229m\u001b[48;5;16m[yippy]\u001b[0m \u001b[32mINFO [2025-09-02 18:05:21,672] \u001b[0musort_offaxis_ovc is radially symmetric\n",
      "\u001b[38;5;229m\u001b[48;5;16m[yippy]\u001b[0m \u001b[32mINFO [2025-09-02 18:05:21,690] \u001b[0mCreated usort_offaxis_ovc\n"
     ]
    },
    {
     "name": "stdout",
     "output_type": "stream",
     "text": [
      "Using psf_trunc_ratio to calculate Omega...\n",
      "WARNING: noisefloor_PPF value not provided. Using the default value: 30.0\n",
      "Azimuthally averaging contrast maps and noise floor...\n",
      "Calculating optics throughput from preset...\n",
      "Calculating epswarmTrcold as 1 - optics throughput...\n",
      "SNR at the secondary lambda:  [3.87416375]\n"
     ]
    }
   ],
   "source": [
    "# Let's note down the values that change compared to imaging_params\n",
    "secondary_imaging_params = {\n",
    "    'wavelength': 1,  # Wavelength in microns\n",
    "    'Fstar_10pc': 100,  # Stellar flux in observation band\n",
    "    }\n",
    "\n",
    "# Fill the missing values\n",
    "for key in imaging_params:\n",
    "        if key not in secondary_imaging_params:\n",
    "            secondary_imaging_params[key] = imaging_params[key]\n",
    "\n",
    "print(\"Calculating texp from primary lambda\")\n",
    "parsed_parameters= parse_input.parse_parameters(imaging_params)\n",
    "\n",
    "texp, _ = calculate_texp(parsed_parameters, verbose=False)\n",
    "print(\"Reference exposure time: \", texp.to(u.hr))\n",
    "if np.isfinite(texp).all():\n",
    "    print(\"Calculating snr on secondary lambda\")\n",
    "    parsed_secondary_parameters= parse_input.parse_parameters(secondary_imaging_params)\n",
    "\n",
    "    snr, _ = calculate_snr(parsed_secondary_parameters, texp, verbose=False)\n",
    "    print(\"SNR at the secondary lambda: \", snr)\n",
    "else:\n",
    "    raise ValueError(\"Returned exposure time is infinity.\")"
   ]
  },
  {
   "cell_type": "markdown",
   "metadata": {},
   "source": [
    "## 2. Advanced Usage\n",
    "\n",
    "In the preceding examples, we utilized the premade `calculate_texp` and `calculate_snr` functions. While this approach is straightforward, it can lead to significant performance overhead in scenarios involving repeated calculations with large parameter spaces or numerous iterations. This is because each function call reinitializes the entire calculation process.\n",
    "\n",
    "For improved computational efficiency, particularly when dealing with extensive parameter sweeps, it is advisable to implement the loop logic within the `calculate_texp` function itself. This approach allows for targeted iteration over specific parameters while maintaining the state of other computationally intensive components.\n",
    "\n",
    "To illustrate this optimization technique, we can examine the internal structure of the `calculate_texp` function. Refer to the `pyEDITH` workflow picture for details."
   ]
  },
  {
   "cell_type": "code",
   "execution_count": 55,
   "metadata": {},
   "outputs": [
    {
     "name": "stdout",
     "output_type": "stream",
     "text": [
      "WARNING: ez_PPF not set. Assuming EZ subtraction to Poisson limit (ez_PPF = inf)\n",
      "Observatory Configuration:\n",
      "  Using preset: EAC1\n",
      "\n"
     ]
    },
    {
     "name": "stderr",
     "output_type": "stream",
     "text": [
      "\u001b[38;5;229m\u001b[48;5;16m[yippy]\u001b[0m \u001b[32mINFO [2025-09-02 18:05:26,777] \u001b[0mCreating usort_offaxis_ovc coronagraph\n",
      "\u001b[38;5;229m\u001b[48;5;16m[yippy]\u001b[0m \u001b[33mWARNING [2025-09-02 18:05:26,778] \u001b[0mUnhandled header fields: {'D_INSC'}\n",
      "\u001b[38;5;229m\u001b[48;5;16m[yippy]\u001b[0m \u001b[33mWARNING [2025-09-02 18:05:26,779] \u001b[0mUsing default unit for D: m. Could not extract unit from comment: \"circumscribed diameter of the telescope in mete\"\n",
      "\u001b[38;5;229m\u001b[48;5;16m[yippy]\u001b[0m \u001b[32mINFO [2025-09-02 18:05:26,811] \u001b[0musort_offaxis_ovc is radially symmetric\n",
      "\u001b[38;5;229m\u001b[48;5;16m[yippy]\u001b[0m \u001b[32mINFO [2025-09-02 18:05:26,831] \u001b[0mCreated usort_offaxis_ovc\n"
     ]
    },
    {
     "name": "stdout",
     "output_type": "stream",
     "text": [
      "Using psf_trunc_ratio to calculate Omega...\n",
      "WARNING: noisefloor_PPF value not provided. Using the default value: 30.0\n",
      "Azimuthally averaging contrast maps and noise floor...\n",
      "Calculating optics throughput from preset...\n",
      "Calculating epswarmTrcold as 1 - optics throughput...\n"
     ]
    }
   ],
   "source": [
    "from pyEDITH import calculate_exposure_time_or_snr, parse_input\n",
    "params = imaging_params.copy()\n",
    "\n",
    "# Parse the desired parameters\n",
    "parsed_parameters= parse_input.parse_parameters(params)\n",
    "\n",
    "# Define Observation and load relevant parameters\n",
    "observation = Observation()\n",
    "observation.load_configuration(parsed_parameters)\n",
    "observation.set_output_arrays()\n",
    "observation.validate_configuration()\n",
    "\n",
    "# Define Astrophysical Scene and load relevant parameters,\n",
    "# then calculate zodi/exozodi\n",
    "scene = AstrophysicalScene()\n",
    "scene.load_configuration(parsed_parameters)\n",
    "scene.calculate_zodi_exozodi(parsed_parameters)\n",
    "scene.validate_configuration()\n",
    "\n",
    "# Create and configure Observatory using ObservatoryBuilder\n",
    "observatory_config = parse_input.get_observatory_config(parsed_parameters)\n",
    "observatory = ObservatoryBuilder.create_observatory(observatory_config)\n",
    "ObservatoryBuilder.configure_observatory(\n",
    "    observatory, parsed_parameters, observation, scene\n",
    ")\n",
    "observatory.validate_configuration()\n",
    "\n",
    "# EXPOSURE TIME CALCULATION\n",
    "calculate_exposure_time_or_snr(\n",
    "    observation,\n",
    "    scene,\n",
    "    observatory,\n",
    "    verbose=False,\n",
    "    mode=\"exposure_time\",\n",
    ")"
   ]
  },
  {
   "cell_type": "markdown",
   "metadata": {},
   "source": [
    ".. danger::\n",
    "When the observatory architecture or the astrophysical scene change (e.g., varying the telescope diameter, the separation of the planet..) you should reload the observatory initialization, since coronagraph response and noise terms will change."
   ]
  },
  {
   "cell_type": "markdown",
   "metadata": {},
   "source": [
    "## 3. Parameter Space Exploration\n",
    "\n",
    "Now, let's explore how various parameters affect the exposure time and SNR.\n"
   ]
  },
  {
   "cell_type": "markdown",
   "metadata": {},
   "source": [
    "### 3.1 Planet-to-star contrast\n",
    "Let's explore how the exposure time changes with planet-to-star contrast:\n",
    "\n"
   ]
  },
  {
   "cell_type": "code",
   "execution_count": 56,
   "metadata": {},
   "outputs": [
    {
     "name": "stdout",
     "output_type": "stream",
     "text": [
      "WARNING: ez_PPF not set. Assuming EZ subtraction to Poisson limit (ez_PPF = inf)\n",
      "Observatory Configuration:\n",
      "  Using preset: EAC1\n",
      "\n"
     ]
    },
    {
     "name": "stderr",
     "output_type": "stream",
     "text": [
      "\u001b[38;5;229m\u001b[48;5;16m[yippy]\u001b[0m \u001b[32mINFO [2025-09-02 18:05:31,818] \u001b[0mCreating usort_offaxis_ovc coronagraph\n",
      "\u001b[38;5;229m\u001b[48;5;16m[yippy]\u001b[0m \u001b[33mWARNING [2025-09-02 18:05:31,819] \u001b[0mUnhandled header fields: {'D_INSC'}\n",
      "\u001b[38;5;229m\u001b[48;5;16m[yippy]\u001b[0m \u001b[33mWARNING [2025-09-02 18:05:31,820] \u001b[0mUsing default unit for D: m. Could not extract unit from comment: \"circumscribed diameter of the telescope in mete\"\n",
      "\u001b[38;5;229m\u001b[48;5;16m[yippy]\u001b[0m \u001b[32mINFO [2025-09-02 18:05:31,853] \u001b[0musort_offaxis_ovc is radially symmetric\n",
      "\u001b[38;5;229m\u001b[48;5;16m[yippy]\u001b[0m \u001b[32mINFO [2025-09-02 18:05:31,871] \u001b[0mCreated usort_offaxis_ovc\n"
     ]
    },
    {
     "name": "stdout",
     "output_type": "stream",
     "text": [
      "Using psf_trunc_ratio to calculate Omega...\n",
      "WARNING: noisefloor_PPF value not provided. Using the default value: 30.0\n",
      "Azimuthally averaging contrast maps and noise floor...\n",
      "Calculating optics throughput from preset...\n",
      "Calculating epswarmTrcold as 1 - optics throughput...\n",
      "WARNING: ez_PPF not set. Assuming EZ subtraction to Poisson limit (ez_PPF = inf)\n",
      "Observatory Configuration:\n",
      "  Using preset: EAC1\n",
      "\n"
     ]
    },
    {
     "name": "stderr",
     "output_type": "stream",
     "text": [
      "\u001b[38;5;229m\u001b[48;5;16m[yippy]\u001b[0m \u001b[32mINFO [2025-09-02 18:05:36,974] \u001b[0mCreating usort_offaxis_ovc coronagraph\n",
      "\u001b[38;5;229m\u001b[48;5;16m[yippy]\u001b[0m \u001b[33mWARNING [2025-09-02 18:05:36,976] \u001b[0mUnhandled header fields: {'D_INSC'}\n",
      "\u001b[38;5;229m\u001b[48;5;16m[yippy]\u001b[0m \u001b[33mWARNING [2025-09-02 18:05:36,976] \u001b[0mUsing default unit for D: m. Could not extract unit from comment: \"circumscribed diameter of the telescope in mete\"\n",
      "\u001b[38;5;229m\u001b[48;5;16m[yippy]\u001b[0m \u001b[32mINFO [2025-09-02 18:05:37,014] \u001b[0musort_offaxis_ovc is radially symmetric\n",
      "\u001b[38;5;229m\u001b[48;5;16m[yippy]\u001b[0m \u001b[32mINFO [2025-09-02 18:05:37,031] \u001b[0mCreated usort_offaxis_ovc\n"
     ]
    },
    {
     "name": "stdout",
     "output_type": "stream",
     "text": [
      "Using psf_trunc_ratio to calculate Omega...\n",
      "WARNING: noisefloor_PPF value not provided. Using the default value: 30.0\n",
      "Azimuthally averaging contrast maps and noise floor...\n",
      "Calculating optics throughput from preset...\n",
      "Calculating epswarmTrcold as 1 - optics throughput...\n",
      "WARNING: ez_PPF not set. Assuming EZ subtraction to Poisson limit (ez_PPF = inf)\n",
      "Observatory Configuration:\n",
      "  Using preset: EAC1\n",
      "\n"
     ]
    },
    {
     "name": "stderr",
     "output_type": "stream",
     "text": [
      "\u001b[38;5;229m\u001b[48;5;16m[yippy]\u001b[0m \u001b[32mINFO [2025-09-02 18:05:41,739] \u001b[0mCreating usort_offaxis_ovc coronagraph\n",
      "\u001b[38;5;229m\u001b[48;5;16m[yippy]\u001b[0m \u001b[33mWARNING [2025-09-02 18:05:41,740] \u001b[0mUnhandled header fields: {'D_INSC'}\n",
      "\u001b[38;5;229m\u001b[48;5;16m[yippy]\u001b[0m \u001b[33mWARNING [2025-09-02 18:05:41,741] \u001b[0mUsing default unit for D: m. Could not extract unit from comment: \"circumscribed diameter of the telescope in mete\"\n",
      "\u001b[38;5;229m\u001b[48;5;16m[yippy]\u001b[0m \u001b[32mINFO [2025-09-02 18:05:41,772] \u001b[0musort_offaxis_ovc is radially symmetric\n",
      "\u001b[38;5;229m\u001b[48;5;16m[yippy]\u001b[0m \u001b[32mINFO [2025-09-02 18:05:41,789] \u001b[0mCreated usort_offaxis_ovc\n"
     ]
    },
    {
     "name": "stdout",
     "output_type": "stream",
     "text": [
      "Using psf_trunc_ratio to calculate Omega...\n",
      "WARNING: noisefloor_PPF value not provided. Using the default value: 30.0\n",
      "Azimuthally averaging contrast maps and noise floor...\n",
      "Calculating optics throughput from preset...\n",
      "Calculating epswarmTrcold as 1 - optics throughput...\n",
      "WARNING: ez_PPF not set. Assuming EZ subtraction to Poisson limit (ez_PPF = inf)\n",
      "Observatory Configuration:\n",
      "  Using preset: EAC1\n",
      "\n"
     ]
    },
    {
     "name": "stderr",
     "output_type": "stream",
     "text": [
      "\u001b[38;5;229m\u001b[48;5;16m[yippy]\u001b[0m \u001b[32mINFO [2025-09-02 18:05:46,647] \u001b[0mCreating usort_offaxis_ovc coronagraph\n",
      "\u001b[38;5;229m\u001b[48;5;16m[yippy]\u001b[0m \u001b[33mWARNING [2025-09-02 18:05:46,648] \u001b[0mUnhandled header fields: {'D_INSC'}\n",
      "\u001b[38;5;229m\u001b[48;5;16m[yippy]\u001b[0m \u001b[33mWARNING [2025-09-02 18:05:46,648] \u001b[0mUsing default unit for D: m. Could not extract unit from comment: \"circumscribed diameter of the telescope in mete\"\n",
      "\u001b[38;5;229m\u001b[48;5;16m[yippy]\u001b[0m \u001b[32mINFO [2025-09-02 18:05:46,681] \u001b[0musort_offaxis_ovc is radially symmetric\n",
      "\u001b[38;5;229m\u001b[48;5;16m[yippy]\u001b[0m \u001b[32mINFO [2025-09-02 18:05:46,698] \u001b[0mCreated usort_offaxis_ovc\n"
     ]
    },
    {
     "name": "stdout",
     "output_type": "stream",
     "text": [
      "Using psf_trunc_ratio to calculate Omega...\n",
      "WARNING: noisefloor_PPF value not provided. Using the default value: 30.0\n",
      "Azimuthally averaging contrast maps and noise floor...\n",
      "Calculating optics throughput from preset...\n",
      "Calculating epswarmTrcold as 1 - optics throughput...\n",
      "WARNING: ez_PPF not set. Assuming EZ subtraction to Poisson limit (ez_PPF = inf)\n",
      "Observatory Configuration:\n",
      "  Using preset: EAC1\n",
      "\n"
     ]
    },
    {
     "name": "stderr",
     "output_type": "stream",
     "text": [
      "\u001b[38;5;229m\u001b[48;5;16m[yippy]\u001b[0m \u001b[32mINFO [2025-09-02 18:05:51,580] \u001b[0mCreating usort_offaxis_ovc coronagraph\n",
      "\u001b[38;5;229m\u001b[48;5;16m[yippy]\u001b[0m \u001b[33mWARNING [2025-09-02 18:05:51,582] \u001b[0mUnhandled header fields: {'D_INSC'}\n",
      "\u001b[38;5;229m\u001b[48;5;16m[yippy]\u001b[0m \u001b[33mWARNING [2025-09-02 18:05:51,582] \u001b[0mUsing default unit for D: m. Could not extract unit from comment: \"circumscribed diameter of the telescope in mete\"\n",
      "\u001b[38;5;229m\u001b[48;5;16m[yippy]\u001b[0m \u001b[32mINFO [2025-09-02 18:05:51,615] \u001b[0musort_offaxis_ovc is radially symmetric\n",
      "\u001b[38;5;229m\u001b[48;5;16m[yippy]\u001b[0m \u001b[32mINFO [2025-09-02 18:05:51,632] \u001b[0mCreated usort_offaxis_ovc\n"
     ]
    },
    {
     "name": "stdout",
     "output_type": "stream",
     "text": [
      "Using psf_trunc_ratio to calculate Omega...\n",
      "WARNING: noisefloor_PPF value not provided. Using the default value: 30.0\n",
      "Azimuthally averaging contrast maps and noise floor...\n",
      "Calculating optics throughput from preset...\n",
      "Calculating epswarmTrcold as 1 - optics throughput...\n",
      "WARNING: ez_PPF not set. Assuming EZ subtraction to Poisson limit (ez_PPF = inf)\n",
      "Observatory Configuration:\n",
      "  Using preset: EAC1\n",
      "\n"
     ]
    },
    {
     "name": "stderr",
     "output_type": "stream",
     "text": [
      "\u001b[38;5;229m\u001b[48;5;16m[yippy]\u001b[0m \u001b[32mINFO [2025-09-02 18:05:56,957] \u001b[0mCreating usort_offaxis_ovc coronagraph\n",
      "\u001b[38;5;229m\u001b[48;5;16m[yippy]\u001b[0m \u001b[33mWARNING [2025-09-02 18:05:56,959] \u001b[0mUnhandled header fields: {'D_INSC'}\n",
      "\u001b[38;5;229m\u001b[48;5;16m[yippy]\u001b[0m \u001b[33mWARNING [2025-09-02 18:05:56,959] \u001b[0mUsing default unit for D: m. Could not extract unit from comment: \"circumscribed diameter of the telescope in mete\"\n",
      "\u001b[38;5;229m\u001b[48;5;16m[yippy]\u001b[0m \u001b[32mINFO [2025-09-02 18:05:56,996] \u001b[0musort_offaxis_ovc is radially symmetric\n",
      "\u001b[38;5;229m\u001b[48;5;16m[yippy]\u001b[0m \u001b[32mINFO [2025-09-02 18:05:57,013] \u001b[0mCreated usort_offaxis_ovc\n"
     ]
    },
    {
     "name": "stdout",
     "output_type": "stream",
     "text": [
      "Using psf_trunc_ratio to calculate Omega...\n",
      "WARNING: noisefloor_PPF value not provided. Using the default value: 30.0\n",
      "Azimuthally averaging contrast maps and noise floor...\n",
      "Calculating optics throughput from preset...\n",
      "Calculating epswarmTrcold as 1 - optics throughput...\n",
      "WARNING: ez_PPF not set. Assuming EZ subtraction to Poisson limit (ez_PPF = inf)\n",
      "Observatory Configuration:\n",
      "  Using preset: EAC1\n",
      "\n"
     ]
    },
    {
     "name": "stderr",
     "output_type": "stream",
     "text": [
      "\u001b[38;5;229m\u001b[48;5;16m[yippy]\u001b[0m \u001b[32mINFO [2025-09-02 18:06:02,084] \u001b[0mCreating usort_offaxis_ovc coronagraph\n",
      "\u001b[38;5;229m\u001b[48;5;16m[yippy]\u001b[0m \u001b[33mWARNING [2025-09-02 18:06:02,085] \u001b[0mUnhandled header fields: {'D_INSC'}\n",
      "\u001b[38;5;229m\u001b[48;5;16m[yippy]\u001b[0m \u001b[33mWARNING [2025-09-02 18:06:02,086] \u001b[0mUsing default unit for D: m. Could not extract unit from comment: \"circumscribed diameter of the telescope in mete\"\n",
      "\u001b[38;5;229m\u001b[48;5;16m[yippy]\u001b[0m \u001b[32mINFO [2025-09-02 18:06:02,117] \u001b[0musort_offaxis_ovc is radially symmetric\n",
      "\u001b[38;5;229m\u001b[48;5;16m[yippy]\u001b[0m \u001b[32mINFO [2025-09-02 18:06:02,133] \u001b[0mCreated usort_offaxis_ovc\n"
     ]
    },
    {
     "name": "stdout",
     "output_type": "stream",
     "text": [
      "Using psf_trunc_ratio to calculate Omega...\n",
      "WARNING: noisefloor_PPF value not provided. Using the default value: 30.0\n",
      "Azimuthally averaging contrast maps and noise floor...\n",
      "Calculating optics throughput from preset...\n",
      "Calculating epswarmTrcold as 1 - optics throughput...\n",
      "WARNING: ez_PPF not set. Assuming EZ subtraction to Poisson limit (ez_PPF = inf)\n",
      "Observatory Configuration:\n",
      "  Using preset: EAC1\n",
      "\n"
     ]
    },
    {
     "name": "stderr",
     "output_type": "stream",
     "text": [
      "\u001b[38;5;229m\u001b[48;5;16m[yippy]\u001b[0m \u001b[32mINFO [2025-09-02 18:06:07,042] \u001b[0mCreating usort_offaxis_ovc coronagraph\n",
      "\u001b[38;5;229m\u001b[48;5;16m[yippy]\u001b[0m \u001b[33mWARNING [2025-09-02 18:06:07,044] \u001b[0mUnhandled header fields: {'D_INSC'}\n",
      "\u001b[38;5;229m\u001b[48;5;16m[yippy]\u001b[0m \u001b[33mWARNING [2025-09-02 18:06:07,044] \u001b[0mUsing default unit for D: m. Could not extract unit from comment: \"circumscribed diameter of the telescope in mete\"\n",
      "\u001b[38;5;229m\u001b[48;5;16m[yippy]\u001b[0m \u001b[32mINFO [2025-09-02 18:06:07,081] \u001b[0musort_offaxis_ovc is radially symmetric\n",
      "\u001b[38;5;229m\u001b[48;5;16m[yippy]\u001b[0m \u001b[32mINFO [2025-09-02 18:06:07,099] \u001b[0mCreated usort_offaxis_ovc\n"
     ]
    },
    {
     "name": "stdout",
     "output_type": "stream",
     "text": [
      "Using psf_trunc_ratio to calculate Omega...\n",
      "WARNING: noisefloor_PPF value not provided. Using the default value: 30.0\n",
      "Azimuthally averaging contrast maps and noise floor...\n",
      "Calculating optics throughput from preset...\n",
      "Calculating epswarmTrcold as 1 - optics throughput...\n",
      "WARNING: ez_PPF not set. Assuming EZ subtraction to Poisson limit (ez_PPF = inf)\n",
      "Observatory Configuration:\n",
      "  Using preset: EAC1\n",
      "\n"
     ]
    },
    {
     "name": "stderr",
     "output_type": "stream",
     "text": [
      "\u001b[38;5;229m\u001b[48;5;16m[yippy]\u001b[0m \u001b[32mINFO [2025-09-02 18:06:11,902] \u001b[0mCreating usort_offaxis_ovc coronagraph\n",
      "\u001b[38;5;229m\u001b[48;5;16m[yippy]\u001b[0m \u001b[33mWARNING [2025-09-02 18:06:11,903] \u001b[0mUnhandled header fields: {'D_INSC'}\n",
      "\u001b[38;5;229m\u001b[48;5;16m[yippy]\u001b[0m \u001b[33mWARNING [2025-09-02 18:06:11,904] \u001b[0mUsing default unit for D: m. Could not extract unit from comment: \"circumscribed diameter of the telescope in mete\"\n",
      "\u001b[38;5;229m\u001b[48;5;16m[yippy]\u001b[0m \u001b[32mINFO [2025-09-02 18:06:11,941] \u001b[0musort_offaxis_ovc is radially symmetric\n",
      "\u001b[38;5;229m\u001b[48;5;16m[yippy]\u001b[0m \u001b[32mINFO [2025-09-02 18:06:11,958] \u001b[0mCreated usort_offaxis_ovc\n"
     ]
    },
    {
     "name": "stdout",
     "output_type": "stream",
     "text": [
      "Using psf_trunc_ratio to calculate Omega...\n",
      "WARNING: noisefloor_PPF value not provided. Using the default value: 30.0\n",
      "Azimuthally averaging contrast maps and noise floor...\n",
      "Calculating optics throughput from preset...\n",
      "Calculating epswarmTrcold as 1 - optics throughput...\n",
      "WARNING: ez_PPF not set. Assuming EZ subtraction to Poisson limit (ez_PPF = inf)\n",
      "Observatory Configuration:\n",
      "  Using preset: EAC1\n",
      "\n"
     ]
    },
    {
     "name": "stderr",
     "output_type": "stream",
     "text": [
      "\u001b[38;5;229m\u001b[48;5;16m[yippy]\u001b[0m \u001b[32mINFO [2025-09-02 18:06:16,697] \u001b[0mCreating usort_offaxis_ovc coronagraph\n",
      "\u001b[38;5;229m\u001b[48;5;16m[yippy]\u001b[0m \u001b[33mWARNING [2025-09-02 18:06:16,698] \u001b[0mUnhandled header fields: {'D_INSC'}\n",
      "\u001b[38;5;229m\u001b[48;5;16m[yippy]\u001b[0m \u001b[33mWARNING [2025-09-02 18:06:16,698] \u001b[0mUsing default unit for D: m. Could not extract unit from comment: \"circumscribed diameter of the telescope in mete\"\n",
      "\u001b[38;5;229m\u001b[48;5;16m[yippy]\u001b[0m \u001b[32mINFO [2025-09-02 18:06:16,732] \u001b[0musort_offaxis_ovc is radially symmetric\n",
      "\u001b[38;5;229m\u001b[48;5;16m[yippy]\u001b[0m \u001b[32mINFO [2025-09-02 18:06:16,748] \u001b[0mCreated usort_offaxis_ovc\n"
     ]
    },
    {
     "name": "stdout",
     "output_type": "stream",
     "text": [
      "Using psf_trunc_ratio to calculate Omega...\n",
      "WARNING: noisefloor_PPF value not provided. Using the default value: 30.0\n",
      "Azimuthally averaging contrast maps and noise floor...\n",
      "Calculating optics throughput from preset...\n",
      "Calculating epswarmTrcold as 1 - optics throughput...\n"
     ]
    },
    {
     "data": {
      "image/png": "[encoded data removed]",
      "text/plain": [
       "<Figure size 1000x600 with 1 Axes>"
      ]
     },
     "metadata": {},
     "output_type": "display_data"
    }
   ],
   "source": [
    "contrasts = np.logspace(-6, -11, 10)\n",
    "exposure_times = []\n",
    "\n",
    "\n",
    "for contrast in contrasts:\n",
    "    params = imaging_params.copy()\n",
    "    params['Fp/Fs'] = contrast\n",
    "    # make the parameters be the shape that the code desires \n",
    "    parsed_parameters= parse_input.parse_parameters(params)\n",
    "\n",
    "    texp, validation_output = calculate_texp(parsed_parameters, verbose=False)\n",
    "\n",
    "\n",
    "    exposure_times.append(texp.to(u.hr).value)\n",
    "plt.figure(figsize=(10, 6))\n",
    "plt.semilogx(contrasts, exposure_times, marker='o')\n",
    "plt.xlabel('Planet-to-star contrast')\n",
    "plt.ylabel('Exposure time (hours)')\n",
    "plt.title('Exposure Time vs Planet-to-Star Contrast')\n",
    "plt.grid(True)\n",
    "plt.xlim(1e-6,1e-12)\n",
    "plt.show()\n"
   ]
  },
  {
   "cell_type": "markdown",
   "metadata": {},
   "source": [
    "### 5.2 Telescope Diameter\n",
    "\n",
    "Let's explore the impact of telescope diameter on exposure time:\n"
   ]
  },
  {
   "cell_type": "code",
   "execution_count": 57,
   "metadata": {},
   "outputs": [
    {
     "name": "stdout",
     "output_type": "stream",
     "text": [
      "WARNING: ez_PPF not set. Assuming EZ subtraction to Poisson limit (ez_PPF = inf)\n",
      "Observatory Configuration:\n",
      "  Using preset: EAC1\n",
      "\n"
     ]
    },
    {
     "name": "stderr",
     "output_type": "stream",
     "text": [
      "\u001b[38;5;229m\u001b[48;5;16m[yippy]\u001b[0m \u001b[32mINFO [2025-09-02 18:06:21,740] \u001b[0mCreating usort_offaxis_ovc coronagraph\n",
      "\u001b[38;5;229m\u001b[48;5;16m[yippy]\u001b[0m \u001b[33mWARNING [2025-09-02 18:06:21,741] \u001b[0mUnhandled header fields: {'D_INSC'}\n",
      "\u001b[38;5;229m\u001b[48;5;16m[yippy]\u001b[0m \u001b[33mWARNING [2025-09-02 18:06:21,741] \u001b[0mUsing default unit for D: m. Could not extract unit from comment: \"circumscribed diameter of the telescope in mete\"\n",
      "\u001b[38;5;229m\u001b[48;5;16m[yippy]\u001b[0m \u001b[32mINFO [2025-09-02 18:06:21,781] \u001b[0musort_offaxis_ovc is radially symmetric\n",
      "\u001b[38;5;229m\u001b[48;5;16m[yippy]\u001b[0m \u001b[32mINFO [2025-09-02 18:06:21,798] \u001b[0mCreated usort_offaxis_ovc\n"
     ]
    },
    {
     "name": "stdout",
     "output_type": "stream",
     "text": [
      "Using psf_trunc_ratio to calculate Omega...\n",
      "WARNING: noisefloor_PPF value not provided. Using the default value: 30.0\n",
      "Azimuthally averaging contrast maps and noise floor...\n",
      "Calculating optics throughput from preset...\n",
      "Calculating epswarmTrcold as 1 - optics throughput...\n",
      "WARNING: ez_PPF not set. Assuming EZ subtraction to Poisson limit (ez_PPF = inf)\n",
      "Observatory Configuration:\n",
      "  Using preset: EAC1\n",
      "\n"
     ]
    },
    {
     "name": "stderr",
     "output_type": "stream",
     "text": [
      "\u001b[38;5;229m\u001b[48;5;16m[yippy]\u001b[0m \u001b[32mINFO [2025-09-02 18:06:26,851] \u001b[0mCreating usort_offaxis_ovc coronagraph\n",
      "\u001b[38;5;229m\u001b[48;5;16m[yippy]\u001b[0m \u001b[33mWARNING [2025-09-02 18:06:26,853] \u001b[0mUnhandled header fields: {'D_INSC'}\n",
      "\u001b[38;5;229m\u001b[48;5;16m[yippy]\u001b[0m \u001b[33mWARNING [2025-09-02 18:06:26,853] \u001b[0mUsing default unit for D: m. Could not extract unit from comment: \"circumscribed diameter of the telescope in mete\"\n",
      "\u001b[38;5;229m\u001b[48;5;16m[yippy]\u001b[0m \u001b[32mINFO [2025-09-02 18:06:26,884] \u001b[0musort_offaxis_ovc is radially symmetric\n",
      "\u001b[38;5;229m\u001b[48;5;16m[yippy]\u001b[0m \u001b[32mINFO [2025-09-02 18:06:26,901] \u001b[0mCreated usort_offaxis_ovc\n"
     ]
    },
    {
     "name": "stdout",
     "output_type": "stream",
     "text": [
      "Using psf_trunc_ratio to calculate Omega...\n",
      "WARNING: noisefloor_PPF value not provided. Using the default value: 30.0\n",
      "Azimuthally averaging contrast maps and noise floor...\n",
      "Calculating optics throughput from preset...\n",
      "Calculating epswarmTrcold as 1 - optics throughput...\n",
      "WARNING: ez_PPF not set. Assuming EZ subtraction to Poisson limit (ez_PPF = inf)\n",
      "Observatory Configuration:\n",
      "  Using preset: EAC1\n",
      "\n"
     ]
    },
    {
     "name": "stderr",
     "output_type": "stream",
     "text": [
      "\u001b[38;5;229m\u001b[48;5;16m[yippy]\u001b[0m \u001b[32mINFO [2025-09-02 18:06:31,644] \u001b[0mCreating usort_offaxis_ovc coronagraph\n",
      "\u001b[38;5;229m\u001b[48;5;16m[yippy]\u001b[0m \u001b[33mWARNING [2025-09-02 18:06:31,645] \u001b[0mUnhandled header fields: {'D_INSC'}\n",
      "\u001b[38;5;229m\u001b[48;5;16m[yippy]\u001b[0m \u001b[33mWARNING [2025-09-02 18:06:31,646] \u001b[0mUsing default unit for D: m. Could not extract unit from comment: \"circumscribed diameter of the telescope in mete\"\n",
      "\u001b[38;5;229m\u001b[48;5;16m[yippy]\u001b[0m \u001b[32mINFO [2025-09-02 18:06:31,677] \u001b[0musort_offaxis_ovc is radially symmetric\n",
      "\u001b[38;5;229m\u001b[48;5;16m[yippy]\u001b[0m \u001b[32mINFO [2025-09-02 18:06:31,693] \u001b[0mCreated usort_offaxis_ovc\n"
     ]
    },
    {
     "name": "stdout",
     "output_type": "stream",
     "text": [
      "Using psf_trunc_ratio to calculate Omega...\n",
      "WARNING: noisefloor_PPF value not provided. Using the default value: 30.0\n",
      "Azimuthally averaging contrast maps and noise floor...\n",
      "Calculating optics throughput from preset...\n",
      "Calculating epswarmTrcold as 1 - optics throughput...\n",
      "WARNING: ez_PPF not set. Assuming EZ subtraction to Poisson limit (ez_PPF = inf)\n",
      "Observatory Configuration:\n",
      "  Using preset: EAC1\n",
      "\n"
     ]
    },
    {
     "name": "stderr",
     "output_type": "stream",
     "text": [
      "\u001b[38;5;229m\u001b[48;5;16m[yippy]\u001b[0m \u001b[32mINFO [2025-09-02 18:06:36,618] \u001b[0mCreating usort_offaxis_ovc coronagraph\n",
      "\u001b[38;5;229m\u001b[48;5;16m[yippy]\u001b[0m \u001b[33mWARNING [2025-09-02 18:06:36,619] \u001b[0mUnhandled header fields: {'D_INSC'}\n",
      "\u001b[38;5;229m\u001b[48;5;16m[yippy]\u001b[0m \u001b[33mWARNING [2025-09-02 18:06:36,620] \u001b[0mUsing default unit for D: m. Could not extract unit from comment: \"circumscribed diameter of the telescope in mete\"\n",
      "\u001b[38;5;229m\u001b[48;5;16m[yippy]\u001b[0m \u001b[32mINFO [2025-09-02 18:06:36,660] \u001b[0musort_offaxis_ovc is radially symmetric\n",
      "\u001b[38;5;229m\u001b[48;5;16m[yippy]\u001b[0m \u001b[32mINFO [2025-09-02 18:06:36,676] \u001b[0mCreated usort_offaxis_ovc\n"
     ]
    },
    {
     "name": "stdout",
     "output_type": "stream",
     "text": [
      "Using psf_trunc_ratio to calculate Omega...\n",
      "WARNING: noisefloor_PPF value not provided. Using the default value: 30.0\n",
      "Azimuthally averaging contrast maps and noise floor...\n",
      "Calculating optics throughput from preset...\n",
      "Calculating epswarmTrcold as 1 - optics throughput...\n",
      "WARNING: ez_PPF not set. Assuming EZ subtraction to Poisson limit (ez_PPF = inf)\n",
      "Observatory Configuration:\n",
      "  Using preset: EAC1\n",
      "\n"
     ]
    },
    {
     "name": "stderr",
     "output_type": "stream",
     "text": [
      "\u001b[38;5;229m\u001b[48;5;16m[yippy]\u001b[0m \u001b[32mINFO [2025-09-02 18:06:41,482] \u001b[0mCreating usort_offaxis_ovc coronagraph\n",
      "\u001b[38;5;229m\u001b[48;5;16m[yippy]\u001b[0m \u001b[33mWARNING [2025-09-02 18:06:41,484] \u001b[0mUnhandled header fields: {'D_INSC'}\n",
      "\u001b[38;5;229m\u001b[48;5;16m[yippy]\u001b[0m \u001b[33mWARNING [2025-09-02 18:06:41,484] \u001b[0mUsing default unit for D: m. Could not extract unit from comment: \"circumscribed diameter of the telescope in mete\"\n",
      "\u001b[38;5;229m\u001b[48;5;16m[yippy]\u001b[0m \u001b[32mINFO [2025-09-02 18:06:41,515] \u001b[0musort_offaxis_ovc is radially symmetric\n",
      "\u001b[38;5;229m\u001b[48;5;16m[yippy]\u001b[0m \u001b[32mINFO [2025-09-02 18:06:41,532] \u001b[0mCreated usort_offaxis_ovc\n"
     ]
    },
    {
     "name": "stdout",
     "output_type": "stream",
     "text": [
      "Using psf_trunc_ratio to calculate Omega...\n",
      "WARNING: noisefloor_PPF value not provided. Using the default value: 30.0\n",
      "Azimuthally averaging contrast maps and noise floor...\n",
      "Calculating optics throughput from preset...\n",
      "Calculating epswarmTrcold as 1 - optics throughput...\n",
      "WARNING: ez_PPF not set. Assuming EZ subtraction to Poisson limit (ez_PPF = inf)\n",
      "Observatory Configuration:\n",
      "  Using preset: EAC1\n",
      "\n"
     ]
    },
    {
     "name": "stderr",
     "output_type": "stream",
     "text": [
      "\u001b[38;5;229m\u001b[48;5;16m[yippy]\u001b[0m \u001b[32mINFO [2025-09-02 18:06:46,386] \u001b[0mCreating usort_offaxis_ovc coronagraph\n",
      "\u001b[38;5;229m\u001b[48;5;16m[yippy]\u001b[0m \u001b[33mWARNING [2025-09-02 18:06:46,388] \u001b[0mUnhandled header fields: {'D_INSC'}\n",
      "\u001b[38;5;229m\u001b[48;5;16m[yippy]\u001b[0m \u001b[33mWARNING [2025-09-02 18:06:46,389] \u001b[0mUsing default unit for D: m. Could not extract unit from comment: \"circumscribed diameter of the telescope in mete\"\n",
      "\u001b[38;5;229m\u001b[48;5;16m[yippy]\u001b[0m \u001b[32mINFO [2025-09-02 18:06:46,427] \u001b[0musort_offaxis_ovc is radially symmetric\n",
      "\u001b[38;5;229m\u001b[48;5;16m[yippy]\u001b[0m \u001b[32mINFO [2025-09-02 18:06:46,446] \u001b[0mCreated usort_offaxis_ovc\n"
     ]
    },
    {
     "name": "stdout",
     "output_type": "stream",
     "text": [
      "Using psf_trunc_ratio to calculate Omega...\n",
      "WARNING: noisefloor_PPF value not provided. Using the default value: 30.0\n",
      "Azimuthally averaging contrast maps and noise floor...\n",
      "Calculating optics throughput from preset...\n",
      "Calculating epswarmTrcold as 1 - optics throughput...\n"
     ]
    },
    {
     "data": {
      "image/png": "[encoded data removed]",
      "text/plain": [
       "<Figure size 1000x600 with 1 Axes>"
      ]
     },
     "metadata": {},
     "output_type": "display_data"
    }
   ],
   "source": [
    "diameters = np.linspace(4, 15, 6)  \n",
    "\n",
    "exposure_times = []\n",
    "\n",
    "for diam in diameters:\n",
    "    params = imaging_params.copy()\n",
    "    params['diameter'] = diam # will overwrite the standard EAC1 telescope diameter\n",
    "    parsed_parameters= parse_input.parse_parameters(params)\n",
    "    texp, _ = calculate_texp(parsed_parameters, verbose=False)\n",
    "    exposure_times.append(texp.to(u.hr)[0].value)\n",
    "\n",
    "\n",
    "# MAKE PLOT\n",
    "plt.figure(figsize=(10, 6))\n",
    "plt.plot(diameters, exposure_times, marker='o')\n",
    "\n",
    "plt.xlabel('Telescope Diameter (m)')\n",
    "plt.ylabel('Exposure Time (hours)')\n",
    "plt.title('Exposure Time vs Telescope Diameter')\n",
    "plt.show()\n"
   ]
  },
  {
   "cell_type": "markdown",
   "metadata": {},
   "source": [
    "### 3.2 Separation\n",
    "\n",
    "Now let's change the separation of the planet and see how the exposure time changes."
   ]
  },
  {
   "cell_type": "code",
   "execution_count": 58,
   "metadata": {},
   "outputs": [
    {
     "name": "stdout",
     "output_type": "stream",
     "text": [
      "WARNING: ez_PPF not set. Assuming EZ subtraction to Poisson limit (ez_PPF = inf)\n",
      "Observatory Configuration:\n",
      "  Using preset: EAC1\n",
      "\n"
     ]
    },
    {
     "name": "stderr",
     "output_type": "stream",
     "text": [
      "\u001b[38;5;229m\u001b[48;5;16m[yippy]\u001b[0m \u001b[32mINFO [2025-09-02 18:06:51,302] \u001b[0mCreating usort_offaxis_ovc coronagraph\n",
      "\u001b[38;5;229m\u001b[48;5;16m[yippy]\u001b[0m \u001b[33mWARNING [2025-09-02 18:06:51,304] \u001b[0mUnhandled header fields: {'D_INSC'}\n",
      "\u001b[38;5;229m\u001b[48;5;16m[yippy]\u001b[0m \u001b[33mWARNING [2025-09-02 18:06:51,304] \u001b[0mUsing default unit for D: m. Could not extract unit from comment: \"circumscribed diameter of the telescope in mete\"\n",
      "\u001b[38;5;229m\u001b[48;5;16m[yippy]\u001b[0m \u001b[32mINFO [2025-09-02 18:06:51,340] \u001b[0musort_offaxis_ovc is radially symmetric\n",
      "\u001b[38;5;229m\u001b[48;5;16m[yippy]\u001b[0m \u001b[32mINFO [2025-09-02 18:06:51,357] \u001b[0mCreated usort_offaxis_ovc\n"
     ]
    },
    {
     "name": "stdout",
     "output_type": "stream",
     "text": [
      "Using psf_trunc_ratio to calculate Omega...\n",
      "WARNING: noisefloor_PPF value not provided. Using the default value: 30.0\n",
      "Azimuthally averaging contrast maps and noise floor...\n",
      "Calculating optics throughput from preset...\n",
      "Calculating epswarmTrcold as 1 - optics throughput...\n",
      "WARNING: Planet outside OWA or inside IWA. Hardcoded infinity results.\n",
      "WARNING: ez_PPF not set. Assuming EZ subtraction to Poisson limit (ez_PPF = inf)\n",
      "Observatory Configuration:\n",
      "  Using preset: EAC1\n",
      "\n"
     ]
    },
    {
     "name": "stderr",
     "output_type": "stream",
     "text": [
      "\u001b[38;5;229m\u001b[48;5;16m[yippy]\u001b[0m \u001b[32mINFO [2025-09-02 18:06:56,686] \u001b[0mCreating usort_offaxis_ovc coronagraph\n",
      "\u001b[38;5;229m\u001b[48;5;16m[yippy]\u001b[0m \u001b[33mWARNING [2025-09-02 18:06:56,688] \u001b[0mUnhandled header fields: {'D_INSC'}\n",
      "\u001b[38;5;229m\u001b[48;5;16m[yippy]\u001b[0m \u001b[33mWARNING [2025-09-02 18:06:56,688] \u001b[0mUsing default unit for D: m. Could not extract unit from comment: \"circumscribed diameter of the telescope in mete\"\n",
      "\u001b[38;5;229m\u001b[48;5;16m[yippy]\u001b[0m \u001b[32mINFO [2025-09-02 18:06:56,727] \u001b[0musort_offaxis_ovc is radially symmetric\n",
      "\u001b[38;5;229m\u001b[48;5;16m[yippy]\u001b[0m \u001b[32mINFO [2025-09-02 18:06:56,746] \u001b[0mCreated usort_offaxis_ovc\n"
     ]
    },
    {
     "name": "stdout",
     "output_type": "stream",
     "text": [
      "Using psf_trunc_ratio to calculate Omega...\n",
      "WARNING: noisefloor_PPF value not provided. Using the default value: 30.0\n",
      "Azimuthally averaging contrast maps and noise floor...\n",
      "Calculating optics throughput from preset...\n",
      "Calculating epswarmTrcold as 1 - optics throughput...\n",
      "WARNING: ez_PPF not set. Assuming EZ subtraction to Poisson limit (ez_PPF = inf)\n",
      "Observatory Configuration:\n",
      "  Using preset: EAC1\n",
      "\n"
     ]
    },
    {
     "name": "stderr",
     "output_type": "stream",
     "text": [
      "\u001b[38;5;229m\u001b[48;5;16m[yippy]\u001b[0m \u001b[32mINFO [2025-09-02 18:07:01,555] \u001b[0mCreating usort_offaxis_ovc coronagraph\n",
      "\u001b[38;5;229m\u001b[48;5;16m[yippy]\u001b[0m \u001b[33mWARNING [2025-09-02 18:07:01,557] \u001b[0mUnhandled header fields: {'D_INSC'}\n",
      "\u001b[38;5;229m\u001b[48;5;16m[yippy]\u001b[0m \u001b[33mWARNING [2025-09-02 18:07:01,557] \u001b[0mUsing default unit for D: m. Could not extract unit from comment: \"circumscribed diameter of the telescope in mete\"\n",
      "\u001b[38;5;229m\u001b[48;5;16m[yippy]\u001b[0m \u001b[32mINFO [2025-09-02 18:07:01,598] \u001b[0musort_offaxis_ovc is radially symmetric\n",
      "\u001b[38;5;229m\u001b[48;5;16m[yippy]\u001b[0m \u001b[32mINFO [2025-09-02 18:07:01,618] \u001b[0mCreated usort_offaxis_ovc\n"
     ]
    },
    {
     "name": "stdout",
     "output_type": "stream",
     "text": [
      "Using psf_trunc_ratio to calculate Omega...\n",
      "WARNING: noisefloor_PPF value not provided. Using the default value: 30.0\n",
      "Azimuthally averaging contrast maps and noise floor...\n",
      "Calculating optics throughput from preset...\n",
      "Calculating epswarmTrcold as 1 - optics throughput...\n",
      "WARNING: ez_PPF not set. Assuming EZ subtraction to Poisson limit (ez_PPF = inf)\n",
      "Observatory Configuration:\n",
      "  Using preset: EAC1\n",
      "\n"
     ]
    },
    {
     "name": "stderr",
     "output_type": "stream",
     "text": [
      "\u001b[38;5;229m\u001b[48;5;16m[yippy]\u001b[0m \u001b[32mINFO [2025-09-02 18:07:06,545] \u001b[0mCreating usort_offaxis_ovc coronagraph\n",
      "\u001b[38;5;229m\u001b[48;5;16m[yippy]\u001b[0m \u001b[33mWARNING [2025-09-02 18:07:06,546] \u001b[0mUnhandled header fields: {'D_INSC'}\n",
      "\u001b[38;5;229m\u001b[48;5;16m[yippy]\u001b[0m \u001b[33mWARNING [2025-09-02 18:07:06,547] \u001b[0mUsing default unit for D: m. Could not extract unit from comment: \"circumscribed diameter of the telescope in mete\"\n",
      "\u001b[38;5;229m\u001b[48;5;16m[yippy]\u001b[0m \u001b[32mINFO [2025-09-02 18:07:06,611] \u001b[0musort_offaxis_ovc is radially symmetric\n",
      "\u001b[38;5;229m\u001b[48;5;16m[yippy]\u001b[0m \u001b[32mINFO [2025-09-02 18:07:06,639] \u001b[0mCreated usort_offaxis_ovc\n"
     ]
    },
    {
     "name": "stdout",
     "output_type": "stream",
     "text": [
      "Using psf_trunc_ratio to calculate Omega...\n",
      "WARNING: noisefloor_PPF value not provided. Using the default value: 30.0\n",
      "Azimuthally averaging contrast maps and noise floor...\n",
      "Calculating optics throughput from preset...\n",
      "Calculating epswarmTrcold as 1 - optics throughput...\n",
      "WARNING: ez_PPF not set. Assuming EZ subtraction to Poisson limit (ez_PPF = inf)\n",
      "Observatory Configuration:\n",
      "  Using preset: EAC1\n",
      "\n"
     ]
    },
    {
     "name": "stderr",
     "output_type": "stream",
     "text": [
      "\u001b[38;5;229m\u001b[48;5;16m[yippy]\u001b[0m \u001b[32mINFO [2025-09-02 18:07:11,756] \u001b[0mCreating usort_offaxis_ovc coronagraph\n",
      "\u001b[38;5;229m\u001b[48;5;16m[yippy]\u001b[0m \u001b[33mWARNING [2025-09-02 18:07:11,758] \u001b[0mUnhandled header fields: {'D_INSC'}\n",
      "\u001b[38;5;229m\u001b[48;5;16m[yippy]\u001b[0m \u001b[33mWARNING [2025-09-02 18:07:11,758] \u001b[0mUsing default unit for D: m. Could not extract unit from comment: \"circumscribed diameter of the telescope in mete\"\n",
      "\u001b[38;5;229m\u001b[48;5;16m[yippy]\u001b[0m \u001b[32mINFO [2025-09-02 18:07:11,832] \u001b[0musort_offaxis_ovc is radially symmetric\n",
      "\u001b[38;5;229m\u001b[48;5;16m[yippy]\u001b[0m \u001b[32mINFO [2025-09-02 18:07:11,905] \u001b[0mCreated usort_offaxis_ovc\n"
     ]
    },
    {
     "name": "stdout",
     "output_type": "stream",
     "text": [
      "Using psf_trunc_ratio to calculate Omega...\n",
      "WARNING: noisefloor_PPF value not provided. Using the default value: 30.0\n",
      "Azimuthally averaging contrast maps and noise floor...\n",
      "Calculating optics throughput from preset...\n",
      "Calculating epswarmTrcold as 1 - optics throughput...\n",
      "WARNING: ez_PPF not set. Assuming EZ subtraction to Poisson limit (ez_PPF = inf)\n",
      "Observatory Configuration:\n",
      "  Using preset: EAC1\n",
      "\n"
     ]
    },
    {
     "name": "stderr",
     "output_type": "stream",
     "text": [
      "\u001b[38;5;229m\u001b[48;5;16m[yippy]\u001b[0m \u001b[32mINFO [2025-09-02 18:07:17,052] \u001b[0mCreating usort_offaxis_ovc coronagraph\n",
      "\u001b[38;5;229m\u001b[48;5;16m[yippy]\u001b[0m \u001b[33mWARNING [2025-09-02 18:07:17,053] \u001b[0mUnhandled header fields: {'D_INSC'}\n",
      "\u001b[38;5;229m\u001b[48;5;16m[yippy]\u001b[0m \u001b[33mWARNING [2025-09-02 18:07:17,054] \u001b[0mUsing default unit for D: m. Could not extract unit from comment: \"circumscribed diameter of the telescope in mete\"\n",
      "\u001b[38;5;229m\u001b[48;5;16m[yippy]\u001b[0m \u001b[32mINFO [2025-09-02 18:07:17,099] \u001b[0musort_offaxis_ovc is radially symmetric\n",
      "\u001b[38;5;229m\u001b[48;5;16m[yippy]\u001b[0m \u001b[32mINFO [2025-09-02 18:07:17,116] \u001b[0mCreated usort_offaxis_ovc\n"
     ]
    },
    {
     "name": "stdout",
     "output_type": "stream",
     "text": [
      "Using psf_trunc_ratio to calculate Omega...\n",
      "WARNING: noisefloor_PPF value not provided. Using the default value: 30.0\n",
      "Azimuthally averaging contrast maps and noise floor...\n",
      "Calculating optics throughput from preset...\n",
      "Calculating epswarmTrcold as 1 - optics throughput...\n",
      "WARNING: ez_PPF not set. Assuming EZ subtraction to Poisson limit (ez_PPF = inf)\n",
      "Observatory Configuration:\n",
      "  Using preset: EAC1\n",
      "\n"
     ]
    },
    {
     "name": "stderr",
     "output_type": "stream",
     "text": [
      "\u001b[38;5;229m\u001b[48;5;16m[yippy]\u001b[0m \u001b[32mINFO [2025-09-02 18:07:22,159] \u001b[0mCreating usort_offaxis_ovc coronagraph\n",
      "\u001b[38;5;229m\u001b[48;5;16m[yippy]\u001b[0m \u001b[33mWARNING [2025-09-02 18:07:22,160] \u001b[0mUnhandled header fields: {'D_INSC'}\n",
      "\u001b[38;5;229m\u001b[48;5;16m[yippy]\u001b[0m \u001b[33mWARNING [2025-09-02 18:07:22,161] \u001b[0mUsing default unit for D: m. Could not extract unit from comment: \"circumscribed diameter of the telescope in mete\"\n",
      "\u001b[38;5;229m\u001b[48;5;16m[yippy]\u001b[0m \u001b[32mINFO [2025-09-02 18:07:22,201] \u001b[0musort_offaxis_ovc is radially symmetric\n",
      "\u001b[38;5;229m\u001b[48;5;16m[yippy]\u001b[0m \u001b[32mINFO [2025-09-02 18:07:22,218] \u001b[0mCreated usort_offaxis_ovc\n"
     ]
    },
    {
     "name": "stdout",
     "output_type": "stream",
     "text": [
      "Using psf_trunc_ratio to calculate Omega...\n",
      "WARNING: noisefloor_PPF value not provided. Using the default value: 30.0\n",
      "Azimuthally averaging contrast maps and noise floor...\n",
      "Calculating optics throughput from preset...\n",
      "Calculating epswarmTrcold as 1 - optics throughput...\n",
      "WARNING: Planet outside OWA or inside IWA. Hardcoded infinity results.\n",
      "WARNING: ez_PPF not set. Assuming EZ subtraction to Poisson limit (ez_PPF = inf)\n",
      "Observatory Configuration:\n",
      "  Using preset: EAC1\n",
      "\n"
     ]
    },
    {
     "name": "stderr",
     "output_type": "stream",
     "text": [
      "\u001b[38;5;229m\u001b[48;5;16m[yippy]\u001b[0m \u001b[32mINFO [2025-09-02 18:07:27,338] \u001b[0mCreating usort_offaxis_ovc coronagraph\n",
      "\u001b[38;5;229m\u001b[48;5;16m[yippy]\u001b[0m \u001b[33mWARNING [2025-09-02 18:07:27,340] \u001b[0mUnhandled header fields: {'D_INSC'}\n",
      "\u001b[38;5;229m\u001b[48;5;16m[yippy]\u001b[0m \u001b[33mWARNING [2025-09-02 18:07:27,340] \u001b[0mUsing default unit for D: m. Could not extract unit from comment: \"circumscribed diameter of the telescope in mete\"\n",
      "\u001b[38;5;229m\u001b[48;5;16m[yippy]\u001b[0m \u001b[32mINFO [2025-09-02 18:07:27,397] \u001b[0musort_offaxis_ovc is radially symmetric\n",
      "\u001b[38;5;229m\u001b[48;5;16m[yippy]\u001b[0m \u001b[32mINFO [2025-09-02 18:07:27,414] \u001b[0mCreated usort_offaxis_ovc\n"
     ]
    },
    {
     "name": "stdout",
     "output_type": "stream",
     "text": [
      "Using psf_trunc_ratio to calculate Omega...\n",
      "WARNING: noisefloor_PPF value not provided. Using the default value: 30.0\n",
      "Azimuthally averaging contrast maps and noise floor...\n",
      "Calculating optics throughput from preset...\n",
      "Calculating epswarmTrcold as 1 - optics throughput...\n",
      "WARNING: Planet outside OWA or inside IWA. Hardcoded infinity results.\n",
      "WARNING: ez_PPF not set. Assuming EZ subtraction to Poisson limit (ez_PPF = inf)\n",
      "Observatory Configuration:\n",
      "  Using preset: EAC1\n",
      "\n"
     ]
    },
    {
     "name": "stderr",
     "output_type": "stream",
     "text": [
      "\u001b[38;5;229m\u001b[48;5;16m[yippy]\u001b[0m \u001b[32mINFO [2025-09-02 18:07:32,987] \u001b[0mCreating usort_offaxis_ovc coronagraph\n",
      "\u001b[38;5;229m\u001b[48;5;16m[yippy]\u001b[0m \u001b[33mWARNING [2025-09-02 18:07:32,989] \u001b[0mUnhandled header fields: {'D_INSC'}\n",
      "\u001b[38;5;229m\u001b[48;5;16m[yippy]\u001b[0m \u001b[33mWARNING [2025-09-02 18:07:32,990] \u001b[0mUsing default unit for D: m. Could not extract unit from comment: \"circumscribed diameter of the telescope in mete\"\n",
      "\u001b[38;5;229m\u001b[48;5;16m[yippy]\u001b[0m \u001b[32mINFO [2025-09-02 18:07:33,060] \u001b[0musort_offaxis_ovc is radially symmetric\n",
      "\u001b[38;5;229m\u001b[48;5;16m[yippy]\u001b[0m \u001b[32mINFO [2025-09-02 18:07:33,092] \u001b[0mCreated usort_offaxis_ovc\n"
     ]
    },
    {
     "name": "stdout",
     "output_type": "stream",
     "text": [
      "Using psf_trunc_ratio to calculate Omega...\n",
      "WARNING: noisefloor_PPF value not provided. Using the default value: 30.0\n",
      "Azimuthally averaging contrast maps and noise floor...\n",
      "Calculating optics throughput from preset...\n",
      "Calculating epswarmTrcold as 1 - optics throughput...\n",
      "WARNING: Planet outside OWA or inside IWA. Hardcoded infinity results.\n",
      "WARNING: ez_PPF not set. Assuming EZ subtraction to Poisson limit (ez_PPF = inf)\n",
      "Observatory Configuration:\n",
      "  Using preset: EAC1\n",
      "\n"
     ]
    },
    {
     "name": "stderr",
     "output_type": "stream",
     "text": [
      "\u001b[38;5;229m\u001b[48;5;16m[yippy]\u001b[0m \u001b[32mINFO [2025-09-02 18:07:38,654] \u001b[0mCreating usort_offaxis_ovc coronagraph\n",
      "\u001b[38;5;229m\u001b[48;5;16m[yippy]\u001b[0m \u001b[33mWARNING [2025-09-02 18:07:38,656] \u001b[0mUnhandled header fields: {'D_INSC'}\n",
      "\u001b[38;5;229m\u001b[48;5;16m[yippy]\u001b[0m \u001b[33mWARNING [2025-09-02 18:07:38,657] \u001b[0mUsing default unit for D: m. Could not extract unit from comment: \"circumscribed diameter of the telescope in mete\"\n",
      "\u001b[38;5;229m\u001b[48;5;16m[yippy]\u001b[0m \u001b[32mINFO [2025-09-02 18:07:38,740] \u001b[0musort_offaxis_ovc is radially symmetric\n",
      "\u001b[38;5;229m\u001b[48;5;16m[yippy]\u001b[0m \u001b[32mINFO [2025-09-02 18:07:38,805] \u001b[0mCreated usort_offaxis_ovc\n"
     ]
    },
    {
     "name": "stdout",
     "output_type": "stream",
     "text": [
      "Using psf_trunc_ratio to calculate Omega...\n",
      "WARNING: noisefloor_PPF value not provided. Using the default value: 30.0\n",
      "Azimuthally averaging contrast maps and noise floor...\n",
      "Calculating optics throughput from preset...\n",
      "Calculating epswarmTrcold as 1 - optics throughput...\n",
      "WARNING: Planet outside OWA or inside IWA. Hardcoded infinity results.\n"
     ]
    },
    {
     "data": {
      "image/png": "[encoded data removed]",
      "text/plain": [
       "<Figure size 1000x600 with 2 Axes>"
      ]
     },
     "metadata": {},
     "output_type": "display_data"
    }
   ],
   "source": [
    "separations = np.linspace(0.005, 0.8, 10)  # arcsec \n",
    "\n",
    "exposure_times = []\n",
    "\n",
    "for sep in separations:\n",
    "    params = imaging_params.copy()\n",
    "    params['separation'] = sep\n",
    "    parsed_parameters= parse_input.parse_parameters(params)\n",
    "\n",
    "    texp, _ = calculate_texp(parsed_parameters, verbose=False)\n",
    "    exposure_times.append(texp.to(u.hr)[0].value)\n",
    "\n",
    "fig, ax1 = plt.subplots(figsize=(10, 6))\n",
    "\n",
    "# Primary x-axis (separation arcsec)\n",
    "ax1.plot(separations, exposure_times, marker='o', label='Valid exposures')\n",
    "ax1.plot(separations[np.isinf(exposure_times)],\n",
    "         np.ones_like(separations)[np.isinf(exposure_times)]*0,\n",
    "         marker='x', linestyle='', color='red', label='Infinite exposures')\n",
    "\n",
    "\n",
    "ax1.set_xlabel('Separation (arcsec)')\n",
    "ax1.set_ylabel('Exposure time (hours)')\n",
    "ax1.grid(True)\n",
    "\n",
    "separations_lod = arcsec_to_lambda_d(separations*ARCSEC,\n",
    "observation.wavelength[0].to(LENGTH),\n",
    "observatory.telescope.diameter.to(LENGTH),\n",
    ")\n",
    "# # Secondary x-axis (lambda/D)\n",
    "num_ticks = 5 \n",
    "tick_indices = np.linspace(0, len(separations) - 1, num_ticks, dtype=int)\n",
    "reduced_separations = [separations[i] for i in tick_indices]\n",
    "reduced_separations_lod = [separations_lod[i] for i in tick_indices]\n",
    "ax2 = ax1.twiny()\n",
    "ax2.set_xticks(reduced_separations)\n",
    "ax2.set_xticklabels([f'{m:.1f}' for m in reduced_separations_lod])\n",
    "ax2.set_xlim(ax1.get_xlim())\n",
    "ax2.set_xlabel('Separation (lambda/D)')\n",
    "\n",
    "plt.title('Exposure Time vs. Separation')\n",
    "plt.tight_layout()\n",
    "\n",
    "\n",
    "\n"
   ]
  },
  {
   "cell_type": "markdown",
   "metadata": {},
   "source": [
    "What if you have a planet and you want to vary the physical distance instead of calculating the corresponding separation? You can also use the keyword ``semimajor_axis'' and pyEDITH will calculate the separation internally."
   ]
  },
  {
   "cell_type": "code",
   "execution_count": 59,
   "metadata": {},
   "outputs": [
    {
     "name": "stdout",
     "output_type": "stream",
     "text": [
      "WARNING: ez_PPF not set. Assuming EZ subtraction to Poisson limit (ez_PPF = inf)\n",
      "Observatory Configuration:\n",
      "  Using preset: EAC1\n",
      "\n"
     ]
    },
    {
     "name": "stderr",
     "output_type": "stream",
     "text": [
      "\u001b[38;5;229m\u001b[48;5;16m[yippy]\u001b[0m \u001b[32mINFO [2025-09-02 18:07:44,144] \u001b[0mCreating usort_offaxis_ovc coronagraph\n",
      "\u001b[38;5;229m\u001b[48;5;16m[yippy]\u001b[0m \u001b[33mWARNING [2025-09-02 18:07:44,145] \u001b[0mUnhandled header fields: {'D_INSC'}\n",
      "\u001b[38;5;229m\u001b[48;5;16m[yippy]\u001b[0m \u001b[33mWARNING [2025-09-02 18:07:44,146] \u001b[0mUsing default unit for D: m. Could not extract unit from comment: \"circumscribed diameter of the telescope in mete\"\n",
      "\u001b[38;5;229m\u001b[48;5;16m[yippy]\u001b[0m \u001b[32mINFO [2025-09-02 18:07:44,179] \u001b[0musort_offaxis_ovc is radially symmetric\n",
      "\u001b[38;5;229m\u001b[48;5;16m[yippy]\u001b[0m \u001b[32mINFO [2025-09-02 18:07:44,197] \u001b[0mCreated usort_offaxis_ovc\n"
     ]
    },
    {
     "name": "stdout",
     "output_type": "stream",
     "text": [
      "Using psf_trunc_ratio to calculate Omega...\n",
      "WARNING: noisefloor_PPF value not provided. Using the default value: 30.0\n",
      "Azimuthally averaging contrast maps and noise floor...\n",
      "Calculating optics throughput from preset...\n",
      "Calculating epswarmTrcold as 1 - optics throughput...\n",
      "WARNING: Planet outside OWA or inside IWA. Hardcoded infinity results.\n",
      "WARNING: ez_PPF not set. Assuming EZ subtraction to Poisson limit (ez_PPF = inf)\n",
      "Observatory Configuration:\n",
      "  Using preset: EAC1\n",
      "\n"
     ]
    },
    {
     "name": "stderr",
     "output_type": "stream",
     "text": [
      "\u001b[38;5;229m\u001b[48;5;16m[yippy]\u001b[0m \u001b[32mINFO [2025-09-02 18:07:49,001] \u001b[0mCreating usort_offaxis_ovc coronagraph\n",
      "\u001b[38;5;229m\u001b[48;5;16m[yippy]\u001b[0m \u001b[33mWARNING [2025-09-02 18:07:49,002] \u001b[0mUnhandled header fields: {'D_INSC'}\n",
      "\u001b[38;5;229m\u001b[48;5;16m[yippy]\u001b[0m \u001b[33mWARNING [2025-09-02 18:07:49,003] \u001b[0mUsing default unit for D: m. Could not extract unit from comment: \"circumscribed diameter of the telescope in mete\"\n",
      "\u001b[38;5;229m\u001b[48;5;16m[yippy]\u001b[0m \u001b[32mINFO [2025-09-02 18:07:49,036] \u001b[0musort_offaxis_ovc is radially symmetric\n",
      "\u001b[38;5;229m\u001b[48;5;16m[yippy]\u001b[0m \u001b[32mINFO [2025-09-02 18:07:49,054] \u001b[0mCreated usort_offaxis_ovc\n"
     ]
    },
    {
     "name": "stdout",
     "output_type": "stream",
     "text": [
      "Using psf_trunc_ratio to calculate Omega...\n",
      "WARNING: noisefloor_PPF value not provided. Using the default value: 30.0\n",
      "Azimuthally averaging contrast maps and noise floor...\n",
      "Calculating optics throughput from preset...\n",
      "Calculating epswarmTrcold as 1 - optics throughput...\n",
      "WARNING: ez_PPF not set. Assuming EZ subtraction to Poisson limit (ez_PPF = inf)\n",
      "Observatory Configuration:\n",
      "  Using preset: EAC1\n",
      "\n"
     ]
    },
    {
     "name": "stderr",
     "output_type": "stream",
     "text": [
      "\u001b[38;5;229m\u001b[48;5;16m[yippy]\u001b[0m \u001b[32mINFO [2025-09-02 18:07:53,929] \u001b[0mCreating usort_offaxis_ovc coronagraph\n",
      "\u001b[38;5;229m\u001b[48;5;16m[yippy]\u001b[0m \u001b[33mWARNING [2025-09-02 18:07:53,930] \u001b[0mUnhandled header fields: {'D_INSC'}\n",
      "\u001b[38;5;229m\u001b[48;5;16m[yippy]\u001b[0m \u001b[33mWARNING [2025-09-02 18:07:53,931] \u001b[0mUsing default unit for D: m. Could not extract unit from comment: \"circumscribed diameter of the telescope in mete\"\n",
      "\u001b[38;5;229m\u001b[48;5;16m[yippy]\u001b[0m \u001b[32mINFO [2025-09-02 18:07:53,963] \u001b[0musort_offaxis_ovc is radially symmetric\n",
      "\u001b[38;5;229m\u001b[48;5;16m[yippy]\u001b[0m \u001b[32mINFO [2025-09-02 18:07:53,980] \u001b[0mCreated usort_offaxis_ovc\n"
     ]
    },
    {
     "name": "stdout",
     "output_type": "stream",
     "text": [
      "Using psf_trunc_ratio to calculate Omega...\n",
      "WARNING: noisefloor_PPF value not provided. Using the default value: 30.0\n",
      "Azimuthally averaging contrast maps and noise floor...\n",
      "Calculating optics throughput from preset...\n",
      "Calculating epswarmTrcold as 1 - optics throughput...\n",
      "WARNING: ez_PPF not set. Assuming EZ subtraction to Poisson limit (ez_PPF = inf)\n",
      "Observatory Configuration:\n",
      "  Using preset: EAC1\n",
      "\n"
     ]
    },
    {
     "name": "stderr",
     "output_type": "stream",
     "text": [
      "\u001b[38;5;229m\u001b[48;5;16m[yippy]\u001b[0m \u001b[32mINFO [2025-09-02 18:07:58,789] \u001b[0mCreating usort_offaxis_ovc coronagraph\n",
      "\u001b[38;5;229m\u001b[48;5;16m[yippy]\u001b[0m \u001b[33mWARNING [2025-09-02 18:07:58,790] \u001b[0mUnhandled header fields: {'D_INSC'}\n",
      "\u001b[38;5;229m\u001b[48;5;16m[yippy]\u001b[0m \u001b[33mWARNING [2025-09-02 18:07:58,790] \u001b[0mUsing default unit for D: m. Could not extract unit from comment: \"circumscribed diameter of the telescope in mete\"\n",
      "\u001b[38;5;229m\u001b[48;5;16m[yippy]\u001b[0m \u001b[32mINFO [2025-09-02 18:07:58,822] \u001b[0musort_offaxis_ovc is radially symmetric\n",
      "\u001b[38;5;229m\u001b[48;5;16m[yippy]\u001b[0m \u001b[32mINFO [2025-09-02 18:07:58,839] \u001b[0mCreated usort_offaxis_ovc\n"
     ]
    },
    {
     "name": "stdout",
     "output_type": "stream",
     "text": [
      "Using psf_trunc_ratio to calculate Omega...\n",
      "WARNING: noisefloor_PPF value not provided. Using the default value: 30.0\n",
      "Azimuthally averaging contrast maps and noise floor...\n",
      "Calculating optics throughput from preset...\n",
      "Calculating epswarmTrcold as 1 - optics throughput...\n",
      "WARNING: ez_PPF not set. Assuming EZ subtraction to Poisson limit (ez_PPF = inf)\n",
      "Observatory Configuration:\n",
      "  Using preset: EAC1\n",
      "\n"
     ]
    },
    {
     "name": "stderr",
     "output_type": "stream",
     "text": [
      "\u001b[38;5;229m\u001b[48;5;16m[yippy]\u001b[0m \u001b[32mINFO [2025-09-02 18:08:03,894] \u001b[0mCreating usort_offaxis_ovc coronagraph\n",
      "\u001b[38;5;229m\u001b[48;5;16m[yippy]\u001b[0m \u001b[33mWARNING [2025-09-02 18:08:03,896] \u001b[0mUnhandled header fields: {'D_INSC'}\n",
      "\u001b[38;5;229m\u001b[48;5;16m[yippy]\u001b[0m \u001b[33mWARNING [2025-09-02 18:08:03,896] \u001b[0mUsing default unit for D: m. Could not extract unit from comment: \"circumscribed diameter of the telescope in mete\"\n",
      "\u001b[38;5;229m\u001b[48;5;16m[yippy]\u001b[0m \u001b[32mINFO [2025-09-02 18:08:03,927] \u001b[0musort_offaxis_ovc is radially symmetric\n",
      "\u001b[38;5;229m\u001b[48;5;16m[yippy]\u001b[0m \u001b[32mINFO [2025-09-02 18:08:03,946] \u001b[0mCreated usort_offaxis_ovc\n"
     ]
    },
    {
     "name": "stdout",
     "output_type": "stream",
     "text": [
      "Using psf_trunc_ratio to calculate Omega...\n",
      "WARNING: noisefloor_PPF value not provided. Using the default value: 30.0\n",
      "Azimuthally averaging contrast maps and noise floor...\n",
      "Calculating optics throughput from preset...\n",
      "Calculating epswarmTrcold as 1 - optics throughput...\n",
      "WARNING: ez_PPF not set. Assuming EZ subtraction to Poisson limit (ez_PPF = inf)\n",
      "Observatory Configuration:\n",
      "  Using preset: EAC1\n",
      "\n"
     ]
    },
    {
     "name": "stderr",
     "output_type": "stream",
     "text": [
      "\u001b[38;5;229m\u001b[48;5;16m[yippy]\u001b[0m \u001b[32mINFO [2025-09-02 18:08:09,050] \u001b[0mCreating usort_offaxis_ovc coronagraph\n",
      "\u001b[38;5;229m\u001b[48;5;16m[yippy]\u001b[0m \u001b[33mWARNING [2025-09-02 18:08:09,051] \u001b[0mUnhandled header fields: {'D_INSC'}\n",
      "\u001b[38;5;229m\u001b[48;5;16m[yippy]\u001b[0m \u001b[33mWARNING [2025-09-02 18:08:09,051] \u001b[0mUsing default unit for D: m. Could not extract unit from comment: \"circumscribed diameter of the telescope in mete\"\n",
      "\u001b[38;5;229m\u001b[48;5;16m[yippy]\u001b[0m \u001b[32mINFO [2025-09-02 18:08:09,086] \u001b[0musort_offaxis_ovc is radially symmetric\n",
      "\u001b[38;5;229m\u001b[48;5;16m[yippy]\u001b[0m \u001b[32mINFO [2025-09-02 18:08:09,104] \u001b[0mCreated usort_offaxis_ovc\n"
     ]
    },
    {
     "name": "stdout",
     "output_type": "stream",
     "text": [
      "Using psf_trunc_ratio to calculate Omega...\n",
      "WARNING: noisefloor_PPF value not provided. Using the default value: 30.0\n",
      "Azimuthally averaging contrast maps and noise floor...\n",
      "Calculating optics throughput from preset...\n",
      "Calculating epswarmTrcold as 1 - optics throughput...\n",
      "WARNING: Planet outside OWA or inside IWA. Hardcoded infinity results.\n",
      "WARNING: ez_PPF not set. Assuming EZ subtraction to Poisson limit (ez_PPF = inf)\n",
      "Observatory Configuration:\n",
      "  Using preset: EAC1\n",
      "\n"
     ]
    },
    {
     "name": "stderr",
     "output_type": "stream",
     "text": [
      "\u001b[38;5;229m\u001b[48;5;16m[yippy]\u001b[0m \u001b[32mINFO [2025-09-02 18:08:14,023] \u001b[0mCreating usort_offaxis_ovc coronagraph\n",
      "\u001b[38;5;229m\u001b[48;5;16m[yippy]\u001b[0m \u001b[33mWARNING [2025-09-02 18:08:14,024] \u001b[0mUnhandled header fields: {'D_INSC'}\n",
      "\u001b[38;5;229m\u001b[48;5;16m[yippy]\u001b[0m \u001b[33mWARNING [2025-09-02 18:08:14,024] \u001b[0mUsing default unit for D: m. Could not extract unit from comment: \"circumscribed diameter of the telescope in mete\"\n",
      "\u001b[38;5;229m\u001b[48;5;16m[yippy]\u001b[0m \u001b[32mINFO [2025-09-02 18:08:14,055] \u001b[0musort_offaxis_ovc is radially symmetric\n",
      "\u001b[38;5;229m\u001b[48;5;16m[yippy]\u001b[0m \u001b[32mINFO [2025-09-02 18:08:14,072] \u001b[0mCreated usort_offaxis_ovc\n"
     ]
    },
    {
     "name": "stdout",
     "output_type": "stream",
     "text": [
      "Using psf_trunc_ratio to calculate Omega...\n",
      "WARNING: noisefloor_PPF value not provided. Using the default value: 30.0\n",
      "Azimuthally averaging contrast maps and noise floor...\n",
      "Calculating optics throughput from preset...\n",
      "Calculating epswarmTrcold as 1 - optics throughput...\n",
      "WARNING: Planet outside OWA or inside IWA. Hardcoded infinity results.\n",
      "WARNING: ez_PPF not set. Assuming EZ subtraction to Poisson limit (ez_PPF = inf)\n",
      "Observatory Configuration:\n",
      "  Using preset: EAC1\n",
      "\n"
     ]
    },
    {
     "name": "stderr",
     "output_type": "stream",
     "text": [
      "\u001b[38;5;229m\u001b[48;5;16m[yippy]\u001b[0m \u001b[32mINFO [2025-09-02 18:08:19,015] \u001b[0mCreating usort_offaxis_ovc coronagraph\n",
      "\u001b[38;5;229m\u001b[48;5;16m[yippy]\u001b[0m \u001b[33mWARNING [2025-09-02 18:08:19,016] \u001b[0mUnhandled header fields: {'D_INSC'}\n",
      "\u001b[38;5;229m\u001b[48;5;16m[yippy]\u001b[0m \u001b[33mWARNING [2025-09-02 18:08:19,017] \u001b[0mUsing default unit for D: m. Could not extract unit from comment: \"circumscribed diameter of the telescope in mete\"\n",
      "\u001b[38;5;229m\u001b[48;5;16m[yippy]\u001b[0m \u001b[32mINFO [2025-09-02 18:08:19,052] \u001b[0musort_offaxis_ovc is radially symmetric\n",
      "\u001b[38;5;229m\u001b[48;5;16m[yippy]\u001b[0m \u001b[32mINFO [2025-09-02 18:08:19,069] \u001b[0mCreated usort_offaxis_ovc\n"
     ]
    },
    {
     "name": "stdout",
     "output_type": "stream",
     "text": [
      "Using psf_trunc_ratio to calculate Omega...\n",
      "WARNING: noisefloor_PPF value not provided. Using the default value: 30.0\n",
      "Azimuthally averaging contrast maps and noise floor...\n",
      "Calculating optics throughput from preset...\n",
      "Calculating epswarmTrcold as 1 - optics throughput...\n",
      "WARNING: Planet outside OWA or inside IWA. Hardcoded infinity results.\n",
      "WARNING: ez_PPF not set. Assuming EZ subtraction to Poisson limit (ez_PPF = inf)\n",
      "Observatory Configuration:\n",
      "  Using preset: EAC1\n",
      "\n"
     ]
    },
    {
     "name": "stderr",
     "output_type": "stream",
     "text": [
      "\u001b[38;5;229m\u001b[48;5;16m[yippy]\u001b[0m \u001b[32mINFO [2025-09-02 18:08:24,595] \u001b[0mCreating usort_offaxis_ovc coronagraph\n",
      "\u001b[38;5;229m\u001b[48;5;16m[yippy]\u001b[0m \u001b[33mWARNING [2025-09-02 18:08:24,597] \u001b[0mUnhandled header fields: {'D_INSC'}\n",
      "\u001b[38;5;229m\u001b[48;5;16m[yippy]\u001b[0m \u001b[33mWARNING [2025-09-02 18:08:24,597] \u001b[0mUsing default unit for D: m. Could not extract unit from comment: \"circumscribed diameter of the telescope in mete\"\n",
      "\u001b[38;5;229m\u001b[48;5;16m[yippy]\u001b[0m \u001b[32mINFO [2025-09-02 18:08:24,632] \u001b[0musort_offaxis_ovc is radially symmetric\n",
      "\u001b[38;5;229m\u001b[48;5;16m[yippy]\u001b[0m \u001b[32mINFO [2025-09-02 18:08:24,650] \u001b[0mCreated usort_offaxis_ovc\n"
     ]
    },
    {
     "name": "stdout",
     "output_type": "stream",
     "text": [
      "Using psf_trunc_ratio to calculate Omega...\n",
      "WARNING: noisefloor_PPF value not provided. Using the default value: 30.0\n",
      "Azimuthally averaging contrast maps and noise floor...\n",
      "Calculating optics throughput from preset...\n",
      "Calculating epswarmTrcold as 1 - optics throughput...\n",
      "WARNING: Planet outside OWA or inside IWA. Hardcoded infinity results.\n",
      "WARNING: ez_PPF not set. Assuming EZ subtraction to Poisson limit (ez_PPF = inf)\n",
      "Observatory Configuration:\n",
      "  Using preset: EAC1\n",
      "\n"
     ]
    },
    {
     "name": "stderr",
     "output_type": "stream",
     "text": [
      "\u001b[38;5;229m\u001b[48;5;16m[yippy]\u001b[0m \u001b[32mINFO [2025-09-02 18:08:29,939] \u001b[0mCreating usort_offaxis_ovc coronagraph\n",
      "\u001b[38;5;229m\u001b[48;5;16m[yippy]\u001b[0m \u001b[33mWARNING [2025-09-02 18:08:29,940] \u001b[0mUnhandled header fields: {'D_INSC'}\n",
      "\u001b[38;5;229m\u001b[48;5;16m[yippy]\u001b[0m \u001b[33mWARNING [2025-09-02 18:08:29,941] \u001b[0mUsing default unit for D: m. Could not extract unit from comment: \"circumscribed diameter of the telescope in mete\"\n",
      "\u001b[38;5;229m\u001b[48;5;16m[yippy]\u001b[0m \u001b[32mINFO [2025-09-02 18:08:29,972] \u001b[0musort_offaxis_ovc is radially symmetric\n",
      "\u001b[38;5;229m\u001b[48;5;16m[yippy]\u001b[0m \u001b[32mINFO [2025-09-02 18:08:29,990] \u001b[0mCreated usort_offaxis_ovc\n"
     ]
    },
    {
     "name": "stdout",
     "output_type": "stream",
     "text": [
      "Using psf_trunc_ratio to calculate Omega...\n",
      "WARNING: noisefloor_PPF value not provided. Using the default value: 30.0\n",
      "Azimuthally averaging contrast maps and noise floor...\n",
      "Calculating optics throughput from preset...\n",
      "Calculating epswarmTrcold as 1 - optics throughput...\n",
      "WARNING: Planet outside OWA or inside IWA. Hardcoded infinity results.\n"
     ]
    },
    {
     "data": {
      "image/png": "[encoded data removed]",
      "text/plain": [
       "<Figure size 1000x600 with 1 Axes>"
      ]
     },
     "metadata": {},
     "output_type": "display_data"
    }
   ],
   "source": [
    "semimajor_axes = np.linspace(0.05, 10, 10)  # AU \n",
    "\n",
    "exposure_times = []\n",
    "\n",
    "for a in semimajor_axes:\n",
    "    params = imaging_params.copy()\n",
    "    del params['separation']\n",
    "    params['semimajor_axis'] = a \n",
    "    parsed_parameters= parse_input.parse_parameters(params)\n",
    "\n",
    "    texp, _ = calculate_texp(parsed_parameters, verbose=False)\n",
    "    exposure_times.append(texp.to(u.hr)[0].value)\n",
    "\n",
    "fig, ax1 = plt.subplots(figsize=(10, 6))\n",
    "\n",
    "# Primary x-axis (separation arcsec)\n",
    "ax1.plot(semimajor_axes, exposure_times, marker='o', label='Valid exposures')\n",
    "ax1.plot(semimajor_axes[np.isinf(exposure_times)],\n",
    "         np.ones_like(semimajor_axes)[np.isinf(exposure_times)]*0,\n",
    "         marker='x', linestyle='', color='red', label='Infinite exposures')\n",
    "\n",
    "\n",
    "ax1.set_xlabel('Separation (arcsec)')\n",
    "ax1.set_ylabel('Exposure time (hours)')\n",
    "ax1.grid(True)\n",
    "\n",
    "plt.title('Exposure Time vs. Separation')\n",
    "plt.legend()\n",
    "plt.tight_layout()\n",
    "\n"
   ]
  },
  {
   "cell_type": "code",
   "execution_count": null,
   "metadata": {},
   "outputs": [],
   "source": []
  }
 ],
 "metadata": {
  "kernelspec": {
   "display_name": ".venv (3.12.4)",
   "language": "python",
   "name": "python3"
  },
  "language_info": {
   "codemirror_mode": {
    "name": "ipython",
    "version": 3
   },
   "file_extension": ".py",
   "mimetype": "text/x-python",
   "name": "python",
   "nbconvert_exporter": "python",
   "pygments_lexer": "ipython3",
   "version": "3.12.4"
  }
 },
 "nbformat": 4,
 "nbformat_minor": 2
}

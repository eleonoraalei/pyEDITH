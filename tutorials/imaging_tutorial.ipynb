{
 "cells": [
  {
   "cell_type": "markdown",
   "metadata": {},
   "source": [
    "# pyEDITH Tutorial: Imaging Mode\n",
    "\n",
    "This tutorial will guide you through using pyEDITH in imaging mode.\n",
    "\n",
    "## Before we start\n",
    "\n",
    "Make sure you download the latest YAML files  at https://github.com/HWO-GOMAP-Working-Groups/Sci-Eng-Interface/tree/main\n",
    "and make a folder that contains your Coronagraph Input Package YIP files.\n",
    "\n",
    "## Setup\n",
    "First, let's import the necessary modules and set up our environment:\n"
   ]
  },
  {
   "cell_type": "code",
   "execution_count": 1,
   "metadata": {},
   "outputs": [],
   "source": [
    "import os\n",
    "import numpy as np\n",
    "import matplotlib.pyplot as plt\n",
    "from astropy import units as u\n",
    "from pyEDITH import parse_input, calculate_texp, calculate_snr, AstrophysicalScene, Observation, ObservatoryBuilder\n",
    "from pyEDITH.units import *\n",
    "\n",
    "# Set the necessary environment variables --> REPLACE WITH YOUR PATHS. \n",
    "# You can also open your .bashrc (or .zshrc) and type:\n",
    "# export SCI_ENG_DIR=\"/path/to/Sci-Eng-Interface/hwo_sci_eng\"\n",
    "# export YIP_CORO_DIR=\"/path/to/yips\"\n",
    "\n"
   ]
  },
  {
   "cell_type": "markdown",
   "metadata": {},
   "source": [
    "### 1. Setting up the Observation Parameters\n",
    "\n",
    "Let's start by defining the parameters for an Earth-like planet around HIP 79672 (used in the ETC validation).\n",
    "\n",
    "**Note:** Parameters that vary with lambda (lambd, resolution, snr, mag, delta_mag...) can be both floats and lists. If len(lambd)>1 and any of the other values is a float, it becomes a list of length len(lambd) internally."
   ]
  },
  {
   "cell_type": "code",
   "execution_count": 2,
   "metadata": {},
   "outputs": [],
   "source": [
    "imaging_params = {\n",
    "    'wavelength': 0.5,              # Wavelength in microns\n",
    "    'snr': 7,                       # Desired signal-to-noise ratio\n",
    "    'bandwidth': 0.2,               # Bandwidth of observation\n",
    "    'CRb_multiplier': 2.0,          # Count rate ratio multiplier (assuming differential imaging for PSF subtraction)\n",
    "    'psf_trunc_ratio': 0.3,         # PSF Truncation Ratio to calculate photometric aperture of solid angle Omega. \n",
    "    'Lstar': 1.8,                   # Stellar luminosity in Solar luminosity units\n",
    "    'magV': 5.44,                   # Stellar magnitude in V band\n",
    "    'mag': 5.687,                   # Stellar magnitude in observation band\n",
    "    'distance': 18.2,               # Distance to star in parsecs\n",
    "    'stellar_angular_diameter': 0.0006,     # Angular diameter of star in arcseconds\n",
    "    'nzodis': 3.0,                  # Number of zodiacal light disks\n",
    "    'ra': 101.5589542028,           # Right ascension of star [deg]\n",
    "    'dec': 79.56481016336,          # Declination of star [deg]\n",
    "    'separation': 0.074205598,      # Separation between star and planet in arcseconds\n",
    "    'delta_mag_min': 25,            # Minimum detectable delta magnitude\n",
    "    'delta_mag': 25.5,              # Delta magnitude between star and planet\n",
    "    'observatory_preset': 'EAC1',   # Preset observatory configuration\n",
    "    'observing_mode': 'IMAGER',     # Observing mode\n",
    "}\n"
   ]
  },
  {
   "cell_type": "markdown",
   "metadata": {},
   "source": [
    "### 2. Calculating Exposure Time\n",
    "Now, let's calculate the exposure time for our imaging observation:"
   ]
  },
  {
   "cell_type": "code",
   "execution_count": 3,
   "metadata": {},
   "outputs": [
    {
     "name": "stdout",
     "output_type": "stream",
     "text": [
      "Observatory Configuration:\n",
      "  Using preset: EAC1\n",
      "\n"
     ]
    },
    {
     "name": "stderr",
     "output_type": "stream",
     "text": [
      "\u001b[38;5;229m\u001b[48;5;16m[yippy]\u001b[0m \u001b[32mINFO [2025-04-22 15:56:27,780] \u001b[0mCreating usort_offaxis_ovc coronagraph\n",
      "\u001b[38;5;229m\u001b[48;5;16m[yippy]\u001b[0m \u001b[33mWARNING [2025-04-22 15:56:27,781] \u001b[0mUnhandled header fields: {'D_INSC'}\n",
      "\u001b[38;5;229m\u001b[48;5;16m[yippy]\u001b[0m \u001b[33mWARNING [2025-04-22 15:56:27,782] \u001b[0mUsing default unit for D: m. Could not extract unit from comment: \"circumscribed diameter of the telescope in mete\"\n",
      "\u001b[38;5;229m\u001b[48;5;16m[yippy]\u001b[0m \u001b[32mINFO [2025-04-22 15:56:27,839] \u001b[0musort_offaxis_ovc is radially symmetric\n",
      "\u001b[38;5;229m\u001b[48;5;16m[yippy]\u001b[0m \u001b[32mINFO [2025-04-22 15:56:28,223] \u001b[0mCreated usort_offaxis_ovc\n"
     ]
    },
    {
     "name": "stdout",
     "output_type": "stream",
     "text": [
      "Using psf_trunc_ratio to calculate Omega...\n",
      "Setting the noise floor via user-supplied noisefloor_PPF...\n",
      "Azimuthally averaging contrast maps and noise floor...\n",
      "Calculating optics throughput from preset...\n",
      "Calculating epswarmTrcold as 1 - optics throughput...\n",
      "Calculated exposure time: [14.79874919] h\n"
     ]
    }
   ],
   "source": [
    "# Make the parameters be the shape that the code desires \n",
    "parsed_parameters= parse_input.parse_parameters(imaging_params)\n",
    "\n",
    "# Calculate Exposure time\n",
    "texp, validation_output = calculate_texp(parsed_parameters, verbose=False)\n",
    "print(f\"Calculated exposure time: {texp.to(u.hr)}\")"
   ]
  },
  {
   "cell_type": "markdown",
   "metadata": {},
   "source": [
    "### 3. Calculate SNR\n",
    "\n",
    "Given an exposure time (e.g. 10 hrs), we can calculate the SNR for the desired bandpass."
   ]
  },
  {
   "cell_type": "code",
   "execution_count": 4,
   "metadata": {},
   "outputs": [
    {
     "name": "stdout",
     "output_type": "stream",
     "text": [
      "Observatory Configuration:\n",
      "  Using preset: EAC1\n",
      "\n"
     ]
    },
    {
     "name": "stderr",
     "output_type": "stream",
     "text": [
      "\u001b[38;5;229m\u001b[48;5;16m[yippy]\u001b[0m \u001b[32mINFO [2025-04-22 15:56:39,230] \u001b[0mCreating usort_offaxis_ovc coronagraph\n",
      "\u001b[38;5;229m\u001b[48;5;16m[yippy]\u001b[0m \u001b[33mWARNING [2025-04-22 15:56:39,232] \u001b[0mUnhandled header fields: {'D_INSC'}\n",
      "\u001b[38;5;229m\u001b[48;5;16m[yippy]\u001b[0m \u001b[33mWARNING [2025-04-22 15:56:39,232] \u001b[0mUsing default unit for D: m. Could not extract unit from comment: \"circumscribed diameter of the telescope in mete\"\n",
      "\u001b[38;5;229m\u001b[48;5;16m[yippy]\u001b[0m \u001b[32mINFO [2025-04-22 15:56:39,273] \u001b[0musort_offaxis_ovc is radially symmetric\n",
      "\u001b[38;5;229m\u001b[48;5;16m[yippy]\u001b[0m \u001b[32mINFO [2025-04-22 15:56:39,322] \u001b[0mCreated usort_offaxis_ovc\n"
     ]
    },
    {
     "name": "stdout",
     "output_type": "stream",
     "text": [
      "Using psf_trunc_ratio to calculate Omega...\n",
      "Setting the noise floor via user-supplied noisefloor_PPF...\n",
      "Azimuthally averaging contrast maps and noise floor...\n",
      "Calculating optics throughput from preset...\n",
      "Calculating epswarmTrcold as 1 - optics throughput...\n",
      "Calculated snr: [5.49541438]\n"
     ]
    }
   ],
   "source": [
    "# Make the parameters be the shape that the code desires \n",
    "parsed_parameters= parse_input.parse_parameters(imaging_params)\n",
    "\n",
    "# Calculate SNR given a specific exposure time\n",
    "texp = 10*u.hr\n",
    "snr, validation_output = calculate_snr(parsed_parameters, texp, verbose=False)\n",
    "print(f\"Calculated snr: {snr}\")"
   ]
  },
  {
   "cell_type": "markdown",
   "metadata": {},
   "source": [
    "`validation_output` contains some interesting quantities that you can use to double check or validate, or to plot additional quantities."
   ]
  },
  {
   "cell_type": "code",
   "execution_count": 5,
   "metadata": {},
   "outputs": [
    {
     "data": {
      "text/plain": [
       "{0: {'F0': <Quantity 12638.83670769 ph / (nm s cm2)>,\n",
       "  'magstar': <Quantity [5.687] mag>,\n",
       "  'Lstar': <Quantity 1.8 solLum>,\n",
       "  'dist': <Quantity 18.2 pc>,\n",
       "  'D': <Quantity 7.225765 m>,\n",
       "  'A_cm': <Quantity 410069.58591604 cm2>,\n",
       "  'wavelength': <Quantity 500. nm>,\n",
       "  'deltalambda_nm': <Quantity 100. nm>,\n",
       "  'snr': <Quantity 7.>,\n",
       "  'nzodis': <Quantity 3. zodi>,\n",
       "  'toverhead_fixed': <Quantity 8250. s>,\n",
       "  'toverhead_multi': <Quantity 1.1>,\n",
       "  'det_DC': <Quantity 3.e-05 electron / (pix s)>,\n",
       "  'det_RN': <Quantity 0.1 electron / (pix read)>,\n",
       "  'det_CIC': <Quantity 0. electron / (frame pix)>,\n",
       "  'det_tread': <Quantity 1000. s / read>,\n",
       "  'det_pixscale_mas': <Quantity 7.13643491 mas>,\n",
       "  'dQE': <Quantity 0.75>,\n",
       "  'QE': <Quantity 0.88749741 electron / ph>,\n",
       "  'T_optical': <Quantity 0.36198356>,\n",
       "  'Fs_over_F0': <Quantity 67.12852472 ph / (nm s cm2)>,\n",
       "  'Fp': <Quantity 4.23552357e-09 ph / (nm s cm2)>,\n",
       "  'Fzodi': <Quantity 4.71862514e-06 ph / (nm s arcsec2 cm2)>,\n",
       "  'Fexozodi': <Quantity 4.95627071e-05 arcsec^-2 ph / (nm s arcsec2 cm2 pc2)>,\n",
       "  'sp_lod': <Quantity 5.19906641 λ/D>,\n",
       "  'omega_lod': <Quantity 2.80619768>,\n",
       "  'T_core or photap_frac': <Quantity 0.35196856>,\n",
       "  'Istar': <Quantity 3.02668705e-15>,\n",
       "  'Istar*oneopixscale2 in (l/D)^-2': <Quantity 4.84269928e-14>,\n",
       "  'skytrans': <Quantity 0.56503755>,\n",
       "  'skytrans*oneopixscale2  in (l/D)^-2': <Quantity 9.04060084>,\n",
       "  'det_npix': <Quantity 27.0660789 pix>,\n",
       "  't_photon_count': <Quantity 5.77291516 s / frame>,\n",
       "  'CRp': <Quantity 0.02945885 electron / s>,\n",
       "  'CRbs': <Quantity 0.00018027 electron / s>,\n",
       "  'CRbz': <Quantity 0.03011885>,\n",
       "  'CRbez': <Quantity 0.31635738>,\n",
       "  'CRbbin': <Quantity 0. electron / s>,\n",
       "  'CRbth': <Quantity 1.81083333e-29 electron / s>,\n",
       "  'CRb': <Quantity 0.34773914 electron / s>,\n",
       "  'CRbd': <Quantity 0.00108264 electron / s>,\n",
       "  'CRnf': <Quantity 6.00891937e-06 electron / s>,\n",
       "  'sciencetime': <Quantity 0.>,\n",
       "  'exptime': <Quantity 0. s>}}"
      ]
     },
     "execution_count": 5,
     "metadata": {},
     "output_type": "execute_result"
    }
   ],
   "source": [
    "validation_output"
   ]
  },
  {
   "cell_type": "markdown",
   "metadata": {},
   "source": [
    "### 4. Simultaneous Observations (primary Exposure Time informs secondary SNR)\n",
    "\n",
    "This is useful to simulate simultaneous observations. For example, we assume the primary (detection) bandpass to be 0.5 micron with 20% bandwidth. What is the SNR of a secondary bandpass at 1 micron with 20% bandpass?"
   ]
  },
  {
   "cell_type": "code",
   "execution_count": 6,
   "metadata": {},
   "outputs": [
    {
     "name": "stdout",
     "output_type": "stream",
     "text": [
      "Calculating texp from primary lambda\n",
      "Observatory Configuration:\n",
      "  Using preset: EAC1\n",
      "\n"
     ]
    },
    {
     "name": "stderr",
     "output_type": "stream",
     "text": [
      "\u001b[38;5;229m\u001b[48;5;16m[yippy]\u001b[0m \u001b[32mINFO [2025-04-22 15:56:44,215] \u001b[0mCreating usort_offaxis_ovc coronagraph\n",
      "\u001b[38;5;229m\u001b[48;5;16m[yippy]\u001b[0m \u001b[33mWARNING [2025-04-22 15:56:44,216] \u001b[0mUnhandled header fields: {'D_INSC'}\n",
      "\u001b[38;5;229m\u001b[48;5;16m[yippy]\u001b[0m \u001b[33mWARNING [2025-04-22 15:56:44,217] \u001b[0mUsing default unit for D: m. Could not extract unit from comment: \"circumscribed diameter of the telescope in mete\"\n",
      "\u001b[38;5;229m\u001b[48;5;16m[yippy]\u001b[0m \u001b[32mINFO [2025-04-22 15:56:44,252] \u001b[0musort_offaxis_ovc is radially symmetric\n",
      "\u001b[38;5;229m\u001b[48;5;16m[yippy]\u001b[0m \u001b[32mINFO [2025-04-22 15:56:44,267] \u001b[0mCreated usort_offaxis_ovc\n"
     ]
    },
    {
     "name": "stdout",
     "output_type": "stream",
     "text": [
      "Using psf_trunc_ratio to calculate Omega...\n",
      "Setting the noise floor via user-supplied noisefloor_PPF...\n",
      "Azimuthally averaging contrast maps and noise floor...\n",
      "Calculating optics throughput from preset...\n",
      "Calculating epswarmTrcold as 1 - optics throughput...\n",
      "Reference exposure time:  [14.79874919] h\n",
      "Calculating snr on secondary lambda\n",
      "Observatory Configuration:\n",
      "  Using preset: EAC1\n",
      "\n"
     ]
    },
    {
     "name": "stderr",
     "output_type": "stream",
     "text": [
      "\u001b[38;5;229m\u001b[48;5;16m[yippy]\u001b[0m \u001b[32mINFO [2025-04-22 15:56:49,150] \u001b[0mCreating usort_offaxis_ovc coronagraph\n",
      "\u001b[38;5;229m\u001b[48;5;16m[yippy]\u001b[0m \u001b[33mWARNING [2025-04-22 15:56:49,151] \u001b[0mUnhandled header fields: {'D_INSC'}\n",
      "\u001b[38;5;229m\u001b[48;5;16m[yippy]\u001b[0m \u001b[33mWARNING [2025-04-22 15:56:49,152] \u001b[0mUsing default unit for D: m. Could not extract unit from comment: \"circumscribed diameter of the telescope in mete\"\n",
      "\u001b[38;5;229m\u001b[48;5;16m[yippy]\u001b[0m \u001b[32mINFO [2025-04-22 15:56:49,193] \u001b[0musort_offaxis_ovc is radially symmetric\n",
      "\u001b[38;5;229m\u001b[48;5;16m[yippy]\u001b[0m \u001b[32mINFO [2025-04-22 15:56:49,213] \u001b[0mCreated usort_offaxis_ovc\n"
     ]
    },
    {
     "name": "stdout",
     "output_type": "stream",
     "text": [
      "Using psf_trunc_ratio to calculate Omega...\n",
      "Setting the noise floor via user-supplied noisefloor_PPF...\n",
      "Azimuthally averaging contrast maps and noise floor...\n",
      "Calculating optics throughput from preset...\n",
      "Calculating epswarmTrcold as 1 - optics throughput...\n",
      "SNR at the secondary lambda:  [2.78074317]\n"
     ]
    }
   ],
   "source": [
    "# Let's note down the values that change compared to imaging_params\n",
    "secondary_imaging_params = {\n",
    "    'wavelength': 1,  # Wavelength in microns\n",
    "    'mag': 4.742178,  # Stellar magnitude in observation band\n",
    "    }\n",
    "\n",
    "# Fill the missing values\n",
    "for key in imaging_params:\n",
    "        if key not in secondary_imaging_params:\n",
    "            secondary_imaging_params[key] = imaging_params[key]\n",
    "\n",
    "print(\"Calculating texp from primary lambda\")\n",
    "parsed_parameters= parse_input.parse_parameters(imaging_params)\n",
    "texp, _ = calculate_texp(parsed_parameters, verbose=False)\n",
    "print(\"Reference exposure time: \", texp.to(u.hr))\n",
    "if np.isfinite(texp).all():\n",
    "    print(\"Calculating snr on secondary lambda\")\n",
    "    parsed_secondary_parameters= parse_input.parse_parameters(secondary_imaging_params)\n",
    "\n",
    "    snr, _ = calculate_snr(parsed_secondary_parameters, texp, verbose=True)\n",
    "    print(\"SNR at the secondary lambda: \", snr)\n",
    "else:\n",
    "    raise ValueError(\"Returned exposure time is infinity.\")"
   ]
  },
  {
   "cell_type": "markdown",
   "metadata": {},
   "source": [
    "### 5. Exploring The Parameter Space\n"
   ]
  },
  {
   "cell_type": "markdown",
   "metadata": {},
   "source": [
    "#### 5.1. Planet-to-star contrast\n",
    "Let's explore how the exposure time changes with planet-to-star contrast:\n",
    "\n"
   ]
  },
  {
   "cell_type": "code",
   "execution_count": 7,
   "metadata": {},
   "outputs": [
    {
     "name": "stdout",
     "output_type": "stream",
     "text": [
      "Observatory Configuration:\n",
      "  Using preset: EAC1\n",
      "\n"
     ]
    },
    {
     "name": "stderr",
     "output_type": "stream",
     "text": [
      "\u001b[38;5;229m\u001b[48;5;16m[yippy]\u001b[0m \u001b[32mINFO [2025-04-22 15:56:54,418] \u001b[0mCreating usort_offaxis_ovc coronagraph\n",
      "\u001b[38;5;229m\u001b[48;5;16m[yippy]\u001b[0m \u001b[33mWARNING [2025-04-22 15:56:54,419] \u001b[0mUnhandled header fields: {'D_INSC'}\n",
      "\u001b[38;5;229m\u001b[48;5;16m[yippy]\u001b[0m \u001b[33mWARNING [2025-04-22 15:56:54,419] \u001b[0mUsing default unit for D: m. Could not extract unit from comment: \"circumscribed diameter of the telescope in mete\"\n",
      "\u001b[38;5;229m\u001b[48;5;16m[yippy]\u001b[0m \u001b[32mINFO [2025-04-22 15:56:54,454] \u001b[0musort_offaxis_ovc is radially symmetric\n",
      "\u001b[38;5;229m\u001b[48;5;16m[yippy]\u001b[0m \u001b[32mINFO [2025-04-22 15:56:54,469] \u001b[0mCreated usort_offaxis_ovc\n"
     ]
    },
    {
     "name": "stdout",
     "output_type": "stream",
     "text": [
      "Using psf_trunc_ratio to calculate Omega...\n",
      "Setting the noise floor via user-supplied noisefloor_PPF...\n",
      "Azimuthally averaging contrast maps and noise floor...\n",
      "Calculating optics throughput from preset...\n",
      "Calculating epswarmTrcold as 1 - optics throughput...\n",
      "Observatory Configuration:\n",
      "  Using preset: EAC1\n",
      "\n"
     ]
    },
    {
     "name": "stderr",
     "output_type": "stream",
     "text": [
      "\u001b[38;5;229m\u001b[48;5;16m[yippy]\u001b[0m \u001b[32mINFO [2025-04-22 15:56:59,653] \u001b[0mCreating usort_offaxis_ovc coronagraph\n",
      "\u001b[38;5;229m\u001b[48;5;16m[yippy]\u001b[0m \u001b[33mWARNING [2025-04-22 15:56:59,654] \u001b[0mUnhandled header fields: {'D_INSC'}\n",
      "\u001b[38;5;229m\u001b[48;5;16m[yippy]\u001b[0m \u001b[33mWARNING [2025-04-22 15:56:59,655] \u001b[0mUsing default unit for D: m. Could not extract unit from comment: \"circumscribed diameter of the telescope in mete\"\n",
      "\u001b[38;5;229m\u001b[48;5;16m[yippy]\u001b[0m \u001b[32mINFO [2025-04-22 15:56:59,693] \u001b[0musort_offaxis_ovc is radially symmetric\n",
      "\u001b[38;5;229m\u001b[48;5;16m[yippy]\u001b[0m \u001b[32mINFO [2025-04-22 15:56:59,710] \u001b[0mCreated usort_offaxis_ovc\n"
     ]
    },
    {
     "name": "stdout",
     "output_type": "stream",
     "text": [
      "Using psf_trunc_ratio to calculate Omega...\n",
      "Setting the noise floor via user-supplied noisefloor_PPF...\n",
      "Azimuthally averaging contrast maps and noise floor...\n",
      "Calculating optics throughput from preset...\n",
      "Calculating epswarmTrcold as 1 - optics throughput...\n",
      "Observatory Configuration:\n",
      "  Using preset: EAC1\n",
      "\n"
     ]
    },
    {
     "name": "stderr",
     "output_type": "stream",
     "text": [
      "\u001b[38;5;229m\u001b[48;5;16m[yippy]\u001b[0m \u001b[32mINFO [2025-04-22 15:57:04,468] \u001b[0mCreating usort_offaxis_ovc coronagraph\n",
      "\u001b[38;5;229m\u001b[48;5;16m[yippy]\u001b[0m \u001b[33mWARNING [2025-04-22 15:57:04,469] \u001b[0mUnhandled header fields: {'D_INSC'}\n",
      "\u001b[38;5;229m\u001b[48;5;16m[yippy]\u001b[0m \u001b[33mWARNING [2025-04-22 15:57:04,470] \u001b[0mUsing default unit for D: m. Could not extract unit from comment: \"circumscribed diameter of the telescope in mete\"\n",
      "\u001b[38;5;229m\u001b[48;5;16m[yippy]\u001b[0m \u001b[32mINFO [2025-04-22 15:57:04,502] \u001b[0musort_offaxis_ovc is radially symmetric\n",
      "\u001b[38;5;229m\u001b[48;5;16m[yippy]\u001b[0m \u001b[32mINFO [2025-04-22 15:57:04,518] \u001b[0mCreated usort_offaxis_ovc\n"
     ]
    },
    {
     "name": "stdout",
     "output_type": "stream",
     "text": [
      "Using psf_trunc_ratio to calculate Omega...\n",
      "Setting the noise floor via user-supplied noisefloor_PPF...\n",
      "Azimuthally averaging contrast maps and noise floor...\n",
      "Calculating optics throughput from preset...\n",
      "Calculating epswarmTrcold as 1 - optics throughput...\n",
      "Observatory Configuration:\n",
      "  Using preset: EAC1\n",
      "\n"
     ]
    },
    {
     "name": "stderr",
     "output_type": "stream",
     "text": [
      "\u001b[38;5;229m\u001b[48;5;16m[yippy]\u001b[0m \u001b[32mINFO [2025-04-22 15:57:09,777] \u001b[0mCreating usort_offaxis_ovc coronagraph\n",
      "\u001b[38;5;229m\u001b[48;5;16m[yippy]\u001b[0m \u001b[33mWARNING [2025-04-22 15:57:09,779] \u001b[0mUnhandled header fields: {'D_INSC'}\n",
      "\u001b[38;5;229m\u001b[48;5;16m[yippy]\u001b[0m \u001b[33mWARNING [2025-04-22 15:57:09,779] \u001b[0mUsing default unit for D: m. Could not extract unit from comment: \"circumscribed diameter of the telescope in mete\"\n",
      "\u001b[38;5;229m\u001b[48;5;16m[yippy]\u001b[0m \u001b[32mINFO [2025-04-22 15:57:09,812] \u001b[0musort_offaxis_ovc is radially symmetric\n",
      "\u001b[38;5;229m\u001b[48;5;16m[yippy]\u001b[0m \u001b[32mINFO [2025-04-22 15:57:09,831] \u001b[0mCreated usort_offaxis_ovc\n"
     ]
    },
    {
     "name": "stdout",
     "output_type": "stream",
     "text": [
      "Using psf_trunc_ratio to calculate Omega...\n",
      "Setting the noise floor via user-supplied noisefloor_PPF...\n",
      "Azimuthally averaging contrast maps and noise floor...\n",
      "Calculating optics throughput from preset...\n",
      "Calculating epswarmTrcold as 1 - optics throughput...\n",
      "Observatory Configuration:\n",
      "  Using preset: EAC1\n",
      "\n"
     ]
    },
    {
     "name": "stderr",
     "output_type": "stream",
     "text": [
      "\u001b[38;5;229m\u001b[48;5;16m[yippy]\u001b[0m \u001b[32mINFO [2025-04-22 15:57:14,606] \u001b[0mCreating usort_offaxis_ovc coronagraph\n",
      "\u001b[38;5;229m\u001b[48;5;16m[yippy]\u001b[0m \u001b[33mWARNING [2025-04-22 15:57:14,607] \u001b[0mUnhandled header fields: {'D_INSC'}\n",
      "\u001b[38;5;229m\u001b[48;5;16m[yippy]\u001b[0m \u001b[33mWARNING [2025-04-22 15:57:14,607] \u001b[0mUsing default unit for D: m. Could not extract unit from comment: \"circumscribed diameter of the telescope in mete\"\n",
      "\u001b[38;5;229m\u001b[48;5;16m[yippy]\u001b[0m \u001b[32mINFO [2025-04-22 15:57:14,649] \u001b[0musort_offaxis_ovc is radially symmetric\n",
      "\u001b[38;5;229m\u001b[48;5;16m[yippy]\u001b[0m \u001b[32mINFO [2025-04-22 15:57:14,664] \u001b[0mCreated usort_offaxis_ovc\n"
     ]
    },
    {
     "name": "stdout",
     "output_type": "stream",
     "text": [
      "Using psf_trunc_ratio to calculate Omega...\n",
      "Setting the noise floor via user-supplied noisefloor_PPF...\n",
      "Azimuthally averaging contrast maps and noise floor...\n",
      "Calculating optics throughput from preset...\n",
      "Calculating epswarmTrcold as 1 - optics throughput...\n",
      "Observatory Configuration:\n",
      "  Using preset: EAC1\n",
      "\n"
     ]
    },
    {
     "name": "stderr",
     "output_type": "stream",
     "text": [
      "\u001b[38;5;229m\u001b[48;5;16m[yippy]\u001b[0m \u001b[32mINFO [2025-04-22 15:57:19,667] \u001b[0mCreating usort_offaxis_ovc coronagraph\n",
      "\u001b[38;5;229m\u001b[48;5;16m[yippy]\u001b[0m \u001b[33mWARNING [2025-04-22 15:57:19,669] \u001b[0mUnhandled header fields: {'D_INSC'}\n",
      "\u001b[38;5;229m\u001b[48;5;16m[yippy]\u001b[0m \u001b[33mWARNING [2025-04-22 15:57:19,669] \u001b[0mUsing default unit for D: m. Could not extract unit from comment: \"circumscribed diameter of the telescope in mete\"\n",
      "\u001b[38;5;229m\u001b[48;5;16m[yippy]\u001b[0m \u001b[32mINFO [2025-04-22 15:57:19,699] \u001b[0musort_offaxis_ovc is radially symmetric\n",
      "\u001b[38;5;229m\u001b[48;5;16m[yippy]\u001b[0m \u001b[32mINFO [2025-04-22 15:57:19,718] \u001b[0mCreated usort_offaxis_ovc\n"
     ]
    },
    {
     "name": "stdout",
     "output_type": "stream",
     "text": [
      "Using psf_trunc_ratio to calculate Omega...\n",
      "Setting the noise floor via user-supplied noisefloor_PPF...\n",
      "Azimuthally averaging contrast maps and noise floor...\n",
      "Calculating optics throughput from preset...\n",
      "Calculating epswarmTrcold as 1 - optics throughput...\n",
      "Observatory Configuration:\n",
      "  Using preset: EAC1\n",
      "\n"
     ]
    },
    {
     "name": "stderr",
     "output_type": "stream",
     "text": [
      "\u001b[38;5;229m\u001b[48;5;16m[yippy]\u001b[0m \u001b[32mINFO [2025-04-22 15:57:24,734] \u001b[0mCreating usort_offaxis_ovc coronagraph\n",
      "\u001b[38;5;229m\u001b[48;5;16m[yippy]\u001b[0m \u001b[33mWARNING [2025-04-22 15:57:24,736] \u001b[0mUnhandled header fields: {'D_INSC'}\n",
      "\u001b[38;5;229m\u001b[48;5;16m[yippy]\u001b[0m \u001b[33mWARNING [2025-04-22 15:57:24,736] \u001b[0mUsing default unit for D: m. Could not extract unit from comment: \"circumscribed diameter of the telescope in mete\"\n",
      "\u001b[38;5;229m\u001b[48;5;16m[yippy]\u001b[0m \u001b[32mINFO [2025-04-22 15:57:24,770] \u001b[0musort_offaxis_ovc is radially symmetric\n",
      "\u001b[38;5;229m\u001b[48;5;16m[yippy]\u001b[0m \u001b[32mINFO [2025-04-22 15:57:24,786] \u001b[0mCreated usort_offaxis_ovc\n"
     ]
    },
    {
     "name": "stdout",
     "output_type": "stream",
     "text": [
      "Using psf_trunc_ratio to calculate Omega...\n",
      "Setting the noise floor via user-supplied noisefloor_PPF...\n",
      "Azimuthally averaging contrast maps and noise floor...\n",
      "Calculating optics throughput from preset...\n",
      "Calculating epswarmTrcold as 1 - optics throughput...\n",
      "Observatory Configuration:\n",
      "  Using preset: EAC1\n",
      "\n"
     ]
    },
    {
     "name": "stderr",
     "output_type": "stream",
     "text": [
      "\u001b[38;5;229m\u001b[48;5;16m[yippy]\u001b[0m \u001b[32mINFO [2025-04-22 15:57:29,656] \u001b[0mCreating usort_offaxis_ovc coronagraph\n",
      "\u001b[38;5;229m\u001b[48;5;16m[yippy]\u001b[0m \u001b[33mWARNING [2025-04-22 15:57:29,657] \u001b[0mUnhandled header fields: {'D_INSC'}\n",
      "\u001b[38;5;229m\u001b[48;5;16m[yippy]\u001b[0m \u001b[33mWARNING [2025-04-22 15:57:29,658] \u001b[0mUsing default unit for D: m. Could not extract unit from comment: \"circumscribed diameter of the telescope in mete\"\n",
      "\u001b[38;5;229m\u001b[48;5;16m[yippy]\u001b[0m \u001b[32mINFO [2025-04-22 15:57:29,703] \u001b[0musort_offaxis_ovc is radially symmetric\n",
      "\u001b[38;5;229m\u001b[48;5;16m[yippy]\u001b[0m \u001b[32mINFO [2025-04-22 15:57:29,725] \u001b[0mCreated usort_offaxis_ovc\n"
     ]
    },
    {
     "name": "stdout",
     "output_type": "stream",
     "text": [
      "Using psf_trunc_ratio to calculate Omega...\n",
      "Setting the noise floor via user-supplied noisefloor_PPF...\n",
      "Azimuthally averaging contrast maps and noise floor...\n",
      "Calculating optics throughput from preset...\n",
      "Calculating epswarmTrcold as 1 - optics throughput...\n",
      "Observatory Configuration:\n",
      "  Using preset: EAC1\n",
      "\n"
     ]
    },
    {
     "name": "stderr",
     "output_type": "stream",
     "text": [
      "\u001b[38;5;229m\u001b[48;5;16m[yippy]\u001b[0m \u001b[32mINFO [2025-04-22 15:57:34,971] \u001b[0mCreating usort_offaxis_ovc coronagraph\n",
      "\u001b[38;5;229m\u001b[48;5;16m[yippy]\u001b[0m \u001b[33mWARNING [2025-04-22 15:57:34,973] \u001b[0mUnhandled header fields: {'D_INSC'}\n",
      "\u001b[38;5;229m\u001b[48;5;16m[yippy]\u001b[0m \u001b[33mWARNING [2025-04-22 15:57:34,973] \u001b[0mUsing default unit for D: m. Could not extract unit from comment: \"circumscribed diameter of the telescope in mete\"\n",
      "\u001b[38;5;229m\u001b[48;5;16m[yippy]\u001b[0m \u001b[32mINFO [2025-04-22 15:57:35,016] \u001b[0musort_offaxis_ovc is radially symmetric\n",
      "\u001b[38;5;229m\u001b[48;5;16m[yippy]\u001b[0m \u001b[32mINFO [2025-04-22 15:57:35,033] \u001b[0mCreated usort_offaxis_ovc\n"
     ]
    },
    {
     "name": "stdout",
     "output_type": "stream",
     "text": [
      "Using psf_trunc_ratio to calculate Omega...\n",
      "Setting the noise floor via user-supplied noisefloor_PPF...\n",
      "Azimuthally averaging contrast maps and noise floor...\n",
      "Calculating optics throughput from preset...\n",
      "Calculating epswarmTrcold as 1 - optics throughput...\n",
      "Observatory Configuration:\n",
      "  Using preset: EAC1\n",
      "\n"
     ]
    },
    {
     "name": "stderr",
     "output_type": "stream",
     "text": [
      "\u001b[38;5;229m\u001b[48;5;16m[yippy]\u001b[0m \u001b[32mINFO [2025-04-22 15:57:39,785] \u001b[0mCreating usort_offaxis_ovc coronagraph\n",
      "\u001b[38;5;229m\u001b[48;5;16m[yippy]\u001b[0m \u001b[33mWARNING [2025-04-22 15:57:39,787] \u001b[0mUnhandled header fields: {'D_INSC'}\n",
      "\u001b[38;5;229m\u001b[48;5;16m[yippy]\u001b[0m \u001b[33mWARNING [2025-04-22 15:57:39,787] \u001b[0mUsing default unit for D: m. Could not extract unit from comment: \"circumscribed diameter of the telescope in mete\"\n",
      "\u001b[38;5;229m\u001b[48;5;16m[yippy]\u001b[0m \u001b[32mINFO [2025-04-22 15:57:39,845] \u001b[0musort_offaxis_ovc is radially symmetric\n",
      "\u001b[38;5;229m\u001b[48;5;16m[yippy]\u001b[0m \u001b[32mINFO [2025-04-22 15:57:39,870] \u001b[0mCreated usort_offaxis_ovc\n"
     ]
    },
    {
     "name": "stdout",
     "output_type": "stream",
     "text": [
      "Using psf_trunc_ratio to calculate Omega...\n",
      "Setting the noise floor via user-supplied noisefloor_PPF...\n",
      "Azimuthally averaging contrast maps and noise floor...\n",
      "Calculating optics throughput from preset...\n",
      "Calculating epswarmTrcold as 1 - optics throughput...\n"
     ]
    },
    {
     "data": {
      "image/png": "[encoded data removed]",
      "text/plain": [
       "<Figure size 1000x600 with 2 Axes>"
      ]
     },
     "metadata": {},
     "output_type": "display_data"
    }
   ],
   "source": [
    "contrasts = np.logspace(-9, -11, 10)\n",
    "magnitudes = -2.5 * np.log10(contrasts)\n",
    "exposure_times = []\n",
    "\n",
    "\n",
    "for magnitude in magnitudes:\n",
    "    params = imaging_params.copy()\n",
    "    params['delta_mag'] = magnitude\n",
    "    # make the parameters be the shape that the code desires \n",
    "    parsed_parameters= parse_input.parse_parameters(params)\n",
    "    texp, validation_output = calculate_texp(parsed_parameters, verbose=False)\n",
    "\n",
    "\n",
    "    exposure_times.append(texp.to(u.hr).value)\n",
    "\n",
    "\n",
    "# MAKE PLOT\n",
    "fig, ax1 = plt.subplots(figsize=(10, 6))\n",
    "# Primary x-axis (contrast)\n",
    "ax1.semilogx(contrasts, exposure_times,marker='o')\n",
    "ax1.set_xlim([1e-9,1e-11])\n",
    "ax1.set_xlabel('Planet-to-star contrast')\n",
    "ax1.set_ylabel('Exposure time (hours)')\n",
    "ax1.grid(True)\n",
    "\n",
    "# Secondary x-axis (magnitude)\n",
    "ax2 = ax1.twiny()\n",
    "ax2.set_xscale('linear')\n",
    "ax2.set_xlim(ax1.get_xlim())\n",
    "\n",
    "# Reduce ticks on secondary axis\n",
    "num_ticks = 3 \n",
    "tick_indices = np.linspace(0, len(contrasts) - 1, num_ticks, dtype=int)\n",
    "reduced_contrasts = [contrasts[i] for i in tick_indices]\n",
    "reduced_magnitudes = [magnitudes[i] for i in tick_indices]\n",
    "ax2.set_xticks(reduced_contrasts)\n",
    "ax2.set_xticklabels([f'{m:.1f}' for m in reduced_magnitudes])\n",
    "ax2.set_xlabel('Magnitude difference (Δmag)')\n",
    "\n",
    "plt.title('Exposure Time vs Planet-to-Star Contrast')\n",
    "plt.tight_layout()\n",
    "plt.show()\n",
    "\n"
   ]
  },
  {
   "cell_type": "markdown",
   "metadata": {},
   "source": [
    "#### 5.2 Separation\n",
    "\n",
    "Now let's change the separation of the planet and see how the exposure time changes."
   ]
  },
  {
   "cell_type": "code",
   "execution_count": 8,
   "metadata": {},
   "outputs": [
    {
     "name": "stdout",
     "output_type": "stream",
     "text": [
      "Observatory Configuration:\n",
      "  Using preset: EAC1\n",
      "\n"
     ]
    },
    {
     "name": "stderr",
     "output_type": "stream",
     "text": [
      "\u001b[38;5;229m\u001b[48;5;16m[yippy]\u001b[0m \u001b[32mINFO [2025-04-22 15:57:45,151] \u001b[0mCreating usort_offaxis_ovc coronagraph\n",
      "\u001b[38;5;229m\u001b[48;5;16m[yippy]\u001b[0m \u001b[33mWARNING [2025-04-22 15:57:45,152] \u001b[0mUnhandled header fields: {'D_INSC'}\n",
      "\u001b[38;5;229m\u001b[48;5;16m[yippy]\u001b[0m \u001b[33mWARNING [2025-04-22 15:57:45,153] \u001b[0mUsing default unit for D: m. Could not extract unit from comment: \"circumscribed diameter of the telescope in mete\"\n",
      "\u001b[38;5;229m\u001b[48;5;16m[yippy]\u001b[0m \u001b[32mINFO [2025-04-22 15:57:45,199] \u001b[0musort_offaxis_ovc is radially symmetric\n",
      "\u001b[38;5;229m\u001b[48;5;16m[yippy]\u001b[0m \u001b[32mINFO [2025-04-22 15:57:45,219] \u001b[0mCreated usort_offaxis_ovc\n"
     ]
    },
    {
     "name": "stdout",
     "output_type": "stream",
     "text": [
      "Using psf_trunc_ratio to calculate Omega...\n",
      "Setting the noise floor via user-supplied noisefloor_PPF...\n",
      "Azimuthally averaging contrast maps and noise floor...\n",
      "Calculating optics throughput from preset...\n",
      "Calculating epswarmTrcold as 1 - optics throughput...\n",
      "WARNING: Planet outside OWA or inside IWA. Hardcoded infinity results.\n",
      "Observatory Configuration:\n",
      "  Using preset: EAC1\n",
      "\n"
     ]
    },
    {
     "name": "stderr",
     "output_type": "stream",
     "text": [
      "\u001b[38;5;229m\u001b[48;5;16m[yippy]\u001b[0m \u001b[32mINFO [2025-04-22 15:57:50,205] \u001b[0mCreating usort_offaxis_ovc coronagraph\n",
      "\u001b[38;5;229m\u001b[48;5;16m[yippy]\u001b[0m \u001b[33mWARNING [2025-04-22 15:57:50,207] \u001b[0mUnhandled header fields: {'D_INSC'}\n",
      "\u001b[38;5;229m\u001b[48;5;16m[yippy]\u001b[0m \u001b[33mWARNING [2025-04-22 15:57:50,207] \u001b[0mUsing default unit for D: m. Could not extract unit from comment: \"circumscribed diameter of the telescope in mete\"\n",
      "\u001b[38;5;229m\u001b[48;5;16m[yippy]\u001b[0m \u001b[32mINFO [2025-04-22 15:57:50,239] \u001b[0musort_offaxis_ovc is radially symmetric\n",
      "\u001b[38;5;229m\u001b[48;5;16m[yippy]\u001b[0m \u001b[32mINFO [2025-04-22 15:57:50,256] \u001b[0mCreated usort_offaxis_ovc\n"
     ]
    },
    {
     "name": "stdout",
     "output_type": "stream",
     "text": [
      "Using psf_trunc_ratio to calculate Omega...\n",
      "Setting the noise floor via user-supplied noisefloor_PPF...\n",
      "Azimuthally averaging contrast maps and noise floor...\n",
      "Calculating optics throughput from preset...\n",
      "Calculating epswarmTrcold as 1 - optics throughput...\n",
      "Observatory Configuration:\n",
      "  Using preset: EAC1\n",
      "\n"
     ]
    },
    {
     "name": "stderr",
     "output_type": "stream",
     "text": [
      "\u001b[38;5;229m\u001b[48;5;16m[yippy]\u001b[0m \u001b[32mINFO [2025-04-22 15:57:55,011] \u001b[0mCreating usort_offaxis_ovc coronagraph\n",
      "\u001b[38;5;229m\u001b[48;5;16m[yippy]\u001b[0m \u001b[33mWARNING [2025-04-22 15:57:55,012] \u001b[0mUnhandled header fields: {'D_INSC'}\n",
      "\u001b[38;5;229m\u001b[48;5;16m[yippy]\u001b[0m \u001b[33mWARNING [2025-04-22 15:57:55,013] \u001b[0mUsing default unit for D: m. Could not extract unit from comment: \"circumscribed diameter of the telescope in mete\"\n",
      "\u001b[38;5;229m\u001b[48;5;16m[yippy]\u001b[0m \u001b[32mINFO [2025-04-22 15:57:55,061] \u001b[0musort_offaxis_ovc is radially symmetric\n",
      "\u001b[38;5;229m\u001b[48;5;16m[yippy]\u001b[0m \u001b[32mINFO [2025-04-22 15:57:55,076] \u001b[0mCreated usort_offaxis_ovc\n"
     ]
    },
    {
     "name": "stdout",
     "output_type": "stream",
     "text": [
      "Using psf_trunc_ratio to calculate Omega...\n",
      "Setting the noise floor via user-supplied noisefloor_PPF...\n",
      "Azimuthally averaging contrast maps and noise floor...\n",
      "Calculating optics throughput from preset...\n",
      "Calculating epswarmTrcold as 1 - optics throughput...\n",
      "Observatory Configuration:\n",
      "  Using preset: EAC1\n",
      "\n"
     ]
    },
    {
     "name": "stderr",
     "output_type": "stream",
     "text": [
      "\u001b[38;5;229m\u001b[48;5;16m[yippy]\u001b[0m \u001b[32mINFO [2025-04-22 15:57:59,819] \u001b[0mCreating usort_offaxis_ovc coronagraph\n",
      "\u001b[38;5;229m\u001b[48;5;16m[yippy]\u001b[0m \u001b[33mWARNING [2025-04-22 15:57:59,820] \u001b[0mUnhandled header fields: {'D_INSC'}\n",
      "\u001b[38;5;229m\u001b[48;5;16m[yippy]\u001b[0m \u001b[33mWARNING [2025-04-22 15:57:59,820] \u001b[0mUsing default unit for D: m. Could not extract unit from comment: \"circumscribed diameter of the telescope in mete\"\n",
      "\u001b[38;5;229m\u001b[48;5;16m[yippy]\u001b[0m \u001b[32mINFO [2025-04-22 15:57:59,859] \u001b[0musort_offaxis_ovc is radially symmetric\n",
      "\u001b[38;5;229m\u001b[48;5;16m[yippy]\u001b[0m \u001b[32mINFO [2025-04-22 15:57:59,881] \u001b[0mCreated usort_offaxis_ovc\n"
     ]
    },
    {
     "name": "stdout",
     "output_type": "stream",
     "text": [
      "Using psf_trunc_ratio to calculate Omega...\n",
      "Setting the noise floor via user-supplied noisefloor_PPF...\n",
      "Azimuthally averaging contrast maps and noise floor...\n",
      "Calculating optics throughput from preset...\n",
      "Calculating epswarmTrcold as 1 - optics throughput...\n",
      "Observatory Configuration:\n",
      "  Using preset: EAC1\n",
      "\n"
     ]
    },
    {
     "name": "stderr",
     "output_type": "stream",
     "text": [
      "\u001b[38;5;229m\u001b[48;5;16m[yippy]\u001b[0m \u001b[32mINFO [2025-04-22 15:58:04,627] \u001b[0mCreating usort_offaxis_ovc coronagraph\n",
      "\u001b[38;5;229m\u001b[48;5;16m[yippy]\u001b[0m \u001b[33mWARNING [2025-04-22 15:58:04,629] \u001b[0mUnhandled header fields: {'D_INSC'}\n",
      "\u001b[38;5;229m\u001b[48;5;16m[yippy]\u001b[0m \u001b[33mWARNING [2025-04-22 15:58:04,630] \u001b[0mUsing default unit for D: m. Could not extract unit from comment: \"circumscribed diameter of the telescope in mete\"\n",
      "\u001b[38;5;229m\u001b[48;5;16m[yippy]\u001b[0m \u001b[32mINFO [2025-04-22 15:58:04,681] \u001b[0musort_offaxis_ovc is radially symmetric\n",
      "\u001b[38;5;229m\u001b[48;5;16m[yippy]\u001b[0m \u001b[32mINFO [2025-04-22 15:58:04,703] \u001b[0mCreated usort_offaxis_ovc\n"
     ]
    },
    {
     "name": "stdout",
     "output_type": "stream",
     "text": [
      "Using psf_trunc_ratio to calculate Omega...\n",
      "Setting the noise floor via user-supplied noisefloor_PPF...\n",
      "Azimuthally averaging contrast maps and noise floor...\n",
      "Calculating optics throughput from preset...\n",
      "Calculating epswarmTrcold as 1 - optics throughput...\n",
      "Observatory Configuration:\n",
      "  Using preset: EAC1\n",
      "\n"
     ]
    },
    {
     "name": "stderr",
     "output_type": "stream",
     "text": [
      "\u001b[38;5;229m\u001b[48;5;16m[yippy]\u001b[0m \u001b[32mINFO [2025-04-22 15:58:09,457] \u001b[0mCreating usort_offaxis_ovc coronagraph\n",
      "\u001b[38;5;229m\u001b[48;5;16m[yippy]\u001b[0m \u001b[33mWARNING [2025-04-22 15:58:09,458] \u001b[0mUnhandled header fields: {'D_INSC'}\n",
      "\u001b[38;5;229m\u001b[48;5;16m[yippy]\u001b[0m \u001b[33mWARNING [2025-04-22 15:58:09,458] \u001b[0mUsing default unit for D: m. Could not extract unit from comment: \"circumscribed diameter of the telescope in mete\"\n",
      "\u001b[38;5;229m\u001b[48;5;16m[yippy]\u001b[0m \u001b[32mINFO [2025-04-22 15:58:09,505] \u001b[0musort_offaxis_ovc is radially symmetric\n",
      "\u001b[38;5;229m\u001b[48;5;16m[yippy]\u001b[0m \u001b[32mINFO [2025-04-22 15:58:09,524] \u001b[0mCreated usort_offaxis_ovc\n"
     ]
    },
    {
     "name": "stdout",
     "output_type": "stream",
     "text": [
      "Using psf_trunc_ratio to calculate Omega...\n",
      "Setting the noise floor via user-supplied noisefloor_PPF...\n",
      "Azimuthally averaging contrast maps and noise floor...\n",
      "Calculating optics throughput from preset...\n",
      "Calculating epswarmTrcold as 1 - optics throughput...\n",
      "Observatory Configuration:\n",
      "  Using preset: EAC1\n",
      "\n"
     ]
    },
    {
     "name": "stderr",
     "output_type": "stream",
     "text": [
      "\u001b[38;5;229m\u001b[48;5;16m[yippy]\u001b[0m \u001b[32mINFO [2025-04-22 15:58:14,269] \u001b[0mCreating usort_offaxis_ovc coronagraph\n",
      "\u001b[38;5;229m\u001b[48;5;16m[yippy]\u001b[0m \u001b[33mWARNING [2025-04-22 15:58:14,271] \u001b[0mUnhandled header fields: {'D_INSC'}\n",
      "\u001b[38;5;229m\u001b[48;5;16m[yippy]\u001b[0m \u001b[33mWARNING [2025-04-22 15:58:14,271] \u001b[0mUsing default unit for D: m. Could not extract unit from comment: \"circumscribed diameter of the telescope in mete\"\n",
      "\u001b[38;5;229m\u001b[48;5;16m[yippy]\u001b[0m \u001b[32mINFO [2025-04-22 15:58:14,304] \u001b[0musort_offaxis_ovc is radially symmetric\n",
      "\u001b[38;5;229m\u001b[48;5;16m[yippy]\u001b[0m \u001b[32mINFO [2025-04-22 15:58:14,319] \u001b[0mCreated usort_offaxis_ovc\n"
     ]
    },
    {
     "name": "stdout",
     "output_type": "stream",
     "text": [
      "Using psf_trunc_ratio to calculate Omega...\n",
      "Setting the noise floor via user-supplied noisefloor_PPF...\n",
      "Azimuthally averaging contrast maps and noise floor...\n",
      "Calculating optics throughput from preset...\n",
      "Calculating epswarmTrcold as 1 - optics throughput...\n",
      "WARNING: Planet outside OWA or inside IWA. Hardcoded infinity results.\n",
      "Observatory Configuration:\n",
      "  Using preset: EAC1\n",
      "\n"
     ]
    },
    {
     "name": "stderr",
     "output_type": "stream",
     "text": [
      "\u001b[38;5;229m\u001b[48;5;16m[yippy]\u001b[0m \u001b[32mINFO [2025-04-22 15:58:19,850] \u001b[0mCreating usort_offaxis_ovc coronagraph\n",
      "\u001b[38;5;229m\u001b[48;5;16m[yippy]\u001b[0m \u001b[33mWARNING [2025-04-22 15:58:19,853] \u001b[0mUnhandled header fields: {'D_INSC'}\n",
      "\u001b[38;5;229m\u001b[48;5;16m[yippy]\u001b[0m \u001b[33mWARNING [2025-04-22 15:58:19,855] \u001b[0mUsing default unit for D: m. Could not extract unit from comment: \"circumscribed diameter of the telescope in mete\"\n",
      "\u001b[38;5;229m\u001b[48;5;16m[yippy]\u001b[0m \u001b[32mINFO [2025-04-22 15:58:19,898] \u001b[0musort_offaxis_ovc is radially symmetric\n",
      "\u001b[38;5;229m\u001b[48;5;16m[yippy]\u001b[0m \u001b[32mINFO [2025-04-22 15:58:19,916] \u001b[0mCreated usort_offaxis_ovc\n"
     ]
    },
    {
     "name": "stdout",
     "output_type": "stream",
     "text": [
      "Using psf_trunc_ratio to calculate Omega...\n",
      "Setting the noise floor via user-supplied noisefloor_PPF...\n",
      "Azimuthally averaging contrast maps and noise floor...\n",
      "Calculating optics throughput from preset...\n",
      "Calculating epswarmTrcold as 1 - optics throughput...\n",
      "WARNING: Planet outside OWA or inside IWA. Hardcoded infinity results.\n",
      "Observatory Configuration:\n",
      "  Using preset: EAC1\n",
      "\n"
     ]
    },
    {
     "name": "stderr",
     "output_type": "stream",
     "text": [
      "\u001b[38;5;229m\u001b[48;5;16m[yippy]\u001b[0m \u001b[32mINFO [2025-04-22 15:58:24,874] \u001b[0mCreating usort_offaxis_ovc coronagraph\n",
      "\u001b[38;5;229m\u001b[48;5;16m[yippy]\u001b[0m \u001b[33mWARNING [2025-04-22 15:58:24,875] \u001b[0mUnhandled header fields: {'D_INSC'}\n",
      "\u001b[38;5;229m\u001b[48;5;16m[yippy]\u001b[0m \u001b[33mWARNING [2025-04-22 15:58:24,876] \u001b[0mUsing default unit for D: m. Could not extract unit from comment: \"circumscribed diameter of the telescope in mete\"\n",
      "\u001b[38;5;229m\u001b[48;5;16m[yippy]\u001b[0m \u001b[32mINFO [2025-04-22 15:58:24,915] \u001b[0musort_offaxis_ovc is radially symmetric\n",
      "\u001b[38;5;229m\u001b[48;5;16m[yippy]\u001b[0m \u001b[32mINFO [2025-04-22 15:58:24,932] \u001b[0mCreated usort_offaxis_ovc\n"
     ]
    },
    {
     "name": "stdout",
     "output_type": "stream",
     "text": [
      "Using psf_trunc_ratio to calculate Omega...\n",
      "Setting the noise floor via user-supplied noisefloor_PPF...\n",
      "Azimuthally averaging contrast maps and noise floor...\n",
      "Calculating optics throughput from preset...\n",
      "Calculating epswarmTrcold as 1 - optics throughput...\n",
      "WARNING: Planet outside OWA or inside IWA. Hardcoded infinity results.\n",
      "Observatory Configuration:\n",
      "  Using preset: EAC1\n",
      "\n"
     ]
    },
    {
     "name": "stderr",
     "output_type": "stream",
     "text": [
      "\u001b[38;5;229m\u001b[48;5;16m[yippy]\u001b[0m \u001b[32mINFO [2025-04-22 15:58:29,783] \u001b[0mCreating usort_offaxis_ovc coronagraph\n",
      "\u001b[38;5;229m\u001b[48;5;16m[yippy]\u001b[0m \u001b[33mWARNING [2025-04-22 15:58:29,785] \u001b[0mUnhandled header fields: {'D_INSC'}\n",
      "\u001b[38;5;229m\u001b[48;5;16m[yippy]\u001b[0m \u001b[33mWARNING [2025-04-22 15:58:29,786] \u001b[0mUsing default unit for D: m. Could not extract unit from comment: \"circumscribed diameter of the telescope in mete\"\n",
      "\u001b[38;5;229m\u001b[48;5;16m[yippy]\u001b[0m \u001b[32mINFO [2025-04-22 15:58:29,818] \u001b[0musort_offaxis_ovc is radially symmetric\n",
      "\u001b[38;5;229m\u001b[48;5;16m[yippy]\u001b[0m \u001b[32mINFO [2025-04-22 15:58:29,834] \u001b[0mCreated usort_offaxis_ovc\n"
     ]
    },
    {
     "name": "stdout",
     "output_type": "stream",
     "text": [
      "Using psf_trunc_ratio to calculate Omega...\n",
      "Setting the noise floor via user-supplied noisefloor_PPF...\n",
      "Azimuthally averaging contrast maps and noise floor...\n",
      "Calculating optics throughput from preset...\n",
      "Calculating epswarmTrcold as 1 - optics throughput...\n",
      "WARNING: Planet outside OWA or inside IWA. Hardcoded infinity results.\n"
     ]
    },
    {
     "name": "stderr",
     "output_type": "stream",
     "text": [
      "/var/folders/10/v9qwyn2d7mx1blfr1v345wz80000gp/T/ipykernel_86166/226037628.py:43: UserWarning: No artists with labels found to put in legend.  Note that artists whose label start with an underscore are ignored when legend() is called with no argument.\n",
      "  plt.legend()\n"
     ]
    },
    {
     "data": {
      "image/png": "[encoded data removed]",
      "text/plain": [
       "<Figure size 1000x600 with 2 Axes>"
      ]
     },
     "metadata": {},
     "output_type": "display_data"
    }
   ],
   "source": [
    "separations = np.linspace(0.005, 0.8, 10)  # arcsec \n",
    "\n",
    "exposure_times = []\n",
    "\n",
    "for sep in separations:\n",
    "    params = imaging_params.copy()\n",
    "    params['separation'] = sep\n",
    "    parsed_parameters= parse_input.parse_parameters(params)\n",
    "    texp, _ = calculate_texp(parsed_parameters, verbose=False)\n",
    "    exposure_times.append(texp.to(u.hr)[0].value)\n",
    "\n",
    "# MAKE PLOT\n",
    "fig, ax1 = plt.subplots(figsize=(10, 6))\n",
    "# Primary x-axis (separation arcsec)\n",
    "ax1.plot(separations, exposure_times, marker='o', label='Valid exposures')\n",
    "ax1.plot(separations[np.isinf(exposure_times)],\n",
    "         np.ones_like(separations)[np.isinf(exposure_times)]*50,\n",
    "         marker='x', linestyle='', color='red', label='Infinite exposures')\n",
    "\n",
    "\n",
    "ax1.set_xlabel('Separation (arcsec)')\n",
    "ax1.set_ylabel('Exposure time (hours)')\n",
    "ax1.grid(True)\n",
    "\n",
    "separations_lod = arcsec_to_lambda_d(separations*ARCSEC,\n",
    "0.5*u.micron.to(LENGTH),\n",
    "8.78*u.m.to(LENGTH),\n",
    ")\n",
    "# # Secondary x-axis (lambda/D)\n",
    "num_ticks = 10\n",
    "tick_indices = np.linspace(0, len(separations) - 1, num_ticks, dtype=int)\n",
    "reduced_separations = [separations[i] for i in tick_indices]\n",
    "reduced_separations_lod = [separations_lod[i] for i in tick_indices]\n",
    "ax2 = ax1.twiny()\n",
    "ax2.set_xticks(reduced_separations)\n",
    "ax2.set_xticklabels([f'{m:.1f}' for m in reduced_separations_lod])\n",
    "\n",
    "\n",
    "ax2.set_xlim(ax1.get_xlim())\n",
    "ax2.set_xlabel('Separation (lambda/D)')\n",
    "\n",
    "plt.title('Exposure Time vs. Separation')\n",
    "plt.legend()\n",
    "plt.tight_layout()\n",
    "plt.show()"
   ]
  },
  {
   "cell_type": "markdown",
   "metadata": {},
   "source": [
    "#### 5.3 Telescope Diameter\n",
    "\n",
    "And finally, we can change the telescope diameter and see the impact on the exposure time."
   ]
  },
  {
   "cell_type": "code",
   "execution_count": 9,
   "metadata": {},
   "outputs": [
    {
     "name": "stdout",
     "output_type": "stream",
     "text": [
      "Observatory Configuration:\n",
      "  Using preset: EAC1\n",
      "\n"
     ]
    },
    {
     "name": "stderr",
     "output_type": "stream",
     "text": [
      "\u001b[38;5;229m\u001b[48;5;16m[yippy]\u001b[0m \u001b[32mINFO [2025-04-22 15:58:35,260] \u001b[0mCreating usort_offaxis_ovc coronagraph\n",
      "\u001b[38;5;229m\u001b[48;5;16m[yippy]\u001b[0m \u001b[33mWARNING [2025-04-22 15:58:35,261] \u001b[0mUnhandled header fields: {'D_INSC'}\n",
      "\u001b[38;5;229m\u001b[48;5;16m[yippy]\u001b[0m \u001b[33mWARNING [2025-04-22 15:58:35,262] \u001b[0mUsing default unit for D: m. Could not extract unit from comment: \"circumscribed diameter of the telescope in mete\"\n",
      "\u001b[38;5;229m\u001b[48;5;16m[yippy]\u001b[0m \u001b[32mINFO [2025-04-22 15:58:35,295] \u001b[0musort_offaxis_ovc is radially symmetric\n",
      "\u001b[38;5;229m\u001b[48;5;16m[yippy]\u001b[0m \u001b[32mINFO [2025-04-22 15:58:35,313] \u001b[0mCreated usort_offaxis_ovc\n"
     ]
    },
    {
     "name": "stdout",
     "output_type": "stream",
     "text": [
      "Using psf_trunc_ratio to calculate Omega...\n",
      "Setting the noise floor via user-supplied noisefloor_PPF...\n",
      "Azimuthally averaging contrast maps and noise floor...\n",
      "Calculating optics throughput from preset...\n",
      "Calculating epswarmTrcold as 1 - optics throughput...\n",
      "Observatory Configuration:\n",
      "  Using preset: EAC1\n",
      "\n"
     ]
    },
    {
     "name": "stderr",
     "output_type": "stream",
     "text": [
      "\u001b[38;5;229m\u001b[48;5;16m[yippy]\u001b[0m \u001b[32mINFO [2025-04-22 15:58:40,399] \u001b[0mCreating usort_offaxis_ovc coronagraph\n",
      "\u001b[38;5;229m\u001b[48;5;16m[yippy]\u001b[0m \u001b[33mWARNING [2025-04-22 15:58:40,401] \u001b[0mUnhandled header fields: {'D_INSC'}\n",
      "\u001b[38;5;229m\u001b[48;5;16m[yippy]\u001b[0m \u001b[33mWARNING [2025-04-22 15:58:40,401] \u001b[0mUsing default unit for D: m. Could not extract unit from comment: \"circumscribed diameter of the telescope in mete\"\n",
      "\u001b[38;5;229m\u001b[48;5;16m[yippy]\u001b[0m \u001b[32mINFO [2025-04-22 15:58:40,438] \u001b[0musort_offaxis_ovc is radially symmetric\n",
      "\u001b[38;5;229m\u001b[48;5;16m[yippy]\u001b[0m \u001b[32mINFO [2025-04-22 15:58:40,456] \u001b[0mCreated usort_offaxis_ovc\n"
     ]
    },
    {
     "name": "stdout",
     "output_type": "stream",
     "text": [
      "Using psf_trunc_ratio to calculate Omega...\n",
      "Setting the noise floor via user-supplied noisefloor_PPF...\n",
      "Azimuthally averaging contrast maps and noise floor...\n",
      "Calculating optics throughput from preset...\n",
      "Calculating epswarmTrcold as 1 - optics throughput...\n",
      "Observatory Configuration:\n",
      "  Using preset: EAC1\n",
      "\n"
     ]
    },
    {
     "name": "stderr",
     "output_type": "stream",
     "text": [
      "\u001b[38;5;229m\u001b[48;5;16m[yippy]\u001b[0m \u001b[32mINFO [2025-04-22 15:58:45,698] \u001b[0mCreating usort_offaxis_ovc coronagraph\n",
      "\u001b[38;5;229m\u001b[48;5;16m[yippy]\u001b[0m \u001b[33mWARNING [2025-04-22 15:58:45,699] \u001b[0mUnhandled header fields: {'D_INSC'}\n",
      "\u001b[38;5;229m\u001b[48;5;16m[yippy]\u001b[0m \u001b[33mWARNING [2025-04-22 15:58:45,700] \u001b[0mUsing default unit for D: m. Could not extract unit from comment: \"circumscribed diameter of the telescope in mete\"\n",
      "\u001b[38;5;229m\u001b[48;5;16m[yippy]\u001b[0m \u001b[32mINFO [2025-04-22 15:58:45,735] \u001b[0musort_offaxis_ovc is radially symmetric\n",
      "\u001b[38;5;229m\u001b[48;5;16m[yippy]\u001b[0m \u001b[32mINFO [2025-04-22 15:58:45,750] \u001b[0mCreated usort_offaxis_ovc\n"
     ]
    },
    {
     "name": "stdout",
     "output_type": "stream",
     "text": [
      "Using psf_trunc_ratio to calculate Omega...\n",
      "Setting the noise floor via user-supplied noisefloor_PPF...\n",
      "Azimuthally averaging contrast maps and noise floor...\n",
      "Calculating optics throughput from preset...\n",
      "Calculating epswarmTrcold as 1 - optics throughput...\n",
      "Observatory Configuration:\n",
      "  Using preset: EAC1\n",
      "\n"
     ]
    },
    {
     "name": "stderr",
     "output_type": "stream",
     "text": [
      "\u001b[38;5;229m\u001b[48;5;16m[yippy]\u001b[0m \u001b[32mINFO [2025-04-22 15:58:51,298] \u001b[0mCreating usort_offaxis_ovc coronagraph\n",
      "\u001b[38;5;229m\u001b[48;5;16m[yippy]\u001b[0m \u001b[33mWARNING [2025-04-22 15:58:51,299] \u001b[0mUnhandled header fields: {'D_INSC'}\n",
      "\u001b[38;5;229m\u001b[48;5;16m[yippy]\u001b[0m \u001b[33mWARNING [2025-04-22 15:58:51,299] \u001b[0mUsing default unit for D: m. Could not extract unit from comment: \"circumscribed diameter of the telescope in mete\"\n",
      "\u001b[38;5;229m\u001b[48;5;16m[yippy]\u001b[0m \u001b[32mINFO [2025-04-22 15:58:51,340] \u001b[0musort_offaxis_ovc is radially symmetric\n",
      "\u001b[38;5;229m\u001b[48;5;16m[yippy]\u001b[0m \u001b[32mINFO [2025-04-22 15:58:51,386] \u001b[0mCreated usort_offaxis_ovc\n"
     ]
    },
    {
     "name": "stdout",
     "output_type": "stream",
     "text": [
      "Using psf_trunc_ratio to calculate Omega...\n",
      "Setting the noise floor via user-supplied noisefloor_PPF...\n",
      "Azimuthally averaging contrast maps and noise floor...\n",
      "Calculating optics throughput from preset...\n",
      "Calculating epswarmTrcold as 1 - optics throughput...\n",
      "Observatory Configuration:\n",
      "  Using preset: EAC1\n",
      "\n"
     ]
    },
    {
     "name": "stderr",
     "output_type": "stream",
     "text": [
      "\u001b[38;5;229m\u001b[48;5;16m[yippy]\u001b[0m \u001b[32mINFO [2025-04-22 15:58:56,289] \u001b[0mCreating usort_offaxis_ovc coronagraph\n",
      "\u001b[38;5;229m\u001b[48;5;16m[yippy]\u001b[0m \u001b[33mWARNING [2025-04-22 15:58:56,290] \u001b[0mUnhandled header fields: {'D_INSC'}\n",
      "\u001b[38;5;229m\u001b[48;5;16m[yippy]\u001b[0m \u001b[33mWARNING [2025-04-22 15:58:56,291] \u001b[0mUsing default unit for D: m. Could not extract unit from comment: \"circumscribed diameter of the telescope in mete\"\n",
      "\u001b[38;5;229m\u001b[48;5;16m[yippy]\u001b[0m \u001b[32mINFO [2025-04-22 15:58:56,332] \u001b[0musort_offaxis_ovc is radially symmetric\n",
      "\u001b[38;5;229m\u001b[48;5;16m[yippy]\u001b[0m \u001b[32mINFO [2025-04-22 15:58:56,349] \u001b[0mCreated usort_offaxis_ovc\n"
     ]
    },
    {
     "name": "stdout",
     "output_type": "stream",
     "text": [
      "Using psf_trunc_ratio to calculate Omega...\n",
      "Setting the noise floor via user-supplied noisefloor_PPF...\n",
      "Azimuthally averaging contrast maps and noise floor...\n",
      "Calculating optics throughput from preset...\n",
      "Calculating epswarmTrcold as 1 - optics throughput...\n",
      "Observatory Configuration:\n",
      "  Using preset: EAC1\n",
      "\n"
     ]
    },
    {
     "name": "stderr",
     "output_type": "stream",
     "text": [
      "\u001b[38;5;229m\u001b[48;5;16m[yippy]\u001b[0m \u001b[32mINFO [2025-04-22 15:59:01,645] \u001b[0mCreating usort_offaxis_ovc coronagraph\n",
      "\u001b[38;5;229m\u001b[48;5;16m[yippy]\u001b[0m \u001b[33mWARNING [2025-04-22 15:59:01,646] \u001b[0mUnhandled header fields: {'D_INSC'}\n",
      "\u001b[38;5;229m\u001b[48;5;16m[yippy]\u001b[0m \u001b[33mWARNING [2025-04-22 15:59:01,647] \u001b[0mUsing default unit for D: m. Could not extract unit from comment: \"circumscribed diameter of the telescope in mete\"\n",
      "\u001b[38;5;229m\u001b[48;5;16m[yippy]\u001b[0m \u001b[32mINFO [2025-04-22 15:59:01,679] \u001b[0musort_offaxis_ovc is radially symmetric\n",
      "\u001b[38;5;229m\u001b[48;5;16m[yippy]\u001b[0m \u001b[32mINFO [2025-04-22 15:59:01,702] \u001b[0mCreated usort_offaxis_ovc\n"
     ]
    },
    {
     "name": "stdout",
     "output_type": "stream",
     "text": [
      "Using psf_trunc_ratio to calculate Omega...\n",
      "Setting the noise floor via user-supplied noisefloor_PPF...\n",
      "Azimuthally averaging contrast maps and noise floor...\n",
      "Calculating optics throughput from preset...\n",
      "Calculating epswarmTrcold as 1 - optics throughput...\n"
     ]
    },
    {
     "name": "stderr",
     "output_type": "stream",
     "text": [
      "/var/folders/10/v9qwyn2d7mx1blfr1v345wz80000gp/T/ipykernel_86166/1653988001.py:20: UserWarning: No artists with labels found to put in legend.  Note that artists whose label start with an underscore are ignored when legend() is called with no argument.\n",
      "  plt.legend()\n"
     ]
    },
    {
     "data": {
      "image/png": "[encoded data removed]",
      "text/plain": [
       "<Figure size 1000x600 with 1 Axes>"
      ]
     },
     "metadata": {},
     "output_type": "display_data"
    }
   ],
   "source": [
    "diameters = np.linspace(4, 15, 6)  \n",
    "\n",
    "exposure_times = []\n",
    "\n",
    "for diam in diameters:\n",
    "    params = imaging_params.copy()\n",
    "    params['diameter'] = diam # will overwrite the standard EAC1 telescope diameter\n",
    "    parsed_parameters= parse_input.parse_parameters(params)\n",
    "    texp, _ = calculate_texp(parsed_parameters, verbose=False)\n",
    "    exposure_times.append(texp.to(u.hr)[0].value)\n",
    "\n",
    "\n",
    "# MAKE PLOT\n",
    "plt.figure(figsize=(10, 6))\n",
    "plt.plot(diameters, exposure_times, marker='o')\n",
    "\n",
    "plt.xlabel('Telescope Diameter (m)')\n",
    "plt.ylabel('Exposure Time (hours)')\n",
    "plt.title('Exposure Time vs Telescope Diameter')\n",
    "plt.legend()\n",
    "plt.yscale('log')\n",
    "plt.show()\n"
   ]
  },
  {
   "cell_type": "markdown",
   "metadata": {},
   "source": [
    "### 5.4. PSF Truncation Ratio\n",
    "Also, we can test the effect of varying the PSF trunction ratio. There should exist a PSF truncation ratio that minimizes exposure time and maximizes SNR (and it should be around 0.3). Let's test this:"
   ]
  },
  {
   "cell_type": "code",
   "execution_count": 10,
   "metadata": {},
   "outputs": [
    {
     "name": "stdout",
     "output_type": "stream",
     "text": [
      "Observatory Configuration:\n",
      "  Using preset: EAC1\n",
      "\n"
     ]
    },
    {
     "name": "stderr",
     "output_type": "stream",
     "text": [
      "\u001b[38;5;229m\u001b[48;5;16m[yippy]\u001b[0m \u001b[32mINFO [2025-04-22 15:59:07,007] \u001b[0mCreating usort_offaxis_ovc coronagraph\n",
      "\u001b[38;5;229m\u001b[48;5;16m[yippy]\u001b[0m \u001b[33mWARNING [2025-04-22 15:59:07,008] \u001b[0mUnhandled header fields: {'D_INSC'}\n",
      "\u001b[38;5;229m\u001b[48;5;16m[yippy]\u001b[0m \u001b[33mWARNING [2025-04-22 15:59:07,008] \u001b[0mUsing default unit for D: m. Could not extract unit from comment: \"circumscribed diameter of the telescope in mete\"\n",
      "\u001b[38;5;229m\u001b[48;5;16m[yippy]\u001b[0m \u001b[32mINFO [2025-04-22 15:59:07,081] \u001b[0musort_offaxis_ovc is radially symmetric\n",
      "\u001b[38;5;229m\u001b[48;5;16m[yippy]\u001b[0m \u001b[32mINFO [2025-04-22 15:59:07,103] \u001b[0mCreated usort_offaxis_ovc\n"
     ]
    },
    {
     "name": "stdout",
     "output_type": "stream",
     "text": [
      "Using psf_trunc_ratio to calculate Omega...\n",
      "Setting the noise floor via user-supplied noisefloor_PPF...\n",
      "Azimuthally averaging contrast maps and noise floor...\n",
      "Calculating optics throughput from preset...\n",
      "Calculating epswarmTrcold as 1 - optics throughput...\n",
      "Observatory Configuration:\n",
      "  Using preset: EAC1\n",
      "\n"
     ]
    },
    {
     "name": "stderr",
     "output_type": "stream",
     "text": [
      "\u001b[38;5;229m\u001b[48;5;16m[yippy]\u001b[0m \u001b[32mINFO [2025-04-22 15:59:18,811] \u001b[0mCreating usort_offaxis_ovc coronagraph\n",
      "\u001b[38;5;229m\u001b[48;5;16m[yippy]\u001b[0m \u001b[33mWARNING [2025-04-22 15:59:18,813] \u001b[0mUnhandled header fields: {'D_INSC'}\n",
      "\u001b[38;5;229m\u001b[48;5;16m[yippy]\u001b[0m \u001b[33mWARNING [2025-04-22 15:59:18,813] \u001b[0mUsing default unit for D: m. Could not extract unit from comment: \"circumscribed diameter of the telescope in mete\"\n",
      "\u001b[38;5;229m\u001b[48;5;16m[yippy]\u001b[0m \u001b[32mINFO [2025-04-22 15:59:18,866] \u001b[0musort_offaxis_ovc is radially symmetric\n",
      "\u001b[38;5;229m\u001b[48;5;16m[yippy]\u001b[0m \u001b[32mINFO [2025-04-22 15:59:18,914] \u001b[0mCreated usort_offaxis_ovc\n"
     ]
    },
    {
     "name": "stdout",
     "output_type": "stream",
     "text": [
      "Using psf_trunc_ratio to calculate Omega...\n",
      "Setting the noise floor via user-supplied noisefloor_PPF...\n",
      "Azimuthally averaging contrast maps and noise floor...\n",
      "Calculating optics throughput from preset...\n",
      "Calculating epswarmTrcold as 1 - optics throughput...\n",
      "Observatory Configuration:\n",
      "  Using preset: EAC1\n",
      "\n"
     ]
    },
    {
     "name": "stderr",
     "output_type": "stream",
     "text": [
      "\u001b[38;5;229m\u001b[48;5;16m[yippy]\u001b[0m \u001b[32mINFO [2025-04-22 15:59:30,367] \u001b[0mCreating usort_offaxis_ovc coronagraph\n",
      "\u001b[38;5;229m\u001b[48;5;16m[yippy]\u001b[0m \u001b[33mWARNING [2025-04-22 15:59:30,368] \u001b[0mUnhandled header fields: {'D_INSC'}\n",
      "\u001b[38;5;229m\u001b[48;5;16m[yippy]\u001b[0m \u001b[33mWARNING [2025-04-22 15:59:30,369] \u001b[0mUsing default unit for D: m. Could not extract unit from comment: \"circumscribed diameter of the telescope in mete\"\n",
      "\u001b[38;5;229m\u001b[48;5;16m[yippy]\u001b[0m \u001b[32mINFO [2025-04-22 15:59:30,408] \u001b[0musort_offaxis_ovc is radially symmetric\n",
      "\u001b[38;5;229m\u001b[48;5;16m[yippy]\u001b[0m \u001b[32mINFO [2025-04-22 15:59:30,429] \u001b[0mCreated usort_offaxis_ovc\n"
     ]
    },
    {
     "name": "stdout",
     "output_type": "stream",
     "text": [
      "Using psf_trunc_ratio to calculate Omega...\n",
      "Setting the noise floor via user-supplied noisefloor_PPF...\n",
      "Azimuthally averaging contrast maps and noise floor...\n",
      "Calculating optics throughput from preset...\n",
      "Calculating epswarmTrcold as 1 - optics throughput...\n",
      "Observatory Configuration:\n",
      "  Using preset: EAC1\n",
      "\n"
     ]
    },
    {
     "name": "stderr",
     "output_type": "stream",
     "text": [
      "\u001b[38;5;229m\u001b[48;5;16m[yippy]\u001b[0m \u001b[32mINFO [2025-04-22 15:59:41,633] \u001b[0mCreating usort_offaxis_ovc coronagraph\n",
      "\u001b[38;5;229m\u001b[48;5;16m[yippy]\u001b[0m \u001b[33mWARNING [2025-04-22 15:59:41,635] \u001b[0mUnhandled header fields: {'D_INSC'}\n",
      "\u001b[38;5;229m\u001b[48;5;16m[yippy]\u001b[0m \u001b[33mWARNING [2025-04-22 15:59:41,635] \u001b[0mUsing default unit for D: m. Could not extract unit from comment: \"circumscribed diameter of the telescope in mete\"\n",
      "\u001b[38;5;229m\u001b[48;5;16m[yippy]\u001b[0m \u001b[32mINFO [2025-04-22 15:59:41,692] \u001b[0musort_offaxis_ovc is radially symmetric\n",
      "\u001b[38;5;229m\u001b[48;5;16m[yippy]\u001b[0m \u001b[32mINFO [2025-04-22 15:59:41,717] \u001b[0mCreated usort_offaxis_ovc\n"
     ]
    },
    {
     "name": "stdout",
     "output_type": "stream",
     "text": [
      "Using psf_trunc_ratio to calculate Omega...\n",
      "Setting the noise floor via user-supplied noisefloor_PPF...\n",
      "Azimuthally averaging contrast maps and noise floor...\n",
      "Calculating optics throughput from preset...\n",
      "Calculating epswarmTrcold as 1 - optics throughput...\n",
      "Observatory Configuration:\n",
      "  Using preset: EAC1\n",
      "\n"
     ]
    },
    {
     "name": "stderr",
     "output_type": "stream",
     "text": [
      "\u001b[38;5;229m\u001b[48;5;16m[yippy]\u001b[0m \u001b[32mINFO [2025-04-22 15:59:55,109] \u001b[0mCreating usort_offaxis_ovc coronagraph\n",
      "\u001b[38;5;229m\u001b[48;5;16m[yippy]\u001b[0m \u001b[33mWARNING [2025-04-22 15:59:55,111] \u001b[0mUnhandled header fields: {'D_INSC'}\n",
      "\u001b[38;5;229m\u001b[48;5;16m[yippy]\u001b[0m \u001b[33mWARNING [2025-04-22 15:59:55,111] \u001b[0mUsing default unit for D: m. Could not extract unit from comment: \"circumscribed diameter of the telescope in mete\"\n",
      "\u001b[38;5;229m\u001b[48;5;16m[yippy]\u001b[0m \u001b[32mINFO [2025-04-22 15:59:55,144] \u001b[0musort_offaxis_ovc is radially symmetric\n",
      "\u001b[38;5;229m\u001b[48;5;16m[yippy]\u001b[0m \u001b[32mINFO [2025-04-22 15:59:55,161] \u001b[0mCreated usort_offaxis_ovc\n"
     ]
    },
    {
     "name": "stdout",
     "output_type": "stream",
     "text": [
      "Using psf_trunc_ratio to calculate Omega...\n",
      "Setting the noise floor via user-supplied noisefloor_PPF...\n",
      "Azimuthally averaging contrast maps and noise floor...\n",
      "Calculating optics throughput from preset...\n",
      "Calculating epswarmTrcold as 1 - optics throughput...\n",
      "Observatory Configuration:\n",
      "  Using preset: EAC1\n",
      "\n"
     ]
    },
    {
     "name": "stderr",
     "output_type": "stream",
     "text": [
      "\u001b[38;5;229m\u001b[48;5;16m[yippy]\u001b[0m \u001b[32mINFO [2025-04-22 16:00:05,521] \u001b[0mCreating usort_offaxis_ovc coronagraph\n",
      "\u001b[38;5;229m\u001b[48;5;16m[yippy]\u001b[0m \u001b[33mWARNING [2025-04-22 16:00:05,522] \u001b[0mUnhandled header fields: {'D_INSC'}\n",
      "\u001b[38;5;229m\u001b[48;5;16m[yippy]\u001b[0m \u001b[33mWARNING [2025-04-22 16:00:05,522] \u001b[0mUsing default unit for D: m. Could not extract unit from comment: \"circumscribed diameter of the telescope in mete\"\n",
      "\u001b[38;5;229m\u001b[48;5;16m[yippy]\u001b[0m \u001b[32mINFO [2025-04-22 16:00:05,558] \u001b[0musort_offaxis_ovc is radially symmetric\n",
      "\u001b[38;5;229m\u001b[48;5;16m[yippy]\u001b[0m \u001b[32mINFO [2025-04-22 16:00:05,575] \u001b[0mCreated usort_offaxis_ovc\n"
     ]
    },
    {
     "name": "stdout",
     "output_type": "stream",
     "text": [
      "Using psf_trunc_ratio to calculate Omega...\n",
      "Setting the noise floor via user-supplied noisefloor_PPF...\n",
      "Azimuthally averaging contrast maps and noise floor...\n",
      "Calculating optics throughput from preset...\n",
      "Calculating epswarmTrcold as 1 - optics throughput...\n",
      "Observatory Configuration:\n",
      "  Using preset: EAC1\n",
      "\n"
     ]
    },
    {
     "name": "stderr",
     "output_type": "stream",
     "text": [
      "\u001b[38;5;229m\u001b[48;5;16m[yippy]\u001b[0m \u001b[32mINFO [2025-04-22 16:00:17,033] \u001b[0mCreating usort_offaxis_ovc coronagraph\n",
      "\u001b[38;5;229m\u001b[48;5;16m[yippy]\u001b[0m \u001b[33mWARNING [2025-04-22 16:00:17,035] \u001b[0mUnhandled header fields: {'D_INSC'}\n",
      "\u001b[38;5;229m\u001b[48;5;16m[yippy]\u001b[0m \u001b[33mWARNING [2025-04-22 16:00:17,036] \u001b[0mUsing default unit for D: m. Could not extract unit from comment: \"circumscribed diameter of the telescope in mete\"\n",
      "\u001b[38;5;229m\u001b[48;5;16m[yippy]\u001b[0m \u001b[32mINFO [2025-04-22 16:00:17,073] \u001b[0musort_offaxis_ovc is radially symmetric\n",
      "\u001b[38;5;229m\u001b[48;5;16m[yippy]\u001b[0m \u001b[32mINFO [2025-04-22 16:00:17,091] \u001b[0mCreated usort_offaxis_ovc\n"
     ]
    },
    {
     "name": "stdout",
     "output_type": "stream",
     "text": [
      "Using psf_trunc_ratio to calculate Omega...\n",
      "Setting the noise floor via user-supplied noisefloor_PPF...\n",
      "Azimuthally averaging contrast maps and noise floor...\n",
      "Calculating optics throughput from preset...\n",
      "Calculating epswarmTrcold as 1 - optics throughput...\n",
      "Observatory Configuration:\n",
      "  Using preset: EAC1\n",
      "\n"
     ]
    },
    {
     "name": "stderr",
     "output_type": "stream",
     "text": [
      "\u001b[38;5;229m\u001b[48;5;16m[yippy]\u001b[0m \u001b[32mINFO [2025-04-22 16:00:27,879] \u001b[0mCreating usort_offaxis_ovc coronagraph\n",
      "\u001b[38;5;229m\u001b[48;5;16m[yippy]\u001b[0m \u001b[33mWARNING [2025-04-22 16:00:27,880] \u001b[0mUnhandled header fields: {'D_INSC'}\n",
      "\u001b[38;5;229m\u001b[48;5;16m[yippy]\u001b[0m \u001b[33mWARNING [2025-04-22 16:00:27,881] \u001b[0mUsing default unit for D: m. Could not extract unit from comment: \"circumscribed diameter of the telescope in mete\"\n",
      "\u001b[38;5;229m\u001b[48;5;16m[yippy]\u001b[0m \u001b[32mINFO [2025-04-22 16:00:27,914] \u001b[0musort_offaxis_ovc is radially symmetric\n",
      "\u001b[38;5;229m\u001b[48;5;16m[yippy]\u001b[0m \u001b[32mINFO [2025-04-22 16:00:27,931] \u001b[0mCreated usort_offaxis_ovc\n"
     ]
    },
    {
     "name": "stdout",
     "output_type": "stream",
     "text": [
      "Using psf_trunc_ratio to calculate Omega...\n",
      "Setting the noise floor via user-supplied noisefloor_PPF...\n",
      "Azimuthally averaging contrast maps and noise floor...\n",
      "Calculating optics throughput from preset...\n",
      "Calculating epswarmTrcold as 1 - optics throughput...\n",
      "Observatory Configuration:\n",
      "  Using preset: EAC1\n",
      "\n"
     ]
    },
    {
     "name": "stderr",
     "output_type": "stream",
     "text": [
      "\u001b[38;5;229m\u001b[48;5;16m[yippy]\u001b[0m \u001b[32mINFO [2025-04-22 16:00:38,405] \u001b[0mCreating usort_offaxis_ovc coronagraph\n",
      "\u001b[38;5;229m\u001b[48;5;16m[yippy]\u001b[0m \u001b[33mWARNING [2025-04-22 16:00:38,407] \u001b[0mUnhandled header fields: {'D_INSC'}\n",
      "\u001b[38;5;229m\u001b[48;5;16m[yippy]\u001b[0m \u001b[33mWARNING [2025-04-22 16:00:38,407] \u001b[0mUsing default unit for D: m. Could not extract unit from comment: \"circumscribed diameter of the telescope in mete\"\n",
      "\u001b[38;5;229m\u001b[48;5;16m[yippy]\u001b[0m \u001b[32mINFO [2025-04-22 16:00:38,444] \u001b[0musort_offaxis_ovc is radially symmetric\n",
      "\u001b[38;5;229m\u001b[48;5;16m[yippy]\u001b[0m \u001b[32mINFO [2025-04-22 16:00:38,461] \u001b[0mCreated usort_offaxis_ovc\n"
     ]
    },
    {
     "name": "stdout",
     "output_type": "stream",
     "text": [
      "Using psf_trunc_ratio to calculate Omega...\n",
      "Setting the noise floor via user-supplied noisefloor_PPF...\n",
      "Azimuthally averaging contrast maps and noise floor...\n",
      "Calculating optics throughput from preset...\n",
      "Calculating epswarmTrcold as 1 - optics throughput...\n",
      "Observatory Configuration:\n",
      "  Using preset: EAC1\n",
      "\n"
     ]
    },
    {
     "name": "stderr",
     "output_type": "stream",
     "text": [
      "\u001b[38;5;229m\u001b[48;5;16m[yippy]\u001b[0m \u001b[32mINFO [2025-04-22 16:00:48,950] \u001b[0mCreating usort_offaxis_ovc coronagraph\n",
      "\u001b[38;5;229m\u001b[48;5;16m[yippy]\u001b[0m \u001b[33mWARNING [2025-04-22 16:00:48,951] \u001b[0mUnhandled header fields: {'D_INSC'}\n",
      "\u001b[38;5;229m\u001b[48;5;16m[yippy]\u001b[0m \u001b[33mWARNING [2025-04-22 16:00:48,952] \u001b[0mUsing default unit for D: m. Could not extract unit from comment: \"circumscribed diameter of the telescope in mete\"\n",
      "\u001b[38;5;229m\u001b[48;5;16m[yippy]\u001b[0m \u001b[32mINFO [2025-04-22 16:00:48,983] \u001b[0musort_offaxis_ovc is radially symmetric\n",
      "\u001b[38;5;229m\u001b[48;5;16m[yippy]\u001b[0m \u001b[32mINFO [2025-04-22 16:00:49,000] \u001b[0mCreated usort_offaxis_ovc\n"
     ]
    },
    {
     "name": "stdout",
     "output_type": "stream",
     "text": [
      "Using psf_trunc_ratio to calculate Omega...\n",
      "Setting the noise floor via user-supplied noisefloor_PPF...\n",
      "Azimuthally averaging contrast maps and noise floor...\n",
      "Calculating optics throughput from preset...\n",
      "Calculating epswarmTrcold as 1 - optics throughput...\n",
      "Observatory Configuration:\n",
      "  Using preset: EAC1\n",
      "\n"
     ]
    },
    {
     "name": "stderr",
     "output_type": "stream",
     "text": [
      "\u001b[38;5;229m\u001b[48;5;16m[yippy]\u001b[0m \u001b[32mINFO [2025-04-22 16:00:59,782] \u001b[0mCreating usort_offaxis_ovc coronagraph\n",
      "\u001b[38;5;229m\u001b[48;5;16m[yippy]\u001b[0m \u001b[33mWARNING [2025-04-22 16:00:59,784] \u001b[0mUnhandled header fields: {'D_INSC'}\n",
      "\u001b[38;5;229m\u001b[48;5;16m[yippy]\u001b[0m \u001b[33mWARNING [2025-04-22 16:00:59,784] \u001b[0mUsing default unit for D: m. Could not extract unit from comment: \"circumscribed diameter of the telescope in mete\"\n",
      "\u001b[38;5;229m\u001b[48;5;16m[yippy]\u001b[0m \u001b[32mINFO [2025-04-22 16:00:59,819] \u001b[0musort_offaxis_ovc is radially symmetric\n",
      "\u001b[38;5;229m\u001b[48;5;16m[yippy]\u001b[0m \u001b[32mINFO [2025-04-22 16:00:59,836] \u001b[0mCreated usort_offaxis_ovc\n"
     ]
    },
    {
     "name": "stdout",
     "output_type": "stream",
     "text": [
      "Using psf_trunc_ratio to calculate Omega...\n",
      "Setting the noise floor via user-supplied noisefloor_PPF...\n",
      "Azimuthally averaging contrast maps and noise floor...\n",
      "Calculating optics throughput from preset...\n",
      "Calculating epswarmTrcold as 1 - optics throughput...\n",
      "Observatory Configuration:\n",
      "  Using preset: EAC1\n",
      "\n"
     ]
    },
    {
     "name": "stderr",
     "output_type": "stream",
     "text": [
      "\u001b[38;5;229m\u001b[48;5;16m[yippy]\u001b[0m \u001b[32mINFO [2025-04-22 16:01:09,156] \u001b[0mCreating usort_offaxis_ovc coronagraph\n",
      "\u001b[38;5;229m\u001b[48;5;16m[yippy]\u001b[0m \u001b[33mWARNING [2025-04-22 16:01:09,157] \u001b[0mUnhandled header fields: {'D_INSC'}\n",
      "\u001b[38;5;229m\u001b[48;5;16m[yippy]\u001b[0m \u001b[33mWARNING [2025-04-22 16:01:09,158] \u001b[0mUsing default unit for D: m. Could not extract unit from comment: \"circumscribed diameter of the telescope in mete\"\n",
      "\u001b[38;5;229m\u001b[48;5;16m[yippy]\u001b[0m \u001b[32mINFO [2025-04-22 16:01:09,191] \u001b[0musort_offaxis_ovc is radially symmetric\n",
      "\u001b[38;5;229m\u001b[48;5;16m[yippy]\u001b[0m \u001b[32mINFO [2025-04-22 16:01:09,208] \u001b[0mCreated usort_offaxis_ovc\n"
     ]
    },
    {
     "name": "stdout",
     "output_type": "stream",
     "text": [
      "Using psf_trunc_ratio to calculate Omega...\n",
      "Setting the noise floor via user-supplied noisefloor_PPF...\n",
      "Azimuthally averaging contrast maps and noise floor...\n",
      "Calculating optics throughput from preset...\n",
      "Calculating epswarmTrcold as 1 - optics throughput...\n",
      "Observatory Configuration:\n",
      "  Using preset: EAC1\n",
      "\n"
     ]
    },
    {
     "name": "stderr",
     "output_type": "stream",
     "text": [
      "\u001b[38;5;229m\u001b[48;5;16m[yippy]\u001b[0m \u001b[32mINFO [2025-04-22 16:01:19,193] \u001b[0mCreating usort_offaxis_ovc coronagraph\n",
      "\u001b[38;5;229m\u001b[48;5;16m[yippy]\u001b[0m \u001b[33mWARNING [2025-04-22 16:01:19,194] \u001b[0mUnhandled header fields: {'D_INSC'}\n",
      "\u001b[38;5;229m\u001b[48;5;16m[yippy]\u001b[0m \u001b[33mWARNING [2025-04-22 16:01:19,195] \u001b[0mUsing default unit for D: m. Could not extract unit from comment: \"circumscribed diameter of the telescope in mete\"\n",
      "\u001b[38;5;229m\u001b[48;5;16m[yippy]\u001b[0m \u001b[32mINFO [2025-04-22 16:01:19,234] \u001b[0musort_offaxis_ovc is radially symmetric\n",
      "\u001b[38;5;229m\u001b[48;5;16m[yippy]\u001b[0m \u001b[32mINFO [2025-04-22 16:01:19,254] \u001b[0mCreated usort_offaxis_ovc\n"
     ]
    },
    {
     "name": "stdout",
     "output_type": "stream",
     "text": [
      "Using psf_trunc_ratio to calculate Omega...\n",
      "Setting the noise floor via user-supplied noisefloor_PPF...\n",
      "Azimuthally averaging contrast maps and noise floor...\n",
      "Calculating optics throughput from preset...\n",
      "Calculating epswarmTrcold as 1 - optics throughput...\n",
      "Observatory Configuration:\n",
      "  Using preset: EAC1\n",
      "\n"
     ]
    },
    {
     "name": "stderr",
     "output_type": "stream",
     "text": [
      "\u001b[38;5;229m\u001b[48;5;16m[yippy]\u001b[0m \u001b[32mINFO [2025-04-22 16:01:28,951] \u001b[0mCreating usort_offaxis_ovc coronagraph\n",
      "\u001b[38;5;229m\u001b[48;5;16m[yippy]\u001b[0m \u001b[33mWARNING [2025-04-22 16:01:28,953] \u001b[0mUnhandled header fields: {'D_INSC'}\n",
      "\u001b[38;5;229m\u001b[48;5;16m[yippy]\u001b[0m \u001b[33mWARNING [2025-04-22 16:01:28,953] \u001b[0mUsing default unit for D: m. Could not extract unit from comment: \"circumscribed diameter of the telescope in mete\"\n",
      "\u001b[38;5;229m\u001b[48;5;16m[yippy]\u001b[0m \u001b[32mINFO [2025-04-22 16:01:28,990] \u001b[0musort_offaxis_ovc is radially symmetric\n",
      "\u001b[38;5;229m\u001b[48;5;16m[yippy]\u001b[0m \u001b[32mINFO [2025-04-22 16:01:29,006] \u001b[0mCreated usort_offaxis_ovc\n"
     ]
    },
    {
     "name": "stdout",
     "output_type": "stream",
     "text": [
      "Using psf_trunc_ratio to calculate Omega...\n",
      "Setting the noise floor via user-supplied noisefloor_PPF...\n",
      "Azimuthally averaging contrast maps and noise floor...\n",
      "Calculating optics throughput from preset...\n",
      "Calculating epswarmTrcold as 1 - optics throughput...\n",
      "Observatory Configuration:\n",
      "  Using preset: EAC1\n",
      "\n"
     ]
    },
    {
     "name": "stderr",
     "output_type": "stream",
     "text": [
      "\u001b[38;5;229m\u001b[48;5;16m[yippy]\u001b[0m \u001b[32mINFO [2025-04-22 16:01:38,886] \u001b[0mCreating usort_offaxis_ovc coronagraph\n",
      "\u001b[38;5;229m\u001b[48;5;16m[yippy]\u001b[0m \u001b[33mWARNING [2025-04-22 16:01:38,887] \u001b[0mUnhandled header fields: {'D_INSC'}\n",
      "\u001b[38;5;229m\u001b[48;5;16m[yippy]\u001b[0m \u001b[33mWARNING [2025-04-22 16:01:38,888] \u001b[0mUsing default unit for D: m. Could not extract unit from comment: \"circumscribed diameter of the telescope in mete\"\n",
      "\u001b[38;5;229m\u001b[48;5;16m[yippy]\u001b[0m \u001b[32mINFO [2025-04-22 16:01:38,925] \u001b[0musort_offaxis_ovc is radially symmetric\n",
      "\u001b[38;5;229m\u001b[48;5;16m[yippy]\u001b[0m \u001b[32mINFO [2025-04-22 16:01:38,945] \u001b[0mCreated usort_offaxis_ovc\n"
     ]
    },
    {
     "name": "stdout",
     "output_type": "stream",
     "text": [
      "Using psf_trunc_ratio to calculate Omega...\n",
      "Setting the noise floor via user-supplied noisefloor_PPF...\n",
      "Azimuthally averaging contrast maps and noise floor...\n",
      "Calculating optics throughput from preset...\n",
      "Calculating epswarmTrcold as 1 - optics throughput...\n",
      "Observatory Configuration:\n",
      "  Using preset: EAC1\n",
      "\n"
     ]
    },
    {
     "name": "stderr",
     "output_type": "stream",
     "text": [
      "\u001b[38;5;229m\u001b[48;5;16m[yippy]\u001b[0m \u001b[32mINFO [2025-04-22 16:01:48,225] \u001b[0mCreating usort_offaxis_ovc coronagraph\n",
      "\u001b[38;5;229m\u001b[48;5;16m[yippy]\u001b[0m \u001b[33mWARNING [2025-04-22 16:01:48,226] \u001b[0mUnhandled header fields: {'D_INSC'}\n",
      "\u001b[38;5;229m\u001b[48;5;16m[yippy]\u001b[0m \u001b[33mWARNING [2025-04-22 16:01:48,226] \u001b[0mUsing default unit for D: m. Could not extract unit from comment: \"circumscribed diameter of the telescope in mete\"\n",
      "\u001b[38;5;229m\u001b[48;5;16m[yippy]\u001b[0m \u001b[32mINFO [2025-04-22 16:01:48,259] \u001b[0musort_offaxis_ovc is radially symmetric\n",
      "\u001b[38;5;229m\u001b[48;5;16m[yippy]\u001b[0m \u001b[32mINFO [2025-04-22 16:01:48,275] \u001b[0mCreated usort_offaxis_ovc\n"
     ]
    },
    {
     "name": "stdout",
     "output_type": "stream",
     "text": [
      "Using psf_trunc_ratio to calculate Omega...\n",
      "Setting the noise floor via user-supplied noisefloor_PPF...\n",
      "Azimuthally averaging contrast maps and noise floor...\n",
      "Calculating optics throughput from preset...\n",
      "Calculating epswarmTrcold as 1 - optics throughput...\n",
      "Observatory Configuration:\n",
      "  Using preset: EAC1\n",
      "\n"
     ]
    },
    {
     "name": "stderr",
     "output_type": "stream",
     "text": [
      "\u001b[38;5;229m\u001b[48;5;16m[yippy]\u001b[0m \u001b[32mINFO [2025-04-22 16:01:57,700] \u001b[0mCreating usort_offaxis_ovc coronagraph\n",
      "\u001b[38;5;229m\u001b[48;5;16m[yippy]\u001b[0m \u001b[33mWARNING [2025-04-22 16:01:57,702] \u001b[0mUnhandled header fields: {'D_INSC'}\n",
      "\u001b[38;5;229m\u001b[48;5;16m[yippy]\u001b[0m \u001b[33mWARNING [2025-04-22 16:01:57,702] \u001b[0mUsing default unit for D: m. Could not extract unit from comment: \"circumscribed diameter of the telescope in mete\"\n",
      "\u001b[38;5;229m\u001b[48;5;16m[yippy]\u001b[0m \u001b[32mINFO [2025-04-22 16:01:57,747] \u001b[0musort_offaxis_ovc is radially symmetric\n",
      "\u001b[38;5;229m\u001b[48;5;16m[yippy]\u001b[0m \u001b[32mINFO [2025-04-22 16:01:57,768] \u001b[0mCreated usort_offaxis_ovc\n"
     ]
    },
    {
     "name": "stdout",
     "output_type": "stream",
     "text": [
      "Using psf_trunc_ratio to calculate Omega...\n",
      "Setting the noise floor via user-supplied noisefloor_PPF...\n",
      "Azimuthally averaging contrast maps and noise floor...\n",
      "Calculating optics throughput from preset...\n",
      "Calculating epswarmTrcold as 1 - optics throughput...\n",
      "Observatory Configuration:\n",
      "  Using preset: EAC1\n",
      "\n"
     ]
    },
    {
     "name": "stderr",
     "output_type": "stream",
     "text": [
      "\u001b[38;5;229m\u001b[48;5;16m[yippy]\u001b[0m \u001b[32mINFO [2025-04-22 16:02:08,126] \u001b[0mCreating usort_offaxis_ovc coronagraph\n",
      "\u001b[38;5;229m\u001b[48;5;16m[yippy]\u001b[0m \u001b[33mWARNING [2025-04-22 16:02:08,128] \u001b[0mUnhandled header fields: {'D_INSC'}\n",
      "\u001b[38;5;229m\u001b[48;5;16m[yippy]\u001b[0m \u001b[33mWARNING [2025-04-22 16:02:08,128] \u001b[0mUsing default unit for D: m. Could not extract unit from comment: \"circumscribed diameter of the telescope in mete\"\n",
      "\u001b[38;5;229m\u001b[48;5;16m[yippy]\u001b[0m \u001b[32mINFO [2025-04-22 16:02:08,203] \u001b[0musort_offaxis_ovc is radially symmetric\n",
      "\u001b[38;5;229m\u001b[48;5;16m[yippy]\u001b[0m \u001b[32mINFO [2025-04-22 16:02:08,227] \u001b[0mCreated usort_offaxis_ovc\n"
     ]
    },
    {
     "name": "stdout",
     "output_type": "stream",
     "text": [
      "Using psf_trunc_ratio to calculate Omega...\n",
      "Setting the noise floor via user-supplied noisefloor_PPF...\n",
      "Azimuthally averaging contrast maps and noise floor...\n",
      "Calculating optics throughput from preset...\n",
      "Calculating epswarmTrcold as 1 - optics throughput...\n",
      "Observatory Configuration:\n",
      "  Using preset: EAC1\n",
      "\n"
     ]
    },
    {
     "name": "stderr",
     "output_type": "stream",
     "text": [
      "\u001b[38;5;229m\u001b[48;5;16m[yippy]\u001b[0m \u001b[32mINFO [2025-04-22 16:02:16,871] \u001b[0mCreating usort_offaxis_ovc coronagraph\n",
      "\u001b[38;5;229m\u001b[48;5;16m[yippy]\u001b[0m \u001b[33mWARNING [2025-04-22 16:02:16,873] \u001b[0mUnhandled header fields: {'D_INSC'}\n",
      "\u001b[38;5;229m\u001b[48;5;16m[yippy]\u001b[0m \u001b[33mWARNING [2025-04-22 16:02:16,873] \u001b[0mUsing default unit for D: m. Could not extract unit from comment: \"circumscribed diameter of the telescope in mete\"\n",
      "\u001b[38;5;229m\u001b[48;5;16m[yippy]\u001b[0m \u001b[32mINFO [2025-04-22 16:02:16,905] \u001b[0musort_offaxis_ovc is radially symmetric\n",
      "\u001b[38;5;229m\u001b[48;5;16m[yippy]\u001b[0m \u001b[32mINFO [2025-04-22 16:02:16,925] \u001b[0mCreated usort_offaxis_ovc\n"
     ]
    },
    {
     "name": "stdout",
     "output_type": "stream",
     "text": [
      "Using psf_trunc_ratio to calculate Omega...\n",
      "Setting the noise floor via user-supplied noisefloor_PPF...\n",
      "Azimuthally averaging contrast maps and noise floor...\n",
      "Calculating optics throughput from preset...\n",
      "Calculating epswarmTrcold as 1 - optics throughput...\n",
      "WARNING: Photometric aperture is not large enough. Hardcoded infinity results.\n",
      "Observatory Configuration:\n",
      "  Using preset: EAC1\n",
      "\n"
     ]
    },
    {
     "name": "stderr",
     "output_type": "stream",
     "text": [
      "\u001b[38;5;229m\u001b[48;5;16m[yippy]\u001b[0m \u001b[32mINFO [2025-04-22 16:02:25,943] \u001b[0mCreating usort_offaxis_ovc coronagraph\n",
      "\u001b[38;5;229m\u001b[48;5;16m[yippy]\u001b[0m \u001b[33mWARNING [2025-04-22 16:02:25,944] \u001b[0mUnhandled header fields: {'D_INSC'}\n",
      "\u001b[38;5;229m\u001b[48;5;16m[yippy]\u001b[0m \u001b[33mWARNING [2025-04-22 16:02:25,945] \u001b[0mUsing default unit for D: m. Could not extract unit from comment: \"circumscribed diameter of the telescope in mete\"\n",
      "\u001b[38;5;229m\u001b[48;5;16m[yippy]\u001b[0m \u001b[32mINFO [2025-04-22 16:02:25,983] \u001b[0musort_offaxis_ovc is radially symmetric\n",
      "\u001b[38;5;229m\u001b[48;5;16m[yippy]\u001b[0m \u001b[32mINFO [2025-04-22 16:02:26,001] \u001b[0mCreated usort_offaxis_ovc\n"
     ]
    },
    {
     "name": "stdout",
     "output_type": "stream",
     "text": [
      "Using psf_trunc_ratio to calculate Omega...\n",
      "Setting the noise floor via user-supplied noisefloor_PPF...\n",
      "Azimuthally averaging contrast maps and noise floor...\n",
      "Calculating optics throughput from preset...\n",
      "Calculating epswarmTrcold as 1 - optics throughput...\n",
      "WARNING: Photometric aperture is not large enough. Hardcoded infinity results.\n"
     ]
    },
    {
     "data": {
      "image/png": "[encoded data removed]",
      "text/plain": [
       "<Figure size 1000x600 with 1 Axes>"
      ]
     },
     "metadata": {},
     "output_type": "display_data"
    }
   ],
   "source": [
    "psfratios = np.linspace(0.1, 1, 20)   \n",
    "\n",
    "exposure_times = []\n",
    "\n",
    "for ratio in psfratios:\n",
    "    params = imaging_params.copy()\n",
    "    params['psf_trunc_ratio'] = ratio\n",
    "    parsed_parameters= parse_input.parse_parameters(params)\n",
    "    texp, _ = calculate_texp(parsed_parameters, verbose=False)\n",
    "    exposure_times.append(texp.to(u.hr)[0].value)\n",
    "\n",
    "# MAKE PLOT\n",
    "fig, ax1 = plt.subplots(figsize=(10, 6))\n",
    "# Primary x-axis (separation arcsec)\n",
    "ax1.plot(psfratios, exposure_times, marker='o', label='Valid exposures')\n",
    "ax1.plot(psfratios[np.isinf(exposure_times)],\n",
    "         np.ones_like(psfratios)[np.isinf(exposure_times)]*50,\n",
    "         marker='x', linestyle='', color='red', label='Infinite exposures')\n",
    "\n",
    "\n",
    "ax1.set_xlabel('PSF Truncation Ratio')\n",
    "ax1.set_ylabel('Exposure time (hours)')\n",
    "ax1.grid(True)\n",
    "\n",
    "plt.title('Exposure Time vs. PSF Truncation Ratio')\n",
    "plt.legend()\n",
    "plt.tight_layout()\n",
    "plt.show()\n",
    "\n",
    "\n",
    "# exposure time minimized at 0.3, just like it should! "
   ]
  },
  {
   "cell_type": "code",
   "execution_count": null,
   "metadata": {},
   "outputs": [
    {
     "name": "stdout",
     "output_type": "stream",
     "text": [
      "Observatory Configuration:\n",
      "  Using preset: EAC1\n",
      "\n"
     ]
    },
    {
     "name": "stderr",
     "output_type": "stream",
     "text": [
      "\u001b[38;5;229m\u001b[48;5;16m[yippy]\u001b[0m \u001b[32mINFO [2025-04-22 16:02:31,438] \u001b[0mCreating usort_offaxis_ovc coronagraph\n",
      "\u001b[38;5;229m\u001b[48;5;16m[yippy]\u001b[0m \u001b[33mWARNING [2025-04-22 16:02:31,439] \u001b[0mUnhandled header fields: {'D_INSC'}\n",
      "\u001b[38;5;229m\u001b[48;5;16m[yippy]\u001b[0m \u001b[33mWARNING [2025-04-22 16:02:31,439] \u001b[0mUsing default unit for D: m. Could not extract unit from comment: \"circumscribed diameter of the telescope in mete\"\n",
      "\u001b[38;5;229m\u001b[48;5;16m[yippy]\u001b[0m \u001b[32mINFO [2025-04-22 16:02:31,478] \u001b[0musort_offaxis_ovc is radially symmetric\n",
      "\u001b[38;5;229m\u001b[48;5;16m[yippy]\u001b[0m \u001b[32mINFO [2025-04-22 16:02:31,499] \u001b[0mCreated usort_offaxis_ovc\n"
     ]
    },
    {
     "name": "stdout",
     "output_type": "stream",
     "text": [
      "Using psf_trunc_ratio to calculate Omega...\n",
      "Setting the noise floor via user-supplied noisefloor_PPF...\n",
      "Azimuthally averaging contrast maps and noise floor...\n",
      "Calculating optics throughput from preset...\n",
      "Calculating epswarmTrcold as 1 - optics throughput...\n",
      "Observatory Configuration:\n",
      "  Using preset: EAC1\n",
      "\n"
     ]
    },
    {
     "name": "stderr",
     "output_type": "stream",
     "text": [
      "\u001b[38;5;229m\u001b[48;5;16m[yippy]\u001b[0m \u001b[32mINFO [2025-04-22 16:02:36,499] \u001b[0mCreating usort_offaxis_ovc coronagraph\n",
      "\u001b[38;5;229m\u001b[48;5;16m[yippy]\u001b[0m \u001b[33mWARNING [2025-04-22 16:02:36,501] \u001b[0mUnhandled header fields: {'D_INSC'}\n",
      "\u001b[38;5;229m\u001b[48;5;16m[yippy]\u001b[0m \u001b[33mWARNING [2025-04-22 16:02:36,501] \u001b[0mUsing default unit for D: m. Could not extract unit from comment: \"circumscribed diameter of the telescope in mete\"\n",
      "\u001b[38;5;229m\u001b[48;5;16m[yippy]\u001b[0m \u001b[32mINFO [2025-04-22 16:02:36,537] \u001b[0musort_offaxis_ovc is radially symmetric\n",
      "\u001b[38;5;229m\u001b[48;5;16m[yippy]\u001b[0m \u001b[32mINFO [2025-04-22 16:02:36,556] \u001b[0mCreated usort_offaxis_ovc\n"
     ]
    },
    {
     "name": "stdout",
     "output_type": "stream",
     "text": [
      "Using psf_trunc_ratio to calculate Omega...\n",
      "Setting the noise floor via user-supplied noisefloor_PPF...\n",
      "Azimuthally averaging contrast maps and noise floor...\n",
      "Calculating optics throughput from preset...\n",
      "Calculating epswarmTrcold as 1 - optics throughput...\n",
      "Observatory Configuration:\n",
      "  Using preset: EAC1\n",
      "\n"
     ]
    },
    {
     "name": "stderr",
     "output_type": "stream",
     "text": [
      "\u001b[38;5;229m\u001b[48;5;16m[yippy]\u001b[0m \u001b[32mINFO [2025-04-22 16:02:41,480] \u001b[0mCreating usort_offaxis_ovc coronagraph\n",
      "\u001b[38;5;229m\u001b[48;5;16m[yippy]\u001b[0m \u001b[33mWARNING [2025-04-22 16:02:41,481] \u001b[0mUnhandled header fields: {'D_INSC'}\n",
      "\u001b[38;5;229m\u001b[48;5;16m[yippy]\u001b[0m \u001b[33mWARNING [2025-04-22 16:02:41,481] \u001b[0mUsing default unit for D: m. Could not extract unit from comment: \"circumscribed diameter of the telescope in mete\"\n",
      "\u001b[38;5;229m\u001b[48;5;16m[yippy]\u001b[0m \u001b[32mINFO [2025-04-22 16:02:41,512] \u001b[0musort_offaxis_ovc is radially symmetric\n",
      "\u001b[38;5;229m\u001b[48;5;16m[yippy]\u001b[0m \u001b[32mINFO [2025-04-22 16:02:41,529] \u001b[0mCreated usort_offaxis_ovc\n"
     ]
    },
    {
     "name": "stdout",
     "output_type": "stream",
     "text": [
      "Using psf_trunc_ratio to calculate Omega...\n",
      "Setting the noise floor via user-supplied noisefloor_PPF...\n",
      "Azimuthally averaging contrast maps and noise floor...\n",
      "Calculating optics throughput from preset...\n",
      "Calculating epswarmTrcold as 1 - optics throughput...\n",
      "Observatory Configuration:\n",
      "  Using preset: EAC1\n",
      "\n"
     ]
    },
    {
     "name": "stderr",
     "output_type": "stream",
     "text": [
      "\u001b[38;5;229m\u001b[48;5;16m[yippy]\u001b[0m \u001b[32mINFO [2025-04-22 16:02:46,209] \u001b[0mCreating usort_offaxis_ovc coronagraph\n",
      "\u001b[38;5;229m\u001b[48;5;16m[yippy]\u001b[0m \u001b[33mWARNING [2025-04-22 16:02:46,211] \u001b[0mUnhandled header fields: {'D_INSC'}\n",
      "\u001b[38;5;229m\u001b[48;5;16m[yippy]\u001b[0m \u001b[33mWARNING [2025-04-22 16:02:46,211] \u001b[0mUsing default unit for D: m. Could not extract unit from comment: \"circumscribed diameter of the telescope in mete\"\n",
      "\u001b[38;5;229m\u001b[48;5;16m[yippy]\u001b[0m \u001b[32mINFO [2025-04-22 16:02:46,253] \u001b[0musort_offaxis_ovc is radially symmetric\n",
      "\u001b[38;5;229m\u001b[48;5;16m[yippy]\u001b[0m \u001b[32mINFO [2025-04-22 16:02:46,269] \u001b[0mCreated usort_offaxis_ovc\n"
     ]
    },
    {
     "name": "stdout",
     "output_type": "stream",
     "text": [
      "Using psf_trunc_ratio to calculate Omega...\n",
      "Setting the noise floor via user-supplied noisefloor_PPF...\n",
      "Azimuthally averaging contrast maps and noise floor...\n",
      "Calculating optics throughput from preset...\n",
      "Calculating epswarmTrcold as 1 - optics throughput...\n",
      "Observatory Configuration:\n",
      "  Using preset: EAC1\n",
      "\n"
     ]
    },
    {
     "name": "stderr",
     "output_type": "stream",
     "text": [
      "\u001b[38;5;229m\u001b[48;5;16m[yippy]\u001b[0m \u001b[32mINFO [2025-04-22 16:02:50,947] \u001b[0mCreating usort_offaxis_ovc coronagraph\n",
      "\u001b[38;5;229m\u001b[48;5;16m[yippy]\u001b[0m \u001b[33mWARNING [2025-04-22 16:02:50,948] \u001b[0mUnhandled header fields: {'D_INSC'}\n",
      "\u001b[38;5;229m\u001b[48;5;16m[yippy]\u001b[0m \u001b[33mWARNING [2025-04-22 16:02:50,949] \u001b[0mUsing default unit for D: m. Could not extract unit from comment: \"circumscribed diameter of the telescope in mete\"\n",
      "\u001b[38;5;229m\u001b[48;5;16m[yippy]\u001b[0m \u001b[32mINFO [2025-04-22 16:02:50,980] \u001b[0musort_offaxis_ovc is radially symmetric\n",
      "\u001b[38;5;229m\u001b[48;5;16m[yippy]\u001b[0m \u001b[32mINFO [2025-04-22 16:02:50,994] \u001b[0mCreated usort_offaxis_ovc\n"
     ]
    },
    {
     "name": "stdout",
     "output_type": "stream",
     "text": [
      "Using psf_trunc_ratio to calculate Omega...\n",
      "Setting the noise floor via user-supplied noisefloor_PPF...\n",
      "Azimuthally averaging contrast maps and noise floor...\n",
      "Calculating optics throughput from preset...\n",
      "Calculating epswarmTrcold as 1 - optics throughput...\n",
      "Observatory Configuration:\n",
      "  Using preset: EAC1\n",
      "\n"
     ]
    },
    {
     "name": "stderr",
     "output_type": "stream",
     "text": [
      "\u001b[38;5;229m\u001b[48;5;16m[yippy]\u001b[0m \u001b[32mINFO [2025-04-22 16:02:55,970] \u001b[0mCreating usort_offaxis_ovc coronagraph\n",
      "\u001b[38;5;229m\u001b[48;5;16m[yippy]\u001b[0m \u001b[33mWARNING [2025-04-22 16:02:55,972] \u001b[0mUnhandled header fields: {'D_INSC'}\n",
      "\u001b[38;5;229m\u001b[48;5;16m[yippy]\u001b[0m \u001b[33mWARNING [2025-04-22 16:02:55,972] \u001b[0mUsing default unit for D: m. Could not extract unit from comment: \"circumscribed diameter of the telescope in mete\"\n",
      "\u001b[38;5;229m\u001b[48;5;16m[yippy]\u001b[0m \u001b[32mINFO [2025-04-22 16:02:56,006] \u001b[0musort_offaxis_ovc is radially symmetric\n",
      "\u001b[38;5;229m\u001b[48;5;16m[yippy]\u001b[0m \u001b[32mINFO [2025-04-22 16:02:56,022] \u001b[0mCreated usort_offaxis_ovc\n"
     ]
    },
    {
     "name": "stdout",
     "output_type": "stream",
     "text": [
      "Using psf_trunc_ratio to calculate Omega...\n",
      "Setting the noise floor via user-supplied noisefloor_PPF...\n",
      "Azimuthally averaging contrast maps and noise floor...\n",
      "Calculating optics throughput from preset...\n",
      "Calculating epswarmTrcold as 1 - optics throughput...\n",
      "Observatory Configuration:\n",
      "  Using preset: EAC1\n",
      "\n"
     ]
    },
    {
     "name": "stderr",
     "output_type": "stream",
     "text": [
      "\u001b[38;5;229m\u001b[48;5;16m[yippy]\u001b[0m \u001b[32mINFO [2025-04-22 16:03:01,316] \u001b[0mCreating usort_offaxis_ovc coronagraph\n",
      "\u001b[38;5;229m\u001b[48;5;16m[yippy]\u001b[0m \u001b[33mWARNING [2025-04-22 16:03:01,318] \u001b[0mUnhandled header fields: {'D_INSC'}\n",
      "\u001b[38;5;229m\u001b[48;5;16m[yippy]\u001b[0m \u001b[33mWARNING [2025-04-22 16:03:01,318] \u001b[0mUsing default unit for D: m. Could not extract unit from comment: \"circumscribed diameter of the telescope in mete\"\n",
      "\u001b[38;5;229m\u001b[48;5;16m[yippy]\u001b[0m \u001b[32mINFO [2025-04-22 16:03:01,389] \u001b[0musort_offaxis_ovc is radially symmetric\n",
      "\u001b[38;5;229m\u001b[48;5;16m[yippy]\u001b[0m \u001b[32mINFO [2025-04-22 16:03:01,418] \u001b[0mCreated usort_offaxis_ovc\n"
     ]
    },
    {
     "name": "stdout",
     "output_type": "stream",
     "text": [
      "Using psf_trunc_ratio to calculate Omega...\n",
      "Setting the noise floor via user-supplied noisefloor_PPF...\n",
      "Azimuthally averaging contrast maps and noise floor...\n",
      "Calculating optics throughput from preset...\n",
      "Calculating epswarmTrcold as 1 - optics throughput...\n",
      "Observatory Configuration:\n",
      "  Using preset: EAC1\n",
      "\n"
     ]
    },
    {
     "name": "stderr",
     "output_type": "stream",
     "text": [
      "\u001b[38;5;229m\u001b[48;5;16m[yippy]\u001b[0m \u001b[32mINFO [2025-04-22 16:03:07,035] \u001b[0mCreating usort_offaxis_ovc coronagraph\n",
      "\u001b[38;5;229m\u001b[48;5;16m[yippy]\u001b[0m \u001b[33mWARNING [2025-04-22 16:03:07,037] \u001b[0mUnhandled header fields: {'D_INSC'}\n",
      "\u001b[38;5;229m\u001b[48;5;16m[yippy]\u001b[0m \u001b[33mWARNING [2025-04-22 16:03:07,038] \u001b[0mUsing default unit for D: m. Could not extract unit from comment: \"circumscribed diameter of the telescope in mete\"\n",
      "\u001b[38;5;229m\u001b[48;5;16m[yippy]\u001b[0m \u001b[32mINFO [2025-04-22 16:03:07,069] \u001b[0musort_offaxis_ovc is radially symmetric\n",
      "\u001b[38;5;229m\u001b[48;5;16m[yippy]\u001b[0m \u001b[32mINFO [2025-04-22 16:03:07,087] \u001b[0mCreated usort_offaxis_ovc\n"
     ]
    },
    {
     "name": "stdout",
     "output_type": "stream",
     "text": [
      "Using psf_trunc_ratio to calculate Omega...\n",
      "Setting the noise floor via user-supplied noisefloor_PPF...\n",
      "Azimuthally averaging contrast maps and noise floor...\n",
      "Calculating optics throughput from preset...\n",
      "Calculating epswarmTrcold as 1 - optics throughput...\n",
      "Observatory Configuration:\n",
      "  Using preset: EAC1\n",
      "\n"
     ]
    },
    {
     "name": "stderr",
     "output_type": "stream",
     "text": [
      "\u001b[38;5;229m\u001b[48;5;16m[yippy]\u001b[0m \u001b[32mINFO [2025-04-22 16:03:12,762] \u001b[0mCreating usort_offaxis_ovc coronagraph\n",
      "\u001b[38;5;229m\u001b[48;5;16m[yippy]\u001b[0m \u001b[33mWARNING [2025-04-22 16:03:12,764] \u001b[0mUnhandled header fields: {'D_INSC'}\n",
      "\u001b[38;5;229m\u001b[48;5;16m[yippy]\u001b[0m \u001b[33mWARNING [2025-04-22 16:03:12,764] \u001b[0mUsing default unit for D: m. Could not extract unit from comment: \"circumscribed diameter of the telescope in mete\"\n",
      "\u001b[38;5;229m\u001b[48;5;16m[yippy]\u001b[0m \u001b[32mINFO [2025-04-22 16:03:12,808] \u001b[0musort_offaxis_ovc is radially symmetric\n",
      "\u001b[38;5;229m\u001b[48;5;16m[yippy]\u001b[0m \u001b[32mINFO [2025-04-22 16:03:12,830] \u001b[0mCreated usort_offaxis_ovc\n"
     ]
    },
    {
     "name": "stdout",
     "output_type": "stream",
     "text": [
      "Using psf_trunc_ratio to calculate Omega...\n",
      "Setting the noise floor via user-supplied noisefloor_PPF...\n",
      "Azimuthally averaging contrast maps and noise floor...\n",
      "Calculating optics throughput from preset...\n",
      "Calculating epswarmTrcold as 1 - optics throughput...\n",
      "Observatory Configuration:\n",
      "  Using preset: EAC1\n",
      "\n"
     ]
    },
    {
     "name": "stderr",
     "output_type": "stream",
     "text": [
      "\u001b[38;5;229m\u001b[48;5;16m[yippy]\u001b[0m \u001b[32mINFO [2025-04-22 16:03:17,621] \u001b[0mCreating usort_offaxis_ovc coronagraph\n",
      "\u001b[38;5;229m\u001b[48;5;16m[yippy]\u001b[0m \u001b[33mWARNING [2025-04-22 16:03:17,623] \u001b[0mUnhandled header fields: {'D_INSC'}\n",
      "\u001b[38;5;229m\u001b[48;5;16m[yippy]\u001b[0m \u001b[33mWARNING [2025-04-22 16:03:17,624] \u001b[0mUsing default unit for D: m. Could not extract unit from comment: \"circumscribed diameter of the telescope in mete\"\n",
      "\u001b[38;5;229m\u001b[48;5;16m[yippy]\u001b[0m \u001b[32mINFO [2025-04-22 16:03:17,657] \u001b[0musort_offaxis_ovc is radially symmetric\n",
      "\u001b[38;5;229m\u001b[48;5;16m[yippy]\u001b[0m \u001b[32mINFO [2025-04-22 16:03:17,675] \u001b[0mCreated usort_offaxis_ovc\n"
     ]
    },
    {
     "name": "stdout",
     "output_type": "stream",
     "text": [
      "Using psf_trunc_ratio to calculate Omega...\n",
      "Setting the noise floor via user-supplied noisefloor_PPF...\n",
      "Azimuthally averaging contrast maps and noise floor...\n",
      "Calculating optics throughput from preset...\n",
      "Calculating epswarmTrcold as 1 - optics throughput...\n",
      "Observatory Configuration:\n",
      "  Using preset: EAC1\n",
      "\n"
     ]
    },
    {
     "name": "stderr",
     "output_type": "stream",
     "text": [
      "\u001b[38;5;229m\u001b[48;5;16m[yippy]\u001b[0m \u001b[32mINFO [2025-04-22 16:03:22,705] \u001b[0mCreating usort_offaxis_ovc coronagraph\n",
      "\u001b[38;5;229m\u001b[48;5;16m[yippy]\u001b[0m \u001b[33mWARNING [2025-04-22 16:03:22,706] \u001b[0mUnhandled header fields: {'D_INSC'}\n",
      "\u001b[38;5;229m\u001b[48;5;16m[yippy]\u001b[0m \u001b[33mWARNING [2025-04-22 16:03:22,707] \u001b[0mUsing default unit for D: m. Could not extract unit from comment: \"circumscribed diameter of the telescope in mete\"\n",
      "\u001b[38;5;229m\u001b[48;5;16m[yippy]\u001b[0m \u001b[32mINFO [2025-04-22 16:03:22,755] \u001b[0musort_offaxis_ovc is radially symmetric\n",
      "\u001b[38;5;229m\u001b[48;5;16m[yippy]\u001b[0m \u001b[32mINFO [2025-04-22 16:03:22,776] \u001b[0mCreated usort_offaxis_ovc\n"
     ]
    },
    {
     "name": "stdout",
     "output_type": "stream",
     "text": [
      "Using psf_trunc_ratio to calculate Omega...\n",
      "Setting the noise floor via user-supplied noisefloor_PPF...\n",
      "Azimuthally averaging contrast maps and noise floor...\n",
      "Calculating optics throughput from preset...\n",
      "Calculating epswarmTrcold as 1 - optics throughput...\n",
      "Observatory Configuration:\n",
      "  Using preset: EAC1\n",
      "\n"
     ]
    },
    {
     "name": "stderr",
     "output_type": "stream",
     "text": [
      "\u001b[38;5;229m\u001b[48;5;16m[yippy]\u001b[0m \u001b[32mINFO [2025-04-22 16:03:27,713] \u001b[0mCreating usort_offaxis_ovc coronagraph\n",
      "\u001b[38;5;229m\u001b[48;5;16m[yippy]\u001b[0m \u001b[33mWARNING [2025-04-22 16:03:27,714] \u001b[0mUnhandled header fields: {'D_INSC'}\n",
      "\u001b[38;5;229m\u001b[48;5;16m[yippy]\u001b[0m \u001b[33mWARNING [2025-04-22 16:03:27,715] \u001b[0mUsing default unit for D: m. Could not extract unit from comment: \"circumscribed diameter of the telescope in mete\"\n",
      "\u001b[38;5;229m\u001b[48;5;16m[yippy]\u001b[0m \u001b[32mINFO [2025-04-22 16:03:27,747] \u001b[0musort_offaxis_ovc is radially symmetric\n",
      "\u001b[38;5;229m\u001b[48;5;16m[yippy]\u001b[0m \u001b[32mINFO [2025-04-22 16:03:27,764] \u001b[0mCreated usort_offaxis_ovc\n"
     ]
    },
    {
     "name": "stdout",
     "output_type": "stream",
     "text": [
      "Using psf_trunc_ratio to calculate Omega...\n",
      "Setting the noise floor via user-supplied noisefloor_PPF...\n",
      "Azimuthally averaging contrast maps and noise floor...\n",
      "Calculating optics throughput from preset...\n",
      "Calculating epswarmTrcold as 1 - optics throughput...\n",
      "Observatory Configuration:\n",
      "  Using preset: EAC1\n",
      "\n"
     ]
    },
    {
     "name": "stderr",
     "output_type": "stream",
     "text": [
      "\u001b[38;5;229m\u001b[48;5;16m[yippy]\u001b[0m \u001b[32mINFO [2025-04-22 16:03:32,590] \u001b[0mCreating usort_offaxis_ovc coronagraph\n",
      "\u001b[38;5;229m\u001b[48;5;16m[yippy]\u001b[0m \u001b[33mWARNING [2025-04-22 16:03:32,592] \u001b[0mUnhandled header fields: {'D_INSC'}\n",
      "\u001b[38;5;229m\u001b[48;5;16m[yippy]\u001b[0m \u001b[33mWARNING [2025-04-22 16:03:32,592] \u001b[0mUsing default unit for D: m. Could not extract unit from comment: \"circumscribed diameter of the telescope in mete\"\n",
      "\u001b[38;5;229m\u001b[48;5;16m[yippy]\u001b[0m \u001b[32mINFO [2025-04-22 16:03:32,640] \u001b[0musort_offaxis_ovc is radially symmetric\n",
      "\u001b[38;5;229m\u001b[48;5;16m[yippy]\u001b[0m \u001b[32mINFO [2025-04-22 16:03:32,662] \u001b[0mCreated usort_offaxis_ovc\n"
     ]
    },
    {
     "name": "stdout",
     "output_type": "stream",
     "text": [
      "Using psf_trunc_ratio to calculate Omega...\n",
      "Setting the noise floor via user-supplied noisefloor_PPF...\n",
      "Azimuthally averaging contrast maps and noise floor...\n",
      "Calculating optics throughput from preset...\n",
      "Calculating epswarmTrcold as 1 - optics throughput...\n",
      "Observatory Configuration:\n",
      "  Using preset: EAC1\n",
      "\n"
     ]
    },
    {
     "name": "stderr",
     "output_type": "stream",
     "text": [
      "\u001b[38;5;229m\u001b[48;5;16m[yippy]\u001b[0m \u001b[32mINFO [2025-04-22 16:03:37,404] \u001b[0mCreating usort_offaxis_ovc coronagraph\n",
      "\u001b[38;5;229m\u001b[48;5;16m[yippy]\u001b[0m \u001b[33mWARNING [2025-04-22 16:03:37,406] \u001b[0mUnhandled header fields: {'D_INSC'}\n",
      "\u001b[38;5;229m\u001b[48;5;16m[yippy]\u001b[0m \u001b[33mWARNING [2025-04-22 16:03:37,406] \u001b[0mUsing default unit for D: m. Could not extract unit from comment: \"circumscribed diameter of the telescope in mete\"\n",
      "\u001b[38;5;229m\u001b[48;5;16m[yippy]\u001b[0m \u001b[32mINFO [2025-04-22 16:03:37,452] \u001b[0musort_offaxis_ovc is radially symmetric\n",
      "\u001b[38;5;229m\u001b[48;5;16m[yippy]\u001b[0m \u001b[32mINFO [2025-04-22 16:03:37,469] \u001b[0mCreated usort_offaxis_ovc\n"
     ]
    },
    {
     "name": "stdout",
     "output_type": "stream",
     "text": [
      "Using psf_trunc_ratio to calculate Omega...\n",
      "Setting the noise floor via user-supplied noisefloor_PPF...\n",
      "Azimuthally averaging contrast maps and noise floor...\n",
      "Calculating optics throughput from preset...\n",
      "Calculating epswarmTrcold as 1 - optics throughput...\n",
      "Observatory Configuration:\n",
      "  Using preset: EAC1\n",
      "\n"
     ]
    },
    {
     "name": "stderr",
     "output_type": "stream",
     "text": [
      "\u001b[38;5;229m\u001b[48;5;16m[yippy]\u001b[0m \u001b[32mINFO [2025-04-22 16:03:42,368] \u001b[0mCreating usort_offaxis_ovc coronagraph\n",
      "\u001b[38;5;229m\u001b[48;5;16m[yippy]\u001b[0m \u001b[33mWARNING [2025-04-22 16:03:42,369] \u001b[0mUnhandled header fields: {'D_INSC'}\n",
      "\u001b[38;5;229m\u001b[48;5;16m[yippy]\u001b[0m \u001b[33mWARNING [2025-04-22 16:03:42,370] \u001b[0mUsing default unit for D: m. Could not extract unit from comment: \"circumscribed diameter of the telescope in mete\"\n",
      "\u001b[38;5;229m\u001b[48;5;16m[yippy]\u001b[0m \u001b[32mINFO [2025-04-22 16:03:42,406] \u001b[0musort_offaxis_ovc is radially symmetric\n",
      "\u001b[38;5;229m\u001b[48;5;16m[yippy]\u001b[0m \u001b[32mINFO [2025-04-22 16:03:42,425] \u001b[0mCreated usort_offaxis_ovc\n"
     ]
    },
    {
     "name": "stdout",
     "output_type": "stream",
     "text": [
      "Using psf_trunc_ratio to calculate Omega...\n",
      "Setting the noise floor via user-supplied noisefloor_PPF...\n",
      "Azimuthally averaging contrast maps and noise floor...\n",
      "Calculating optics throughput from preset...\n",
      "Calculating epswarmTrcold as 1 - optics throughput...\n",
      "Observatory Configuration:\n",
      "  Using preset: EAC1\n",
      "\n"
     ]
    },
    {
     "name": "stderr",
     "output_type": "stream",
     "text": [
      "\u001b[38;5;229m\u001b[48;5;16m[yippy]\u001b[0m \u001b[32mINFO [2025-04-22 16:03:47,553] \u001b[0mCreating usort_offaxis_ovc coronagraph\n",
      "\u001b[38;5;229m\u001b[48;5;16m[yippy]\u001b[0m \u001b[33mWARNING [2025-04-22 16:03:47,554] \u001b[0mUnhandled header fields: {'D_INSC'}\n",
      "\u001b[38;5;229m\u001b[48;5;16m[yippy]\u001b[0m \u001b[33mWARNING [2025-04-22 16:03:47,555] \u001b[0mUsing default unit for D: m. Could not extract unit from comment: \"circumscribed diameter of the telescope in mete\"\n",
      "\u001b[38;5;229m\u001b[48;5;16m[yippy]\u001b[0m \u001b[32mINFO [2025-04-22 16:03:47,589] \u001b[0musort_offaxis_ovc is radially symmetric\n",
      "\u001b[38;5;229m\u001b[48;5;16m[yippy]\u001b[0m \u001b[32mINFO [2025-04-22 16:03:47,607] \u001b[0mCreated usort_offaxis_ovc\n"
     ]
    },
    {
     "name": "stdout",
     "output_type": "stream",
     "text": [
      "Using psf_trunc_ratio to calculate Omega...\n",
      "Setting the noise floor via user-supplied noisefloor_PPF...\n",
      "Azimuthally averaging contrast maps and noise floor...\n",
      "Calculating optics throughput from preset...\n",
      "Calculating epswarmTrcold as 1 - optics throughput...\n",
      "Observatory Configuration:\n",
      "  Using preset: EAC1\n",
      "\n"
     ]
    },
    {
     "name": "stderr",
     "output_type": "stream",
     "text": [
      "\u001b[38;5;229m\u001b[48;5;16m[yippy]\u001b[0m \u001b[32mINFO [2025-04-22 16:03:52,363] \u001b[0mCreating usort_offaxis_ovc coronagraph\n",
      "\u001b[38;5;229m\u001b[48;5;16m[yippy]\u001b[0m \u001b[33mWARNING [2025-04-22 16:03:52,364] \u001b[0mUnhandled header fields: {'D_INSC'}\n",
      "\u001b[38;5;229m\u001b[48;5;16m[yippy]\u001b[0m \u001b[33mWARNING [2025-04-22 16:03:52,365] \u001b[0mUsing default unit for D: m. Could not extract unit from comment: \"circumscribed diameter of the telescope in mete\"\n",
      "\u001b[38;5;229m\u001b[48;5;16m[yippy]\u001b[0m \u001b[32mINFO [2025-04-22 16:03:52,398] \u001b[0musort_offaxis_ovc is radially symmetric\n",
      "\u001b[38;5;229m\u001b[48;5;16m[yippy]\u001b[0m \u001b[32mINFO [2025-04-22 16:03:52,416] \u001b[0mCreated usort_offaxis_ovc\n"
     ]
    },
    {
     "name": "stdout",
     "output_type": "stream",
     "text": [
      "Using psf_trunc_ratio to calculate Omega...\n",
      "Setting the noise floor via user-supplied noisefloor_PPF...\n",
      "Azimuthally averaging contrast maps and noise floor...\n",
      "Calculating optics throughput from preset...\n",
      "Calculating epswarmTrcold as 1 - optics throughput...\n",
      "Observatory Configuration:\n",
      "  Using preset: EAC1\n",
      "\n"
     ]
    },
    {
     "name": "stderr",
     "output_type": "stream",
     "text": [
      "\u001b[38;5;229m\u001b[48;5;16m[yippy]\u001b[0m \u001b[32mINFO [2025-04-22 16:03:57,726] \u001b[0mCreating usort_offaxis_ovc coronagraph\n",
      "\u001b[38;5;229m\u001b[48;5;16m[yippy]\u001b[0m \u001b[33mWARNING [2025-04-22 16:03:57,728] \u001b[0mUnhandled header fields: {'D_INSC'}\n",
      "\u001b[38;5;229m\u001b[48;5;16m[yippy]\u001b[0m \u001b[33mWARNING [2025-04-22 16:03:57,729] \u001b[0mUsing default unit for D: m. Could not extract unit from comment: \"circumscribed diameter of the telescope in mete\"\n",
      "\u001b[38;5;229m\u001b[48;5;16m[yippy]\u001b[0m \u001b[32mINFO [2025-04-22 16:03:57,770] \u001b[0musort_offaxis_ovc is radially symmetric\n",
      "\u001b[38;5;229m\u001b[48;5;16m[yippy]\u001b[0m \u001b[32mINFO [2025-04-22 16:03:57,798] \u001b[0mCreated usort_offaxis_ovc\n"
     ]
    },
    {
     "name": "stdout",
     "output_type": "stream",
     "text": [
      "Using psf_trunc_ratio to calculate Omega...\n",
      "Setting the noise floor via user-supplied noisefloor_PPF...\n",
      "Azimuthally averaging contrast maps and noise floor...\n",
      "Calculating optics throughput from preset...\n",
      "Calculating epswarmTrcold as 1 - optics throughput...\n",
      "Observatory Configuration:\n",
      "  Using preset: EAC1\n",
      "\n"
     ]
    },
    {
     "name": "stderr",
     "output_type": "stream",
     "text": [
      "\u001b[38;5;229m\u001b[48;5;16m[yippy]\u001b[0m \u001b[32mINFO [2025-04-22 16:04:02,687] \u001b[0mCreating usort_offaxis_ovc coronagraph\n",
      "\u001b[38;5;229m\u001b[48;5;16m[yippy]\u001b[0m \u001b[33mWARNING [2025-04-22 16:04:02,688] \u001b[0mUnhandled header fields: {'D_INSC'}\n",
      "\u001b[38;5;229m\u001b[48;5;16m[yippy]\u001b[0m \u001b[33mWARNING [2025-04-22 16:04:02,689] \u001b[0mUsing default unit for D: m. Could not extract unit from comment: \"circumscribed diameter of the telescope in mete\"\n",
      "\u001b[38;5;229m\u001b[48;5;16m[yippy]\u001b[0m \u001b[32mINFO [2025-04-22 16:04:02,859] \u001b[0musort_offaxis_ovc is radially symmetric\n",
      "\u001b[38;5;229m\u001b[48;5;16m[yippy]\u001b[0m \u001b[32mINFO [2025-04-22 16:04:02,886] \u001b[0mCreated usort_offaxis_ovc\n"
     ]
    },
    {
     "name": "stdout",
     "output_type": "stream",
     "text": [
      "Using psf_trunc_ratio to calculate Omega...\n",
      "Setting the noise floor via user-supplied noisefloor_PPF...\n",
      "Azimuthally averaging contrast maps and noise floor...\n",
      "Calculating optics throughput from preset...\n",
      "Calculating epswarmTrcold as 1 - optics throughput...\n",
      "WARNING: Photometric aperture is not large enough. Hardcoded infinity results.\n",
      "Observatory Configuration:\n",
      "  Using preset: EAC1\n",
      "\n"
     ]
    },
    {
     "name": "stderr",
     "output_type": "stream",
     "text": [
      "\u001b[38;5;229m\u001b[48;5;16m[yippy]\u001b[0m \u001b[32mINFO [2025-04-22 16:04:08,127] \u001b[0mCreating usort_offaxis_ovc coronagraph\n",
      "\u001b[38;5;229m\u001b[48;5;16m[yippy]\u001b[0m \u001b[33mWARNING [2025-04-22 16:04:08,129] \u001b[0mUnhandled header fields: {'D_INSC'}\n",
      "\u001b[38;5;229m\u001b[48;5;16m[yippy]\u001b[0m \u001b[33mWARNING [2025-04-22 16:04:08,130] \u001b[0mUsing default unit for D: m. Could not extract unit from comment: \"circumscribed diameter of the telescope in mete\"\n",
      "\u001b[38;5;229m\u001b[48;5;16m[yippy]\u001b[0m \u001b[32mINFO [2025-04-22 16:04:08,167] \u001b[0musort_offaxis_ovc is radially symmetric\n",
      "\u001b[38;5;229m\u001b[48;5;16m[yippy]\u001b[0m \u001b[32mINFO [2025-04-22 16:04:08,186] \u001b[0mCreated usort_offaxis_ovc\n"
     ]
    },
    {
     "name": "stdout",
     "output_type": "stream",
     "text": [
      "Using psf_trunc_ratio to calculate Omega...\n",
      "Setting the noise floor via user-supplied noisefloor_PPF...\n",
      "Azimuthally averaging contrast maps and noise floor...\n",
      "Calculating optics throughput from preset...\n",
      "Calculating epswarmTrcold as 1 - optics throughput...\n",
      "WARNING: Photometric aperture is not large enough. Hardcoded infinity results.\n"
     ]
    },
    {
     "data": {
      "image/png": "[encoded data removed]",
      "text/plain": [
       "<Figure size 1000x600 with 1 Axes>"
      ]
     },
     "metadata": {},
     "output_type": "display_data"
    }
   ],
   "source": [
    "# SNR Case\n",
    " \n",
    "psfratios = np.linspace(0.1, 1, 20)   \n",
    "exptime=15*u.hr\n",
    "snrs = []\n",
    "\n",
    "for ratio in psfratios:\n",
    "    params = imaging_params.copy()\n",
    "    params['psf_trunc_ratio'] = ratio\n",
    "    parsed_parameters= parse_input.parse_parameters(params)\n",
    "    snr,_ = calculate_snr(parsed_parameters,exptime, verbose=False)\n",
    "    snrs.append(snr[0].value)\n",
    "\n",
    "# MAKE PLOT\n",
    "fig, ax1 = plt.subplots(figsize=(10, 6))\n",
    "# Primary x-axis (separation arcsec)\n",
    "ax1.plot(psfratios, snrs, marker='o', label='Valid exposures')\n",
    "\n",
    "\n",
    "ax1.set_xlabel('PSF Truncation Ratio')\n",
    "ax1.set_ylabel('SNR')\n",
    "ax1.grid(True)\n",
    "\n",
    "plt.title('SNR vs. PSF Truncation Ratio')\n",
    "plt.legend()\n",
    "plt.tight_layout()\n",
    "plt.show()\n",
    "\n",
    "# SNR maximized at 0.3, just like it should! "
   ]
  },
  {
   "cell_type": "markdown",
   "metadata": {},
   "source": [
    "## 6. Advanced Tutorials\n",
    "\n",
    "From the previous examples you noticed that we called `calculate_texp` in a loop multiple times. This makes the code start over and over, which slows down the process for large loops. If you want to speed up the calculation, you can work within `calculate_texp` and loop only what you need. Here are the contents of `calculate_texp`."
   ]
  },
  {
   "cell_type": "code",
   "execution_count": 14,
   "metadata": {},
   "outputs": [
    {
     "name": "stdout",
     "output_type": "stream",
     "text": [
      "Observatory Configuration:\n",
      "  Using preset: EAC1\n",
      "\n"
     ]
    },
    {
     "name": "stderr",
     "output_type": "stream",
     "text": [
      "\u001b[38;5;229m\u001b[48;5;16m[yippy]\u001b[0m \u001b[32mINFO [2025-04-22 16:05:02,189] \u001b[0mCreating usort_offaxis_ovc coronagraph\n",
      "\u001b[38;5;229m\u001b[48;5;16m[yippy]\u001b[0m \u001b[33mWARNING [2025-04-22 16:05:02,192] \u001b[0mUnhandled header fields: {'D_INSC'}\n",
      "\u001b[38;5;229m\u001b[48;5;16m[yippy]\u001b[0m \u001b[33mWARNING [2025-04-22 16:05:02,193] \u001b[0mUsing default unit for D: m. Could not extract unit from comment: \"circumscribed diameter of the telescope in mete\"\n",
      "\u001b[38;5;229m\u001b[48;5;16m[yippy]\u001b[0m \u001b[32mINFO [2025-04-22 16:05:02,260] \u001b[0musort_offaxis_ovc is radially symmetric\n",
      "\u001b[38;5;229m\u001b[48;5;16m[yippy]\u001b[0m \u001b[32mINFO [2025-04-22 16:05:02,358] \u001b[0mCreated usort_offaxis_ovc\n"
     ]
    },
    {
     "name": "stdout",
     "output_type": "stream",
     "text": [
      "Using psf_trunc_ratio to calculate Omega...\n",
      "Setting the noise floor via user-supplied noisefloor_PPF...\n",
      "Azimuthally averaging contrast maps and noise floor...\n",
      "Calculating optics throughput from preset...\n",
      "Calculating epswarmTrcold as 1 - optics throughput...\n"
     ]
    }
   ],
   "source": [
    "from pyEDITH import calculate_exposure_time_or_snr, parse_input\n",
    "params = imaging_params.copy()\n",
    "\n",
    "# Parse the desired parameters\n",
    "parsed_parameters= parse_input.parse_parameters(params)\n",
    "\n",
    "# Define Observation and load relevant parameters\n",
    "observation = Observation()\n",
    "observation.load_configuration(parsed_parameters)\n",
    "observation.set_output_arrays()\n",
    "observation.validate_configuration()\n",
    "\n",
    "# Define Astrophysical Scene and load relevant parameters,\n",
    "# then calculate zodi/exozodi\n",
    "scene = AstrophysicalScene()\n",
    "scene.load_configuration(parsed_parameters)\n",
    "scene.calculate_zodi_exozodi(observation)\n",
    "scene.validate_configuration()\n",
    "\n",
    "# Create and configure Observatory using ObservatoryBuilder\n",
    "observatory_config = parse_input.get_observatory_config(parsed_parameters)\n",
    "observatory = ObservatoryBuilder.create_observatory(observatory_config)\n",
    "ObservatoryBuilder.configure_observatory(\n",
    "    observatory, parsed_parameters, observation, scene\n",
    ")\n",
    "observatory.validate_configuration()\n",
    "\n",
    "# EXPOSURE TIME CALCULATION\n",
    "calculate_exposure_time_or_snr(\n",
    "    observation,\n",
    "    scene,\n",
    "    observatory,\n",
    "    verbose=False,\n",
    "    mode=\"exposure_time\",\n",
    ")"
   ]
  },
  {
   "cell_type": "markdown",
   "metadata": {},
   "source": [
    "If we want to loop, we would just do (separation example):"
   ]
  },
  {
   "cell_type": "code",
   "execution_count": 16,
   "metadata": {},
   "outputs": [
    {
     "name": "stdout",
     "output_type": "stream",
     "text": [
      "Observatory Configuration:\n",
      "  Using preset: EAC1\n",
      "\n"
     ]
    },
    {
     "name": "stderr",
     "output_type": "stream",
     "text": [
      "\u001b[38;5;229m\u001b[48;5;16m[yippy]\u001b[0m \u001b[32mINFO [2025-04-22 16:05:29,678] \u001b[0mCreating usort_offaxis_ovc coronagraph\n",
      "\u001b[38;5;229m\u001b[48;5;16m[yippy]\u001b[0m \u001b[33mWARNING [2025-04-22 16:05:29,679] \u001b[0mUnhandled header fields: {'D_INSC'}\n",
      "\u001b[38;5;229m\u001b[48;5;16m[yippy]\u001b[0m \u001b[33mWARNING [2025-04-22 16:05:29,680] \u001b[0mUsing default unit for D: m. Could not extract unit from comment: \"circumscribed diameter of the telescope in mete\"\n",
      "\u001b[38;5;229m\u001b[48;5;16m[yippy]\u001b[0m \u001b[32mINFO [2025-04-22 16:05:29,729] \u001b[0musort_offaxis_ovc is radially symmetric\n",
      "\u001b[38;5;229m\u001b[48;5;16m[yippy]\u001b[0m \u001b[32mINFO [2025-04-22 16:05:29,800] \u001b[0mCreated usort_offaxis_ovc\n"
     ]
    },
    {
     "name": "stdout",
     "output_type": "stream",
     "text": [
      "Using psf_trunc_ratio to calculate Omega...\n",
      "Setting the noise floor via user-supplied noisefloor_PPF...\n",
      "Azimuthally averaging contrast maps and noise floor...\n",
      "Calculating optics throughput from preset...\n",
      "Calculating epswarmTrcold as 1 - optics throughput...\n",
      "WARNING: Planet outside OWA or inside IWA. Hardcoded infinity results.\n",
      "WARNING: Planet outside OWA or inside IWA. Hardcoded infinity results.\n",
      "WARNING: Planet outside OWA or inside IWA. Hardcoded infinity results.\n",
      "WARNING: Planet outside OWA or inside IWA. Hardcoded infinity results.\n",
      "WARNING: Planet outside OWA or inside IWA. Hardcoded infinity results.\n",
      "WARNING: Planet outside OWA or inside IWA. Hardcoded infinity results.\n",
      "WARNING: Planet outside OWA or inside IWA. Hardcoded infinity results.\n",
      "WARNING: Planet outside OWA or inside IWA. Hardcoded infinity results.\n",
      "WARNING: Planet outside OWA or inside IWA. Hardcoded infinity results.\n",
      "WARNING: Planet outside OWA or inside IWA. Hardcoded infinity results.\n"
     ]
    },
    {
     "name": "stderr",
     "output_type": "stream",
     "text": [
      "/var/folders/10/v9qwyn2d7mx1blfr1v345wz80000gp/T/ipykernel_86166/820108676.py:75: UserWarning: No artists with labels found to put in legend.  Note that artists whose label start with an underscore are ignored when legend() is called with no argument.\n",
      "  plt.legend()\n"
     ]
    },
    {
     "data": {
      "image/png": "[encoded data removed]",
      "text/plain": [
       "<Figure size 1000x600 with 2 Axes>"
      ]
     },
     "metadata": {},
     "output_type": "display_data"
    }
   ],
   "source": [
    "separations = np.linspace(0.005, 0.8, 20)  # arcsec \n",
    "\n",
    "exposure_times=[]\n",
    "params = imaging_params.copy()\n",
    "\n",
    "from pyEDITH import calculate_exposure_time_or_snr, parse_input\n",
    "\n",
    "# Parse the desired parameters\n",
    "parsed_parameters= parse_input.parse_parameters(params)\n",
    "\n",
    "# Define Observation and load relevant parameters\n",
    "observation = Observation()\n",
    "observation.load_configuration(parsed_parameters)\n",
    "observation.set_output_arrays()\n",
    "observation.validate_configuration()\n",
    "\n",
    "# Define Astrophysical Scene and load relevant parameters,\n",
    "# then calculate zodi/exozodi\n",
    "scene = AstrophysicalScene()\n",
    "scene.load_configuration(parsed_parameters)\n",
    "scene.calculate_zodi_exozodi(observation)\n",
    "scene.validate_configuration()\n",
    "\n",
    "# Create and configure Observatory using ObservatoryBuilder\n",
    "observatory_config = parse_input.get_observatory_config(parsed_parameters)\n",
    "observatory = ObservatoryBuilder.create_observatory(observatory_config)\n",
    "ObservatoryBuilder.configure_observatory(\n",
    "    observatory, parsed_parameters, observation, scene\n",
    ")\n",
    "observatory.validate_configuration()\n",
    "\n",
    "for sep in separations:\n",
    "    \n",
    "    scene.separation = sep * ARCSEC #radial separation\n",
    "    scene.xp = sep*ARCSEC #x axis separation\n",
    "\n",
    "    calculate_exposure_time_or_snr(\n",
    "    observation,\n",
    "    scene,\n",
    "    observatory,\n",
    "    verbose=False,\n",
    "    mode=\"exposure_time\",\n",
    ")\n",
    "    exposure_times.append(observation.exptime[0].to(u.hr).value)\n",
    "\n",
    "\n",
    "fig, ax1 = plt.subplots(figsize=(10, 6))\n",
    "# Primary x-axis (separation arcsec)\n",
    "ax1.plot(separations, exposure_times, marker='o', label='Valid exposures')\n",
    "ax1.plot(separations[np.isinf(exposure_times)],\n",
    "         np.ones_like(separations)[np.isinf(exposure_times)]*50,\n",
    "         marker='x', linestyle='', color='red', label='Infinite exposures')\n",
    "\n",
    "\n",
    "ax1.set_xlabel('Separation (arcsec)')\n",
    "ax1.set_ylabel('Exposure time (hours)')\n",
    "ax1.grid(True)\n",
    "\n",
    "separations_lod = arcsec_to_lambda_d(separations*ARCSEC,\n",
    "observation.wavelength[0].to(LENGTH),\n",
    "observatory.telescope.diameter.to(LENGTH),\n",
    ")\n",
    "# # Secondary x-axis (lambda/D)\n",
    "num_ticks = 5 \n",
    "tick_indices = np.linspace(0, len(separations) - 1, num_ticks, dtype=int)\n",
    "reduced_separations = [separations[i] for i in tick_indices]\n",
    "reduced_separations_lod = [separations_lod[i] for i in tick_indices]\n",
    "ax2 = ax1.twiny()\n",
    "ax2.set_xticks(reduced_separations)\n",
    "ax2.set_xticklabels([f'{m:.1f}' for m in reduced_separations_lod])\n",
    "ax2.set_xlim(ax1.get_xlim())\n",
    "ax2.set_xlabel('Separation (lambda/D)')\n",
    "\n",
    "plt.title('Exposure Time vs. Separation')\n",
    "plt.legend()\n",
    "plt.tight_layout()\n",
    "\n",
    "\n"
   ]
  }
 ],
 "metadata": {
  "kernelspec": {
   "display_name": "test_eacy",
   "language": "python",
   "name": "python3"
  },
  "language_info": {
   "codemirror_mode": {
    "name": "ipython",
    "version": 3
   },
   "file_extension": ".py",
   "mimetype": "text/x-python",
   "name": "python",
   "nbconvert_exporter": "python",
   "pygments_lexer": "ipython3",
   "version": "3.10.16"
  }
 },
 "nbformat": 4,
 "nbformat_minor": 2
}

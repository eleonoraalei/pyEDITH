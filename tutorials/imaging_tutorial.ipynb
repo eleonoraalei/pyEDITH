{
 "cells": [
  {
   "cell_type": "markdown",
   "metadata": {},
   "source": [
    "# pyEDITH Tutorial: Imaging Mode\n",
    "\n",
    "This tutorial will guide you through using pyEDITH in imaging mode.\n",
    "\n",
    "## Before we start\n",
    "\n",
    "Make sure you download the latest YAML files  at https://github.com/HWO-GOMAP-Working-Groups/Sci-Eng-Interface/tree/main\n",
    "and make a folder that contains your Coronagraph Input Package YIP files.\n",
    "\n",
    "## Setup\n",
    "First, let's import the necessary modules and set up our environment:\n"
   ]
  },
  {
   "cell_type": "code",
   "execution_count": 1,
   "metadata": {},
   "outputs": [],
   "source": [
    "import os\n",
    "import numpy as np\n",
    "import matplotlib.pyplot as plt\n",
    "from astropy import units as u\n",
    "from pyEDITH import parse_input, calculate_texp, calculate_snr, AstrophysicalScene, Observation, ObservatoryBuilder\n",
    "from pyEDITH.units import *\n",
    "\n",
    "# Set the necessary environment variables --> REPLACE WITH YOUR PATHS. \n",
    "# You can also open your .bashrc (or .zshrc) and type:\n",
    "# export SCI_ENG_DIR=\"/path/to/Sci-Eng-Interface/hwo_sci_eng\"\n",
    "# export YIP_CORO_DIR=\"/path/to/yips\"\n",
    "\n"
   ]
  },
  {
   "cell_type": "markdown",
   "metadata": {},
   "source": [
    "### 1. Setting up the Observation Parameters\n",
    "\n",
    "Let's start by defining the parameters for an Earth-like planet around HIP 79672 (used in the ETC validation).\n",
    "\n",
    "**Note:** Parameters that vary with lambda (lambd, resolution, snr, mag, delta_mag...) can be both floats and lists. If len(lambd)>1 and any of the other values is a float, it becomes a list of length len(lambd) internally."
   ]
  },
  {
   "cell_type": "code",
   "execution_count": 2,
   "metadata": {},
   "outputs": [],
   "source": [
    "imaging_params = {\n",
    "    'wavelength': 0.5,              # Wavelength in microns\n",
    "    'snr': 7,                       # Desired signal-to-noise ratio\n",
    "    'bandwidth': 0.2,               # Bandwidth of observation\n",
    "    'CRb_multiplier': 2.0,          # Count rate ratio multiplier (assuming differential imaging for PSF subtraction)\n",
    "    'psf_trunc_ratio': 0.3,         # PSF Truncation Ratio to calculate photometric aperture of solid angle Omega. \n",
    "    'Lstar': 1.8,                   # Stellar luminosity in Solar luminosity units\n",
    "    'magV': 5.44,                   # Stellar magnitude in V band\n",
    "    'mag': 5.687,                   # Stellar magnitude in observation band\n",
    "    'distance': 18.2,               # Distance to star in parsecs\n",
    "    'stellar_angular_diameter': 0.0006,     # Angular diameter of star in arcseconds\n",
    "    'nzodis': 3.0,                  # Number of zodiacal light disks\n",
    "    'ra': 101.5589542028,           # Right ascension of star [deg]\n",
    "    'dec': 79.56481016336,          # Declination of star [deg]\n",
    "    'separation': 0.074205598,      # Separation between star and planet in arcseconds\n",
    "    'delta_mag_min': 25,            # Minimum detectable delta magnitude\n",
    "    'delta_mag': 25.5,              # Delta magnitude between star and planet\n",
    "    'observatory_preset': 'EAC1',   # Preset observatory configuration\n",
    "    'observing_mode': 'IMAGER',     # Observing mode\n",
    "}\n"
   ]
  },
  {
   "cell_type": "markdown",
   "metadata": {},
   "source": [
    "### 2. Calculating Exposure Time\n",
    "Now, let's calculate the exposure time for our imaging observation:"
   ]
  },
  {
   "cell_type": "code",
   "execution_count": 3,
   "metadata": {},
   "outputs": [
    {
     "name": "stdout",
     "output_type": "stream",
     "text": [
      "Observatory Configuration:\n",
      "  Using preset: EAC1\n",
      "\n"
     ]
    },
    {
     "name": "stderr",
     "output_type": "stream",
     "text": [
      "\u001b[38;5;229m\u001b[48;5;16m[yippy]\u001b[0m \u001b[32mINFO [2025-05-22 09:38:58,668] \u001b[0mCreating usort_offaxis_ovc coronagraph\n",
      "\u001b[38;5;229m\u001b[48;5;16m[yippy]\u001b[0m \u001b[33mWARNING [2025-05-22 09:38:58,670] \u001b[0mUnhandled header fields: {'D_INSC'}\n",
      "\u001b[38;5;229m\u001b[48;5;16m[yippy]\u001b[0m \u001b[33mWARNING [2025-05-22 09:38:58,671] \u001b[0mUsing default unit for D: m. Could not extract unit from comment: \"circumscribed diameter of the telescope in mete\"\n",
      "\u001b[38;5;229m\u001b[48;5;16m[yippy]\u001b[0m \u001b[32mINFO [2025-05-22 09:38:58,726] \u001b[0musort_offaxis_ovc is radially symmetric\n",
      "\u001b[38;5;229m\u001b[48;5;16m[yippy]\u001b[0m \u001b[32mINFO [2025-05-22 09:38:59,277] \u001b[0mCreated usort_offaxis_ovc\n"
     ]
    },
    {
     "name": "stdout",
     "output_type": "stream",
     "text": [
      "Using psf_trunc_ratio to calculate Omega...\n",
      "WARNING: No noise floor factor nor PPF provided, setting noisefloor to zero. If you want to have an estimate for the noisefloor, please use noisefloor_factor or noisefloor_PPF.\n",
      "Azimuthally averaging contrast maps and noise floor...\n",
      "Calculating optics throughput from preset...\n",
      "Calculating epswarmTrcold as 1 - optics throughput...\n",
      "Calculated exposure time: [14.7987237] h\n"
     ]
    }
   ],
   "source": [
    "# Make the parameters be the shape that the code desires \n",
    "parsed_parameters= parse_input.parse_parameters(imaging_params)\n",
    "\n",
    "# Calculate Exposure time\n",
    "texp, validation_output = calculate_texp(parsed_parameters, verbose=False)\n",
    "print(f\"Calculated exposure time: {texp.to(u.hr)}\")"
   ]
  },
  {
   "cell_type": "markdown",
   "metadata": {},
   "source": [
    "### 3. Calculate SNR\n",
    "\n",
    "Given an exposure time (e.g. 10 hrs), we can calculate the SNR for the desired bandpass."
   ]
  },
  {
   "cell_type": "code",
   "execution_count": 4,
   "metadata": {},
   "outputs": [
    {
     "name": "stdout",
     "output_type": "stream",
     "text": [
      "Observatory Configuration:\n",
      "  Using preset: EAC1\n",
      "\n"
     ]
    },
    {
     "name": "stderr",
     "output_type": "stream",
     "text": [
      "\u001b[38;5;229m\u001b[48;5;16m[yippy]\u001b[0m \u001b[32mINFO [2025-05-22 09:39:10,635] \u001b[0mCreating usort_offaxis_ovc coronagraph\n",
      "\u001b[38;5;229m\u001b[48;5;16m[yippy]\u001b[0m \u001b[33mWARNING [2025-05-22 09:39:10,637] \u001b[0mUnhandled header fields: {'D_INSC'}\n",
      "\u001b[38;5;229m\u001b[48;5;16m[yippy]\u001b[0m \u001b[33mWARNING [2025-05-22 09:39:10,637] \u001b[0mUsing default unit for D: m. Could not extract unit from comment: \"circumscribed diameter of the telescope in mete\"\n",
      "\u001b[38;5;229m\u001b[48;5;16m[yippy]\u001b[0m \u001b[32mINFO [2025-05-22 09:39:10,686] \u001b[0musort_offaxis_ovc is radially symmetric\n",
      "\u001b[38;5;229m\u001b[48;5;16m[yippy]\u001b[0m \u001b[32mINFO [2025-05-22 09:39:10,736] \u001b[0mCreated usort_offaxis_ovc\n"
     ]
    },
    {
     "name": "stdout",
     "output_type": "stream",
     "text": [
      "Using psf_trunc_ratio to calculate Omega...\n",
      "WARNING: No noise floor factor nor PPF provided, setting noisefloor to zero. If you want to have an estimate for the noisefloor, please use noisefloor_factor or noisefloor_PPF.\n",
      "Azimuthally averaging contrast maps and noise floor...\n",
      "Calculating optics throughput from preset...\n",
      "Calculating epswarmTrcold as 1 - optics throughput...\n",
      "Calculated snr: [5.49541783]\n"
     ]
    }
   ],
   "source": [
    "# Make the parameters be the shape that the code desires \n",
    "parsed_parameters= parse_input.parse_parameters(imaging_params)\n",
    "\n",
    "# Calculate SNR given a specific exposure time\n",
    "texp = 10*u.hr\n",
    "snr, validation_output = calculate_snr(parsed_parameters, texp, verbose=False)\n",
    "print(f\"Calculated snr: {snr}\")"
   ]
  },
  {
   "cell_type": "markdown",
   "metadata": {},
   "source": [
    "`validation_output` contains some interesting quantities that you can use to double check or validate, or to plot additional quantities."
   ]
  },
  {
   "cell_type": "code",
   "execution_count": 5,
   "metadata": {},
   "outputs": [
    {
     "data": {
      "text/plain": [
       "{0: {'F0': <Quantity 12638.83670769 ph / (nm s cm2)>,\n",
       "  'magstar': <Quantity [5.687] mag>,\n",
       "  'Lstar': <Quantity 1.8 solLum>,\n",
       "  'dist': <Quantity 18.2 pc>,\n",
       "  'D': <Quantity 7.225765 m>,\n",
       "  'A_cm': <Quantity 410069.58591604 cm2>,\n",
       "  'wavelength': <Quantity 500. nm>,\n",
       "  'deltalambda_nm': <Quantity 100. nm>,\n",
       "  'snr': <Quantity 7.>,\n",
       "  'nzodis': <Quantity 3. zodi>,\n",
       "  'toverhead_fixed': <Quantity 8250. s>,\n",
       "  'toverhead_multi': <Quantity 1.1>,\n",
       "  'det_DC': <Quantity 3.e-05 electron / (pix s)>,\n",
       "  'det_RN': <Quantity 0.1 electron / (pix read)>,\n",
       "  'det_CIC': <Quantity 0. electron / (frame pix)>,\n",
       "  'det_tread': <Quantity 1000. s / read>,\n",
       "  'det_pixscale_mas': <Quantity 7.13643491 mas>,\n",
       "  'dQE': <Quantity 0.75>,\n",
       "  'QE': <Quantity 0.88749741 electron / ph>,\n",
       "  'T_optical': <Quantity 0.36198356>,\n",
       "  'Fs_over_F0': <Quantity 67.12852472 ph / (nm s cm2)>,\n",
       "  'Fp': <Quantity 4.23552357e-09 ph / (nm s cm2)>,\n",
       "  'Fzodi': <Quantity 4.71862514e-06 ph / (nm s arcsec2 cm2)>,\n",
       "  'Fexozodi': <Quantity 4.95627071e-05 arcsec^-2 ph / (nm s arcsec2 cm2 pc2)>,\n",
       "  'sp_lod': <Quantity 5.19906641 λ/D>,\n",
       "  'omega_lod': <Quantity 2.80619768>,\n",
       "  'T_core or photometric_aperture_throughput': <Quantity 0.35196856>,\n",
       "  'Istar': <Quantity 3.02668705e-15>,\n",
       "  'Istar*oneopixscale2 in (l/D)^-2': <Quantity 4.84269928e-14>,\n",
       "  'skytrans': <Quantity 0.56503755>,\n",
       "  'skytrans*oneopixscale2  in (l/D)^-2': <Quantity 9.04060084>,\n",
       "  'det_npix': <Quantity 27.0660789 pix>,\n",
       "  't_photon_count': <Quantity 5.77291516 s / frame>,\n",
       "  'CRp': <Quantity 0.02945885 electron / s>,\n",
       "  'CRbs': <Quantity 0.00018027 electron / s>,\n",
       "  'CRbz': <Quantity 0.03011885>,\n",
       "  'CRbez': <Quantity 0.31635738>,\n",
       "  'CRbbin': <Quantity 0. electron / s>,\n",
       "  'CRbth': <Quantity 1.81083333e-29 electron / s>,\n",
       "  'CRb': <Quantity 0.34773914 electron / s>,\n",
       "  'CRbd': <Quantity 0.00108264 electron / s>,\n",
       "  'CRnf': <Quantity 0. electron / s>,\n",
       "  'sciencetime': <Quantity 0.>,\n",
       "  'exptime': <Quantity 0. s>}}"
      ]
     },
     "execution_count": 5,
     "metadata": {},
     "output_type": "execute_result"
    }
   ],
   "source": [
    "validation_output"
   ]
  },
  {
   "cell_type": "markdown",
   "metadata": {},
   "source": [
    "### 4. Simultaneous Observations (primary Exposure Time informs secondary SNR)\n",
    "\n",
    "This is useful to simulate simultaneous observations. For example, we assume the primary (detection) bandpass to be 0.5 micron with 20% bandwidth. What is the SNR of a secondary bandpass at 1 micron with 20% bandpass?"
   ]
  },
  {
   "cell_type": "code",
   "execution_count": 6,
   "metadata": {},
   "outputs": [
    {
     "name": "stdout",
     "output_type": "stream",
     "text": [
      "Calculating texp from primary lambda\n",
      "Observatory Configuration:\n",
      "  Using preset: EAC1\n",
      "\n"
     ]
    },
    {
     "name": "stderr",
     "output_type": "stream",
     "text": [
      "\u001b[38;5;229m\u001b[48;5;16m[yippy]\u001b[0m \u001b[32mINFO [2025-05-22 09:39:15,885] \u001b[0mCreating usort_offaxis_ovc coronagraph\n",
      "\u001b[38;5;229m\u001b[48;5;16m[yippy]\u001b[0m \u001b[33mWARNING [2025-05-22 09:39:15,887] \u001b[0mUnhandled header fields: {'D_INSC'}\n",
      "\u001b[38;5;229m\u001b[48;5;16m[yippy]\u001b[0m \u001b[33mWARNING [2025-05-22 09:39:15,887] \u001b[0mUsing default unit for D: m. Could not extract unit from comment: \"circumscribed diameter of the telescope in mete\"\n",
      "\u001b[38;5;229m\u001b[48;5;16m[yippy]\u001b[0m \u001b[32mINFO [2025-05-22 09:39:15,926] \u001b[0musort_offaxis_ovc is radially symmetric\n",
      "\u001b[38;5;229m\u001b[48;5;16m[yippy]\u001b[0m \u001b[32mINFO [2025-05-22 09:39:15,944] \u001b[0mCreated usort_offaxis_ovc\n"
     ]
    },
    {
     "name": "stdout",
     "output_type": "stream",
     "text": [
      "Using psf_trunc_ratio to calculate Omega...\n",
      "WARNING: No noise floor factor nor PPF provided, setting noisefloor to zero. If you want to have an estimate for the noisefloor, please use noisefloor_factor or noisefloor_PPF.\n",
      "Azimuthally averaging contrast maps and noise floor...\n",
      "Calculating optics throughput from preset...\n",
      "Calculating epswarmTrcold as 1 - optics throughput...\n",
      "Reference exposure time:  [14.7987237] h\n",
      "Calculating snr on secondary lambda\n",
      "Observatory Configuration:\n",
      "  Using preset: EAC1\n",
      "\n"
     ]
    },
    {
     "name": "stderr",
     "output_type": "stream",
     "text": [
      "\u001b[38;5;229m\u001b[48;5;16m[yippy]\u001b[0m \u001b[32mINFO [2025-05-22 09:39:20,779] \u001b[0mCreating usort_offaxis_ovc coronagraph\n",
      "\u001b[38;5;229m\u001b[48;5;16m[yippy]\u001b[0m \u001b[33mWARNING [2025-05-22 09:39:20,780] \u001b[0mUnhandled header fields: {'D_INSC'}\n",
      "\u001b[38;5;229m\u001b[48;5;16m[yippy]\u001b[0m \u001b[33mWARNING [2025-05-22 09:39:20,781] \u001b[0mUsing default unit for D: m. Could not extract unit from comment: \"circumscribed diameter of the telescope in mete\"\n",
      "\u001b[38;5;229m\u001b[48;5;16m[yippy]\u001b[0m \u001b[32mINFO [2025-05-22 09:39:20,817] \u001b[0musort_offaxis_ovc is radially symmetric\n",
      "\u001b[38;5;229m\u001b[48;5;16m[yippy]\u001b[0m \u001b[32mINFO [2025-05-22 09:39:20,835] \u001b[0mCreated usort_offaxis_ovc\n"
     ]
    },
    {
     "name": "stdout",
     "output_type": "stream",
     "text": [
      "Using psf_trunc_ratio to calculate Omega...\n",
      "WARNING: No noise floor factor nor PPF provided, setting noisefloor to zero. If you want to have an estimate for the noisefloor, please use noisefloor_factor or noisefloor_PPF.\n",
      "Azimuthally averaging contrast maps and noise floor...\n",
      "Calculating optics throughput from preset...\n",
      "Calculating epswarmTrcold as 1 - optics throughput...\n",
      "SNR at the secondary lambda:  [2.7807643]\n"
     ]
    }
   ],
   "source": [
    "# Let's note down the values that change compared to imaging_params\n",
    "secondary_imaging_params = {\n",
    "    'wavelength': 1,  # Wavelength in microns\n",
    "    'mag': 4.742178,  # Stellar magnitude in observation band\n",
    "    }\n",
    "\n",
    "# Fill the missing values\n",
    "for key in imaging_params:\n",
    "        if key not in secondary_imaging_params:\n",
    "            secondary_imaging_params[key] = imaging_params[key]\n",
    "\n",
    "print(\"Calculating texp from primary lambda\")\n",
    "parsed_parameters= parse_input.parse_parameters(imaging_params)\n",
    "texp, _ = calculate_texp(parsed_parameters, verbose=False)\n",
    "print(\"Reference exposure time: \", texp.to(u.hr))\n",
    "if np.isfinite(texp).all():\n",
    "    print(\"Calculating snr on secondary lambda\")\n",
    "    parsed_secondary_parameters= parse_input.parse_parameters(secondary_imaging_params)\n",
    "\n",
    "    snr, _ = calculate_snr(parsed_secondary_parameters, texp, verbose=True)\n",
    "    print(\"SNR at the secondary lambda: \", snr)\n",
    "else:\n",
    "    raise ValueError(\"Returned exposure time is infinity.\")"
   ]
  },
  {
   "cell_type": "markdown",
   "metadata": {},
   "source": [
    "### 5. Exploring The Parameter Space\n"
   ]
  },
  {
   "cell_type": "markdown",
   "metadata": {},
   "source": [
    "#### 5.1. Planet-to-star contrast\n",
    "Let's explore how the exposure time changes with planet-to-star contrast:\n",
    "\n"
   ]
  },
  {
   "cell_type": "code",
   "execution_count": 7,
   "metadata": {},
   "outputs": [
    {
     "name": "stdout",
     "output_type": "stream",
     "text": [
      "Observatory Configuration:\n",
      "  Using preset: EAC1\n",
      "\n"
     ]
    },
    {
     "name": "stderr",
     "output_type": "stream",
     "text": [
      "\u001b[38;5;229m\u001b[48;5;16m[yippy]\u001b[0m \u001b[32mINFO [2025-05-22 09:39:25,994] \u001b[0mCreating usort_offaxis_ovc coronagraph\n",
      "\u001b[38;5;229m\u001b[48;5;16m[yippy]\u001b[0m \u001b[33mWARNING [2025-05-22 09:39:25,996] \u001b[0mUnhandled header fields: {'D_INSC'}\n",
      "\u001b[38;5;229m\u001b[48;5;16m[yippy]\u001b[0m \u001b[33mWARNING [2025-05-22 09:39:25,996] \u001b[0mUsing default unit for D: m. Could not extract unit from comment: \"circumscribed diameter of the telescope in mete\"\n",
      "\u001b[38;5;229m\u001b[48;5;16m[yippy]\u001b[0m \u001b[32mINFO [2025-05-22 09:39:26,029] \u001b[0musort_offaxis_ovc is radially symmetric\n",
      "\u001b[38;5;229m\u001b[48;5;16m[yippy]\u001b[0m \u001b[32mINFO [2025-05-22 09:39:26,047] \u001b[0mCreated usort_offaxis_ovc\n"
     ]
    },
    {
     "name": "stdout",
     "output_type": "stream",
     "text": [
      "Using psf_trunc_ratio to calculate Omega...\n",
      "WARNING: No noise floor factor nor PPF provided, setting noisefloor to zero. If you want to have an estimate for the noisefloor, please use noisefloor_factor or noisefloor_PPF.\n",
      "Azimuthally averaging contrast maps and noise floor...\n",
      "Calculating optics throughput from preset...\n",
      "Calculating epswarmTrcold as 1 - optics throughput...\n",
      "Observatory Configuration:\n",
      "  Using preset: EAC1\n",
      "\n"
     ]
    },
    {
     "name": "stderr",
     "output_type": "stream",
     "text": [
      "\u001b[38;5;229m\u001b[48;5;16m[yippy]\u001b[0m \u001b[32mINFO [2025-05-22 09:39:31,122] \u001b[0mCreating usort_offaxis_ovc coronagraph\n",
      "\u001b[38;5;229m\u001b[48;5;16m[yippy]\u001b[0m \u001b[33mWARNING [2025-05-22 09:39:31,124] \u001b[0mUnhandled header fields: {'D_INSC'}\n",
      "\u001b[38;5;229m\u001b[48;5;16m[yippy]\u001b[0m \u001b[33mWARNING [2025-05-22 09:39:31,124] \u001b[0mUsing default unit for D: m. Could not extract unit from comment: \"circumscribed diameter of the telescope in mete\"\n",
      "\u001b[38;5;229m\u001b[48;5;16m[yippy]\u001b[0m \u001b[32mINFO [2025-05-22 09:39:31,157] \u001b[0musort_offaxis_ovc is radially symmetric\n",
      "\u001b[38;5;229m\u001b[48;5;16m[yippy]\u001b[0m \u001b[32mINFO [2025-05-22 09:39:31,174] \u001b[0mCreated usort_offaxis_ovc\n"
     ]
    },
    {
     "name": "stdout",
     "output_type": "stream",
     "text": [
      "Using psf_trunc_ratio to calculate Omega...\n",
      "WARNING: No noise floor factor nor PPF provided, setting noisefloor to zero. If you want to have an estimate for the noisefloor, please use noisefloor_factor or noisefloor_PPF.\n",
      "Azimuthally averaging contrast maps and noise floor...\n",
      "Calculating optics throughput from preset...\n",
      "Calculating epswarmTrcold as 1 - optics throughput...\n",
      "Observatory Configuration:\n",
      "  Using preset: EAC1\n",
      "\n"
     ]
    },
    {
     "name": "stderr",
     "output_type": "stream",
     "text": [
      "\u001b[38;5;229m\u001b[48;5;16m[yippy]\u001b[0m \u001b[32mINFO [2025-05-22 09:39:35,774] \u001b[0mCreating usort_offaxis_ovc coronagraph\n",
      "\u001b[38;5;229m\u001b[48;5;16m[yippy]\u001b[0m \u001b[33mWARNING [2025-05-22 09:39:35,775] \u001b[0mUnhandled header fields: {'D_INSC'}\n",
      "\u001b[38;5;229m\u001b[48;5;16m[yippy]\u001b[0m \u001b[33mWARNING [2025-05-22 09:39:35,776] \u001b[0mUsing default unit for D: m. Could not extract unit from comment: \"circumscribed diameter of the telescope in mete\"\n",
      "\u001b[38;5;229m\u001b[48;5;16m[yippy]\u001b[0m \u001b[32mINFO [2025-05-22 09:39:35,813] \u001b[0musort_offaxis_ovc is radially symmetric\n",
      "\u001b[38;5;229m\u001b[48;5;16m[yippy]\u001b[0m \u001b[32mINFO [2025-05-22 09:39:35,829] \u001b[0mCreated usort_offaxis_ovc\n"
     ]
    },
    {
     "name": "stdout",
     "output_type": "stream",
     "text": [
      "Using psf_trunc_ratio to calculate Omega...\n",
      "WARNING: No noise floor factor nor PPF provided, setting noisefloor to zero. If you want to have an estimate for the noisefloor, please use noisefloor_factor or noisefloor_PPF.\n",
      "Azimuthally averaging contrast maps and noise floor...\n",
      "Calculating optics throughput from preset...\n",
      "Calculating epswarmTrcold as 1 - optics throughput...\n",
      "Observatory Configuration:\n",
      "  Using preset: EAC1\n",
      "\n"
     ]
    },
    {
     "name": "stderr",
     "output_type": "stream",
     "text": [
      "\u001b[38;5;229m\u001b[48;5;16m[yippy]\u001b[0m \u001b[32mINFO [2025-05-22 09:39:40,337] \u001b[0mCreating usort_offaxis_ovc coronagraph\n",
      "\u001b[38;5;229m\u001b[48;5;16m[yippy]\u001b[0m \u001b[33mWARNING [2025-05-22 09:39:40,338] \u001b[0mUnhandled header fields: {'D_INSC'}\n",
      "\u001b[38;5;229m\u001b[48;5;16m[yippy]\u001b[0m \u001b[33mWARNING [2025-05-22 09:39:40,339] \u001b[0mUsing default unit for D: m. Could not extract unit from comment: \"circumscribed diameter of the telescope in mete\"\n",
      "\u001b[38;5;229m\u001b[48;5;16m[yippy]\u001b[0m \u001b[32mINFO [2025-05-22 09:39:40,370] \u001b[0musort_offaxis_ovc is radially symmetric\n",
      "\u001b[38;5;229m\u001b[48;5;16m[yippy]\u001b[0m \u001b[32mINFO [2025-05-22 09:39:40,389] \u001b[0mCreated usort_offaxis_ovc\n"
     ]
    },
    {
     "name": "stdout",
     "output_type": "stream",
     "text": [
      "Using psf_trunc_ratio to calculate Omega...\n",
      "WARNING: No noise floor factor nor PPF provided, setting noisefloor to zero. If you want to have an estimate for the noisefloor, please use noisefloor_factor or noisefloor_PPF.\n",
      "Azimuthally averaging contrast maps and noise floor...\n",
      "Calculating optics throughput from preset...\n",
      "Calculating epswarmTrcold as 1 - optics throughput...\n",
      "Observatory Configuration:\n",
      "  Using preset: EAC1\n",
      "\n"
     ]
    },
    {
     "name": "stderr",
     "output_type": "stream",
     "text": [
      "\u001b[38;5;229m\u001b[48;5;16m[yippy]\u001b[0m \u001b[32mINFO [2025-05-22 09:39:44,968] \u001b[0mCreating usort_offaxis_ovc coronagraph\n",
      "\u001b[38;5;229m\u001b[48;5;16m[yippy]\u001b[0m \u001b[33mWARNING [2025-05-22 09:39:44,969] \u001b[0mUnhandled header fields: {'D_INSC'}\n",
      "\u001b[38;5;229m\u001b[48;5;16m[yippy]\u001b[0m \u001b[33mWARNING [2025-05-22 09:39:44,969] \u001b[0mUsing default unit for D: m. Could not extract unit from comment: \"circumscribed diameter of the telescope in mete\"\n",
      "\u001b[38;5;229m\u001b[48;5;16m[yippy]\u001b[0m \u001b[32mINFO [2025-05-22 09:39:45,000] \u001b[0musort_offaxis_ovc is radially symmetric\n",
      "\u001b[38;5;229m\u001b[48;5;16m[yippy]\u001b[0m \u001b[32mINFO [2025-05-22 09:39:45,015] \u001b[0mCreated usort_offaxis_ovc\n"
     ]
    },
    {
     "name": "stdout",
     "output_type": "stream",
     "text": [
      "Using psf_trunc_ratio to calculate Omega...\n",
      "WARNING: No noise floor factor nor PPF provided, setting noisefloor to zero. If you want to have an estimate for the noisefloor, please use noisefloor_factor or noisefloor_PPF.\n",
      "Azimuthally averaging contrast maps and noise floor...\n",
      "Calculating optics throughput from preset...\n",
      "Calculating epswarmTrcold as 1 - optics throughput...\n",
      "Observatory Configuration:\n",
      "  Using preset: EAC1\n",
      "\n"
     ]
    },
    {
     "name": "stderr",
     "output_type": "stream",
     "text": [
      "\u001b[38;5;229m\u001b[48;5;16m[yippy]\u001b[0m \u001b[32mINFO [2025-05-22 09:39:49,530] \u001b[0mCreating usort_offaxis_ovc coronagraph\n",
      "\u001b[38;5;229m\u001b[48;5;16m[yippy]\u001b[0m \u001b[33mWARNING [2025-05-22 09:39:49,531] \u001b[0mUnhandled header fields: {'D_INSC'}\n",
      "\u001b[38;5;229m\u001b[48;5;16m[yippy]\u001b[0m \u001b[33mWARNING [2025-05-22 09:39:49,531] \u001b[0mUsing default unit for D: m. Could not extract unit from comment: \"circumscribed diameter of the telescope in mete\"\n",
      "\u001b[38;5;229m\u001b[48;5;16m[yippy]\u001b[0m \u001b[32mINFO [2025-05-22 09:39:49,585] \u001b[0musort_offaxis_ovc is radially symmetric\n",
      "\u001b[38;5;229m\u001b[48;5;16m[yippy]\u001b[0m \u001b[32mINFO [2025-05-22 09:39:49,607] \u001b[0mCreated usort_offaxis_ovc\n"
     ]
    },
    {
     "name": "stdout",
     "output_type": "stream",
     "text": [
      "Using psf_trunc_ratio to calculate Omega...\n",
      "WARNING: No noise floor factor nor PPF provided, setting noisefloor to zero. If you want to have an estimate for the noisefloor, please use noisefloor_factor or noisefloor_PPF.\n",
      "Azimuthally averaging contrast maps and noise floor...\n",
      "Calculating optics throughput from preset...\n",
      "Calculating epswarmTrcold as 1 - optics throughput...\n",
      "Observatory Configuration:\n",
      "  Using preset: EAC1\n",
      "\n"
     ]
    },
    {
     "name": "stderr",
     "output_type": "stream",
     "text": [
      "\u001b[38;5;229m\u001b[48;5;16m[yippy]\u001b[0m \u001b[32mINFO [2025-05-22 09:39:54,195] \u001b[0mCreating usort_offaxis_ovc coronagraph\n",
      "\u001b[38;5;229m\u001b[48;5;16m[yippy]\u001b[0m \u001b[33mWARNING [2025-05-22 09:39:54,197] \u001b[0mUnhandled header fields: {'D_INSC'}\n",
      "\u001b[38;5;229m\u001b[48;5;16m[yippy]\u001b[0m \u001b[33mWARNING [2025-05-22 09:39:54,197] \u001b[0mUsing default unit for D: m. Could not extract unit from comment: \"circumscribed diameter of the telescope in mete\"\n",
      "\u001b[38;5;229m\u001b[48;5;16m[yippy]\u001b[0m \u001b[32mINFO [2025-05-22 09:39:54,235] \u001b[0musort_offaxis_ovc is radially symmetric\n",
      "\u001b[38;5;229m\u001b[48;5;16m[yippy]\u001b[0m \u001b[32mINFO [2025-05-22 09:39:54,249] \u001b[0mCreated usort_offaxis_ovc\n"
     ]
    },
    {
     "name": "stdout",
     "output_type": "stream",
     "text": [
      "Using psf_trunc_ratio to calculate Omega...\n",
      "WARNING: No noise floor factor nor PPF provided, setting noisefloor to zero. If you want to have an estimate for the noisefloor, please use noisefloor_factor or noisefloor_PPF.\n",
      "Azimuthally averaging contrast maps and noise floor...\n",
      "Calculating optics throughput from preset...\n",
      "Calculating epswarmTrcold as 1 - optics throughput...\n",
      "Observatory Configuration:\n",
      "  Using preset: EAC1\n",
      "\n"
     ]
    },
    {
     "name": "stderr",
     "output_type": "stream",
     "text": [
      "\u001b[38;5;229m\u001b[48;5;16m[yippy]\u001b[0m \u001b[32mINFO [2025-05-22 09:39:58,768] \u001b[0mCreating usort_offaxis_ovc coronagraph\n",
      "\u001b[38;5;229m\u001b[48;5;16m[yippy]\u001b[0m \u001b[33mWARNING [2025-05-22 09:39:58,769] \u001b[0mUnhandled header fields: {'D_INSC'}\n",
      "\u001b[38;5;229m\u001b[48;5;16m[yippy]\u001b[0m \u001b[33mWARNING [2025-05-22 09:39:58,770] \u001b[0mUsing default unit for D: m. Could not extract unit from comment: \"circumscribed diameter of the telescope in mete\"\n",
      "\u001b[38;5;229m\u001b[48;5;16m[yippy]\u001b[0m \u001b[32mINFO [2025-05-22 09:39:58,802] \u001b[0musort_offaxis_ovc is radially symmetric\n",
      "\u001b[38;5;229m\u001b[48;5;16m[yippy]\u001b[0m \u001b[32mINFO [2025-05-22 09:39:58,817] \u001b[0mCreated usort_offaxis_ovc\n"
     ]
    },
    {
     "name": "stdout",
     "output_type": "stream",
     "text": [
      "Using psf_trunc_ratio to calculate Omega...\n",
      "WARNING: No noise floor factor nor PPF provided, setting noisefloor to zero. If you want to have an estimate for the noisefloor, please use noisefloor_factor or noisefloor_PPF.\n",
      "Azimuthally averaging contrast maps and noise floor...\n",
      "Calculating optics throughput from preset...\n",
      "Calculating epswarmTrcold as 1 - optics throughput...\n",
      "Observatory Configuration:\n",
      "  Using preset: EAC1\n",
      "\n"
     ]
    },
    {
     "name": "stderr",
     "output_type": "stream",
     "text": [
      "\u001b[38;5;229m\u001b[48;5;16m[yippy]\u001b[0m \u001b[32mINFO [2025-05-22 09:40:03,391] \u001b[0mCreating usort_offaxis_ovc coronagraph\n",
      "\u001b[38;5;229m\u001b[48;5;16m[yippy]\u001b[0m \u001b[33mWARNING [2025-05-22 09:40:03,392] \u001b[0mUnhandled header fields: {'D_INSC'}\n",
      "\u001b[38;5;229m\u001b[48;5;16m[yippy]\u001b[0m \u001b[33mWARNING [2025-05-22 09:40:03,392] \u001b[0mUsing default unit for D: m. Could not extract unit from comment: \"circumscribed diameter of the telescope in mete\"\n",
      "\u001b[38;5;229m\u001b[48;5;16m[yippy]\u001b[0m \u001b[32mINFO [2025-05-22 09:40:03,425] \u001b[0musort_offaxis_ovc is radially symmetric\n",
      "\u001b[38;5;229m\u001b[48;5;16m[yippy]\u001b[0m \u001b[32mINFO [2025-05-22 09:40:03,442] \u001b[0mCreated usort_offaxis_ovc\n"
     ]
    },
    {
     "name": "stdout",
     "output_type": "stream",
     "text": [
      "Using psf_trunc_ratio to calculate Omega...\n",
      "WARNING: No noise floor factor nor PPF provided, setting noisefloor to zero. If you want to have an estimate for the noisefloor, please use noisefloor_factor or noisefloor_PPF.\n",
      "Azimuthally averaging contrast maps and noise floor...\n",
      "Calculating optics throughput from preset...\n",
      "Calculating epswarmTrcold as 1 - optics throughput...\n",
      "Observatory Configuration:\n",
      "  Using preset: EAC1\n",
      "\n"
     ]
    },
    {
     "name": "stderr",
     "output_type": "stream",
     "text": [
      "\u001b[38;5;229m\u001b[48;5;16m[yippy]\u001b[0m \u001b[32mINFO [2025-05-22 09:40:07,995] \u001b[0mCreating usort_offaxis_ovc coronagraph\n",
      "\u001b[38;5;229m\u001b[48;5;16m[yippy]\u001b[0m \u001b[33mWARNING [2025-05-22 09:40:07,996] \u001b[0mUnhandled header fields: {'D_INSC'}\n",
      "\u001b[38;5;229m\u001b[48;5;16m[yippy]\u001b[0m \u001b[33mWARNING [2025-05-22 09:40:07,997] \u001b[0mUsing default unit for D: m. Could not extract unit from comment: \"circumscribed diameter of the telescope in mete\"\n",
      "\u001b[38;5;229m\u001b[48;5;16m[yippy]\u001b[0m \u001b[32mINFO [2025-05-22 09:40:08,033] \u001b[0musort_offaxis_ovc is radially symmetric\n",
      "\u001b[38;5;229m\u001b[48;5;16m[yippy]\u001b[0m \u001b[32mINFO [2025-05-22 09:40:08,050] \u001b[0mCreated usort_offaxis_ovc\n"
     ]
    },
    {
     "name": "stdout",
     "output_type": "stream",
     "text": [
      "Using psf_trunc_ratio to calculate Omega...\n",
      "WARNING: No noise floor factor nor PPF provided, setting noisefloor to zero. If you want to have an estimate for the noisefloor, please use noisefloor_factor or noisefloor_PPF.\n",
      "Azimuthally averaging contrast maps and noise floor...\n",
      "Calculating optics throughput from preset...\n",
      "Calculating epswarmTrcold as 1 - optics throughput...\n"
     ]
    },
    {
     "data": {
      "image/png": "[encoded data removed]",
      "text/plain": [
       "<Figure size 1000x600 with 2 Axes>"
      ]
     },
     "metadata": {},
     "output_type": "display_data"
    }
   ],
   "source": [
    "contrasts = np.logspace(-9, -11, 10)\n",
    "magnitudes = -2.5 * np.log10(contrasts)\n",
    "exposure_times = []\n",
    "\n",
    "\n",
    "for magnitude in magnitudes:\n",
    "    params = imaging_params.copy()\n",
    "    params['delta_mag'] = magnitude\n",
    "    # make the parameters be the shape that the code desires \n",
    "    parsed_parameters= parse_input.parse_parameters(params)\n",
    "    texp, validation_output = calculate_texp(parsed_parameters, verbose=False)\n",
    "\n",
    "\n",
    "    exposure_times.append(texp.to(u.hr).value)\n",
    "\n",
    "\n",
    "# MAKE PLOT\n",
    "fig, ax1 = plt.subplots(figsize=(10, 6))\n",
    "# Primary x-axis (contrast)\n",
    "ax1.semilogx(contrasts, exposure_times,marker='o')\n",
    "ax1.set_xlim([1e-9,1e-11])\n",
    "ax1.set_xlabel('Planet-to-star contrast')\n",
    "ax1.set_ylabel('Exposure time (hours)')\n",
    "ax1.grid(True)\n",
    "\n",
    "# Secondary x-axis (magnitude)\n",
    "ax2 = ax1.twiny()\n",
    "ax2.set_xscale('linear')\n",
    "ax2.set_xlim(ax1.get_xlim())\n",
    "\n",
    "# Reduce ticks on secondary axis\n",
    "num_ticks = 3 \n",
    "tick_indices = np.linspace(0, len(contrasts) - 1, num_ticks, dtype=int)\n",
    "reduced_contrasts = [contrasts[i] for i in tick_indices]\n",
    "reduced_magnitudes = [magnitudes[i] for i in tick_indices]\n",
    "ax2.set_xticks(reduced_contrasts)\n",
    "ax2.set_xticklabels([f'{m:.1f}' for m in reduced_magnitudes])\n",
    "ax2.set_xlabel('Magnitude difference (Δmag)')\n",
    "\n",
    "plt.title('Exposure Time vs Planet-to-Star Contrast')\n",
    "plt.tight_layout()\n",
    "plt.show()\n",
    "\n"
   ]
  },
  {
   "cell_type": "markdown",
   "metadata": {},
   "source": [
    "#### 5.2 Separation\n",
    "\n",
    "Now let's change the separation of the planet and see how the exposure time changes."
   ]
  },
  {
   "cell_type": "code",
   "execution_count": 8,
   "metadata": {},
   "outputs": [
    {
     "name": "stdout",
     "output_type": "stream",
     "text": [
      "Observatory Configuration:\n",
      "  Using preset: EAC1\n",
      "\n"
     ]
    },
    {
     "name": "stderr",
     "output_type": "stream",
     "text": [
      "\u001b[38;5;229m\u001b[48;5;16m[yippy]\u001b[0m \u001b[32mINFO [2025-05-22 09:40:12,819] \u001b[0mCreating usort_offaxis_ovc coronagraph\n",
      "\u001b[38;5;229m\u001b[48;5;16m[yippy]\u001b[0m \u001b[33mWARNING [2025-05-22 09:40:12,820] \u001b[0mUnhandled header fields: {'D_INSC'}\n",
      "\u001b[38;5;229m\u001b[48;5;16m[yippy]\u001b[0m \u001b[33mWARNING [2025-05-22 09:40:12,820] \u001b[0mUsing default unit for D: m. Could not extract unit from comment: \"circumscribed diameter of the telescope in mete\"\n",
      "\u001b[38;5;229m\u001b[48;5;16m[yippy]\u001b[0m \u001b[32mINFO [2025-05-22 09:40:12,853] \u001b[0musort_offaxis_ovc is radially symmetric\n",
      "\u001b[38;5;229m\u001b[48;5;16m[yippy]\u001b[0m \u001b[32mINFO [2025-05-22 09:40:12,869] \u001b[0mCreated usort_offaxis_ovc\n"
     ]
    },
    {
     "name": "stdout",
     "output_type": "stream",
     "text": [
      "Using psf_trunc_ratio to calculate Omega...\n",
      "WARNING: No noise floor factor nor PPF provided, setting noisefloor to zero. If you want to have an estimate for the noisefloor, please use noisefloor_factor or noisefloor_PPF.\n",
      "Azimuthally averaging contrast maps and noise floor...\n",
      "Calculating optics throughput from preset...\n",
      "Calculating epswarmTrcold as 1 - optics throughput...\n",
      "WARNING: Planet outside OWA or inside IWA. Hardcoded infinity results.\n",
      "Observatory Configuration:\n",
      "  Using preset: EAC1\n",
      "\n"
     ]
    },
    {
     "name": "stderr",
     "output_type": "stream",
     "text": [
      "\u001b[38;5;229m\u001b[48;5;16m[yippy]\u001b[0m \u001b[32mINFO [2025-05-22 09:40:17,372] \u001b[0mCreating usort_offaxis_ovc coronagraph\n",
      "\u001b[38;5;229m\u001b[48;5;16m[yippy]\u001b[0m \u001b[33mWARNING [2025-05-22 09:40:17,373] \u001b[0mUnhandled header fields: {'D_INSC'}\n",
      "\u001b[38;5;229m\u001b[48;5;16m[yippy]\u001b[0m \u001b[33mWARNING [2025-05-22 09:40:17,374] \u001b[0mUsing default unit for D: m. Could not extract unit from comment: \"circumscribed diameter of the telescope in mete\"\n",
      "\u001b[38;5;229m\u001b[48;5;16m[yippy]\u001b[0m \u001b[32mINFO [2025-05-22 09:40:17,405] \u001b[0musort_offaxis_ovc is radially symmetric\n",
      "\u001b[38;5;229m\u001b[48;5;16m[yippy]\u001b[0m \u001b[32mINFO [2025-05-22 09:40:17,420] \u001b[0mCreated usort_offaxis_ovc\n"
     ]
    },
    {
     "name": "stdout",
     "output_type": "stream",
     "text": [
      "Using psf_trunc_ratio to calculate Omega...\n",
      "WARNING: No noise floor factor nor PPF provided, setting noisefloor to zero. If you want to have an estimate for the noisefloor, please use noisefloor_factor or noisefloor_PPF.\n",
      "Azimuthally averaging contrast maps and noise floor...\n",
      "Calculating optics throughput from preset...\n",
      "Calculating epswarmTrcold as 1 - optics throughput...\n",
      "Observatory Configuration:\n",
      "  Using preset: EAC1\n",
      "\n"
     ]
    },
    {
     "name": "stderr",
     "output_type": "stream",
     "text": [
      "\u001b[38;5;229m\u001b[48;5;16m[yippy]\u001b[0m \u001b[32mINFO [2025-05-22 09:40:21,917] \u001b[0mCreating usort_offaxis_ovc coronagraph\n",
      "\u001b[38;5;229m\u001b[48;5;16m[yippy]\u001b[0m \u001b[33mWARNING [2025-05-22 09:40:21,918] \u001b[0mUnhandled header fields: {'D_INSC'}\n",
      "\u001b[38;5;229m\u001b[48;5;16m[yippy]\u001b[0m \u001b[33mWARNING [2025-05-22 09:40:21,918] \u001b[0mUsing default unit for D: m. Could not extract unit from comment: \"circumscribed diameter of the telescope in mete\"\n",
      "\u001b[38;5;229m\u001b[48;5;16m[yippy]\u001b[0m \u001b[32mINFO [2025-05-22 09:40:21,949] \u001b[0musort_offaxis_ovc is radially symmetric\n",
      "\u001b[38;5;229m\u001b[48;5;16m[yippy]\u001b[0m \u001b[32mINFO [2025-05-22 09:40:21,964] \u001b[0mCreated usort_offaxis_ovc\n"
     ]
    },
    {
     "name": "stdout",
     "output_type": "stream",
     "text": [
      "Using psf_trunc_ratio to calculate Omega...\n",
      "WARNING: No noise floor factor nor PPF provided, setting noisefloor to zero. If you want to have an estimate for the noisefloor, please use noisefloor_factor or noisefloor_PPF.\n",
      "Azimuthally averaging contrast maps and noise floor...\n",
      "Calculating optics throughput from preset...\n",
      "Calculating epswarmTrcold as 1 - optics throughput...\n",
      "Observatory Configuration:\n",
      "  Using preset: EAC1\n",
      "\n"
     ]
    },
    {
     "name": "stderr",
     "output_type": "stream",
     "text": [
      "\u001b[38;5;229m\u001b[48;5;16m[yippy]\u001b[0m \u001b[32mINFO [2025-05-22 09:40:26,515] \u001b[0mCreating usort_offaxis_ovc coronagraph\n",
      "\u001b[38;5;229m\u001b[48;5;16m[yippy]\u001b[0m \u001b[33mWARNING [2025-05-22 09:40:26,516] \u001b[0mUnhandled header fields: {'D_INSC'}\n",
      "\u001b[38;5;229m\u001b[48;5;16m[yippy]\u001b[0m \u001b[33mWARNING [2025-05-22 09:40:26,517] \u001b[0mUsing default unit for D: m. Could not extract unit from comment: \"circumscribed diameter of the telescope in mete\"\n",
      "\u001b[38;5;229m\u001b[48;5;16m[yippy]\u001b[0m \u001b[32mINFO [2025-05-22 09:40:26,548] \u001b[0musort_offaxis_ovc is radially symmetric\n",
      "\u001b[38;5;229m\u001b[48;5;16m[yippy]\u001b[0m \u001b[32mINFO [2025-05-22 09:40:26,564] \u001b[0mCreated usort_offaxis_ovc\n"
     ]
    },
    {
     "name": "stdout",
     "output_type": "stream",
     "text": [
      "Using psf_trunc_ratio to calculate Omega...\n",
      "WARNING: No noise floor factor nor PPF provided, setting noisefloor to zero. If you want to have an estimate for the noisefloor, please use noisefloor_factor or noisefloor_PPF.\n",
      "Azimuthally averaging contrast maps and noise floor...\n",
      "Calculating optics throughput from preset...\n",
      "Calculating epswarmTrcold as 1 - optics throughput...\n",
      "Observatory Configuration:\n",
      "  Using preset: EAC1\n",
      "\n"
     ]
    },
    {
     "name": "stderr",
     "output_type": "stream",
     "text": [
      "\u001b[38;5;229m\u001b[48;5;16m[yippy]\u001b[0m \u001b[32mINFO [2025-05-22 09:40:31,147] \u001b[0mCreating usort_offaxis_ovc coronagraph\n",
      "\u001b[38;5;229m\u001b[48;5;16m[yippy]\u001b[0m \u001b[33mWARNING [2025-05-22 09:40:31,148] \u001b[0mUnhandled header fields: {'D_INSC'}\n",
      "\u001b[38;5;229m\u001b[48;5;16m[yippy]\u001b[0m \u001b[33mWARNING [2025-05-22 09:40:31,149] \u001b[0mUsing default unit for D: m. Could not extract unit from comment: \"circumscribed diameter of the telescope in mete\"\n",
      "\u001b[38;5;229m\u001b[48;5;16m[yippy]\u001b[0m \u001b[32mINFO [2025-05-22 09:40:31,181] \u001b[0musort_offaxis_ovc is radially symmetric\n",
      "\u001b[38;5;229m\u001b[48;5;16m[yippy]\u001b[0m \u001b[32mINFO [2025-05-22 09:40:31,197] \u001b[0mCreated usort_offaxis_ovc\n"
     ]
    },
    {
     "name": "stdout",
     "output_type": "stream",
     "text": [
      "Using psf_trunc_ratio to calculate Omega...\n",
      "WARNING: No noise floor factor nor PPF provided, setting noisefloor to zero. If you want to have an estimate for the noisefloor, please use noisefloor_factor or noisefloor_PPF.\n",
      "Azimuthally averaging contrast maps and noise floor...\n",
      "Calculating optics throughput from preset...\n",
      "Calculating epswarmTrcold as 1 - optics throughput...\n",
      "Observatory Configuration:\n",
      "  Using preset: EAC1\n",
      "\n"
     ]
    },
    {
     "name": "stderr",
     "output_type": "stream",
     "text": [
      "\u001b[38;5;229m\u001b[48;5;16m[yippy]\u001b[0m \u001b[32mINFO [2025-05-22 09:40:35,718] \u001b[0mCreating usort_offaxis_ovc coronagraph\n",
      "\u001b[38;5;229m\u001b[48;5;16m[yippy]\u001b[0m \u001b[33mWARNING [2025-05-22 09:40:35,720] \u001b[0mUnhandled header fields: {'D_INSC'}\n",
      "\u001b[38;5;229m\u001b[48;5;16m[yippy]\u001b[0m \u001b[33mWARNING [2025-05-22 09:40:35,720] \u001b[0mUsing default unit for D: m. Could not extract unit from comment: \"circumscribed diameter of the telescope in mete\"\n",
      "\u001b[38;5;229m\u001b[48;5;16m[yippy]\u001b[0m \u001b[32mINFO [2025-05-22 09:40:35,752] \u001b[0musort_offaxis_ovc is radially symmetric\n",
      "\u001b[38;5;229m\u001b[48;5;16m[yippy]\u001b[0m \u001b[32mINFO [2025-05-22 09:40:35,768] \u001b[0mCreated usort_offaxis_ovc\n"
     ]
    },
    {
     "name": "stdout",
     "output_type": "stream",
     "text": [
      "Using psf_trunc_ratio to calculate Omega...\n",
      "WARNING: No noise floor factor nor PPF provided, setting noisefloor to zero. If you want to have an estimate for the noisefloor, please use noisefloor_factor or noisefloor_PPF.\n",
      "Azimuthally averaging contrast maps and noise floor...\n",
      "Calculating optics throughput from preset...\n",
      "Calculating epswarmTrcold as 1 - optics throughput...\n",
      "Observatory Configuration:\n",
      "  Using preset: EAC1\n",
      "\n"
     ]
    },
    {
     "name": "stderr",
     "output_type": "stream",
     "text": [
      "\u001b[38;5;229m\u001b[48;5;16m[yippy]\u001b[0m \u001b[32mINFO [2025-05-22 09:40:40,306] \u001b[0mCreating usort_offaxis_ovc coronagraph\n",
      "\u001b[38;5;229m\u001b[48;5;16m[yippy]\u001b[0m \u001b[33mWARNING [2025-05-22 09:40:40,307] \u001b[0mUnhandled header fields: {'D_INSC'}\n",
      "\u001b[38;5;229m\u001b[48;5;16m[yippy]\u001b[0m \u001b[33mWARNING [2025-05-22 09:40:40,307] \u001b[0mUsing default unit for D: m. Could not extract unit from comment: \"circumscribed diameter of the telescope in mete\"\n",
      "\u001b[38;5;229m\u001b[48;5;16m[yippy]\u001b[0m \u001b[32mINFO [2025-05-22 09:40:40,344] \u001b[0musort_offaxis_ovc is radially symmetric\n",
      "\u001b[38;5;229m\u001b[48;5;16m[yippy]\u001b[0m \u001b[32mINFO [2025-05-22 09:40:40,360] \u001b[0mCreated usort_offaxis_ovc\n"
     ]
    },
    {
     "name": "stdout",
     "output_type": "stream",
     "text": [
      "Using psf_trunc_ratio to calculate Omega...\n",
      "WARNING: No noise floor factor nor PPF provided, setting noisefloor to zero. If you want to have an estimate for the noisefloor, please use noisefloor_factor or noisefloor_PPF.\n",
      "Azimuthally averaging contrast maps and noise floor...\n",
      "Calculating optics throughput from preset...\n",
      "Calculating epswarmTrcold as 1 - optics throughput...\n",
      "WARNING: Planet outside OWA or inside IWA. Hardcoded infinity results.\n",
      "Observatory Configuration:\n",
      "  Using preset: EAC1\n",
      "\n"
     ]
    },
    {
     "name": "stderr",
     "output_type": "stream",
     "text": [
      "\u001b[38;5;229m\u001b[48;5;16m[yippy]\u001b[0m \u001b[32mINFO [2025-05-22 09:40:44,942] \u001b[0mCreating usort_offaxis_ovc coronagraph\n",
      "\u001b[38;5;229m\u001b[48;5;16m[yippy]\u001b[0m \u001b[33mWARNING [2025-05-22 09:40:44,944] \u001b[0mUnhandled header fields: {'D_INSC'}\n",
      "\u001b[38;5;229m\u001b[48;5;16m[yippy]\u001b[0m \u001b[33mWARNING [2025-05-22 09:40:44,944] \u001b[0mUsing default unit for D: m. Could not extract unit from comment: \"circumscribed diameter of the telescope in mete\"\n",
      "\u001b[38;5;229m\u001b[48;5;16m[yippy]\u001b[0m \u001b[32mINFO [2025-05-22 09:40:44,977] \u001b[0musort_offaxis_ovc is radially symmetric\n",
      "\u001b[38;5;229m\u001b[48;5;16m[yippy]\u001b[0m \u001b[32mINFO [2025-05-22 09:40:44,992] \u001b[0mCreated usort_offaxis_ovc\n"
     ]
    },
    {
     "name": "stdout",
     "output_type": "stream",
     "text": [
      "Using psf_trunc_ratio to calculate Omega...\n",
      "WARNING: No noise floor factor nor PPF provided, setting noisefloor to zero. If you want to have an estimate for the noisefloor, please use noisefloor_factor or noisefloor_PPF.\n",
      "Azimuthally averaging contrast maps and noise floor...\n",
      "Calculating optics throughput from preset...\n",
      "Calculating epswarmTrcold as 1 - optics throughput...\n",
      "WARNING: Planet outside OWA or inside IWA. Hardcoded infinity results.\n",
      "Observatory Configuration:\n",
      "  Using preset: EAC1\n",
      "\n"
     ]
    },
    {
     "name": "stderr",
     "output_type": "stream",
     "text": [
      "\u001b[38;5;229m\u001b[48;5;16m[yippy]\u001b[0m \u001b[32mINFO [2025-05-22 09:40:49,548] \u001b[0mCreating usort_offaxis_ovc coronagraph\n",
      "\u001b[38;5;229m\u001b[48;5;16m[yippy]\u001b[0m \u001b[33mWARNING [2025-05-22 09:40:49,549] \u001b[0mUnhandled header fields: {'D_INSC'}\n",
      "\u001b[38;5;229m\u001b[48;5;16m[yippy]\u001b[0m \u001b[33mWARNING [2025-05-22 09:40:49,550] \u001b[0mUsing default unit for D: m. Could not extract unit from comment: \"circumscribed diameter of the telescope in mete\"\n",
      "\u001b[38;5;229m\u001b[48;5;16m[yippy]\u001b[0m \u001b[32mINFO [2025-05-22 09:40:49,589] \u001b[0musort_offaxis_ovc is radially symmetric\n",
      "\u001b[38;5;229m\u001b[48;5;16m[yippy]\u001b[0m \u001b[32mINFO [2025-05-22 09:40:49,603] \u001b[0mCreated usort_offaxis_ovc\n"
     ]
    },
    {
     "name": "stdout",
     "output_type": "stream",
     "text": [
      "Using psf_trunc_ratio to calculate Omega...\n",
      "WARNING: No noise floor factor nor PPF provided, setting noisefloor to zero. If you want to have an estimate for the noisefloor, please use noisefloor_factor or noisefloor_PPF.\n",
      "Azimuthally averaging contrast maps and noise floor...\n",
      "Calculating optics throughput from preset...\n",
      "Calculating epswarmTrcold as 1 - optics throughput...\n",
      "WARNING: Planet outside OWA or inside IWA. Hardcoded infinity results.\n",
      "Observatory Configuration:\n",
      "  Using preset: EAC1\n",
      "\n"
     ]
    },
    {
     "name": "stderr",
     "output_type": "stream",
     "text": [
      "\u001b[38;5;229m\u001b[48;5;16m[yippy]\u001b[0m \u001b[32mINFO [2025-05-22 09:40:54,196] \u001b[0mCreating usort_offaxis_ovc coronagraph\n",
      "\u001b[38;5;229m\u001b[48;5;16m[yippy]\u001b[0m \u001b[33mWARNING [2025-05-22 09:40:54,197] \u001b[0mUnhandled header fields: {'D_INSC'}\n",
      "\u001b[38;5;229m\u001b[48;5;16m[yippy]\u001b[0m \u001b[33mWARNING [2025-05-22 09:40:54,197] \u001b[0mUsing default unit for D: m. Could not extract unit from comment: \"circumscribed diameter of the telescope in mete\"\n",
      "\u001b[38;5;229m\u001b[48;5;16m[yippy]\u001b[0m \u001b[32mINFO [2025-05-22 09:40:54,243] \u001b[0musort_offaxis_ovc is radially symmetric\n",
      "\u001b[38;5;229m\u001b[48;5;16m[yippy]\u001b[0m \u001b[32mINFO [2025-05-22 09:40:54,259] \u001b[0mCreated usort_offaxis_ovc\n"
     ]
    },
    {
     "name": "stdout",
     "output_type": "stream",
     "text": [
      "Using psf_trunc_ratio to calculate Omega...\n",
      "WARNING: No noise floor factor nor PPF provided, setting noisefloor to zero. If you want to have an estimate for the noisefloor, please use noisefloor_factor or noisefloor_PPF.\n",
      "Azimuthally averaging contrast maps and noise floor...\n",
      "Calculating optics throughput from preset...\n",
      "Calculating epswarmTrcold as 1 - optics throughput...\n",
      "WARNING: Planet outside OWA or inside IWA. Hardcoded infinity results.\n"
     ]
    },
    {
     "name": "stderr",
     "output_type": "stream",
     "text": [
      "/var/folders/10/v9qwyn2d7mx1blfr1v345wz80000gp/T/ipykernel_81758/226037628.py:43: UserWarning: No artists with labels found to put in legend.  Note that artists whose label start with an underscore are ignored when legend() is called with no argument.\n",
      "  plt.legend()\n"
     ]
    },
    {
     "data": {
      "image/png": "[encoded data removed]",
      "text/plain": [
       "<Figure size 1000x600 with 2 Axes>"
      ]
     },
     "metadata": {},
     "output_type": "display_data"
    }
   ],
   "source": [
    "separations = np.linspace(0.005, 0.8, 10)  # arcsec \n",
    "\n",
    "exposure_times = []\n",
    "\n",
    "for sep in separations:\n",
    "    params = imaging_params.copy()\n",
    "    params['separation'] = sep\n",
    "    parsed_parameters= parse_input.parse_parameters(params)\n",
    "    texp, _ = calculate_texp(parsed_parameters, verbose=False)\n",
    "    exposure_times.append(texp.to(u.hr)[0].value)\n",
    "\n",
    "# MAKE PLOT\n",
    "fig, ax1 = plt.subplots(figsize=(10, 6))\n",
    "# Primary x-axis (separation arcsec)\n",
    "ax1.plot(separations, exposure_times, marker='o', label='Valid exposures')\n",
    "ax1.plot(separations[np.isinf(exposure_times)],\n",
    "         np.ones_like(separations)[np.isinf(exposure_times)]*50,\n",
    "         marker='x', linestyle='', color='red', label='Infinite exposures')\n",
    "\n",
    "\n",
    "ax1.set_xlabel('Separation (arcsec)')\n",
    "ax1.set_ylabel('Exposure time (hours)')\n",
    "ax1.grid(True)\n",
    "\n",
    "separations_lod = arcsec_to_lambda_d(separations*ARCSEC,\n",
    "0.5*u.micron.to(LENGTH),\n",
    "8.78*u.m.to(LENGTH),\n",
    ")\n",
    "# # Secondary x-axis (lambda/D)\n",
    "num_ticks = 10\n",
    "tick_indices = np.linspace(0, len(separations) - 1, num_ticks, dtype=int)\n",
    "reduced_separations = [separations[i] for i in tick_indices]\n",
    "reduced_separations_lod = [separations_lod[i] for i in tick_indices]\n",
    "ax2 = ax1.twiny()\n",
    "ax2.set_xticks(reduced_separations)\n",
    "ax2.set_xticklabels([f'{m:.1f}' for m in reduced_separations_lod])\n",
    "\n",
    "\n",
    "ax2.set_xlim(ax1.get_xlim())\n",
    "ax2.set_xlabel('Separation (lambda/D)')\n",
    "\n",
    "plt.title('Exposure Time vs. Separation')\n",
    "plt.legend()\n",
    "plt.tight_layout()\n",
    "plt.show()"
   ]
  },
  {
   "cell_type": "markdown",
   "metadata": {},
   "source": [
    "#### 5.3 Telescope Diameter\n",
    "\n",
    "And finally, we can change the telescope diameter and see the impact on the exposure time."
   ]
  },
  {
   "cell_type": "code",
   "execution_count": 9,
   "metadata": {},
   "outputs": [
    {
     "name": "stdout",
     "output_type": "stream",
     "text": [
      "Observatory Configuration:\n",
      "  Using preset: EAC1\n",
      "\n"
     ]
    },
    {
     "name": "stderr",
     "output_type": "stream",
     "text": [
      "\u001b[38;5;229m\u001b[48;5;16m[yippy]\u001b[0m \u001b[32mINFO [2025-05-22 09:40:58,958] \u001b[0mCreating usort_offaxis_ovc coronagraph\n",
      "\u001b[38;5;229m\u001b[48;5;16m[yippy]\u001b[0m \u001b[33mWARNING [2025-05-22 09:40:58,959] \u001b[0mUnhandled header fields: {'D_INSC'}\n",
      "\u001b[38;5;229m\u001b[48;5;16m[yippy]\u001b[0m \u001b[33mWARNING [2025-05-22 09:40:58,959] \u001b[0mUsing default unit for D: m. Could not extract unit from comment: \"circumscribed diameter of the telescope in mete\"\n",
      "\u001b[38;5;229m\u001b[48;5;16m[yippy]\u001b[0m \u001b[32mINFO [2025-05-22 09:40:58,992] \u001b[0musort_offaxis_ovc is radially symmetric\n",
      "\u001b[38;5;229m\u001b[48;5;16m[yippy]\u001b[0m \u001b[32mINFO [2025-05-22 09:40:59,007] \u001b[0mCreated usort_offaxis_ovc\n"
     ]
    },
    {
     "name": "stdout",
     "output_type": "stream",
     "text": [
      "Using psf_trunc_ratio to calculate Omega...\n",
      "WARNING: No noise floor factor nor PPF provided, setting noisefloor to zero. If you want to have an estimate for the noisefloor, please use noisefloor_factor or noisefloor_PPF.\n",
      "Azimuthally averaging contrast maps and noise floor...\n",
      "Calculating optics throughput from preset...\n",
      "Calculating epswarmTrcold as 1 - optics throughput...\n",
      "Observatory Configuration:\n",
      "  Using preset: EAC1\n",
      "\n"
     ]
    },
    {
     "name": "stderr",
     "output_type": "stream",
     "text": [
      "\u001b[38;5;229m\u001b[48;5;16m[yippy]\u001b[0m \u001b[32mINFO [2025-05-22 09:41:03,578] \u001b[0mCreating usort_offaxis_ovc coronagraph\n",
      "\u001b[38;5;229m\u001b[48;5;16m[yippy]\u001b[0m \u001b[33mWARNING [2025-05-22 09:41:03,579] \u001b[0mUnhandled header fields: {'D_INSC'}\n",
      "\u001b[38;5;229m\u001b[48;5;16m[yippy]\u001b[0m \u001b[33mWARNING [2025-05-22 09:41:03,579] \u001b[0mUsing default unit for D: m. Could not extract unit from comment: \"circumscribed diameter of the telescope in mete\"\n",
      "\u001b[38;5;229m\u001b[48;5;16m[yippy]\u001b[0m \u001b[32mINFO [2025-05-22 09:41:03,620] \u001b[0musort_offaxis_ovc is radially symmetric\n",
      "\u001b[38;5;229m\u001b[48;5;16m[yippy]\u001b[0m \u001b[32mINFO [2025-05-22 09:41:03,639] \u001b[0mCreated usort_offaxis_ovc\n"
     ]
    },
    {
     "name": "stdout",
     "output_type": "stream",
     "text": [
      "Using psf_trunc_ratio to calculate Omega...\n",
      "WARNING: No noise floor factor nor PPF provided, setting noisefloor to zero. If you want to have an estimate for the noisefloor, please use noisefloor_factor or noisefloor_PPF.\n",
      "Azimuthally averaging contrast maps and noise floor...\n",
      "Calculating optics throughput from preset...\n",
      "Calculating epswarmTrcold as 1 - optics throughput...\n",
      "Observatory Configuration:\n",
      "  Using preset: EAC1\n",
      "\n"
     ]
    },
    {
     "name": "stderr",
     "output_type": "stream",
     "text": [
      "\u001b[38;5;229m\u001b[48;5;16m[yippy]\u001b[0m \u001b[32mINFO [2025-05-22 09:41:08,248] \u001b[0mCreating usort_offaxis_ovc coronagraph\n",
      "\u001b[38;5;229m\u001b[48;5;16m[yippy]\u001b[0m \u001b[33mWARNING [2025-05-22 09:41:08,249] \u001b[0mUnhandled header fields: {'D_INSC'}\n",
      "\u001b[38;5;229m\u001b[48;5;16m[yippy]\u001b[0m \u001b[33mWARNING [2025-05-22 09:41:08,249] \u001b[0mUsing default unit for D: m. Could not extract unit from comment: \"circumscribed diameter of the telescope in mete\"\n",
      "\u001b[38;5;229m\u001b[48;5;16m[yippy]\u001b[0m \u001b[32mINFO [2025-05-22 09:41:08,295] \u001b[0musort_offaxis_ovc is radially symmetric\n",
      "\u001b[38;5;229m\u001b[48;5;16m[yippy]\u001b[0m \u001b[32mINFO [2025-05-22 09:41:08,316] \u001b[0mCreated usort_offaxis_ovc\n"
     ]
    },
    {
     "name": "stdout",
     "output_type": "stream",
     "text": [
      "Using psf_trunc_ratio to calculate Omega...\n",
      "WARNING: No noise floor factor nor PPF provided, setting noisefloor to zero. If you want to have an estimate for the noisefloor, please use noisefloor_factor or noisefloor_PPF.\n",
      "Azimuthally averaging contrast maps and noise floor...\n",
      "Calculating optics throughput from preset...\n",
      "Calculating epswarmTrcold as 1 - optics throughput...\n",
      "Observatory Configuration:\n",
      "  Using preset: EAC1\n",
      "\n"
     ]
    },
    {
     "name": "stderr",
     "output_type": "stream",
     "text": [
      "\u001b[38;5;229m\u001b[48;5;16m[yippy]\u001b[0m \u001b[32mINFO [2025-05-22 09:41:12,912] \u001b[0mCreating usort_offaxis_ovc coronagraph\n",
      "\u001b[38;5;229m\u001b[48;5;16m[yippy]\u001b[0m \u001b[33mWARNING [2025-05-22 09:41:12,913] \u001b[0mUnhandled header fields: {'D_INSC'}\n",
      "\u001b[38;5;229m\u001b[48;5;16m[yippy]\u001b[0m \u001b[33mWARNING [2025-05-22 09:41:12,914] \u001b[0mUsing default unit for D: m. Could not extract unit from comment: \"circumscribed diameter of the telescope in mete\"\n",
      "\u001b[38;5;229m\u001b[48;5;16m[yippy]\u001b[0m \u001b[32mINFO [2025-05-22 09:41:12,945] \u001b[0musort_offaxis_ovc is radially symmetric\n",
      "\u001b[38;5;229m\u001b[48;5;16m[yippy]\u001b[0m \u001b[32mINFO [2025-05-22 09:41:12,960] \u001b[0mCreated usort_offaxis_ovc\n"
     ]
    },
    {
     "name": "stdout",
     "output_type": "stream",
     "text": [
      "Using psf_trunc_ratio to calculate Omega...\n",
      "WARNING: No noise floor factor nor PPF provided, setting noisefloor to zero. If you want to have an estimate for the noisefloor, please use noisefloor_factor or noisefloor_PPF.\n",
      "Azimuthally averaging contrast maps and noise floor...\n",
      "Calculating optics throughput from preset...\n",
      "Calculating epswarmTrcold as 1 - optics throughput...\n",
      "Observatory Configuration:\n",
      "  Using preset: EAC1\n",
      "\n"
     ]
    },
    {
     "name": "stderr",
     "output_type": "stream",
     "text": [
      "\u001b[38;5;229m\u001b[48;5;16m[yippy]\u001b[0m \u001b[32mINFO [2025-05-22 09:41:17,554] \u001b[0mCreating usort_offaxis_ovc coronagraph\n",
      "\u001b[38;5;229m\u001b[48;5;16m[yippy]\u001b[0m \u001b[33mWARNING [2025-05-22 09:41:17,555] \u001b[0mUnhandled header fields: {'D_INSC'}\n",
      "\u001b[38;5;229m\u001b[48;5;16m[yippy]\u001b[0m \u001b[33mWARNING [2025-05-22 09:41:17,556] \u001b[0mUsing default unit for D: m. Could not extract unit from comment: \"circumscribed diameter of the telescope in mete\"\n",
      "\u001b[38;5;229m\u001b[48;5;16m[yippy]\u001b[0m \u001b[32mINFO [2025-05-22 09:41:17,589] \u001b[0musort_offaxis_ovc is radially symmetric\n",
      "\u001b[38;5;229m\u001b[48;5;16m[yippy]\u001b[0m \u001b[32mINFO [2025-05-22 09:41:17,605] \u001b[0mCreated usort_offaxis_ovc\n"
     ]
    },
    {
     "name": "stdout",
     "output_type": "stream",
     "text": [
      "Using psf_trunc_ratio to calculate Omega...\n",
      "WARNING: No noise floor factor nor PPF provided, setting noisefloor to zero. If you want to have an estimate for the noisefloor, please use noisefloor_factor or noisefloor_PPF.\n",
      "Azimuthally averaging contrast maps and noise floor...\n",
      "Calculating optics throughput from preset...\n",
      "Calculating epswarmTrcold as 1 - optics throughput...\n",
      "Observatory Configuration:\n",
      "  Using preset: EAC1\n",
      "\n"
     ]
    },
    {
     "name": "stderr",
     "output_type": "stream",
     "text": [
      "\u001b[38;5;229m\u001b[48;5;16m[yippy]\u001b[0m \u001b[32mINFO [2025-05-22 09:41:22,223] \u001b[0mCreating usort_offaxis_ovc coronagraph\n",
      "\u001b[38;5;229m\u001b[48;5;16m[yippy]\u001b[0m \u001b[33mWARNING [2025-05-22 09:41:22,224] \u001b[0mUnhandled header fields: {'D_INSC'}\n",
      "\u001b[38;5;229m\u001b[48;5;16m[yippy]\u001b[0m \u001b[33mWARNING [2025-05-22 09:41:22,224] \u001b[0mUsing default unit for D: m. Could not extract unit from comment: \"circumscribed diameter of the telescope in mete\"\n",
      "\u001b[38;5;229m\u001b[48;5;16m[yippy]\u001b[0m \u001b[32mINFO [2025-05-22 09:41:22,257] \u001b[0musort_offaxis_ovc is radially symmetric\n",
      "\u001b[38;5;229m\u001b[48;5;16m[yippy]\u001b[0m \u001b[32mINFO [2025-05-22 09:41:22,272] \u001b[0mCreated usort_offaxis_ovc\n"
     ]
    },
    {
     "name": "stdout",
     "output_type": "stream",
     "text": [
      "Using psf_trunc_ratio to calculate Omega...\n",
      "WARNING: No noise floor factor nor PPF provided, setting noisefloor to zero. If you want to have an estimate for the noisefloor, please use noisefloor_factor or noisefloor_PPF.\n",
      "Azimuthally averaging contrast maps and noise floor...\n",
      "Calculating optics throughput from preset...\n",
      "Calculating epswarmTrcold as 1 - optics throughput...\n"
     ]
    },
    {
     "name": "stderr",
     "output_type": "stream",
     "text": [
      "/var/folders/10/v9qwyn2d7mx1blfr1v345wz80000gp/T/ipykernel_81758/1653988001.py:20: UserWarning: No artists with labels found to put in legend.  Note that artists whose label start with an underscore are ignored when legend() is called with no argument.\n",
      "  plt.legend()\n"
     ]
    },
    {
     "data": {
      "image/png": "[encoded data removed]",
      "text/plain": [
       "<Figure size 1000x600 with 1 Axes>"
      ]
     },
     "metadata": {},
     "output_type": "display_data"
    }
   ],
   "source": [
    "diameters = np.linspace(4, 15, 6)  \n",
    "\n",
    "exposure_times = []\n",
    "\n",
    "for diam in diameters:\n",
    "    params = imaging_params.copy()\n",
    "    params['diameter'] = diam # will overwrite the standard EAC1 telescope diameter\n",
    "    parsed_parameters= parse_input.parse_parameters(params)\n",
    "    texp, _ = calculate_texp(parsed_parameters, verbose=False)\n",
    "    exposure_times.append(texp.to(u.hr)[0].value)\n",
    "\n",
    "\n",
    "# MAKE PLOT\n",
    "plt.figure(figsize=(10, 6))\n",
    "plt.plot(diameters, exposure_times, marker='o')\n",
    "\n",
    "plt.xlabel('Telescope Diameter (m)')\n",
    "plt.ylabel('Exposure Time (hours)')\n",
    "plt.title('Exposure Time vs Telescope Diameter')\n",
    "plt.legend()\n",
    "plt.yscale('log')\n",
    "plt.show()\n"
   ]
  },
  {
   "cell_type": "markdown",
   "metadata": {},
   "source": [
    "### 5.4. PSF Truncation Ratio\n",
    "Also, we can test the effect of varying the PSF trunction ratio. There should exist a PSF truncation ratio that minimizes exposure time and maximizes SNR (and it should be around 0.3). Let's test this:"
   ]
  },
  {
   "cell_type": "code",
   "execution_count": 10,
   "metadata": {},
   "outputs": [
    {
     "name": "stdout",
     "output_type": "stream",
     "text": [
      "Observatory Configuration:\n",
      "  Using preset: EAC1\n",
      "\n"
     ]
    },
    {
     "name": "stderr",
     "output_type": "stream",
     "text": [
      "\u001b[38;5;229m\u001b[48;5;16m[yippy]\u001b[0m \u001b[32mINFO [2025-05-22 09:41:26,899] \u001b[0mCreating usort_offaxis_ovc coronagraph\n",
      "\u001b[38;5;229m\u001b[48;5;16m[yippy]\u001b[0m \u001b[33mWARNING [2025-05-22 09:41:26,900] \u001b[0mUnhandled header fields: {'D_INSC'}\n",
      "\u001b[38;5;229m\u001b[48;5;16m[yippy]\u001b[0m \u001b[33mWARNING [2025-05-22 09:41:26,901] \u001b[0mUsing default unit for D: m. Could not extract unit from comment: \"circumscribed diameter of the telescope in mete\"\n",
      "\u001b[38;5;229m\u001b[48;5;16m[yippy]\u001b[0m \u001b[32mINFO [2025-05-22 09:41:26,932] \u001b[0musort_offaxis_ovc is radially symmetric\n",
      "\u001b[38;5;229m\u001b[48;5;16m[yippy]\u001b[0m \u001b[32mINFO [2025-05-22 09:41:26,949] \u001b[0mCreated usort_offaxis_ovc\n"
     ]
    },
    {
     "name": "stdout",
     "output_type": "stream",
     "text": [
      "Using psf_trunc_ratio to calculate Omega...\n",
      "WARNING: No noise floor factor nor PPF provided, setting noisefloor to zero. If you want to have an estimate for the noisefloor, please use noisefloor_factor or noisefloor_PPF.\n",
      "Azimuthally averaging contrast maps and noise floor...\n",
      "Calculating optics throughput from preset...\n",
      "Calculating epswarmTrcold as 1 - optics throughput...\n",
      "Observatory Configuration:\n",
      "  Using preset: EAC1\n",
      "\n"
     ]
    },
    {
     "name": "stderr",
     "output_type": "stream",
     "text": [
      "\u001b[38;5;229m\u001b[48;5;16m[yippy]\u001b[0m \u001b[32mINFO [2025-05-22 09:41:37,438] \u001b[0mCreating usort_offaxis_ovc coronagraph\n",
      "\u001b[38;5;229m\u001b[48;5;16m[yippy]\u001b[0m \u001b[33mWARNING [2025-05-22 09:41:37,440] \u001b[0mUnhandled header fields: {'D_INSC'}\n",
      "\u001b[38;5;229m\u001b[48;5;16m[yippy]\u001b[0m \u001b[33mWARNING [2025-05-22 09:41:37,440] \u001b[0mUsing default unit for D: m. Could not extract unit from comment: \"circumscribed diameter of the telescope in mete\"\n",
      "\u001b[38;5;229m\u001b[48;5;16m[yippy]\u001b[0m \u001b[32mINFO [2025-05-22 09:41:37,473] \u001b[0musort_offaxis_ovc is radially symmetric\n",
      "\u001b[38;5;229m\u001b[48;5;16m[yippy]\u001b[0m \u001b[32mINFO [2025-05-22 09:41:37,488] \u001b[0mCreated usort_offaxis_ovc\n"
     ]
    },
    {
     "name": "stdout",
     "output_type": "stream",
     "text": [
      "Using psf_trunc_ratio to calculate Omega...\n",
      "WARNING: No noise floor factor nor PPF provided, setting noisefloor to zero. If you want to have an estimate for the noisefloor, please use noisefloor_factor or noisefloor_PPF.\n",
      "Azimuthally averaging contrast maps and noise floor...\n",
      "Calculating optics throughput from preset...\n",
      "Calculating epswarmTrcold as 1 - optics throughput...\n",
      "Observatory Configuration:\n",
      "  Using preset: EAC1\n",
      "\n"
     ]
    },
    {
     "name": "stderr",
     "output_type": "stream",
     "text": [
      "\u001b[38;5;229m\u001b[48;5;16m[yippy]\u001b[0m \u001b[32mINFO [2025-05-22 09:41:47,985] \u001b[0mCreating usort_offaxis_ovc coronagraph\n",
      "\u001b[38;5;229m\u001b[48;5;16m[yippy]\u001b[0m \u001b[33mWARNING [2025-05-22 09:41:47,987] \u001b[0mUnhandled header fields: {'D_INSC'}\n",
      "\u001b[38;5;229m\u001b[48;5;16m[yippy]\u001b[0m \u001b[33mWARNING [2025-05-22 09:41:47,987] \u001b[0mUsing default unit for D: m. Could not extract unit from comment: \"circumscribed diameter of the telescope in mete\"\n",
      "\u001b[38;5;229m\u001b[48;5;16m[yippy]\u001b[0m \u001b[32mINFO [2025-05-22 09:41:48,028] \u001b[0musort_offaxis_ovc is radially symmetric\n",
      "\u001b[38;5;229m\u001b[48;5;16m[yippy]\u001b[0m \u001b[32mINFO [2025-05-22 09:41:48,045] \u001b[0mCreated usort_offaxis_ovc\n"
     ]
    },
    {
     "name": "stdout",
     "output_type": "stream",
     "text": [
      "Using psf_trunc_ratio to calculate Omega...\n",
      "WARNING: No noise floor factor nor PPF provided, setting noisefloor to zero. If you want to have an estimate for the noisefloor, please use noisefloor_factor or noisefloor_PPF.\n",
      "Azimuthally averaging contrast maps and noise floor...\n",
      "Calculating optics throughput from preset...\n",
      "Calculating epswarmTrcold as 1 - optics throughput...\n",
      "Observatory Configuration:\n",
      "  Using preset: EAC1\n",
      "\n"
     ]
    },
    {
     "name": "stderr",
     "output_type": "stream",
     "text": [
      "\u001b[38;5;229m\u001b[48;5;16m[yippy]\u001b[0m \u001b[32mINFO [2025-05-22 09:41:58,518] \u001b[0mCreating usort_offaxis_ovc coronagraph\n",
      "\u001b[38;5;229m\u001b[48;5;16m[yippy]\u001b[0m \u001b[33mWARNING [2025-05-22 09:41:58,520] \u001b[0mUnhandled header fields: {'D_INSC'}\n",
      "\u001b[38;5;229m\u001b[48;5;16m[yippy]\u001b[0m \u001b[33mWARNING [2025-05-22 09:41:58,520] \u001b[0mUsing default unit for D: m. Could not extract unit from comment: \"circumscribed diameter of the telescope in mete\"\n",
      "\u001b[38;5;229m\u001b[48;5;16m[yippy]\u001b[0m \u001b[32mINFO [2025-05-22 09:41:58,562] \u001b[0musort_offaxis_ovc is radially symmetric\n",
      "\u001b[38;5;229m\u001b[48;5;16m[yippy]\u001b[0m \u001b[32mINFO [2025-05-22 09:41:58,602] \u001b[0mCreated usort_offaxis_ovc\n"
     ]
    },
    {
     "name": "stdout",
     "output_type": "stream",
     "text": [
      "Using psf_trunc_ratio to calculate Omega...\n",
      "WARNING: No noise floor factor nor PPF provided, setting noisefloor to zero. If you want to have an estimate for the noisefloor, please use noisefloor_factor or noisefloor_PPF.\n",
      "Azimuthally averaging contrast maps and noise floor...\n",
      "Calculating optics throughput from preset...\n",
      "Calculating epswarmTrcold as 1 - optics throughput...\n",
      "Observatory Configuration:\n",
      "  Using preset: EAC1\n",
      "\n"
     ]
    },
    {
     "name": "stderr",
     "output_type": "stream",
     "text": [
      "\u001b[38;5;229m\u001b[48;5;16m[yippy]\u001b[0m \u001b[32mINFO [2025-05-22 09:42:09,217] \u001b[0mCreating usort_offaxis_ovc coronagraph\n",
      "\u001b[38;5;229m\u001b[48;5;16m[yippy]\u001b[0m \u001b[33mWARNING [2025-05-22 09:42:09,218] \u001b[0mUnhandled header fields: {'D_INSC'}\n",
      "\u001b[38;5;229m\u001b[48;5;16m[yippy]\u001b[0m \u001b[33mWARNING [2025-05-22 09:42:09,219] \u001b[0mUsing default unit for D: m. Could not extract unit from comment: \"circumscribed diameter of the telescope in mete\"\n",
      "\u001b[38;5;229m\u001b[48;5;16m[yippy]\u001b[0m \u001b[32mINFO [2025-05-22 09:42:09,258] \u001b[0musort_offaxis_ovc is radially symmetric\n",
      "\u001b[38;5;229m\u001b[48;5;16m[yippy]\u001b[0m \u001b[32mINFO [2025-05-22 09:42:09,293] \u001b[0mCreated usort_offaxis_ovc\n"
     ]
    },
    {
     "name": "stdout",
     "output_type": "stream",
     "text": [
      "Using psf_trunc_ratio to calculate Omega...\n",
      "WARNING: No noise floor factor nor PPF provided, setting noisefloor to zero. If you want to have an estimate for the noisefloor, please use noisefloor_factor or noisefloor_PPF.\n",
      "Azimuthally averaging contrast maps and noise floor...\n",
      "Calculating optics throughput from preset...\n",
      "Calculating epswarmTrcold as 1 - optics throughput...\n",
      "Observatory Configuration:\n",
      "  Using preset: EAC1\n",
      "\n"
     ]
    },
    {
     "name": "stderr",
     "output_type": "stream",
     "text": [
      "\u001b[38;5;229m\u001b[48;5;16m[yippy]\u001b[0m \u001b[32mINFO [2025-05-22 09:42:19,155] \u001b[0mCreating usort_offaxis_ovc coronagraph\n",
      "\u001b[38;5;229m\u001b[48;5;16m[yippy]\u001b[0m \u001b[33mWARNING [2025-05-22 09:42:19,156] \u001b[0mUnhandled header fields: {'D_INSC'}\n",
      "\u001b[38;5;229m\u001b[48;5;16m[yippy]\u001b[0m \u001b[33mWARNING [2025-05-22 09:42:19,157] \u001b[0mUsing default unit for D: m. Could not extract unit from comment: \"circumscribed diameter of the telescope in mete\"\n",
      "\u001b[38;5;229m\u001b[48;5;16m[yippy]\u001b[0m \u001b[32mINFO [2025-05-22 09:42:19,194] \u001b[0musort_offaxis_ovc is radially symmetric\n",
      "\u001b[38;5;229m\u001b[48;5;16m[yippy]\u001b[0m \u001b[32mINFO [2025-05-22 09:42:19,210] \u001b[0mCreated usort_offaxis_ovc\n"
     ]
    },
    {
     "name": "stdout",
     "output_type": "stream",
     "text": [
      "Using psf_trunc_ratio to calculate Omega...\n",
      "WARNING: No noise floor factor nor PPF provided, setting noisefloor to zero. If you want to have an estimate for the noisefloor, please use noisefloor_factor or noisefloor_PPF.\n",
      "Azimuthally averaging contrast maps and noise floor...\n",
      "Calculating optics throughput from preset...\n",
      "Calculating epswarmTrcold as 1 - optics throughput...\n",
      "Observatory Configuration:\n",
      "  Using preset: EAC1\n",
      "\n"
     ]
    },
    {
     "name": "stderr",
     "output_type": "stream",
     "text": [
      "\u001b[38;5;229m\u001b[48;5;16m[yippy]\u001b[0m \u001b[32mINFO [2025-05-22 09:42:29,409] \u001b[0mCreating usort_offaxis_ovc coronagraph\n",
      "\u001b[38;5;229m\u001b[48;5;16m[yippy]\u001b[0m \u001b[33mWARNING [2025-05-22 09:42:29,410] \u001b[0mUnhandled header fields: {'D_INSC'}\n",
      "\u001b[38;5;229m\u001b[48;5;16m[yippy]\u001b[0m \u001b[33mWARNING [2025-05-22 09:42:29,411] \u001b[0mUsing default unit for D: m. Could not extract unit from comment: \"circumscribed diameter of the telescope in mete\"\n",
      "\u001b[38;5;229m\u001b[48;5;16m[yippy]\u001b[0m \u001b[32mINFO [2025-05-22 09:42:29,444] \u001b[0musort_offaxis_ovc is radially symmetric\n",
      "\u001b[38;5;229m\u001b[48;5;16m[yippy]\u001b[0m \u001b[32mINFO [2025-05-22 09:42:29,465] \u001b[0mCreated usort_offaxis_ovc\n"
     ]
    },
    {
     "name": "stdout",
     "output_type": "stream",
     "text": [
      "Using psf_trunc_ratio to calculate Omega...\n",
      "WARNING: No noise floor factor nor PPF provided, setting noisefloor to zero. If you want to have an estimate for the noisefloor, please use noisefloor_factor or noisefloor_PPF.\n",
      "Azimuthally averaging contrast maps and noise floor...\n",
      "Calculating optics throughput from preset...\n",
      "Calculating epswarmTrcold as 1 - optics throughput...\n",
      "Observatory Configuration:\n",
      "  Using preset: EAC1\n",
      "\n"
     ]
    },
    {
     "name": "stderr",
     "output_type": "stream",
     "text": [
      "\u001b[38;5;229m\u001b[48;5;16m[yippy]\u001b[0m \u001b[32mINFO [2025-05-22 09:42:40,347] \u001b[0mCreating usort_offaxis_ovc coronagraph\n",
      "\u001b[38;5;229m\u001b[48;5;16m[yippy]\u001b[0m \u001b[33mWARNING [2025-05-22 09:42:40,349] \u001b[0mUnhandled header fields: {'D_INSC'}\n",
      "\u001b[38;5;229m\u001b[48;5;16m[yippy]\u001b[0m \u001b[33mWARNING [2025-05-22 09:42:40,350] \u001b[0mUsing default unit for D: m. Could not extract unit from comment: \"circumscribed diameter of the telescope in mete\"\n",
      "\u001b[38;5;229m\u001b[48;5;16m[yippy]\u001b[0m \u001b[32mINFO [2025-05-22 09:42:40,391] \u001b[0musort_offaxis_ovc is radially symmetric\n",
      "\u001b[38;5;229m\u001b[48;5;16m[yippy]\u001b[0m \u001b[32mINFO [2025-05-22 09:42:40,439] \u001b[0mCreated usort_offaxis_ovc\n"
     ]
    },
    {
     "name": "stdout",
     "output_type": "stream",
     "text": [
      "Using psf_trunc_ratio to calculate Omega...\n",
      "WARNING: No noise floor factor nor PPF provided, setting noisefloor to zero. If you want to have an estimate for the noisefloor, please use noisefloor_factor or noisefloor_PPF.\n",
      "Azimuthally averaging contrast maps and noise floor...\n",
      "Calculating optics throughput from preset...\n",
      "Calculating epswarmTrcold as 1 - optics throughput...\n",
      "Observatory Configuration:\n",
      "  Using preset: EAC1\n",
      "\n"
     ]
    },
    {
     "name": "stderr",
     "output_type": "stream",
     "text": [
      "\u001b[38;5;229m\u001b[48;5;16m[yippy]\u001b[0m \u001b[32mINFO [2025-05-22 09:42:50,572] \u001b[0mCreating usort_offaxis_ovc coronagraph\n",
      "\u001b[38;5;229m\u001b[48;5;16m[yippy]\u001b[0m \u001b[33mWARNING [2025-05-22 09:42:50,573] \u001b[0mUnhandled header fields: {'D_INSC'}\n",
      "\u001b[38;5;229m\u001b[48;5;16m[yippy]\u001b[0m \u001b[33mWARNING [2025-05-22 09:42:50,574] \u001b[0mUsing default unit for D: m. Could not extract unit from comment: \"circumscribed diameter of the telescope in mete\"\n",
      "\u001b[38;5;229m\u001b[48;5;16m[yippy]\u001b[0m \u001b[32mINFO [2025-05-22 09:42:50,607] \u001b[0musort_offaxis_ovc is radially symmetric\n",
      "\u001b[38;5;229m\u001b[48;5;16m[yippy]\u001b[0m \u001b[32mINFO [2025-05-22 09:42:50,623] \u001b[0mCreated usort_offaxis_ovc\n"
     ]
    },
    {
     "name": "stdout",
     "output_type": "stream",
     "text": [
      "Using psf_trunc_ratio to calculate Omega...\n",
      "WARNING: No noise floor factor nor PPF provided, setting noisefloor to zero. If you want to have an estimate for the noisefloor, please use noisefloor_factor or noisefloor_PPF.\n",
      "Azimuthally averaging contrast maps and noise floor...\n",
      "Calculating optics throughput from preset...\n",
      "Calculating epswarmTrcold as 1 - optics throughput...\n",
      "Observatory Configuration:\n",
      "  Using preset: EAC1\n",
      "\n"
     ]
    },
    {
     "name": "stderr",
     "output_type": "stream",
     "text": [
      "\u001b[38;5;229m\u001b[48;5;16m[yippy]\u001b[0m \u001b[32mINFO [2025-05-22 09:43:01,878] \u001b[0mCreating usort_offaxis_ovc coronagraph\n",
      "\u001b[38;5;229m\u001b[48;5;16m[yippy]\u001b[0m \u001b[33mWARNING [2025-05-22 09:43:01,880] \u001b[0mUnhandled header fields: {'D_INSC'}\n",
      "\u001b[38;5;229m\u001b[48;5;16m[yippy]\u001b[0m \u001b[33mWARNING [2025-05-22 09:43:01,881] \u001b[0mUsing default unit for D: m. Could not extract unit from comment: \"circumscribed diameter of the telescope in mete\"\n",
      "\u001b[38;5;229m\u001b[48;5;16m[yippy]\u001b[0m \u001b[32mINFO [2025-05-22 09:43:01,922] \u001b[0musort_offaxis_ovc is radially symmetric\n",
      "\u001b[38;5;229m\u001b[48;5;16m[yippy]\u001b[0m \u001b[32mINFO [2025-05-22 09:43:01,969] \u001b[0mCreated usort_offaxis_ovc\n"
     ]
    },
    {
     "name": "stdout",
     "output_type": "stream",
     "text": [
      "Using psf_trunc_ratio to calculate Omega...\n",
      "WARNING: No noise floor factor nor PPF provided, setting noisefloor to zero. If you want to have an estimate for the noisefloor, please use noisefloor_factor or noisefloor_PPF.\n",
      "Azimuthally averaging contrast maps and noise floor...\n",
      "Calculating optics throughput from preset...\n",
      "Calculating epswarmTrcold as 1 - optics throughput...\n",
      "Observatory Configuration:\n",
      "  Using preset: EAC1\n",
      "\n"
     ]
    },
    {
     "name": "stderr",
     "output_type": "stream",
     "text": [
      "\u001b[38;5;229m\u001b[48;5;16m[yippy]\u001b[0m \u001b[32mINFO [2025-05-22 09:43:12,860] \u001b[0mCreating usort_offaxis_ovc coronagraph\n",
      "\u001b[38;5;229m\u001b[48;5;16m[yippy]\u001b[0m \u001b[33mWARNING [2025-05-22 09:43:12,862] \u001b[0mUnhandled header fields: {'D_INSC'}\n",
      "\u001b[38;5;229m\u001b[48;5;16m[yippy]\u001b[0m \u001b[33mWARNING [2025-05-22 09:43:12,862] \u001b[0mUsing default unit for D: m. Could not extract unit from comment: \"circumscribed diameter of the telescope in mete\"\n",
      "\u001b[38;5;229m\u001b[48;5;16m[yippy]\u001b[0m \u001b[32mINFO [2025-05-22 09:43:12,894] \u001b[0musort_offaxis_ovc is radially symmetric\n",
      "\u001b[38;5;229m\u001b[48;5;16m[yippy]\u001b[0m \u001b[32mINFO [2025-05-22 09:43:12,913] \u001b[0mCreated usort_offaxis_ovc\n"
     ]
    },
    {
     "name": "stdout",
     "output_type": "stream",
     "text": [
      "Using psf_trunc_ratio to calculate Omega...\n",
      "WARNING: No noise floor factor nor PPF provided, setting noisefloor to zero. If you want to have an estimate for the noisefloor, please use noisefloor_factor or noisefloor_PPF.\n",
      "Azimuthally averaging contrast maps and noise floor...\n",
      "Calculating optics throughput from preset...\n",
      "Calculating epswarmTrcold as 1 - optics throughput...\n",
      "Observatory Configuration:\n",
      "  Using preset: EAC1\n",
      "\n"
     ]
    },
    {
     "name": "stderr",
     "output_type": "stream",
     "text": [
      "\u001b[38;5;229m\u001b[48;5;16m[yippy]\u001b[0m \u001b[32mINFO [2025-05-22 09:43:23,282] \u001b[0mCreating usort_offaxis_ovc coronagraph\n",
      "\u001b[38;5;229m\u001b[48;5;16m[yippy]\u001b[0m \u001b[33mWARNING [2025-05-22 09:43:23,283] \u001b[0mUnhandled header fields: {'D_INSC'}\n",
      "\u001b[38;5;229m\u001b[48;5;16m[yippy]\u001b[0m \u001b[33mWARNING [2025-05-22 09:43:23,284] \u001b[0mUsing default unit for D: m. Could not extract unit from comment: \"circumscribed diameter of the telescope in mete\"\n",
      "\u001b[38;5;229m\u001b[48;5;16m[yippy]\u001b[0m \u001b[32mINFO [2025-05-22 09:43:23,320] \u001b[0musort_offaxis_ovc is radially symmetric\n",
      "\u001b[38;5;229m\u001b[48;5;16m[yippy]\u001b[0m \u001b[32mINFO [2025-05-22 09:43:23,336] \u001b[0mCreated usort_offaxis_ovc\n"
     ]
    },
    {
     "name": "stdout",
     "output_type": "stream",
     "text": [
      "Using psf_trunc_ratio to calculate Omega...\n",
      "WARNING: No noise floor factor nor PPF provided, setting noisefloor to zero. If you want to have an estimate for the noisefloor, please use noisefloor_factor or noisefloor_PPF.\n",
      "Azimuthally averaging contrast maps and noise floor...\n",
      "Calculating optics throughput from preset...\n",
      "Calculating epswarmTrcold as 1 - optics throughput...\n",
      "Observatory Configuration:\n",
      "  Using preset: EAC1\n",
      "\n"
     ]
    },
    {
     "name": "stderr",
     "output_type": "stream",
     "text": [
      "\u001b[38;5;229m\u001b[48;5;16m[yippy]\u001b[0m \u001b[32mINFO [2025-05-22 09:43:34,324] \u001b[0mCreating usort_offaxis_ovc coronagraph\n",
      "\u001b[38;5;229m\u001b[48;5;16m[yippy]\u001b[0m \u001b[33mWARNING [2025-05-22 09:43:34,326] \u001b[0mUnhandled header fields: {'D_INSC'}\n",
      "\u001b[38;5;229m\u001b[48;5;16m[yippy]\u001b[0m \u001b[33mWARNING [2025-05-22 09:43:34,326] \u001b[0mUsing default unit for D: m. Could not extract unit from comment: \"circumscribed diameter of the telescope in mete\"\n",
      "\u001b[38;5;229m\u001b[48;5;16m[yippy]\u001b[0m \u001b[32mINFO [2025-05-22 09:43:34,359] \u001b[0musort_offaxis_ovc is radially symmetric\n",
      "\u001b[38;5;229m\u001b[48;5;16m[yippy]\u001b[0m \u001b[32mINFO [2025-05-22 09:43:34,379] \u001b[0mCreated usort_offaxis_ovc\n"
     ]
    },
    {
     "name": "stdout",
     "output_type": "stream",
     "text": [
      "Using psf_trunc_ratio to calculate Omega...\n",
      "WARNING: No noise floor factor nor PPF provided, setting noisefloor to zero. If you want to have an estimate for the noisefloor, please use noisefloor_factor or noisefloor_PPF.\n",
      "Azimuthally averaging contrast maps and noise floor...\n",
      "Calculating optics throughput from preset...\n",
      "Calculating epswarmTrcold as 1 - optics throughput...\n",
      "Observatory Configuration:\n",
      "  Using preset: EAC1\n",
      "\n"
     ]
    },
    {
     "name": "stderr",
     "output_type": "stream",
     "text": [
      "\u001b[38;5;229m\u001b[48;5;16m[yippy]\u001b[0m \u001b[32mINFO [2025-05-22 09:43:44,976] \u001b[0mCreating usort_offaxis_ovc coronagraph\n",
      "\u001b[38;5;229m\u001b[48;5;16m[yippy]\u001b[0m \u001b[33mWARNING [2025-05-22 09:43:44,977] \u001b[0mUnhandled header fields: {'D_INSC'}\n",
      "\u001b[38;5;229m\u001b[48;5;16m[yippy]\u001b[0m \u001b[33mWARNING [2025-05-22 09:43:44,978] \u001b[0mUsing default unit for D: m. Could not extract unit from comment: \"circumscribed diameter of the telescope in mete\"\n",
      "\u001b[38;5;229m\u001b[48;5;16m[yippy]\u001b[0m \u001b[32mINFO [2025-05-22 09:43:45,013] \u001b[0musort_offaxis_ovc is radially symmetric\n",
      "\u001b[38;5;229m\u001b[48;5;16m[yippy]\u001b[0m \u001b[32mINFO [2025-05-22 09:43:45,030] \u001b[0mCreated usort_offaxis_ovc\n"
     ]
    },
    {
     "name": "stdout",
     "output_type": "stream",
     "text": [
      "Using psf_trunc_ratio to calculate Omega...\n",
      "WARNING: No noise floor factor nor PPF provided, setting noisefloor to zero. If you want to have an estimate for the noisefloor, please use noisefloor_factor or noisefloor_PPF.\n",
      "Azimuthally averaging contrast maps and noise floor...\n",
      "Calculating optics throughput from preset...\n",
      "Calculating epswarmTrcold as 1 - optics throughput...\n",
      "Observatory Configuration:\n",
      "  Using preset: EAC1\n",
      "\n"
     ]
    },
    {
     "name": "stderr",
     "output_type": "stream",
     "text": [
      "\u001b[38;5;229m\u001b[48;5;16m[yippy]\u001b[0m \u001b[32mINFO [2025-05-22 09:43:55,224] \u001b[0mCreating usort_offaxis_ovc coronagraph\n",
      "\u001b[38;5;229m\u001b[48;5;16m[yippy]\u001b[0m \u001b[33mWARNING [2025-05-22 09:43:55,226] \u001b[0mUnhandled header fields: {'D_INSC'}\n",
      "\u001b[38;5;229m\u001b[48;5;16m[yippy]\u001b[0m \u001b[33mWARNING [2025-05-22 09:43:55,226] \u001b[0mUsing default unit for D: m. Could not extract unit from comment: \"circumscribed diameter of the telescope in mete\"\n",
      "\u001b[38;5;229m\u001b[48;5;16m[yippy]\u001b[0m \u001b[32mINFO [2025-05-22 09:43:55,259] \u001b[0musort_offaxis_ovc is radially symmetric\n",
      "\u001b[38;5;229m\u001b[48;5;16m[yippy]\u001b[0m \u001b[32mINFO [2025-05-22 09:43:55,276] \u001b[0mCreated usort_offaxis_ovc\n"
     ]
    },
    {
     "name": "stdout",
     "output_type": "stream",
     "text": [
      "Using psf_trunc_ratio to calculate Omega...\n",
      "WARNING: No noise floor factor nor PPF provided, setting noisefloor to zero. If you want to have an estimate for the noisefloor, please use noisefloor_factor or noisefloor_PPF.\n",
      "Azimuthally averaging contrast maps and noise floor...\n",
      "Calculating optics throughput from preset...\n",
      "Calculating epswarmTrcold as 1 - optics throughput...\n",
      "Observatory Configuration:\n",
      "  Using preset: EAC1\n",
      "\n"
     ]
    },
    {
     "name": "stderr",
     "output_type": "stream",
     "text": [
      "\u001b[38;5;229m\u001b[48;5;16m[yippy]\u001b[0m \u001b[32mINFO [2025-05-22 09:44:04,800] \u001b[0mCreating usort_offaxis_ovc coronagraph\n",
      "\u001b[38;5;229m\u001b[48;5;16m[yippy]\u001b[0m \u001b[33mWARNING [2025-05-22 09:44:04,801] \u001b[0mUnhandled header fields: {'D_INSC'}\n",
      "\u001b[38;5;229m\u001b[48;5;16m[yippy]\u001b[0m \u001b[33mWARNING [2025-05-22 09:44:04,802] \u001b[0mUsing default unit for D: m. Could not extract unit from comment: \"circumscribed diameter of the telescope in mete\"\n",
      "\u001b[38;5;229m\u001b[48;5;16m[yippy]\u001b[0m \u001b[32mINFO [2025-05-22 09:44:04,836] \u001b[0musort_offaxis_ovc is radially symmetric\n",
      "\u001b[38;5;229m\u001b[48;5;16m[yippy]\u001b[0m \u001b[32mINFO [2025-05-22 09:44:04,859] \u001b[0mCreated usort_offaxis_ovc\n"
     ]
    },
    {
     "name": "stdout",
     "output_type": "stream",
     "text": [
      "Using psf_trunc_ratio to calculate Omega...\n",
      "WARNING: No noise floor factor nor PPF provided, setting noisefloor to zero. If you want to have an estimate for the noisefloor, please use noisefloor_factor or noisefloor_PPF.\n",
      "Azimuthally averaging contrast maps and noise floor...\n",
      "Calculating optics throughput from preset...\n",
      "Calculating epswarmTrcold as 1 - optics throughput...\n",
      "Observatory Configuration:\n",
      "  Using preset: EAC1\n",
      "\n"
     ]
    },
    {
     "name": "stderr",
     "output_type": "stream",
     "text": [
      "\u001b[38;5;229m\u001b[48;5;16m[yippy]\u001b[0m \u001b[32mINFO [2025-05-22 09:44:13,718] \u001b[0mCreating usort_offaxis_ovc coronagraph\n",
      "\u001b[38;5;229m\u001b[48;5;16m[yippy]\u001b[0m \u001b[33mWARNING [2025-05-22 09:44:13,719] \u001b[0mUnhandled header fields: {'D_INSC'}\n",
      "\u001b[38;5;229m\u001b[48;5;16m[yippy]\u001b[0m \u001b[33mWARNING [2025-05-22 09:44:13,720] \u001b[0mUsing default unit for D: m. Could not extract unit from comment: \"circumscribed diameter of the telescope in mete\"\n",
      "\u001b[38;5;229m\u001b[48;5;16m[yippy]\u001b[0m \u001b[32mINFO [2025-05-22 09:44:13,753] \u001b[0musort_offaxis_ovc is radially symmetric\n",
      "\u001b[38;5;229m\u001b[48;5;16m[yippy]\u001b[0m \u001b[32mINFO [2025-05-22 09:44:13,770] \u001b[0mCreated usort_offaxis_ovc\n"
     ]
    },
    {
     "name": "stdout",
     "output_type": "stream",
     "text": [
      "Using psf_trunc_ratio to calculate Omega...\n",
      "WARNING: No noise floor factor nor PPF provided, setting noisefloor to zero. If you want to have an estimate for the noisefloor, please use noisefloor_factor or noisefloor_PPF.\n",
      "Azimuthally averaging contrast maps and noise floor...\n",
      "Calculating optics throughput from preset...\n",
      "Calculating epswarmTrcold as 1 - optics throughput...\n",
      "Observatory Configuration:\n",
      "  Using preset: EAC1\n",
      "\n"
     ]
    },
    {
     "name": "stderr",
     "output_type": "stream",
     "text": [
      "\u001b[38;5;229m\u001b[48;5;16m[yippy]\u001b[0m \u001b[32mINFO [2025-05-22 09:44:23,402] \u001b[0mCreating usort_offaxis_ovc coronagraph\n",
      "\u001b[38;5;229m\u001b[48;5;16m[yippy]\u001b[0m \u001b[33mWARNING [2025-05-22 09:44:23,403] \u001b[0mUnhandled header fields: {'D_INSC'}\n",
      "\u001b[38;5;229m\u001b[48;5;16m[yippy]\u001b[0m \u001b[33mWARNING [2025-05-22 09:44:23,404] \u001b[0mUsing default unit for D: m. Could not extract unit from comment: \"circumscribed diameter of the telescope in mete\"\n",
      "\u001b[38;5;229m\u001b[48;5;16m[yippy]\u001b[0m \u001b[32mINFO [2025-05-22 09:44:23,436] \u001b[0musort_offaxis_ovc is radially symmetric\n",
      "\u001b[38;5;229m\u001b[48;5;16m[yippy]\u001b[0m \u001b[32mINFO [2025-05-22 09:44:23,454] \u001b[0mCreated usort_offaxis_ovc\n"
     ]
    },
    {
     "name": "stdout",
     "output_type": "stream",
     "text": [
      "Using psf_trunc_ratio to calculate Omega...\n",
      "WARNING: No noise floor factor nor PPF provided, setting noisefloor to zero. If you want to have an estimate for the noisefloor, please use noisefloor_factor or noisefloor_PPF.\n",
      "Azimuthally averaging contrast maps and noise floor...\n",
      "Calculating optics throughput from preset...\n",
      "Calculating epswarmTrcold as 1 - optics throughput...\n",
      "Observatory Configuration:\n",
      "  Using preset: EAC1\n",
      "\n"
     ]
    },
    {
     "name": "stderr",
     "output_type": "stream",
     "text": [
      "\u001b[38;5;229m\u001b[48;5;16m[yippy]\u001b[0m \u001b[32mINFO [2025-05-22 09:44:31,921] \u001b[0mCreating usort_offaxis_ovc coronagraph\n",
      "\u001b[38;5;229m\u001b[48;5;16m[yippy]\u001b[0m \u001b[33mWARNING [2025-05-22 09:44:31,923] \u001b[0mUnhandled header fields: {'D_INSC'}\n",
      "\u001b[38;5;229m\u001b[48;5;16m[yippy]\u001b[0m \u001b[33mWARNING [2025-05-22 09:44:31,924] \u001b[0mUsing default unit for D: m. Could not extract unit from comment: \"circumscribed diameter of the telescope in mete\"\n",
      "\u001b[38;5;229m\u001b[48;5;16m[yippy]\u001b[0m \u001b[32mINFO [2025-05-22 09:44:31,975] \u001b[0musort_offaxis_ovc is radially symmetric\n",
      "\u001b[38;5;229m\u001b[48;5;16m[yippy]\u001b[0m \u001b[32mINFO [2025-05-22 09:44:31,997] \u001b[0mCreated usort_offaxis_ovc\n"
     ]
    },
    {
     "name": "stdout",
     "output_type": "stream",
     "text": [
      "Using psf_trunc_ratio to calculate Omega...\n",
      "WARNING: No noise floor factor nor PPF provided, setting noisefloor to zero. If you want to have an estimate for the noisefloor, please use noisefloor_factor or noisefloor_PPF.\n",
      "Azimuthally averaging contrast maps and noise floor...\n",
      "Calculating optics throughput from preset...\n",
      "Calculating epswarmTrcold as 1 - optics throughput...\n",
      "WARNING: Photometric aperture is not large enough. Hardcoded infinity results.\n",
      "Observatory Configuration:\n",
      "  Using preset: EAC1\n",
      "\n"
     ]
    },
    {
     "name": "stderr",
     "output_type": "stream",
     "text": [
      "\u001b[38;5;229m\u001b[48;5;16m[yippy]\u001b[0m \u001b[32mINFO [2025-05-22 09:44:40,892] \u001b[0mCreating usort_offaxis_ovc coronagraph\n",
      "\u001b[38;5;229m\u001b[48;5;16m[yippy]\u001b[0m \u001b[33mWARNING [2025-05-22 09:44:40,894] \u001b[0mUnhandled header fields: {'D_INSC'}\n",
      "\u001b[38;5;229m\u001b[48;5;16m[yippy]\u001b[0m \u001b[33mWARNING [2025-05-22 09:44:40,895] \u001b[0mUsing default unit for D: m. Could not extract unit from comment: \"circumscribed diameter of the telescope in mete\"\n",
      "\u001b[38;5;229m\u001b[48;5;16m[yippy]\u001b[0m \u001b[32mINFO [2025-05-22 09:44:40,926] \u001b[0musort_offaxis_ovc is radially symmetric\n",
      "\u001b[38;5;229m\u001b[48;5;16m[yippy]\u001b[0m \u001b[32mINFO [2025-05-22 09:44:40,942] \u001b[0mCreated usort_offaxis_ovc\n"
     ]
    },
    {
     "name": "stdout",
     "output_type": "stream",
     "text": [
      "Using psf_trunc_ratio to calculate Omega...\n",
      "WARNING: No noise floor factor nor PPF provided, setting noisefloor to zero. If you want to have an estimate for the noisefloor, please use noisefloor_factor or noisefloor_PPF.\n",
      "Azimuthally averaging contrast maps and noise floor...\n",
      "Calculating optics throughput from preset...\n",
      "Calculating epswarmTrcold as 1 - optics throughput...\n",
      "WARNING: Photometric aperture is not large enough. Hardcoded infinity results.\n"
     ]
    },
    {
     "data": {
      "image/png": "[encoded data removed]",
      "text/plain": [
       "<Figure size 1000x600 with 1 Axes>"
      ]
     },
     "metadata": {},
     "output_type": "display_data"
    }
   ],
   "source": [
    "psfratios = np.linspace(0.1, 1, 20)   \n",
    "\n",
    "exposure_times = []\n",
    "\n",
    "for ratio in psfratios:\n",
    "    params = imaging_params.copy()\n",
    "    params['psf_trunc_ratio'] = ratio\n",
    "    parsed_parameters= parse_input.parse_parameters(params)\n",
    "    texp, _ = calculate_texp(parsed_parameters, verbose=False)\n",
    "    exposure_times.append(texp.to(u.hr)[0].value)\n",
    "\n",
    "# MAKE PLOT\n",
    "fig, ax1 = plt.subplots(figsize=(10, 6))\n",
    "# Primary x-axis (separation arcsec)\n",
    "ax1.plot(psfratios, exposure_times, marker='o', label='Valid exposures')\n",
    "ax1.plot(psfratios[np.isinf(exposure_times)],\n",
    "         np.ones_like(psfratios)[np.isinf(exposure_times)]*50,\n",
    "         marker='x', linestyle='', color='red', label='Infinite exposures')\n",
    "\n",
    "\n",
    "ax1.set_xlabel('PSF Truncation Ratio')\n",
    "ax1.set_ylabel('Exposure time (hours)')\n",
    "ax1.grid(True)\n",
    "\n",
    "plt.title('Exposure Time vs. PSF Truncation Ratio')\n",
    "plt.legend()\n",
    "plt.tight_layout()\n",
    "plt.show()\n",
    "\n",
    "\n",
    "# exposure time minimized at 0.3, just like it should! "
   ]
  },
  {
   "cell_type": "code",
   "execution_count": 11,
   "metadata": {},
   "outputs": [
    {
     "name": "stdout",
     "output_type": "stream",
     "text": [
      "Observatory Configuration:\n",
      "  Using preset: EAC1\n",
      "\n"
     ]
    },
    {
     "name": "stderr",
     "output_type": "stream",
     "text": [
      "\u001b[38;5;229m\u001b[48;5;16m[yippy]\u001b[0m \u001b[32mINFO [2025-05-22 09:44:46,319] \u001b[0mCreating usort_offaxis_ovc coronagraph\n",
      "\u001b[38;5;229m\u001b[48;5;16m[yippy]\u001b[0m \u001b[33mWARNING [2025-05-22 09:44:46,321] \u001b[0mUnhandled header fields: {'D_INSC'}\n",
      "\u001b[38;5;229m\u001b[48;5;16m[yippy]\u001b[0m \u001b[33mWARNING [2025-05-22 09:44:46,322] \u001b[0mUsing default unit for D: m. Could not extract unit from comment: \"circumscribed diameter of the telescope in mete\"\n",
      "\u001b[38;5;229m\u001b[48;5;16m[yippy]\u001b[0m \u001b[32mINFO [2025-05-22 09:44:46,356] \u001b[0musort_offaxis_ovc is radially symmetric\n",
      "\u001b[38;5;229m\u001b[48;5;16m[yippy]\u001b[0m \u001b[32mINFO [2025-05-22 09:44:46,374] \u001b[0mCreated usort_offaxis_ovc\n"
     ]
    },
    {
     "name": "stdout",
     "output_type": "stream",
     "text": [
      "Using psf_trunc_ratio to calculate Omega...\n",
      "WARNING: No noise floor factor nor PPF provided, setting noisefloor to zero. If you want to have an estimate for the noisefloor, please use noisefloor_factor or noisefloor_PPF.\n",
      "Azimuthally averaging contrast maps and noise floor...\n",
      "Calculating optics throughput from preset...\n",
      "Calculating epswarmTrcold as 1 - optics throughput...\n",
      "Observatory Configuration:\n",
      "  Using preset: EAC1\n",
      "\n"
     ]
    },
    {
     "name": "stderr",
     "output_type": "stream",
     "text": [
      "\u001b[38;5;229m\u001b[48;5;16m[yippy]\u001b[0m \u001b[32mINFO [2025-05-22 09:44:51,166] \u001b[0mCreating usort_offaxis_ovc coronagraph\n",
      "\u001b[38;5;229m\u001b[48;5;16m[yippy]\u001b[0m \u001b[33mWARNING [2025-05-22 09:44:51,168] \u001b[0mUnhandled header fields: {'D_INSC'}\n",
      "\u001b[38;5;229m\u001b[48;5;16m[yippy]\u001b[0m \u001b[33mWARNING [2025-05-22 09:44:51,168] \u001b[0mUsing default unit for D: m. Could not extract unit from comment: \"circumscribed diameter of the telescope in mete\"\n",
      "\u001b[38;5;229m\u001b[48;5;16m[yippy]\u001b[0m \u001b[32mINFO [2025-05-22 09:44:51,207] \u001b[0musort_offaxis_ovc is radially symmetric\n",
      "\u001b[38;5;229m\u001b[48;5;16m[yippy]\u001b[0m \u001b[32mINFO [2025-05-22 09:44:51,229] \u001b[0mCreated usort_offaxis_ovc\n"
     ]
    },
    {
     "name": "stdout",
     "output_type": "stream",
     "text": [
      "Using psf_trunc_ratio to calculate Omega...\n",
      "WARNING: No noise floor factor nor PPF provided, setting noisefloor to zero. If you want to have an estimate for the noisefloor, please use noisefloor_factor or noisefloor_PPF.\n",
      "Azimuthally averaging contrast maps and noise floor...\n",
      "Calculating optics throughput from preset...\n",
      "Calculating epswarmTrcold as 1 - optics throughput...\n",
      "Observatory Configuration:\n",
      "  Using preset: EAC1\n",
      "\n"
     ]
    },
    {
     "name": "stderr",
     "output_type": "stream",
     "text": [
      "\u001b[38;5;229m\u001b[48;5;16m[yippy]\u001b[0m \u001b[32mINFO [2025-05-22 09:44:56,190] \u001b[0mCreating usort_offaxis_ovc coronagraph\n",
      "\u001b[38;5;229m\u001b[48;5;16m[yippy]\u001b[0m \u001b[33mWARNING [2025-05-22 09:44:56,192] \u001b[0mUnhandled header fields: {'D_INSC'}\n",
      "\u001b[38;5;229m\u001b[48;5;16m[yippy]\u001b[0m \u001b[33mWARNING [2025-05-22 09:44:56,192] \u001b[0mUsing default unit for D: m. Could not extract unit from comment: \"circumscribed diameter of the telescope in mete\"\n",
      "\u001b[38;5;229m\u001b[48;5;16m[yippy]\u001b[0m \u001b[32mINFO [2025-05-22 09:44:56,226] \u001b[0musort_offaxis_ovc is radially symmetric\n",
      "\u001b[38;5;229m\u001b[48;5;16m[yippy]\u001b[0m \u001b[32mINFO [2025-05-22 09:44:56,242] \u001b[0mCreated usort_offaxis_ovc\n"
     ]
    },
    {
     "name": "stdout",
     "output_type": "stream",
     "text": [
      "Using psf_trunc_ratio to calculate Omega...\n",
      "WARNING: No noise floor factor nor PPF provided, setting noisefloor to zero. If you want to have an estimate for the noisefloor, please use noisefloor_factor or noisefloor_PPF.\n",
      "Azimuthally averaging contrast maps and noise floor...\n",
      "Calculating optics throughput from preset...\n",
      "Calculating epswarmTrcold as 1 - optics throughput...\n",
      "Observatory Configuration:\n",
      "  Using preset: EAC1\n",
      "\n"
     ]
    },
    {
     "name": "stderr",
     "output_type": "stream",
     "text": [
      "\u001b[38;5;229m\u001b[48;5;16m[yippy]\u001b[0m \u001b[32mINFO [2025-05-22 09:45:01,153] \u001b[0mCreating usort_offaxis_ovc coronagraph\n",
      "\u001b[38;5;229m\u001b[48;5;16m[yippy]\u001b[0m \u001b[33mWARNING [2025-05-22 09:45:01,155] \u001b[0mUnhandled header fields: {'D_INSC'}\n",
      "\u001b[38;5;229m\u001b[48;5;16m[yippy]\u001b[0m \u001b[33mWARNING [2025-05-22 09:45:01,156] \u001b[0mUsing default unit for D: m. Could not extract unit from comment: \"circumscribed diameter of the telescope in mete\"\n",
      "\u001b[38;5;229m\u001b[48;5;16m[yippy]\u001b[0m \u001b[32mINFO [2025-05-22 09:45:01,204] \u001b[0musort_offaxis_ovc is radially symmetric\n",
      "\u001b[38;5;229m\u001b[48;5;16m[yippy]\u001b[0m \u001b[32mINFO [2025-05-22 09:45:01,225] \u001b[0mCreated usort_offaxis_ovc\n"
     ]
    },
    {
     "name": "stdout",
     "output_type": "stream",
     "text": [
      "Using psf_trunc_ratio to calculate Omega...\n",
      "WARNING: No noise floor factor nor PPF provided, setting noisefloor to zero. If you want to have an estimate for the noisefloor, please use noisefloor_factor or noisefloor_PPF.\n",
      "Azimuthally averaging contrast maps and noise floor...\n",
      "Calculating optics throughput from preset...\n",
      "Calculating epswarmTrcold as 1 - optics throughput...\n",
      "Observatory Configuration:\n",
      "  Using preset: EAC1\n",
      "\n"
     ]
    },
    {
     "name": "stderr",
     "output_type": "stream",
     "text": [
      "\u001b[38;5;229m\u001b[48;5;16m[yippy]\u001b[0m \u001b[32mINFO [2025-05-22 09:45:06,235] \u001b[0mCreating usort_offaxis_ovc coronagraph\n",
      "\u001b[38;5;229m\u001b[48;5;16m[yippy]\u001b[0m \u001b[33mWARNING [2025-05-22 09:45:06,237] \u001b[0mUnhandled header fields: {'D_INSC'}\n",
      "\u001b[38;5;229m\u001b[48;5;16m[yippy]\u001b[0m \u001b[33mWARNING [2025-05-22 09:45:06,238] \u001b[0mUsing default unit for D: m. Could not extract unit from comment: \"circumscribed diameter of the telescope in mete\"\n",
      "\u001b[38;5;229m\u001b[48;5;16m[yippy]\u001b[0m \u001b[32mINFO [2025-05-22 09:45:06,278] \u001b[0musort_offaxis_ovc is radially symmetric\n",
      "\u001b[38;5;229m\u001b[48;5;16m[yippy]\u001b[0m \u001b[32mINFO [2025-05-22 09:45:06,298] \u001b[0mCreated usort_offaxis_ovc\n"
     ]
    },
    {
     "name": "stdout",
     "output_type": "stream",
     "text": [
      "Using psf_trunc_ratio to calculate Omega...\n",
      "WARNING: No noise floor factor nor PPF provided, setting noisefloor to zero. If you want to have an estimate for the noisefloor, please use noisefloor_factor or noisefloor_PPF.\n",
      "Azimuthally averaging contrast maps and noise floor...\n",
      "Calculating optics throughput from preset...\n",
      "Calculating epswarmTrcold as 1 - optics throughput...\n",
      "Observatory Configuration:\n",
      "  Using preset: EAC1\n",
      "\n"
     ]
    },
    {
     "name": "stderr",
     "output_type": "stream",
     "text": [
      "\u001b[38;5;229m\u001b[48;5;16m[yippy]\u001b[0m \u001b[32mINFO [2025-05-22 09:45:11,208] \u001b[0mCreating usort_offaxis_ovc coronagraph\n",
      "\u001b[38;5;229m\u001b[48;5;16m[yippy]\u001b[0m \u001b[33mWARNING [2025-05-22 09:45:11,209] \u001b[0mUnhandled header fields: {'D_INSC'}\n",
      "\u001b[38;5;229m\u001b[48;5;16m[yippy]\u001b[0m \u001b[33mWARNING [2025-05-22 09:45:11,210] \u001b[0mUsing default unit for D: m. Could not extract unit from comment: \"circumscribed diameter of the telescope in mete\"\n",
      "\u001b[38;5;229m\u001b[48;5;16m[yippy]\u001b[0m \u001b[32mINFO [2025-05-22 09:45:11,243] \u001b[0musort_offaxis_ovc is radially symmetric\n",
      "\u001b[38;5;229m\u001b[48;5;16m[yippy]\u001b[0m \u001b[32mINFO [2025-05-22 09:45:11,257] \u001b[0mCreated usort_offaxis_ovc\n"
     ]
    },
    {
     "name": "stdout",
     "output_type": "stream",
     "text": [
      "Using psf_trunc_ratio to calculate Omega...\n",
      "WARNING: No noise floor factor nor PPF provided, setting noisefloor to zero. If you want to have an estimate for the noisefloor, please use noisefloor_factor or noisefloor_PPF.\n",
      "Azimuthally averaging contrast maps and noise floor...\n",
      "Calculating optics throughput from preset...\n",
      "Calculating epswarmTrcold as 1 - optics throughput...\n",
      "Observatory Configuration:\n",
      "  Using preset: EAC1\n",
      "\n"
     ]
    },
    {
     "name": "stderr",
     "output_type": "stream",
     "text": [
      "\u001b[38;5;229m\u001b[48;5;16m[yippy]\u001b[0m \u001b[32mINFO [2025-05-22 09:45:16,217] \u001b[0mCreating usort_offaxis_ovc coronagraph\n",
      "\u001b[38;5;229m\u001b[48;5;16m[yippy]\u001b[0m \u001b[33mWARNING [2025-05-22 09:45:16,219] \u001b[0mUnhandled header fields: {'D_INSC'}\n",
      "\u001b[38;5;229m\u001b[48;5;16m[yippy]\u001b[0m \u001b[33mWARNING [2025-05-22 09:45:16,219] \u001b[0mUsing default unit for D: m. Could not extract unit from comment: \"circumscribed diameter of the telescope in mete\"\n",
      "\u001b[38;5;229m\u001b[48;5;16m[yippy]\u001b[0m \u001b[32mINFO [2025-05-22 09:45:16,254] \u001b[0musort_offaxis_ovc is radially symmetric\n",
      "\u001b[38;5;229m\u001b[48;5;16m[yippy]\u001b[0m \u001b[32mINFO [2025-05-22 09:45:16,269] \u001b[0mCreated usort_offaxis_ovc\n"
     ]
    },
    {
     "name": "stdout",
     "output_type": "stream",
     "text": [
      "Using psf_trunc_ratio to calculate Omega...\n",
      "WARNING: No noise floor factor nor PPF provided, setting noisefloor to zero. If you want to have an estimate for the noisefloor, please use noisefloor_factor or noisefloor_PPF.\n",
      "Azimuthally averaging contrast maps and noise floor...\n",
      "Calculating optics throughput from preset...\n",
      "Calculating epswarmTrcold as 1 - optics throughput...\n",
      "Observatory Configuration:\n",
      "  Using preset: EAC1\n",
      "\n"
     ]
    },
    {
     "name": "stderr",
     "output_type": "stream",
     "text": [
      "\u001b[38;5;229m\u001b[48;5;16m[yippy]\u001b[0m \u001b[32mINFO [2025-05-22 09:45:21,407] \u001b[0mCreating usort_offaxis_ovc coronagraph\n",
      "\u001b[38;5;229m\u001b[48;5;16m[yippy]\u001b[0m \u001b[33mWARNING [2025-05-22 09:45:21,409] \u001b[0mUnhandled header fields: {'D_INSC'}\n",
      "\u001b[38;5;229m\u001b[48;5;16m[yippy]\u001b[0m \u001b[33mWARNING [2025-05-22 09:45:21,409] \u001b[0mUsing default unit for D: m. Could not extract unit from comment: \"circumscribed diameter of the telescope in mete\"\n",
      "\u001b[38;5;229m\u001b[48;5;16m[yippy]\u001b[0m \u001b[32mINFO [2025-05-22 09:45:21,444] \u001b[0musort_offaxis_ovc is radially symmetric\n",
      "\u001b[38;5;229m\u001b[48;5;16m[yippy]\u001b[0m \u001b[32mINFO [2025-05-22 09:45:21,462] \u001b[0mCreated usort_offaxis_ovc\n"
     ]
    },
    {
     "name": "stdout",
     "output_type": "stream",
     "text": [
      "Using psf_trunc_ratio to calculate Omega...\n",
      "WARNING: No noise floor factor nor PPF provided, setting noisefloor to zero. If you want to have an estimate for the noisefloor, please use noisefloor_factor or noisefloor_PPF.\n",
      "Azimuthally averaging contrast maps and noise floor...\n",
      "Calculating optics throughput from preset...\n",
      "Calculating epswarmTrcold as 1 - optics throughput...\n",
      "Observatory Configuration:\n",
      "  Using preset: EAC1\n",
      "\n"
     ]
    },
    {
     "name": "stderr",
     "output_type": "stream",
     "text": [
      "\u001b[38;5;229m\u001b[48;5;16m[yippy]\u001b[0m \u001b[32mINFO [2025-05-22 09:45:26,475] \u001b[0mCreating usort_offaxis_ovc coronagraph\n",
      "\u001b[38;5;229m\u001b[48;5;16m[yippy]\u001b[0m \u001b[33mWARNING [2025-05-22 09:45:26,477] \u001b[0mUnhandled header fields: {'D_INSC'}\n",
      "\u001b[38;5;229m\u001b[48;5;16m[yippy]\u001b[0m \u001b[33mWARNING [2025-05-22 09:45:26,477] \u001b[0mUsing default unit for D: m. Could not extract unit from comment: \"circumscribed diameter of the telescope in mete\"\n",
      "\u001b[38;5;229m\u001b[48;5;16m[yippy]\u001b[0m \u001b[32mINFO [2025-05-22 09:45:26,511] \u001b[0musort_offaxis_ovc is radially symmetric\n",
      "\u001b[38;5;229m\u001b[48;5;16m[yippy]\u001b[0m \u001b[32mINFO [2025-05-22 09:45:26,529] \u001b[0mCreated usort_offaxis_ovc\n"
     ]
    },
    {
     "name": "stdout",
     "output_type": "stream",
     "text": [
      "Using psf_trunc_ratio to calculate Omega...\n",
      "WARNING: No noise floor factor nor PPF provided, setting noisefloor to zero. If you want to have an estimate for the noisefloor, please use noisefloor_factor or noisefloor_PPF.\n",
      "Azimuthally averaging contrast maps and noise floor...\n",
      "Calculating optics throughput from preset...\n",
      "Calculating epswarmTrcold as 1 - optics throughput...\n",
      "Observatory Configuration:\n",
      "  Using preset: EAC1\n",
      "\n"
     ]
    },
    {
     "name": "stderr",
     "output_type": "stream",
     "text": [
      "\u001b[38;5;229m\u001b[48;5;16m[yippy]\u001b[0m \u001b[32mINFO [2025-05-22 09:45:31,322] \u001b[0mCreating usort_offaxis_ovc coronagraph\n",
      "\u001b[38;5;229m\u001b[48;5;16m[yippy]\u001b[0m \u001b[33mWARNING [2025-05-22 09:45:31,323] \u001b[0mUnhandled header fields: {'D_INSC'}\n",
      "\u001b[38;5;229m\u001b[48;5;16m[yippy]\u001b[0m \u001b[33mWARNING [2025-05-22 09:45:31,324] \u001b[0mUsing default unit for D: m. Could not extract unit from comment: \"circumscribed diameter of the telescope in mete\"\n",
      "\u001b[38;5;229m\u001b[48;5;16m[yippy]\u001b[0m \u001b[32mINFO [2025-05-22 09:45:31,354] \u001b[0musort_offaxis_ovc is radially symmetric\n",
      "\u001b[38;5;229m\u001b[48;5;16m[yippy]\u001b[0m \u001b[32mINFO [2025-05-22 09:45:31,370] \u001b[0mCreated usort_offaxis_ovc\n"
     ]
    },
    {
     "name": "stdout",
     "output_type": "stream",
     "text": [
      "Using psf_trunc_ratio to calculate Omega...\n",
      "WARNING: No noise floor factor nor PPF provided, setting noisefloor to zero. If you want to have an estimate for the noisefloor, please use noisefloor_factor or noisefloor_PPF.\n",
      "Azimuthally averaging contrast maps and noise floor...\n",
      "Calculating optics throughput from preset...\n",
      "Calculating epswarmTrcold as 1 - optics throughput...\n",
      "Observatory Configuration:\n",
      "  Using preset: EAC1\n",
      "\n"
     ]
    },
    {
     "name": "stderr",
     "output_type": "stream",
     "text": [
      "\u001b[38;5;229m\u001b[48;5;16m[yippy]\u001b[0m \u001b[32mINFO [2025-05-22 09:45:36,144] \u001b[0mCreating usort_offaxis_ovc coronagraph\n",
      "\u001b[38;5;229m\u001b[48;5;16m[yippy]\u001b[0m \u001b[33mWARNING [2025-05-22 09:45:36,146] \u001b[0mUnhandled header fields: {'D_INSC'}\n",
      "\u001b[38;5;229m\u001b[48;5;16m[yippy]\u001b[0m \u001b[33mWARNING [2025-05-22 09:45:36,146] \u001b[0mUsing default unit for D: m. Could not extract unit from comment: \"circumscribed diameter of the telescope in mete\"\n",
      "\u001b[38;5;229m\u001b[48;5;16m[yippy]\u001b[0m \u001b[32mINFO [2025-05-22 09:45:36,178] \u001b[0musort_offaxis_ovc is radially symmetric\n",
      "\u001b[38;5;229m\u001b[48;5;16m[yippy]\u001b[0m \u001b[32mINFO [2025-05-22 09:45:36,195] \u001b[0mCreated usort_offaxis_ovc\n"
     ]
    },
    {
     "name": "stdout",
     "output_type": "stream",
     "text": [
      "Using psf_trunc_ratio to calculate Omega...\n",
      "WARNING: No noise floor factor nor PPF provided, setting noisefloor to zero. If you want to have an estimate for the noisefloor, please use noisefloor_factor or noisefloor_PPF.\n",
      "Azimuthally averaging contrast maps and noise floor...\n",
      "Calculating optics throughput from preset...\n",
      "Calculating epswarmTrcold as 1 - optics throughput...\n",
      "Observatory Configuration:\n",
      "  Using preset: EAC1\n",
      "\n"
     ]
    },
    {
     "name": "stderr",
     "output_type": "stream",
     "text": [
      "\u001b[38;5;229m\u001b[48;5;16m[yippy]\u001b[0m \u001b[32mINFO [2025-05-22 09:45:40,903] \u001b[0mCreating usort_offaxis_ovc coronagraph\n",
      "\u001b[38;5;229m\u001b[48;5;16m[yippy]\u001b[0m \u001b[33mWARNING [2025-05-22 09:45:40,904] \u001b[0mUnhandled header fields: {'D_INSC'}\n",
      "\u001b[38;5;229m\u001b[48;5;16m[yippy]\u001b[0m \u001b[33mWARNING [2025-05-22 09:45:40,905] \u001b[0mUsing default unit for D: m. Could not extract unit from comment: \"circumscribed diameter of the telescope in mete\"\n",
      "\u001b[38;5;229m\u001b[48;5;16m[yippy]\u001b[0m \u001b[32mINFO [2025-05-22 09:45:40,947] \u001b[0musort_offaxis_ovc is radially symmetric\n",
      "\u001b[38;5;229m\u001b[48;5;16m[yippy]\u001b[0m \u001b[32mINFO [2025-05-22 09:45:40,964] \u001b[0mCreated usort_offaxis_ovc\n"
     ]
    },
    {
     "name": "stdout",
     "output_type": "stream",
     "text": [
      "Using psf_trunc_ratio to calculate Omega...\n",
      "WARNING: No noise floor factor nor PPF provided, setting noisefloor to zero. If you want to have an estimate for the noisefloor, please use noisefloor_factor or noisefloor_PPF.\n",
      "Azimuthally averaging contrast maps and noise floor...\n",
      "Calculating optics throughput from preset...\n",
      "Calculating epswarmTrcold as 1 - optics throughput...\n",
      "Observatory Configuration:\n",
      "  Using preset: EAC1\n",
      "\n"
     ]
    },
    {
     "name": "stderr",
     "output_type": "stream",
     "text": [
      "\u001b[38;5;229m\u001b[48;5;16m[yippy]\u001b[0m \u001b[32mINFO [2025-05-22 09:45:45,667] \u001b[0mCreating usort_offaxis_ovc coronagraph\n",
      "\u001b[38;5;229m\u001b[48;5;16m[yippy]\u001b[0m \u001b[33mWARNING [2025-05-22 09:45:45,669] \u001b[0mUnhandled header fields: {'D_INSC'}\n",
      "\u001b[38;5;229m\u001b[48;5;16m[yippy]\u001b[0m \u001b[33mWARNING [2025-05-22 09:45:45,669] \u001b[0mUsing default unit for D: m. Could not extract unit from comment: \"circumscribed diameter of the telescope in mete\"\n",
      "\u001b[38;5;229m\u001b[48;5;16m[yippy]\u001b[0m \u001b[32mINFO [2025-05-22 09:45:45,711] \u001b[0musort_offaxis_ovc is radially symmetric\n",
      "\u001b[38;5;229m\u001b[48;5;16m[yippy]\u001b[0m \u001b[32mINFO [2025-05-22 09:45:45,728] \u001b[0mCreated usort_offaxis_ovc\n"
     ]
    },
    {
     "name": "stdout",
     "output_type": "stream",
     "text": [
      "Using psf_trunc_ratio to calculate Omega...\n",
      "WARNING: No noise floor factor nor PPF provided, setting noisefloor to zero. If you want to have an estimate for the noisefloor, please use noisefloor_factor or noisefloor_PPF.\n",
      "Azimuthally averaging contrast maps and noise floor...\n",
      "Calculating optics throughput from preset...\n",
      "Calculating epswarmTrcold as 1 - optics throughput...\n",
      "Observatory Configuration:\n",
      "  Using preset: EAC1\n",
      "\n"
     ]
    },
    {
     "name": "stderr",
     "output_type": "stream",
     "text": [
      "\u001b[38;5;229m\u001b[48;5;16m[yippy]\u001b[0m \u001b[32mINFO [2025-05-22 09:45:50,719] \u001b[0mCreating usort_offaxis_ovc coronagraph\n",
      "\u001b[38;5;229m\u001b[48;5;16m[yippy]\u001b[0m \u001b[33mWARNING [2025-05-22 09:45:50,721] \u001b[0mUnhandled header fields: {'D_INSC'}\n",
      "\u001b[38;5;229m\u001b[48;5;16m[yippy]\u001b[0m \u001b[33mWARNING [2025-05-22 09:45:50,721] \u001b[0mUsing default unit for D: m. Could not extract unit from comment: \"circumscribed diameter of the telescope in mete\"\n",
      "\u001b[38;5;229m\u001b[48;5;16m[yippy]\u001b[0m \u001b[32mINFO [2025-05-22 09:45:50,755] \u001b[0musort_offaxis_ovc is radially symmetric\n",
      "\u001b[38;5;229m\u001b[48;5;16m[yippy]\u001b[0m \u001b[32mINFO [2025-05-22 09:45:50,771] \u001b[0mCreated usort_offaxis_ovc\n"
     ]
    },
    {
     "name": "stdout",
     "output_type": "stream",
     "text": [
      "Using psf_trunc_ratio to calculate Omega...\n",
      "WARNING: No noise floor factor nor PPF provided, setting noisefloor to zero. If you want to have an estimate for the noisefloor, please use noisefloor_factor or noisefloor_PPF.\n",
      "Azimuthally averaging contrast maps and noise floor...\n",
      "Calculating optics throughput from preset...\n",
      "Calculating epswarmTrcold as 1 - optics throughput...\n",
      "Observatory Configuration:\n",
      "  Using preset: EAC1\n",
      "\n"
     ]
    },
    {
     "name": "stderr",
     "output_type": "stream",
     "text": [
      "\u001b[38;5;229m\u001b[48;5;16m[yippy]\u001b[0m \u001b[32mINFO [2025-05-22 09:45:55,590] \u001b[0mCreating usort_offaxis_ovc coronagraph\n",
      "\u001b[38;5;229m\u001b[48;5;16m[yippy]\u001b[0m \u001b[33mWARNING [2025-05-22 09:45:55,591] \u001b[0mUnhandled header fields: {'D_INSC'}\n",
      "\u001b[38;5;229m\u001b[48;5;16m[yippy]\u001b[0m \u001b[33mWARNING [2025-05-22 09:45:55,592] \u001b[0mUsing default unit for D: m. Could not extract unit from comment: \"circumscribed diameter of the telescope in mete\"\n",
      "\u001b[38;5;229m\u001b[48;5;16m[yippy]\u001b[0m \u001b[32mINFO [2025-05-22 09:45:55,636] \u001b[0musort_offaxis_ovc is radially symmetric\n",
      "\u001b[38;5;229m\u001b[48;5;16m[yippy]\u001b[0m \u001b[32mINFO [2025-05-22 09:45:55,654] \u001b[0mCreated usort_offaxis_ovc\n"
     ]
    },
    {
     "name": "stdout",
     "output_type": "stream",
     "text": [
      "Using psf_trunc_ratio to calculate Omega...\n",
      "WARNING: No noise floor factor nor PPF provided, setting noisefloor to zero. If you want to have an estimate for the noisefloor, please use noisefloor_factor or noisefloor_PPF.\n",
      "Azimuthally averaging contrast maps and noise floor...\n",
      "Calculating optics throughput from preset...\n",
      "Calculating epswarmTrcold as 1 - optics throughput...\n",
      "Observatory Configuration:\n",
      "  Using preset: EAC1\n",
      "\n"
     ]
    },
    {
     "name": "stderr",
     "output_type": "stream",
     "text": [
      "\u001b[38;5;229m\u001b[48;5;16m[yippy]\u001b[0m \u001b[32mINFO [2025-05-22 09:46:00,717] \u001b[0mCreating usort_offaxis_ovc coronagraph\n",
      "\u001b[38;5;229m\u001b[48;5;16m[yippy]\u001b[0m \u001b[33mWARNING [2025-05-22 09:46:00,718] \u001b[0mUnhandled header fields: {'D_INSC'}\n",
      "\u001b[38;5;229m\u001b[48;5;16m[yippy]\u001b[0m \u001b[33mWARNING [2025-05-22 09:46:00,719] \u001b[0mUsing default unit for D: m. Could not extract unit from comment: \"circumscribed diameter of the telescope in mete\"\n",
      "\u001b[38;5;229m\u001b[48;5;16m[yippy]\u001b[0m \u001b[32mINFO [2025-05-22 09:46:00,765] \u001b[0musort_offaxis_ovc is radially symmetric\n",
      "\u001b[38;5;229m\u001b[48;5;16m[yippy]\u001b[0m \u001b[32mINFO [2025-05-22 09:46:00,782] \u001b[0mCreated usort_offaxis_ovc\n"
     ]
    },
    {
     "name": "stdout",
     "output_type": "stream",
     "text": [
      "Using psf_trunc_ratio to calculate Omega...\n",
      "WARNING: No noise floor factor nor PPF provided, setting noisefloor to zero. If you want to have an estimate for the noisefloor, please use noisefloor_factor or noisefloor_PPF.\n",
      "Azimuthally averaging contrast maps and noise floor...\n",
      "Calculating optics throughput from preset...\n",
      "Calculating epswarmTrcold as 1 - optics throughput...\n",
      "Observatory Configuration:\n",
      "  Using preset: EAC1\n",
      "\n"
     ]
    },
    {
     "name": "stderr",
     "output_type": "stream",
     "text": [
      "\u001b[38;5;229m\u001b[48;5;16m[yippy]\u001b[0m \u001b[32mINFO [2025-05-22 09:46:05,963] \u001b[0mCreating usort_offaxis_ovc coronagraph\n",
      "\u001b[38;5;229m\u001b[48;5;16m[yippy]\u001b[0m \u001b[33mWARNING [2025-05-22 09:46:05,965] \u001b[0mUnhandled header fields: {'D_INSC'}\n",
      "\u001b[38;5;229m\u001b[48;5;16m[yippy]\u001b[0m \u001b[33mWARNING [2025-05-22 09:46:05,966] \u001b[0mUsing default unit for D: m. Could not extract unit from comment: \"circumscribed diameter of the telescope in mete\"\n",
      "\u001b[38;5;229m\u001b[48;5;16m[yippy]\u001b[0m \u001b[32mINFO [2025-05-22 09:46:05,997] \u001b[0musort_offaxis_ovc is radially symmetric\n",
      "\u001b[38;5;229m\u001b[48;5;16m[yippy]\u001b[0m \u001b[32mINFO [2025-05-22 09:46:06,015] \u001b[0mCreated usort_offaxis_ovc\n"
     ]
    },
    {
     "name": "stdout",
     "output_type": "stream",
     "text": [
      "Using psf_trunc_ratio to calculate Omega...\n",
      "WARNING: No noise floor factor nor PPF provided, setting noisefloor to zero. If you want to have an estimate for the noisefloor, please use noisefloor_factor or noisefloor_PPF.\n",
      "Azimuthally averaging contrast maps and noise floor...\n",
      "Calculating optics throughput from preset...\n",
      "Calculating epswarmTrcold as 1 - optics throughput...\n",
      "Observatory Configuration:\n",
      "  Using preset: EAC1\n",
      "\n"
     ]
    },
    {
     "name": "stderr",
     "output_type": "stream",
     "text": [
      "\u001b[38;5;229m\u001b[48;5;16m[yippy]\u001b[0m \u001b[32mINFO [2025-05-22 09:46:10,855] \u001b[0mCreating usort_offaxis_ovc coronagraph\n",
      "\u001b[38;5;229m\u001b[48;5;16m[yippy]\u001b[0m \u001b[33mWARNING [2025-05-22 09:46:10,856] \u001b[0mUnhandled header fields: {'D_INSC'}\n",
      "\u001b[38;5;229m\u001b[48;5;16m[yippy]\u001b[0m \u001b[33mWARNING [2025-05-22 09:46:10,857] \u001b[0mUsing default unit for D: m. Could not extract unit from comment: \"circumscribed diameter of the telescope in mete\"\n",
      "\u001b[38;5;229m\u001b[48;5;16m[yippy]\u001b[0m \u001b[32mINFO [2025-05-22 09:46:10,892] \u001b[0musort_offaxis_ovc is radially symmetric\n",
      "\u001b[38;5;229m\u001b[48;5;16m[yippy]\u001b[0m \u001b[32mINFO [2025-05-22 09:46:10,909] \u001b[0mCreated usort_offaxis_ovc\n"
     ]
    },
    {
     "name": "stdout",
     "output_type": "stream",
     "text": [
      "Using psf_trunc_ratio to calculate Omega...\n",
      "WARNING: No noise floor factor nor PPF provided, setting noisefloor to zero. If you want to have an estimate for the noisefloor, please use noisefloor_factor or noisefloor_PPF.\n",
      "Azimuthally averaging contrast maps and noise floor...\n",
      "Calculating optics throughput from preset...\n",
      "Calculating epswarmTrcold as 1 - optics throughput...\n",
      "Observatory Configuration:\n",
      "  Using preset: EAC1\n",
      "\n"
     ]
    },
    {
     "name": "stderr",
     "output_type": "stream",
     "text": [
      "\u001b[38;5;229m\u001b[48;5;16m[yippy]\u001b[0m \u001b[32mINFO [2025-05-22 09:46:16,100] \u001b[0mCreating usort_offaxis_ovc coronagraph\n",
      "\u001b[38;5;229m\u001b[48;5;16m[yippy]\u001b[0m \u001b[33mWARNING [2025-05-22 09:46:16,103] \u001b[0mUnhandled header fields: {'D_INSC'}\n",
      "\u001b[38;5;229m\u001b[48;5;16m[yippy]\u001b[0m \u001b[33mWARNING [2025-05-22 09:46:16,103] \u001b[0mUsing default unit for D: m. Could not extract unit from comment: \"circumscribed diameter of the telescope in mete\"\n",
      "\u001b[38;5;229m\u001b[48;5;16m[yippy]\u001b[0m \u001b[32mINFO [2025-05-22 09:46:16,150] \u001b[0musort_offaxis_ovc is radially symmetric\n",
      "\u001b[38;5;229m\u001b[48;5;16m[yippy]\u001b[0m \u001b[32mINFO [2025-05-22 09:46:16,177] \u001b[0mCreated usort_offaxis_ovc\n"
     ]
    },
    {
     "name": "stdout",
     "output_type": "stream",
     "text": [
      "Using psf_trunc_ratio to calculate Omega...\n",
      "WARNING: No noise floor factor nor PPF provided, setting noisefloor to zero. If you want to have an estimate for the noisefloor, please use noisefloor_factor or noisefloor_PPF.\n",
      "Azimuthally averaging contrast maps and noise floor...\n",
      "Calculating optics throughput from preset...\n",
      "Calculating epswarmTrcold as 1 - optics throughput...\n",
      "WARNING: Photometric aperture is not large enough. Hardcoded infinity results.\n",
      "Observatory Configuration:\n",
      "  Using preset: EAC1\n",
      "\n"
     ]
    },
    {
     "name": "stderr",
     "output_type": "stream",
     "text": [
      "\u001b[38;5;229m\u001b[48;5;16m[yippy]\u001b[0m \u001b[32mINFO [2025-05-22 09:46:21,062] \u001b[0mCreating usort_offaxis_ovc coronagraph\n",
      "\u001b[38;5;229m\u001b[48;5;16m[yippy]\u001b[0m \u001b[33mWARNING [2025-05-22 09:46:21,063] \u001b[0mUnhandled header fields: {'D_INSC'}\n",
      "\u001b[38;5;229m\u001b[48;5;16m[yippy]\u001b[0m \u001b[33mWARNING [2025-05-22 09:46:21,064] \u001b[0mUsing default unit for D: m. Could not extract unit from comment: \"circumscribed diameter of the telescope in mete\"\n",
      "\u001b[38;5;229m\u001b[48;5;16m[yippy]\u001b[0m \u001b[32mINFO [2025-05-22 09:46:21,106] \u001b[0musort_offaxis_ovc is radially symmetric\n",
      "\u001b[38;5;229m\u001b[48;5;16m[yippy]\u001b[0m \u001b[32mINFO [2025-05-22 09:46:21,128] \u001b[0mCreated usort_offaxis_ovc\n"
     ]
    },
    {
     "name": "stdout",
     "output_type": "stream",
     "text": [
      "Using psf_trunc_ratio to calculate Omega...\n",
      "WARNING: No noise floor factor nor PPF provided, setting noisefloor to zero. If you want to have an estimate for the noisefloor, please use noisefloor_factor or noisefloor_PPF.\n",
      "Azimuthally averaging contrast maps and noise floor...\n",
      "Calculating optics throughput from preset...\n",
      "Calculating epswarmTrcold as 1 - optics throughput...\n",
      "WARNING: Photometric aperture is not large enough. Hardcoded infinity results.\n"
     ]
    },
    {
     "data": {
      "image/png": "[encoded data removed]",
      "text/plain": [
       "<Figure size 1000x600 with 1 Axes>"
      ]
     },
     "metadata": {},
     "output_type": "display_data"
    }
   ],
   "source": [
    "# SNR Case\n",
    " \n",
    "psfratios = np.linspace(0.1, 1, 20)   \n",
    "exptime=15*u.hr\n",
    "snrs = []\n",
    "\n",
    "for ratio in psfratios:\n",
    "    params = imaging_params.copy()\n",
    "    params['psf_trunc_ratio'] = ratio\n",
    "    parsed_parameters= parse_input.parse_parameters(params)\n",
    "    snr,_ = calculate_snr(parsed_parameters,exptime, verbose=False)\n",
    "    snrs.append(snr[0].value)\n",
    "\n",
    "# MAKE PLOT\n",
    "fig, ax1 = plt.subplots(figsize=(10, 6))\n",
    "# Primary x-axis (separation arcsec)\n",
    "ax1.plot(psfratios, snrs, marker='o', label='Valid exposures')\n",
    "\n",
    "\n",
    "ax1.set_xlabel('PSF Truncation Ratio')\n",
    "ax1.set_ylabel('SNR')\n",
    "ax1.grid(True)\n",
    "\n",
    "plt.title('SNR vs. PSF Truncation Ratio')\n",
    "plt.legend()\n",
    "plt.tight_layout()\n",
    "plt.show()\n",
    "\n",
    "# SNR maximized at 0.3, just like it should! "
   ]
  },
  {
   "cell_type": "markdown",
   "metadata": {},
   "source": [
    "## 6. Advanced Tutorials\n",
    "\n",
    "From the previous examples you noticed that we called `calculate_texp` in a loop multiple times. This makes the code start over and over, which slows down the process for large loops. If you want to speed up the calculation, you can work within `calculate_texp` and loop only what you need. Here are the contents of `calculate_texp`."
   ]
  },
  {
   "cell_type": "code",
   "execution_count": 12,
   "metadata": {},
   "outputs": [
    {
     "name": "stdout",
     "output_type": "stream",
     "text": [
      "Observatory Configuration:\n",
      "  Using preset: EAC1\n",
      "\n"
     ]
    },
    {
     "name": "stderr",
     "output_type": "stream",
     "text": [
      "\u001b[38;5;229m\u001b[48;5;16m[yippy]\u001b[0m \u001b[32mINFO [2025-05-22 09:46:26,247] \u001b[0mCreating usort_offaxis_ovc coronagraph\n",
      "\u001b[38;5;229m\u001b[48;5;16m[yippy]\u001b[0m \u001b[33mWARNING [2025-05-22 09:46:26,249] \u001b[0mUnhandled header fields: {'D_INSC'}\n",
      "\u001b[38;5;229m\u001b[48;5;16m[yippy]\u001b[0m \u001b[33mWARNING [2025-05-22 09:46:26,250] \u001b[0mUsing default unit for D: m. Could not extract unit from comment: \"circumscribed diameter of the telescope in mete\"\n",
      "\u001b[38;5;229m\u001b[48;5;16m[yippy]\u001b[0m \u001b[32mINFO [2025-05-22 09:46:26,283] \u001b[0musort_offaxis_ovc is radially symmetric\n",
      "\u001b[38;5;229m\u001b[48;5;16m[yippy]\u001b[0m \u001b[32mINFO [2025-05-22 09:46:26,299] \u001b[0mCreated usort_offaxis_ovc\n"
     ]
    },
    {
     "name": "stdout",
     "output_type": "stream",
     "text": [
      "Using psf_trunc_ratio to calculate Omega...\n",
      "WARNING: No noise floor factor nor PPF provided, setting noisefloor to zero. If you want to have an estimate for the noisefloor, please use noisefloor_factor or noisefloor_PPF.\n",
      "Azimuthally averaging contrast maps and noise floor...\n",
      "Calculating optics throughput from preset...\n",
      "Calculating epswarmTrcold as 1 - optics throughput...\n"
     ]
    }
   ],
   "source": [
    "from pyEDITH import calculate_exposure_time_or_snr, parse_input\n",
    "params = imaging_params.copy()\n",
    "\n",
    "# Parse the desired parameters\n",
    "parsed_parameters= parse_input.parse_parameters(params)\n",
    "\n",
    "# Define Observation and load relevant parameters\n",
    "observation = Observation()\n",
    "observation.load_configuration(parsed_parameters)\n",
    "observation.set_output_arrays()\n",
    "observation.validate_configuration()\n",
    "\n",
    "# Define Astrophysical Scene and load relevant parameters,\n",
    "# then calculate zodi/exozodi\n",
    "scene = AstrophysicalScene()\n",
    "scene.load_configuration(parsed_parameters)\n",
    "scene.calculate_zodi_exozodi(parsed_parameters)\n",
    "scene.validate_configuration()\n",
    "\n",
    "# Create and configure Observatory using ObservatoryBuilder\n",
    "observatory_config = parse_input.get_observatory_config(parsed_parameters)\n",
    "observatory = ObservatoryBuilder.create_observatory(observatory_config)\n",
    "ObservatoryBuilder.configure_observatory(\n",
    "    observatory, parsed_parameters, observation, scene\n",
    ")\n",
    "observatory.validate_configuration()\n",
    "\n",
    "# EXPOSURE TIME CALCULATION\n",
    "calculate_exposure_time_or_snr(\n",
    "    observation,\n",
    "    scene,\n",
    "    observatory,\n",
    "    verbose=False,\n",
    "    mode=\"exposure_time\",\n",
    ")"
   ]
  },
  {
   "cell_type": "markdown",
   "metadata": {},
   "source": [
    "If we want to loop, we would just do (separation example):"
   ]
  },
  {
   "cell_type": "code",
   "execution_count": 14,
   "metadata": {},
   "outputs": [
    {
     "name": "stdout",
     "output_type": "stream",
     "text": [
      "Observatory Configuration:\n",
      "  Using preset: EAC1\n",
      "\n"
     ]
    },
    {
     "name": "stderr",
     "output_type": "stream",
     "text": [
      "\u001b[38;5;229m\u001b[48;5;16m[yippy]\u001b[0m \u001b[32mINFO [2025-05-22 09:58:33,774] \u001b[0mCreating usort_offaxis_ovc coronagraph\n",
      "\u001b[38;5;229m\u001b[48;5;16m[yippy]\u001b[0m \u001b[33mWARNING [2025-05-22 09:58:33,780] \u001b[0mUnhandled header fields: {'D_INSC'}\n",
      "\u001b[38;5;229m\u001b[48;5;16m[yippy]\u001b[0m \u001b[33mWARNING [2025-05-22 09:58:33,781] \u001b[0mUsing default unit for D: m. Could not extract unit from comment: \"circumscribed diameter of the telescope in mete\"\n",
      "\u001b[38;5;229m\u001b[48;5;16m[yippy]\u001b[0m \u001b[32mINFO [2025-05-22 09:58:33,855] \u001b[0musort_offaxis_ovc is radially symmetric\n",
      "\u001b[38;5;229m\u001b[48;5;16m[yippy]\u001b[0m \u001b[32mINFO [2025-05-22 09:58:33,953] \u001b[0mCreated usort_offaxis_ovc\n"
     ]
    },
    {
     "name": "stdout",
     "output_type": "stream",
     "text": [
      "Using psf_trunc_ratio to calculate Omega...\n",
      "WARNING: No noise floor factor nor PPF provided, setting noisefloor to zero. If you want to have an estimate for the noisefloor, please use noisefloor_factor or noisefloor_PPF.\n",
      "Azimuthally averaging contrast maps and noise floor...\n",
      "Calculating optics throughput from preset...\n",
      "Calculating epswarmTrcold as 1 - optics throughput...\n",
      "WARNING: Planet outside OWA or inside IWA. Hardcoded infinity results.\n",
      "WARNING: Planet outside OWA or inside IWA. Hardcoded infinity results.\n",
      "WARNING: Planet outside OWA or inside IWA. Hardcoded infinity results.\n",
      "WARNING: Planet outside OWA or inside IWA. Hardcoded infinity results.\n",
      "WARNING: Planet outside OWA or inside IWA. Hardcoded infinity results.\n",
      "WARNING: Planet outside OWA or inside IWA. Hardcoded infinity results.\n",
      "WARNING: Planet outside OWA or inside IWA. Hardcoded infinity results.\n",
      "WARNING: Planet outside OWA or inside IWA. Hardcoded infinity results.\n",
      "WARNING: Planet outside OWA or inside IWA. Hardcoded infinity results.\n",
      "WARNING: Planet outside OWA or inside IWA. Hardcoded infinity results.\n"
     ]
    },
    {
     "name": "stderr",
     "output_type": "stream",
     "text": [
      "/var/folders/10/v9qwyn2d7mx1blfr1v345wz80000gp/T/ipykernel_81758/838087252.py:75: UserWarning: No artists with labels found to put in legend.  Note that artists whose label start with an underscore are ignored when legend() is called with no argument.\n",
      "  plt.legend()\n"
     ]
    },
    {
     "data": {
      "image/png": "[encoded data removed]",
      "text/plain": [
       "<Figure size 1000x600 with 2 Axes>"
      ]
     },
     "metadata": {},
     "output_type": "display_data"
    }
   ],
   "source": [
    "separations = np.linspace(0.005, 0.8, 20)  # arcsec \n",
    "\n",
    "exposure_times=[]\n",
    "params = imaging_params.copy()\n",
    "\n",
    "from pyEDITH import calculate_exposure_time_or_snr, parse_input\n",
    "\n",
    "# Parse the desired parameters\n",
    "parsed_parameters= parse_input.parse_parameters(params)\n",
    "\n",
    "# Define Observation and load relevant parameters\n",
    "observation = Observation()\n",
    "observation.load_configuration(parsed_parameters)\n",
    "observation.set_output_arrays()\n",
    "observation.validate_configuration()\n",
    "\n",
    "# Define Astrophysical Scene and load relevant parameters,\n",
    "# then calculate zodi/exozodi\n",
    "scene = AstrophysicalScene()\n",
    "scene.load_configuration(parsed_parameters)\n",
    "scene.calculate_zodi_exozodi(parsed_parameters)\n",
    "scene.validate_configuration()\n",
    "\n",
    "# Create and configure Observatory using ObservatoryBuilder\n",
    "observatory_config = parse_input.get_observatory_config(parsed_parameters)\n",
    "observatory = ObservatoryBuilder.create_observatory(observatory_config)\n",
    "ObservatoryBuilder.configure_observatory(\n",
    "    observatory, parsed_parameters, observation, scene\n",
    ")\n",
    "observatory.validate_configuration()\n",
    "\n",
    "for sep in separations:\n",
    "    \n",
    "    scene.separation = sep * ARCSEC #radial separation\n",
    "    scene.xp = sep*ARCSEC #x axis separation\n",
    "\n",
    "    calculate_exposure_time_or_snr(\n",
    "    observation,\n",
    "    scene,\n",
    "    observatory,\n",
    "    verbose=False,\n",
    "    mode=\"exposure_time\",\n",
    ")\n",
    "    exposure_times.append(observation.exptime[0].to(u.hr).value)\n",
    "\n",
    "\n",
    "fig, ax1 = plt.subplots(figsize=(10, 6))\n",
    "# Primary x-axis (separation arcsec)\n",
    "ax1.plot(separations, exposure_times, marker='o', label='Valid exposures')\n",
    "ax1.plot(separations[np.isinf(exposure_times)],\n",
    "         np.ones_like(separations)[np.isinf(exposure_times)]*50,\n",
    "         marker='x', linestyle='', color='red', label='Infinite exposures')\n",
    "\n",
    "\n",
    "ax1.set_xlabel('Separation (arcsec)')\n",
    "ax1.set_ylabel('Exposure time (hours)')\n",
    "ax1.grid(True)\n",
    "\n",
    "separations_lod = arcsec_to_lambda_d(separations*ARCSEC,\n",
    "observation.wavelength[0].to(LENGTH),\n",
    "observatory.telescope.diameter.to(LENGTH),\n",
    ")\n",
    "# # Secondary x-axis (lambda/D)\n",
    "num_ticks = 5 \n",
    "tick_indices = np.linspace(0, len(separations) - 1, num_ticks, dtype=int)\n",
    "reduced_separations = [separations[i] for i in tick_indices]\n",
    "reduced_separations_lod = [separations_lod[i] for i in tick_indices]\n",
    "ax2 = ax1.twiny()\n",
    "ax2.set_xticks(reduced_separations)\n",
    "ax2.set_xticklabels([f'{m:.1f}' for m in reduced_separations_lod])\n",
    "ax2.set_xlim(ax1.get_xlim())\n",
    "ax2.set_xlabel('Separation (lambda/D)')\n",
    "\n",
    "plt.title('Exposure Time vs. Separation')\n",
    "plt.legend()\n",
    "plt.tight_layout()\n",
    "\n",
    "\n"
   ]
  }
 ],
 "metadata": {
  "kernelspec": {
   "display_name": ".venv",
   "language": "python",
   "name": "python3"
  },
  "language_info": {
   "codemirror_mode": {
    "name": "ipython",
    "version": 3
   },
   "file_extension": ".py",
   "mimetype": "text/x-python",
   "name": "python",
   "nbconvert_exporter": "python",
   "pygments_lexer": "ipython3",
   "version": "3.12.4"
  }
 },
 "nbformat": 4,
 "nbformat_minor": 2
}

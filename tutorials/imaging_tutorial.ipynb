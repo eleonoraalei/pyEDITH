{
 "cells": [
  {
   "cell_type": "markdown",
   "metadata": {},
   "source": [
    "# pyEDITH Tutorial: Imaging Mode\n",
    "\n",
    "This tutorial will guide you through using pyEDITH in imaging mode.\n",
    "\n",
    "## Before we start\n",
    "\n",
    "Make sure you download the latest YAML files  at https://github.com/HWO-GOMAP-Working-Groups/Sci-Eng-Interface/tree/main\n",
    "and make a folder that contains your Coronagraph Input Package YIP files.\n",
    "\n",
    "## Setup\n",
    "First, let's import the necessary modules and set up our environment:\n"
   ]
  },
  {
   "cell_type": "code",
   "execution_count": 1,
   "metadata": {},
   "outputs": [],
   "source": [
    "import os\n",
    "import numpy as np\n",
    "import matplotlib.pyplot as plt\n",
    "from astropy import units as u\n",
    "from pyEDITH import parse_input, calculate_texp, calculate_snr, AstrophysicalScene, Observation, ObservatoryBuilder\n",
    "from pyEDITH.units import *\n",
    "\n",
    "# Set the necessary environment variables --> REPLACE WITH YOUR PATHS. \n",
    "# You can also open your .bashrc (or .zshrc) and type:\n",
    "# export SCI_ENG_DIR=\"/path/to/Sci-Eng-Interface/hwo_sci_eng\"\n",
    "# export YIP_CORO_DIR=\"/path/to/yips\"\n",
    "\n"
   ]
  },
  {
   "cell_type": "markdown",
   "metadata": {},
   "source": [
    "### 1. Setting up the Observation Parameters\n",
    "\n",
    "Let's start by defining the parameters for an Earth-like planet around a Sun-like star.\n",
    "\n",
    "**Note:** Parameters that vary with lambda (lambd, resolution, snr, fluxes, contrasts...) can be both floats and lists. If len(lambd)>1 and any of the other values is a float, it becomes a list of length len(lambd) internally."
   ]
  },
  {
   "cell_type": "code",
   "execution_count": 2,
   "metadata": {},
   "outputs": [],
   "source": [
    "imaging_params = {\n",
    "    'wavelength': 0.5,              # Wavelength in microns\n",
    "    'snr': 7,                       # Desired signal-to-noise ratio\n",
    "    'bandwidth': 0.2,               # Bandwidth of observation\n",
    "    'CRb_multiplier': 2.0,          # Count rate ratio multiplier (assuming differential imaging for PSF subtraction)\n",
    "    'psf_trunc_ratio': 0.3,         # PSF Truncation Ratio to calculate photometric aperture of solid angle Omega. \n",
    "    'Lstar': 1,                     # Stellar luminosity in Solar luminosity units\n",
    "    'distance': 10,                 # Distance to star in parsecs\n",
    "    'FstarV_10pc': 122.9279,        # Stellar flux at 10 pc in the V band [ph/cm2/s/nm]\n",
    "    'Fstar_10pc': 115.59984,        # Stellar flux at 10 pc in the observed band [ph/cm2/s/nm]\n",
    "    'Fp/Fs': 1.6e-8,                # Planet-to-star contrast\n",
    "    'stellar_radius': 1,            # Stellar radius in solar radii\n",
    "    'nzodis': 3.0,                  # Number of zodiacal light disks\n",
    "    'ra': 236.00757736823,          # Right ascension of star [deg]\n",
    "    'dec': 2.51516683165,           # Declination of star [deg]\n",
    "    'separation': 0.1,              # Separation between star and planet in arcseconds\n",
    "    'observatory_preset': 'EAC1',   # Preset observatory configuration\n",
    "    'observing_mode': 'IMAGER',     # Observing mode\n",
    "    #\"Fp_min/Fs\": 1e-11              # minimum detectable planet (used to estimate detector noise)\n",
    "}\n"
   ]
  },
  {
   "cell_type": "markdown",
   "metadata": {},
   "source": [
    "### 2. Calculating Exposure Time\n",
    "Now, let's calculate the exposure time for our imaging observation:"
   ]
  },
  {
   "cell_type": "code",
   "execution_count": 3,
   "metadata": {},
   "outputs": [
    {
     "name": "stdout",
     "output_type": "stream",
     "text": [
      "WARNING: ez_PPF not set. Assuming EZ subtraction to Poisson limit (ez_PPF = inf)\n",
      "Observatory Configuration:\n",
      "  Using preset: EAC1\n",
      "\n"
     ]
    },
    {
     "name": "stderr",
     "output_type": "stream",
     "text": [
      "\u001b[38;5;229m\u001b[48;5;16m[yippy]\u001b[0m \u001b[32mINFO [2025-07-18 08:26:21,051] \u001b[0mCreating usort_offaxis_ovc coronagraph\n",
      "\u001b[38;5;229m\u001b[48;5;16m[yippy]\u001b[0m \u001b[33mWARNING [2025-07-18 08:26:21,052] \u001b[0mUnhandled header fields: {'D_INSC'}\n",
      "\u001b[38;5;229m\u001b[48;5;16m[yippy]\u001b[0m \u001b[33mWARNING [2025-07-18 08:26:21,053] \u001b[0mUsing default unit for D: m. Could not extract unit from comment: \"circumscribed diameter of the telescope in mete\"\n",
      "\u001b[38;5;229m\u001b[48;5;16m[yippy]\u001b[0m \u001b[32mINFO [2025-07-18 08:26:21,099] \u001b[0musort_offaxis_ovc is radially symmetric\n",
      "\u001b[38;5;229m\u001b[48;5;16m[yippy]\u001b[0m \u001b[32mINFO [2025-07-18 08:26:21,352] \u001b[0mCreated usort_offaxis_ovc\n"
     ]
    },
    {
     "name": "stdout",
     "output_type": "stream",
     "text": [
      "Using psf_trunc_ratio to calculate Omega...\n",
      "WARNING: noisefloor_PPF value not provided. Using the default value: 30.0\n",
      "Azimuthally averaging contrast maps and noise floor...\n",
      "Calculating optics throughput from preset...\n",
      "Calculating epswarmTrcold as 1 - optics throughput...\n",
      "Calculated exposure time: [2.29276066] h\n"
     ]
    }
   ],
   "source": [
    "# Make the parameters be the shape that the code desires \n",
    "parsed_parameters= parse_input.parse_parameters(imaging_params)\n",
    "\n",
    "# Calculate Exposure time\n",
    "texp, validation_output = calculate_texp(parsed_parameters, verbose=False)\n",
    "print(f\"Calculated exposure time: {texp.to(u.hr)}\")"
   ]
  },
  {
   "cell_type": "markdown",
   "metadata": {},
   "source": [
    "### 3. Calculate SNR\n",
    "\n",
    "Given an exposure time (e.g. 10 hrs), we can calculate the SNR for the desired bandpass."
   ]
  },
  {
   "cell_type": "code",
   "execution_count": 4,
   "metadata": {},
   "outputs": [
    {
     "name": "stdout",
     "output_type": "stream",
     "text": [
      "WARNING: ez_PPF not set. Assuming EZ subtraction to Poisson limit (ez_PPF = inf)\n",
      "Observatory Configuration:\n",
      "  Using preset: EAC1\n",
      "\n"
     ]
    },
    {
     "name": "stderr",
     "output_type": "stream",
     "text": [
      "\u001b[38;5;229m\u001b[48;5;16m[yippy]\u001b[0m \u001b[32mINFO [2025-07-18 08:26:30,337] \u001b[0mCreating usort_offaxis_ovc coronagraph\n",
      "\u001b[38;5;229m\u001b[48;5;16m[yippy]\u001b[0m \u001b[33mWARNING [2025-07-18 08:26:30,338] \u001b[0mUnhandled header fields: {'D_INSC'}\n",
      "\u001b[38;5;229m\u001b[48;5;16m[yippy]\u001b[0m \u001b[33mWARNING [2025-07-18 08:26:30,339] \u001b[0mUsing default unit for D: m. Could not extract unit from comment: \"circumscribed diameter of the telescope in mete\"\n",
      "\u001b[38;5;229m\u001b[48;5;16m[yippy]\u001b[0m \u001b[32mINFO [2025-07-18 08:26:30,410] \u001b[0musort_offaxis_ovc is radially symmetric\n",
      "\u001b[38;5;229m\u001b[48;5;16m[yippy]\u001b[0m \u001b[32mINFO [2025-07-18 08:26:30,428] \u001b[0mCreated usort_offaxis_ovc\n"
     ]
    },
    {
     "name": "stdout",
     "output_type": "stream",
     "text": [
      "Using psf_trunc_ratio to calculate Omega...\n",
      "WARNING: noisefloor_PPF value not provided. Using the default value: 30.0\n",
      "Azimuthally averaging contrast maps and noise floor...\n",
      "Calculating optics throughput from preset...\n",
      "Calculating epswarmTrcold as 1 - optics throughput...\n",
      "Calculated snr: [178.11871906]\n"
     ]
    }
   ],
   "source": [
    "# Make the parameters be the shape that the code desires \n",
    "parsed_parameters= parse_input.parse_parameters(imaging_params)\n",
    "\n",
    "# Calculate SNR given a specific exposure time\n",
    "texp = 3*u.hr\n",
    "snr, validation_output = calculate_snr(parsed_parameters, texp, verbose=False)\n",
    "print(f\"Calculated snr: {snr}\")"
   ]
  },
  {
   "cell_type": "markdown",
   "metadata": {},
   "source": [
    "`validation_output` contains some interesting quantities that you can use to double check or validate, or to plot additional quantities."
   ]
  },
  {
   "cell_type": "code",
   "execution_count": 5,
   "metadata": {},
   "outputs": [
    {
     "data": {
      "text/plain": [
       "{0: {'F0': <Quantity 12638.83670769 ph / (nm s cm2)>,\n",
       "  'magstar': <Quantity [5.09687467] mag>,\n",
       "  'Lstar': <Quantity 1. solLum>,\n",
       "  'dist': <Quantity 10. pc>,\n",
       "  'D': <Quantity 7.225765 m>,\n",
       "  'A_cm': <Quantity 410069.58591604 cm2>,\n",
       "  'wavelength': <Quantity 500. nm>,\n",
       "  'deltalambda_nm': <Quantity 100. nm>,\n",
       "  'snr': <Quantity 7.>,\n",
       "  'nzodis': <Quantity 3. zodi>,\n",
       "  'toverhead_fixed': <Quantity 8250. s>,\n",
       "  'toverhead_multi': <Quantity 1.1>,\n",
       "  'det_DC': <Quantity 3.e-05 electron / (pix s)>,\n",
       "  'det_RN': <Quantity 0.1 electron / (pix read)>,\n",
       "  'det_CIC': <Quantity 0. electron / (frame pix)>,\n",
       "  'det_tread': <Quantity 1000. s / read>,\n",
       "  'det_pixscale_mas': <Quantity 7.13643491 mas>,\n",
       "  'dQE': <Quantity 0.75>,\n",
       "  'QE': <Quantity 0.88749741 electron / ph>,\n",
       "  'T_optical': <Quantity 0.36198356>,\n",
       "  'Fs_over_F0': <Quantity 115.59984 ph / (nm s cm2)>,\n",
       "  'Fp': <Quantity 1.84959744e-06 ph / (nm s cm2)>,\n",
       "  'Fzodi': <Quantity 7.72303075e-06 ph / (nm s arcsec2 cm2)>,\n",
       "  'Fexozodi': <Quantity 4.69979038e-05 arcsec^-2 ph / (nm s arcsec2 cm2 pc2)>,\n",
       "  'sp_lod': <Quantity 7.00629946 λ/D>,\n",
       "  'omega_lod': <Quantity 2.52356026>,\n",
       "  'T_core or photometric_aperture_throughput': <Quantity 0.39417331>,\n",
       "  'Istar': <Quantity 5.33657648e-15>,\n",
       "  'Istar*oneopixscale2 in (l/D)^-2': <Quantity 8.53852237e-14>,\n",
       "  'skytrans': <Quantity 0.67984173>,\n",
       "  'skytrans*oneopixscale2  in (l/D)^-2': <Quantity 10.87746765>,\n",
       "  'det_npix': <Quantity 27.0660789 pix>,\n",
       "  't_photon_count': <Quantity 3.35388111 s / frame>,\n",
       "  'CRp': <Quantity 14.40685527 electron / s>,\n",
       "  'CRbs': <Quantity 0.00049222 electron / s>,\n",
       "  'CRbz': <Quantity 0.05333799>,\n",
       "  'CRbez': <Quantity 0.32458419>,\n",
       "  'CRbbin': <Quantity 0. electron / s>,\n",
       "  'CRbth': <Quantity 1.62844801e-29 electron / s>,\n",
       "  'CRb': <Quantity 0.37949704 electron / s>,\n",
       "  'CRbd': <Quantity 0.00108264 electron / s>,\n",
       "  'CRnf': <Quantity 1.6407301e-05 electron / s>,\n",
       "  'sciencetime': <Quantity 0.>,\n",
       "  'exptime': <Quantity 0. s>}}"
      ]
     },
     "execution_count": 5,
     "metadata": {},
     "output_type": "execute_result"
    }
   ],
   "source": [
    "validation_output"
   ]
  },
  {
   "cell_type": "markdown",
   "metadata": {},
   "source": [
    "### 4. Simultaneous Observations (primary Exposure Time informs secondary SNR)\n",
    "\n",
    "This is useful to simulate simultaneous observations. For example, we assume the primary (detection) bandpass to be 0.5 micron with 20% bandwidth. What is the SNR of a secondary bandpass at 1 micron with 20% bandpass?"
   ]
  },
  {
   "cell_type": "code",
   "execution_count": 6,
   "metadata": {},
   "outputs": [
    {
     "name": "stdout",
     "output_type": "stream",
     "text": [
      "Calculating texp from primary lambda\n",
      "WARNING: ez_PPF not set. Assuming EZ subtraction to Poisson limit (ez_PPF = inf)\n",
      "Observatory Configuration:\n",
      "  Using preset: EAC1\n",
      "\n"
     ]
    },
    {
     "name": "stderr",
     "output_type": "stream",
     "text": [
      "\u001b[38;5;229m\u001b[48;5;16m[yippy]\u001b[0m \u001b[32mINFO [2025-07-18 08:26:34,874] \u001b[0mCreating usort_offaxis_ovc coronagraph\n",
      "\u001b[38;5;229m\u001b[48;5;16m[yippy]\u001b[0m \u001b[33mWARNING [2025-07-18 08:26:34,875] \u001b[0mUnhandled header fields: {'D_INSC'}\n",
      "\u001b[38;5;229m\u001b[48;5;16m[yippy]\u001b[0m \u001b[33mWARNING [2025-07-18 08:26:34,876] \u001b[0mUsing default unit for D: m. Could not extract unit from comment: \"circumscribed diameter of the telescope in mete\"\n",
      "\u001b[38;5;229m\u001b[48;5;16m[yippy]\u001b[0m \u001b[32mINFO [2025-07-18 08:26:34,903] \u001b[0musort_offaxis_ovc is radially symmetric\n",
      "\u001b[38;5;229m\u001b[48;5;16m[yippy]\u001b[0m \u001b[32mINFO [2025-07-18 08:26:34,915] \u001b[0mCreated usort_offaxis_ovc\n"
     ]
    },
    {
     "name": "stdout",
     "output_type": "stream",
     "text": [
      "Using psf_trunc_ratio to calculate Omega...\n",
      "WARNING: noisefloor_PPF value not provided. Using the default value: 30.0\n",
      "Azimuthally averaging contrast maps and noise floor...\n",
      "Calculating optics throughput from preset...\n",
      "Calculating epswarmTrcold as 1 - optics throughput...\n",
      "Reference exposure time:  [2.29276066] h\n",
      "Calculating snr on secondary lambda\n",
      "WARNING: ez_PPF not set. Assuming EZ subtraction to Poisson limit (ez_PPF = inf)\n",
      "Observatory Configuration:\n",
      "  Using preset: EAC1\n",
      "\n"
     ]
    },
    {
     "name": "stderr",
     "output_type": "stream",
     "text": [
      "\u001b[38;5;229m\u001b[48;5;16m[yippy]\u001b[0m \u001b[32mINFO [2025-07-18 08:26:39,353] \u001b[0mCreating usort_offaxis_ovc coronagraph\n",
      "\u001b[38;5;229m\u001b[48;5;16m[yippy]\u001b[0m \u001b[33mWARNING [2025-07-18 08:26:39,354] \u001b[0mUnhandled header fields: {'D_INSC'}\n",
      "\u001b[38;5;229m\u001b[48;5;16m[yippy]\u001b[0m \u001b[33mWARNING [2025-07-18 08:26:39,354] \u001b[0mUsing default unit for D: m. Could not extract unit from comment: \"circumscribed diameter of the telescope in mete\"\n",
      "\u001b[38;5;229m\u001b[48;5;16m[yippy]\u001b[0m \u001b[32mINFO [2025-07-18 08:26:39,388] \u001b[0musort_offaxis_ovc is radially symmetric\n",
      "\u001b[38;5;229m\u001b[48;5;16m[yippy]\u001b[0m \u001b[32mINFO [2025-07-18 08:26:39,399] \u001b[0mCreated usort_offaxis_ovc\n"
     ]
    },
    {
     "name": "stdout",
     "output_type": "stream",
     "text": [
      "Using psf_trunc_ratio to calculate Omega...\n",
      "WARNING: noisefloor_PPF value not provided. Using the default value: 30.0\n",
      "Azimuthally averaging contrast maps and noise floor...\n",
      "Calculating optics throughput from preset...\n",
      "Calculating epswarmTrcold as 1 - optics throughput...\n",
      "SNR at the secondary lambda:  [7.59369292]\n"
     ]
    }
   ],
   "source": [
    "# Let's note down the values that change compared to imaging_params\n",
    "secondary_imaging_params = {\n",
    "    'wavelength': 1,  # Wavelength in microns\n",
    "    'Fstar_10pc': 100,  # Stellar flux in observation band\n",
    "    }\n",
    "\n",
    "# Fill the missing values\n",
    "for key in imaging_params:\n",
    "        if key not in secondary_imaging_params:\n",
    "            secondary_imaging_params[key] = imaging_params[key]\n",
    "\n",
    "print(\"Calculating texp from primary lambda\")\n",
    "parsed_parameters= parse_input.parse_parameters(imaging_params)\n",
    "\n",
    "texp, _ = calculate_texp(parsed_parameters, verbose=False)\n",
    "print(\"Reference exposure time: \", texp.to(u.hr))\n",
    "if np.isfinite(texp).all():\n",
    "    print(\"Calculating snr on secondary lambda\")\n",
    "    parsed_secondary_parameters= parse_input.parse_parameters(secondary_imaging_params)\n",
    "\n",
    "    snr, _ = calculate_snr(parsed_secondary_parameters, texp, verbose=True)\n",
    "    print(\"SNR at the secondary lambda: \", snr)\n",
    "else:\n",
    "    raise ValueError(\"Returned exposure time is infinity.\")"
   ]
  },
  {
   "cell_type": "markdown",
   "metadata": {},
   "source": [
    "### 5. Exploring The Parameter Space\n"
   ]
  },
  {
   "cell_type": "markdown",
   "metadata": {},
   "source": [
    "#### 5.1. Planet-to-star contrast\n",
    "Let's explore how the exposure time changes with planet-to-star contrast:\n",
    "\n"
   ]
  },
  {
   "cell_type": "code",
   "execution_count": 7,
   "metadata": {},
   "outputs": [
    {
     "name": "stdout",
     "output_type": "stream",
     "text": [
      "WARNING: ez_PPF not set. Assuming EZ subtraction to Poisson limit (ez_PPF = inf)\n",
      "Observatory Configuration:\n",
      "  Using preset: EAC1\n",
      "\n"
     ]
    },
    {
     "name": "stderr",
     "output_type": "stream",
     "text": [
      "\u001b[38;5;229m\u001b[48;5;16m[yippy]\u001b[0m \u001b[32mINFO [2025-07-18 08:26:43,817] \u001b[0mCreating usort_offaxis_ovc coronagraph\n",
      "\u001b[38;5;229m\u001b[48;5;16m[yippy]\u001b[0m \u001b[33mWARNING [2025-07-18 08:26:43,818] \u001b[0mUnhandled header fields: {'D_INSC'}\n",
      "\u001b[38;5;229m\u001b[48;5;16m[yippy]\u001b[0m \u001b[33mWARNING [2025-07-18 08:26:43,819] \u001b[0mUsing default unit for D: m. Could not extract unit from comment: \"circumscribed diameter of the telescope in mete\"\n",
      "\u001b[38;5;229m\u001b[48;5;16m[yippy]\u001b[0m \u001b[32mINFO [2025-07-18 08:26:43,847] \u001b[0musort_offaxis_ovc is radially symmetric\n",
      "\u001b[38;5;229m\u001b[48;5;16m[yippy]\u001b[0m \u001b[32mINFO [2025-07-18 08:26:43,858] \u001b[0mCreated usort_offaxis_ovc\n"
     ]
    },
    {
     "name": "stdout",
     "output_type": "stream",
     "text": [
      "Using psf_trunc_ratio to calculate Omega...\n",
      "WARNING: noisefloor_PPF value not provided. Using the default value: 30.0\n",
      "Azimuthally averaging contrast maps and noise floor...\n",
      "Calculating optics throughput from preset...\n",
      "Calculating epswarmTrcold as 1 - optics throughput...\n",
      "WARNING: ez_PPF not set. Assuming EZ subtraction to Poisson limit (ez_PPF = inf)\n",
      "Observatory Configuration:\n",
      "  Using preset: EAC1\n",
      "\n"
     ]
    },
    {
     "name": "stderr",
     "output_type": "stream",
     "text": [
      "\u001b[38;5;229m\u001b[48;5;16m[yippy]\u001b[0m \u001b[32mINFO [2025-07-18 08:26:48,306] \u001b[0mCreating usort_offaxis_ovc coronagraph\n",
      "\u001b[38;5;229m\u001b[48;5;16m[yippy]\u001b[0m \u001b[33mWARNING [2025-07-18 08:26:48,307] \u001b[0mUnhandled header fields: {'D_INSC'}\n",
      "\u001b[38;5;229m\u001b[48;5;16m[yippy]\u001b[0m \u001b[33mWARNING [2025-07-18 08:26:48,307] \u001b[0mUsing default unit for D: m. Could not extract unit from comment: \"circumscribed diameter of the telescope in mete\"\n",
      "\u001b[38;5;229m\u001b[48;5;16m[yippy]\u001b[0m \u001b[32mINFO [2025-07-18 08:26:48,336] \u001b[0musort_offaxis_ovc is radially symmetric\n",
      "\u001b[38;5;229m\u001b[48;5;16m[yippy]\u001b[0m \u001b[32mINFO [2025-07-18 08:26:48,348] \u001b[0mCreated usort_offaxis_ovc\n"
     ]
    },
    {
     "name": "stdout",
     "output_type": "stream",
     "text": [
      "Using psf_trunc_ratio to calculate Omega...\n",
      "WARNING: noisefloor_PPF value not provided. Using the default value: 30.0\n",
      "Azimuthally averaging contrast maps and noise floor...\n",
      "Calculating optics throughput from preset...\n",
      "Calculating epswarmTrcold as 1 - optics throughput...\n",
      "WARNING: ez_PPF not set. Assuming EZ subtraction to Poisson limit (ez_PPF = inf)\n",
      "Observatory Configuration:\n",
      "  Using preset: EAC1\n",
      "\n"
     ]
    },
    {
     "name": "stderr",
     "output_type": "stream",
     "text": [
      "\u001b[38;5;229m\u001b[48;5;16m[yippy]\u001b[0m \u001b[32mINFO [2025-07-18 08:26:52,803] \u001b[0mCreating usort_offaxis_ovc coronagraph\n",
      "\u001b[38;5;229m\u001b[48;5;16m[yippy]\u001b[0m \u001b[33mWARNING [2025-07-18 08:26:52,804] \u001b[0mUnhandled header fields: {'D_INSC'}\n",
      "\u001b[38;5;229m\u001b[48;5;16m[yippy]\u001b[0m \u001b[33mWARNING [2025-07-18 08:26:52,804] \u001b[0mUsing default unit for D: m. Could not extract unit from comment: \"circumscribed diameter of the telescope in mete\"\n",
      "\u001b[38;5;229m\u001b[48;5;16m[yippy]\u001b[0m \u001b[32mINFO [2025-07-18 08:26:52,833] \u001b[0musort_offaxis_ovc is radially symmetric\n",
      "\u001b[38;5;229m\u001b[48;5;16m[yippy]\u001b[0m \u001b[32mINFO [2025-07-18 08:26:52,843] \u001b[0mCreated usort_offaxis_ovc\n"
     ]
    },
    {
     "name": "stdout",
     "output_type": "stream",
     "text": [
      "Using psf_trunc_ratio to calculate Omega...\n",
      "WARNING: noisefloor_PPF value not provided. Using the default value: 30.0\n",
      "Azimuthally averaging contrast maps and noise floor...\n",
      "Calculating optics throughput from preset...\n",
      "Calculating epswarmTrcold as 1 - optics throughput...\n",
      "WARNING: ez_PPF not set. Assuming EZ subtraction to Poisson limit (ez_PPF = inf)\n",
      "Observatory Configuration:\n",
      "  Using preset: EAC1\n",
      "\n"
     ]
    },
    {
     "name": "stderr",
     "output_type": "stream",
     "text": [
      "\u001b[38;5;229m\u001b[48;5;16m[yippy]\u001b[0m \u001b[32mINFO [2025-07-18 08:26:57,258] \u001b[0mCreating usort_offaxis_ovc coronagraph\n",
      "\u001b[38;5;229m\u001b[48;5;16m[yippy]\u001b[0m \u001b[33mWARNING [2025-07-18 08:26:57,259] \u001b[0mUnhandled header fields: {'D_INSC'}\n",
      "\u001b[38;5;229m\u001b[48;5;16m[yippy]\u001b[0m \u001b[33mWARNING [2025-07-18 08:26:57,259] \u001b[0mUsing default unit for D: m. Could not extract unit from comment: \"circumscribed diameter of the telescope in mete\"\n",
      "\u001b[38;5;229m\u001b[48;5;16m[yippy]\u001b[0m \u001b[32mINFO [2025-07-18 08:26:57,284] \u001b[0musort_offaxis_ovc is radially symmetric\n",
      "\u001b[38;5;229m\u001b[48;5;16m[yippy]\u001b[0m \u001b[32mINFO [2025-07-18 08:26:57,296] \u001b[0mCreated usort_offaxis_ovc\n"
     ]
    },
    {
     "name": "stdout",
     "output_type": "stream",
     "text": [
      "Using psf_trunc_ratio to calculate Omega...\n",
      "WARNING: noisefloor_PPF value not provided. Using the default value: 30.0\n",
      "Azimuthally averaging contrast maps and noise floor...\n",
      "Calculating optics throughput from preset...\n",
      "Calculating epswarmTrcold as 1 - optics throughput...\n",
      "WARNING: ez_PPF not set. Assuming EZ subtraction to Poisson limit (ez_PPF = inf)\n",
      "Observatory Configuration:\n",
      "  Using preset: EAC1\n",
      "\n"
     ]
    },
    {
     "name": "stderr",
     "output_type": "stream",
     "text": [
      "\u001b[38;5;229m\u001b[48;5;16m[yippy]\u001b[0m \u001b[32mINFO [2025-07-18 08:27:01,748] \u001b[0mCreating usort_offaxis_ovc coronagraph\n",
      "\u001b[38;5;229m\u001b[48;5;16m[yippy]\u001b[0m \u001b[33mWARNING [2025-07-18 08:27:01,749] \u001b[0mUnhandled header fields: {'D_INSC'}\n",
      "\u001b[38;5;229m\u001b[48;5;16m[yippy]\u001b[0m \u001b[33mWARNING [2025-07-18 08:27:01,751] \u001b[0mUsing default unit for D: m. Could not extract unit from comment: \"circumscribed diameter of the telescope in mete\"\n",
      "\u001b[38;5;229m\u001b[48;5;16m[yippy]\u001b[0m \u001b[32mINFO [2025-07-18 08:27:01,783] \u001b[0musort_offaxis_ovc is radially symmetric\n",
      "\u001b[38;5;229m\u001b[48;5;16m[yippy]\u001b[0m \u001b[32mINFO [2025-07-18 08:27:01,795] \u001b[0mCreated usort_offaxis_ovc\n"
     ]
    },
    {
     "name": "stdout",
     "output_type": "stream",
     "text": [
      "Using psf_trunc_ratio to calculate Omega...\n",
      "WARNING: noisefloor_PPF value not provided. Using the default value: 30.0\n",
      "Azimuthally averaging contrast maps and noise floor...\n",
      "Calculating optics throughput from preset...\n",
      "Calculating epswarmTrcold as 1 - optics throughput...\n",
      "WARNING: ez_PPF not set. Assuming EZ subtraction to Poisson limit (ez_PPF = inf)\n",
      "Observatory Configuration:\n",
      "  Using preset: EAC1\n",
      "\n"
     ]
    },
    {
     "name": "stderr",
     "output_type": "stream",
     "text": [
      "\u001b[38;5;229m\u001b[48;5;16m[yippy]\u001b[0m \u001b[32mINFO [2025-07-18 08:27:06,203] \u001b[0mCreating usort_offaxis_ovc coronagraph\n",
      "\u001b[38;5;229m\u001b[48;5;16m[yippy]\u001b[0m \u001b[33mWARNING [2025-07-18 08:27:06,205] \u001b[0mUnhandled header fields: {'D_INSC'}\n",
      "\u001b[38;5;229m\u001b[48;5;16m[yippy]\u001b[0m \u001b[33mWARNING [2025-07-18 08:27:06,206] \u001b[0mUsing default unit for D: m. Could not extract unit from comment: \"circumscribed diameter of the telescope in mete\"\n",
      "\u001b[38;5;229m\u001b[48;5;16m[yippy]\u001b[0m \u001b[32mINFO [2025-07-18 08:27:06,237] \u001b[0musort_offaxis_ovc is radially symmetric\n",
      "\u001b[38;5;229m\u001b[48;5;16m[yippy]\u001b[0m \u001b[32mINFO [2025-07-18 08:27:06,248] \u001b[0mCreated usort_offaxis_ovc\n"
     ]
    },
    {
     "name": "stdout",
     "output_type": "stream",
     "text": [
      "Using psf_trunc_ratio to calculate Omega...\n",
      "WARNING: noisefloor_PPF value not provided. Using the default value: 30.0\n",
      "Azimuthally averaging contrast maps and noise floor...\n",
      "Calculating optics throughput from preset...\n",
      "Calculating epswarmTrcold as 1 - optics throughput...\n",
      "WARNING: ez_PPF not set. Assuming EZ subtraction to Poisson limit (ez_PPF = inf)\n",
      "Observatory Configuration:\n",
      "  Using preset: EAC1\n",
      "\n"
     ]
    },
    {
     "name": "stderr",
     "output_type": "stream",
     "text": [
      "\u001b[38;5;229m\u001b[48;5;16m[yippy]\u001b[0m \u001b[32mINFO [2025-07-18 08:27:10,712] \u001b[0mCreating usort_offaxis_ovc coronagraph\n",
      "\u001b[38;5;229m\u001b[48;5;16m[yippy]\u001b[0m \u001b[33mWARNING [2025-07-18 08:27:10,713] \u001b[0mUnhandled header fields: {'D_INSC'}\n",
      "\u001b[38;5;229m\u001b[48;5;16m[yippy]\u001b[0m \u001b[33mWARNING [2025-07-18 08:27:10,714] \u001b[0mUsing default unit for D: m. Could not extract unit from comment: \"circumscribed diameter of the telescope in mete\"\n",
      "\u001b[38;5;229m\u001b[48;5;16m[yippy]\u001b[0m \u001b[32mINFO [2025-07-18 08:27:10,740] \u001b[0musort_offaxis_ovc is radially symmetric\n",
      "\u001b[38;5;229m\u001b[48;5;16m[yippy]\u001b[0m \u001b[32mINFO [2025-07-18 08:27:10,752] \u001b[0mCreated usort_offaxis_ovc\n"
     ]
    },
    {
     "name": "stdout",
     "output_type": "stream",
     "text": [
      "Using psf_trunc_ratio to calculate Omega...\n",
      "WARNING: noisefloor_PPF value not provided. Using the default value: 30.0\n",
      "Azimuthally averaging contrast maps and noise floor...\n",
      "Calculating optics throughput from preset...\n",
      "Calculating epswarmTrcold as 1 - optics throughput...\n",
      "WARNING: ez_PPF not set. Assuming EZ subtraction to Poisson limit (ez_PPF = inf)\n",
      "Observatory Configuration:\n",
      "  Using preset: EAC1\n",
      "\n"
     ]
    },
    {
     "name": "stderr",
     "output_type": "stream",
     "text": [
      "\u001b[38;5;229m\u001b[48;5;16m[yippy]\u001b[0m \u001b[32mINFO [2025-07-18 08:27:15,209] \u001b[0mCreating usort_offaxis_ovc coronagraph\n",
      "\u001b[38;5;229m\u001b[48;5;16m[yippy]\u001b[0m \u001b[33mWARNING [2025-07-18 08:27:15,210] \u001b[0mUnhandled header fields: {'D_INSC'}\n",
      "\u001b[38;5;229m\u001b[48;5;16m[yippy]\u001b[0m \u001b[33mWARNING [2025-07-18 08:27:15,210] \u001b[0mUsing default unit for D: m. Could not extract unit from comment: \"circumscribed diameter of the telescope in mete\"\n",
      "\u001b[38;5;229m\u001b[48;5;16m[yippy]\u001b[0m \u001b[32mINFO [2025-07-18 08:27:15,241] \u001b[0musort_offaxis_ovc is radially symmetric\n",
      "\u001b[38;5;229m\u001b[48;5;16m[yippy]\u001b[0m \u001b[32mINFO [2025-07-18 08:27:15,253] \u001b[0mCreated usort_offaxis_ovc\n"
     ]
    },
    {
     "name": "stdout",
     "output_type": "stream",
     "text": [
      "Using psf_trunc_ratio to calculate Omega...\n",
      "WARNING: noisefloor_PPF value not provided. Using the default value: 30.0\n",
      "Azimuthally averaging contrast maps and noise floor...\n",
      "Calculating optics throughput from preset...\n",
      "Calculating epswarmTrcold as 1 - optics throughput...\n",
      "WARNING: ez_PPF not set. Assuming EZ subtraction to Poisson limit (ez_PPF = inf)\n",
      "Observatory Configuration:\n",
      "  Using preset: EAC1\n",
      "\n"
     ]
    },
    {
     "name": "stderr",
     "output_type": "stream",
     "text": [
      "\u001b[38;5;229m\u001b[48;5;16m[yippy]\u001b[0m \u001b[32mINFO [2025-07-18 08:27:19,713] \u001b[0mCreating usort_offaxis_ovc coronagraph\n",
      "\u001b[38;5;229m\u001b[48;5;16m[yippy]\u001b[0m \u001b[33mWARNING [2025-07-18 08:27:19,714] \u001b[0mUnhandled header fields: {'D_INSC'}\n",
      "\u001b[38;5;229m\u001b[48;5;16m[yippy]\u001b[0m \u001b[33mWARNING [2025-07-18 08:27:19,714] \u001b[0mUsing default unit for D: m. Could not extract unit from comment: \"circumscribed diameter of the telescope in mete\"\n",
      "\u001b[38;5;229m\u001b[48;5;16m[yippy]\u001b[0m \u001b[32mINFO [2025-07-18 08:27:19,743] \u001b[0musort_offaxis_ovc is radially symmetric\n",
      "\u001b[38;5;229m\u001b[48;5;16m[yippy]\u001b[0m \u001b[32mINFO [2025-07-18 08:27:19,754] \u001b[0mCreated usort_offaxis_ovc\n"
     ]
    },
    {
     "name": "stdout",
     "output_type": "stream",
     "text": [
      "Using psf_trunc_ratio to calculate Omega...\n",
      "WARNING: noisefloor_PPF value not provided. Using the default value: 30.0\n",
      "Azimuthally averaging contrast maps and noise floor...\n",
      "Calculating optics throughput from preset...\n",
      "Calculating epswarmTrcold as 1 - optics throughput...\n",
      "WARNING: ez_PPF not set. Assuming EZ subtraction to Poisson limit (ez_PPF = inf)\n",
      "Observatory Configuration:\n",
      "  Using preset: EAC1\n",
      "\n"
     ]
    },
    {
     "name": "stderr",
     "output_type": "stream",
     "text": [
      "\u001b[38;5;229m\u001b[48;5;16m[yippy]\u001b[0m \u001b[32mINFO [2025-07-18 08:27:24,165] \u001b[0mCreating usort_offaxis_ovc coronagraph\n",
      "\u001b[38;5;229m\u001b[48;5;16m[yippy]\u001b[0m \u001b[33mWARNING [2025-07-18 08:27:24,166] \u001b[0mUnhandled header fields: {'D_INSC'}\n",
      "\u001b[38;5;229m\u001b[48;5;16m[yippy]\u001b[0m \u001b[33mWARNING [2025-07-18 08:27:24,167] \u001b[0mUsing default unit for D: m. Could not extract unit from comment: \"circumscribed diameter of the telescope in mete\"\n",
      "\u001b[38;5;229m\u001b[48;5;16m[yippy]\u001b[0m \u001b[32mINFO [2025-07-18 08:27:24,194] \u001b[0musort_offaxis_ovc is radially symmetric\n",
      "\u001b[38;5;229m\u001b[48;5;16m[yippy]\u001b[0m \u001b[32mINFO [2025-07-18 08:27:24,205] \u001b[0mCreated usort_offaxis_ovc\n"
     ]
    },
    {
     "name": "stdout",
     "output_type": "stream",
     "text": [
      "Using psf_trunc_ratio to calculate Omega...\n",
      "WARNING: noisefloor_PPF value not provided. Using the default value: 30.0\n",
      "Azimuthally averaging contrast maps and noise floor...\n",
      "Calculating optics throughput from preset...\n",
      "Calculating epswarmTrcold as 1 - optics throughput...\n"
     ]
    },
    {
     "data": {
      "image/png": "[encoded data removed]",
      "text/plain": [
       "<Figure size 1000x600 with 1 Axes>"
      ]
     },
     "metadata": {},
     "output_type": "display_data"
    }
   ],
   "source": [
    "contrasts = np.logspace(-6, -11, 10)\n",
    "exposure_times = []\n",
    "\n",
    "\n",
    "for contrast in contrasts:\n",
    "    params = imaging_params.copy()\n",
    "    params['Fp/Fs'] = contrast\n",
    "    # make the parameters be the shape that the code desires \n",
    "    parsed_parameters= parse_input.parse_parameters(params)\n",
    "\n",
    "    texp, validation_output = calculate_texp(parsed_parameters, verbose=False)\n",
    "\n",
    "\n",
    "    exposure_times.append(texp.to(u.hr).value)\n",
    "\n",
    "\n",
    "# MAKE PLOT\n",
    "fig, ax1 = plt.subplots(figsize=(10, 6))\n",
    "# Primary x-axis (contrast)\n",
    "ax1.semilogx(contrasts, exposure_times,marker='o')\n",
    "ax1.set_xlim([1e-6,1e-11])\n",
    "ax1.set_xlabel('Planet-to-star contrast')\n",
    "ax1.set_ylabel('Exposure time (hours)')\n",
    "ax1.grid(True)\n",
    "\n",
    "plt.title('Exposure Time vs Planet-to-Star Contrast')\n",
    "plt.tight_layout()\n",
    "plt.show()\n",
    "\n"
   ]
  },
  {
   "cell_type": "markdown",
   "metadata": {},
   "source": [
    "#### 5.2 Separation\n",
    "\n",
    "Now let's change the separation of the planet and see how the exposure time changes."
   ]
  },
  {
   "cell_type": "code",
   "execution_count": 8,
   "metadata": {},
   "outputs": [
    {
     "name": "stdout",
     "output_type": "stream",
     "text": [
      "WARNING: ez_PPF not set. Assuming EZ subtraction to Poisson limit (ez_PPF = inf)\n",
      "Observatory Configuration:\n",
      "  Using preset: EAC1\n",
      "\n"
     ]
    },
    {
     "name": "stderr",
     "output_type": "stream",
     "text": [
      "\u001b[38;5;229m\u001b[48;5;16m[yippy]\u001b[0m \u001b[32mINFO [2025-07-18 08:27:28,833] \u001b[0mCreating usort_offaxis_ovc coronagraph\n",
      "\u001b[38;5;229m\u001b[48;5;16m[yippy]\u001b[0m \u001b[33mWARNING [2025-07-18 08:27:28,835] \u001b[0mUnhandled header fields: {'D_INSC'}\n",
      "\u001b[38;5;229m\u001b[48;5;16m[yippy]\u001b[0m \u001b[33mWARNING [2025-07-18 08:27:28,836] \u001b[0mUsing default unit for D: m. Could not extract unit from comment: \"circumscribed diameter of the telescope in mete\"\n",
      "\u001b[38;5;229m\u001b[48;5;16m[yippy]\u001b[0m \u001b[32mINFO [2025-07-18 08:27:28,870] \u001b[0musort_offaxis_ovc is radially symmetric\n",
      "\u001b[38;5;229m\u001b[48;5;16m[yippy]\u001b[0m \u001b[32mINFO [2025-07-18 08:27:28,882] \u001b[0mCreated usort_offaxis_ovc\n"
     ]
    },
    {
     "name": "stdout",
     "output_type": "stream",
     "text": [
      "Using psf_trunc_ratio to calculate Omega...\n",
      "WARNING: noisefloor_PPF value not provided. Using the default value: 30.0\n",
      "Azimuthally averaging contrast maps and noise floor...\n",
      "Calculating optics throughput from preset...\n",
      "Calculating epswarmTrcold as 1 - optics throughput...\n",
      "WARNING: Planet outside OWA or inside IWA. Hardcoded infinity results.\n",
      "WARNING: ez_PPF not set. Assuming EZ subtraction to Poisson limit (ez_PPF = inf)\n",
      "Observatory Configuration:\n",
      "  Using preset: EAC1\n",
      "\n"
     ]
    },
    {
     "name": "stderr",
     "output_type": "stream",
     "text": [
      "\u001b[38;5;229m\u001b[48;5;16m[yippy]\u001b[0m \u001b[32mINFO [2025-07-18 08:27:33,446] \u001b[0mCreating usort_offaxis_ovc coronagraph\n",
      "\u001b[38;5;229m\u001b[48;5;16m[yippy]\u001b[0m \u001b[33mWARNING [2025-07-18 08:27:33,447] \u001b[0mUnhandled header fields: {'D_INSC'}\n",
      "\u001b[38;5;229m\u001b[48;5;16m[yippy]\u001b[0m \u001b[33mWARNING [2025-07-18 08:27:33,447] \u001b[0mUsing default unit for D: m. Could not extract unit from comment: \"circumscribed diameter of the telescope in mete\"\n",
      "\u001b[38;5;229m\u001b[48;5;16m[yippy]\u001b[0m \u001b[32mINFO [2025-07-18 08:27:33,518] \u001b[0musort_offaxis_ovc is radially symmetric\n",
      "\u001b[38;5;229m\u001b[48;5;16m[yippy]\u001b[0m \u001b[32mINFO [2025-07-18 08:27:33,534] \u001b[0mCreated usort_offaxis_ovc\n"
     ]
    },
    {
     "name": "stdout",
     "output_type": "stream",
     "text": [
      "Using psf_trunc_ratio to calculate Omega...\n",
      "WARNING: noisefloor_PPF value not provided. Using the default value: 30.0\n",
      "Azimuthally averaging contrast maps and noise floor...\n",
      "Calculating optics throughput from preset...\n",
      "Calculating epswarmTrcold as 1 - optics throughput...\n",
      "WARNING: ez_PPF not set. Assuming EZ subtraction to Poisson limit (ez_PPF = inf)\n",
      "Observatory Configuration:\n",
      "  Using preset: EAC1\n",
      "\n"
     ]
    },
    {
     "name": "stderr",
     "output_type": "stream",
     "text": [
      "\u001b[38;5;229m\u001b[48;5;16m[yippy]\u001b[0m \u001b[32mINFO [2025-07-18 08:27:38,025] \u001b[0mCreating usort_offaxis_ovc coronagraph\n",
      "\u001b[38;5;229m\u001b[48;5;16m[yippy]\u001b[0m \u001b[33mWARNING [2025-07-18 08:27:38,026] \u001b[0mUnhandled header fields: {'D_INSC'}\n",
      "\u001b[38;5;229m\u001b[48;5;16m[yippy]\u001b[0m \u001b[33mWARNING [2025-07-18 08:27:38,027] \u001b[0mUsing default unit for D: m. Could not extract unit from comment: \"circumscribed diameter of the telescope in mete\"\n",
      "\u001b[38;5;229m\u001b[48;5;16m[yippy]\u001b[0m \u001b[32mINFO [2025-07-18 08:27:38,054] \u001b[0musort_offaxis_ovc is radially symmetric\n",
      "\u001b[38;5;229m\u001b[48;5;16m[yippy]\u001b[0m \u001b[32mINFO [2025-07-18 08:27:38,065] \u001b[0mCreated usort_offaxis_ovc\n"
     ]
    },
    {
     "name": "stdout",
     "output_type": "stream",
     "text": [
      "Using psf_trunc_ratio to calculate Omega...\n",
      "WARNING: noisefloor_PPF value not provided. Using the default value: 30.0\n",
      "Azimuthally averaging contrast maps and noise floor...\n",
      "Calculating optics throughput from preset...\n",
      "Calculating epswarmTrcold as 1 - optics throughput...\n",
      "WARNING: ez_PPF not set. Assuming EZ subtraction to Poisson limit (ez_PPF = inf)\n",
      "Observatory Configuration:\n",
      "  Using preset: EAC1\n",
      "\n"
     ]
    },
    {
     "name": "stderr",
     "output_type": "stream",
     "text": [
      "\u001b[38;5;229m\u001b[48;5;16m[yippy]\u001b[0m \u001b[32mINFO [2025-07-18 08:27:42,537] \u001b[0mCreating usort_offaxis_ovc coronagraph\n",
      "\u001b[38;5;229m\u001b[48;5;16m[yippy]\u001b[0m \u001b[33mWARNING [2025-07-18 08:27:42,538] \u001b[0mUnhandled header fields: {'D_INSC'}\n",
      "\u001b[38;5;229m\u001b[48;5;16m[yippy]\u001b[0m \u001b[33mWARNING [2025-07-18 08:27:42,539] \u001b[0mUsing default unit for D: m. Could not extract unit from comment: \"circumscribed diameter of the telescope in mete\"\n",
      "\u001b[38;5;229m\u001b[48;5;16m[yippy]\u001b[0m \u001b[32mINFO [2025-07-18 08:27:42,618] \u001b[0musort_offaxis_ovc is radially symmetric\n",
      "\u001b[38;5;229m\u001b[48;5;16m[yippy]\u001b[0m \u001b[32mINFO [2025-07-18 08:27:42,635] \u001b[0mCreated usort_offaxis_ovc\n"
     ]
    },
    {
     "name": "stdout",
     "output_type": "stream",
     "text": [
      "Using psf_trunc_ratio to calculate Omega...\n",
      "WARNING: noisefloor_PPF value not provided. Using the default value: 30.0\n",
      "Azimuthally averaging contrast maps and noise floor...\n",
      "Calculating optics throughput from preset...\n",
      "Calculating epswarmTrcold as 1 - optics throughput...\n",
      "WARNING: ez_PPF not set. Assuming EZ subtraction to Poisson limit (ez_PPF = inf)\n",
      "Observatory Configuration:\n",
      "  Using preset: EAC1\n",
      "\n"
     ]
    },
    {
     "name": "stderr",
     "output_type": "stream",
     "text": [
      "\u001b[38;5;229m\u001b[48;5;16m[yippy]\u001b[0m \u001b[32mINFO [2025-07-18 08:27:47,117] \u001b[0mCreating usort_offaxis_ovc coronagraph\n",
      "\u001b[38;5;229m\u001b[48;5;16m[yippy]\u001b[0m \u001b[33mWARNING [2025-07-18 08:27:47,118] \u001b[0mUnhandled header fields: {'D_INSC'}\n",
      "\u001b[38;5;229m\u001b[48;5;16m[yippy]\u001b[0m \u001b[33mWARNING [2025-07-18 08:27:47,119] \u001b[0mUsing default unit for D: m. Could not extract unit from comment: \"circumscribed diameter of the telescope in mete\"\n",
      "\u001b[38;5;229m\u001b[48;5;16m[yippy]\u001b[0m \u001b[32mINFO [2025-07-18 08:27:47,146] \u001b[0musort_offaxis_ovc is radially symmetric\n",
      "\u001b[38;5;229m\u001b[48;5;16m[yippy]\u001b[0m \u001b[32mINFO [2025-07-18 08:27:47,157] \u001b[0mCreated usort_offaxis_ovc\n"
     ]
    },
    {
     "name": "stdout",
     "output_type": "stream",
     "text": [
      "Using psf_trunc_ratio to calculate Omega...\n",
      "WARNING: noisefloor_PPF value not provided. Using the default value: 30.0\n",
      "Azimuthally averaging contrast maps and noise floor...\n",
      "Calculating optics throughput from preset...\n",
      "Calculating epswarmTrcold as 1 - optics throughput...\n",
      "WARNING: ez_PPF not set. Assuming EZ subtraction to Poisson limit (ez_PPF = inf)\n",
      "Observatory Configuration:\n",
      "  Using preset: EAC1\n",
      "\n"
     ]
    },
    {
     "name": "stderr",
     "output_type": "stream",
     "text": [
      "\u001b[38;5;229m\u001b[48;5;16m[yippy]\u001b[0m \u001b[32mINFO [2025-07-18 08:27:51,611] \u001b[0mCreating usort_offaxis_ovc coronagraph\n",
      "\u001b[38;5;229m\u001b[48;5;16m[yippy]\u001b[0m \u001b[33mWARNING [2025-07-18 08:27:51,612] \u001b[0mUnhandled header fields: {'D_INSC'}\n",
      "\u001b[38;5;229m\u001b[48;5;16m[yippy]\u001b[0m \u001b[33mWARNING [2025-07-18 08:27:51,613] \u001b[0mUsing default unit for D: m. Could not extract unit from comment: \"circumscribed diameter of the telescope in mete\"\n",
      "\u001b[38;5;229m\u001b[48;5;16m[yippy]\u001b[0m \u001b[32mINFO [2025-07-18 08:27:51,641] \u001b[0musort_offaxis_ovc is radially symmetric\n",
      "\u001b[38;5;229m\u001b[48;5;16m[yippy]\u001b[0m \u001b[32mINFO [2025-07-18 08:27:51,651] \u001b[0mCreated usort_offaxis_ovc\n"
     ]
    },
    {
     "name": "stdout",
     "output_type": "stream",
     "text": [
      "Using psf_trunc_ratio to calculate Omega...\n",
      "WARNING: noisefloor_PPF value not provided. Using the default value: 30.0\n",
      "Azimuthally averaging contrast maps and noise floor...\n",
      "Calculating optics throughput from preset...\n",
      "Calculating epswarmTrcold as 1 - optics throughput...\n",
      "WARNING: ez_PPF not set. Assuming EZ subtraction to Poisson limit (ez_PPF = inf)\n",
      "Observatory Configuration:\n",
      "  Using preset: EAC1\n",
      "\n"
     ]
    },
    {
     "name": "stderr",
     "output_type": "stream",
     "text": [
      "\u001b[38;5;229m\u001b[48;5;16m[yippy]\u001b[0m \u001b[32mINFO [2025-07-18 08:27:56,121] \u001b[0mCreating usort_offaxis_ovc coronagraph\n",
      "\u001b[38;5;229m\u001b[48;5;16m[yippy]\u001b[0m \u001b[33mWARNING [2025-07-18 08:27:56,122] \u001b[0mUnhandled header fields: {'D_INSC'}\n",
      "\u001b[38;5;229m\u001b[48;5;16m[yippy]\u001b[0m \u001b[33mWARNING [2025-07-18 08:27:56,123] \u001b[0mUsing default unit for D: m. Could not extract unit from comment: \"circumscribed diameter of the telescope in mete\"\n",
      "\u001b[38;5;229m\u001b[48;5;16m[yippy]\u001b[0m \u001b[32mINFO [2025-07-18 08:27:56,155] \u001b[0musort_offaxis_ovc is radially symmetric\n",
      "\u001b[38;5;229m\u001b[48;5;16m[yippy]\u001b[0m \u001b[32mINFO [2025-07-18 08:27:56,167] \u001b[0mCreated usort_offaxis_ovc\n"
     ]
    },
    {
     "name": "stdout",
     "output_type": "stream",
     "text": [
      "Using psf_trunc_ratio to calculate Omega...\n",
      "WARNING: noisefloor_PPF value not provided. Using the default value: 30.0\n",
      "Azimuthally averaging contrast maps and noise floor...\n",
      "Calculating optics throughput from preset...\n",
      "Calculating epswarmTrcold as 1 - optics throughput...\n",
      "WARNING: Planet outside OWA or inside IWA. Hardcoded infinity results.\n",
      "WARNING: ez_PPF not set. Assuming EZ subtraction to Poisson limit (ez_PPF = inf)\n",
      "Observatory Configuration:\n",
      "  Using preset: EAC1\n",
      "\n"
     ]
    },
    {
     "name": "stderr",
     "output_type": "stream",
     "text": [
      "\u001b[38;5;229m\u001b[48;5;16m[yippy]\u001b[0m \u001b[32mINFO [2025-07-18 08:28:00,620] \u001b[0mCreating usort_offaxis_ovc coronagraph\n",
      "\u001b[38;5;229m\u001b[48;5;16m[yippy]\u001b[0m \u001b[33mWARNING [2025-07-18 08:28:00,621] \u001b[0mUnhandled header fields: {'D_INSC'}\n",
      "\u001b[38;5;229m\u001b[48;5;16m[yippy]\u001b[0m \u001b[33mWARNING [2025-07-18 08:28:00,622] \u001b[0mUsing default unit for D: m. Could not extract unit from comment: \"circumscribed diameter of the telescope in mete\"\n",
      "\u001b[38;5;229m\u001b[48;5;16m[yippy]\u001b[0m \u001b[32mINFO [2025-07-18 08:28:00,653] \u001b[0musort_offaxis_ovc is radially symmetric\n",
      "\u001b[38;5;229m\u001b[48;5;16m[yippy]\u001b[0m \u001b[32mINFO [2025-07-18 08:28:00,664] \u001b[0mCreated usort_offaxis_ovc\n"
     ]
    },
    {
     "name": "stdout",
     "output_type": "stream",
     "text": [
      "Using psf_trunc_ratio to calculate Omega...\n",
      "WARNING: noisefloor_PPF value not provided. Using the default value: 30.0\n",
      "Azimuthally averaging contrast maps and noise floor...\n",
      "Calculating optics throughput from preset...\n",
      "Calculating epswarmTrcold as 1 - optics throughput...\n",
      "WARNING: Planet outside OWA or inside IWA. Hardcoded infinity results.\n",
      "WARNING: ez_PPF not set. Assuming EZ subtraction to Poisson limit (ez_PPF = inf)\n",
      "Observatory Configuration:\n",
      "  Using preset: EAC1\n",
      "\n"
     ]
    },
    {
     "name": "stderr",
     "output_type": "stream",
     "text": [
      "\u001b[38;5;229m\u001b[48;5;16m[yippy]\u001b[0m \u001b[32mINFO [2025-07-18 08:28:05,080] \u001b[0mCreating usort_offaxis_ovc coronagraph\n",
      "\u001b[38;5;229m\u001b[48;5;16m[yippy]\u001b[0m \u001b[33mWARNING [2025-07-18 08:28:05,081] \u001b[0mUnhandled header fields: {'D_INSC'}\n",
      "\u001b[38;5;229m\u001b[48;5;16m[yippy]\u001b[0m \u001b[33mWARNING [2025-07-18 08:28:05,082] \u001b[0mUsing default unit for D: m. Could not extract unit from comment: \"circumscribed diameter of the telescope in mete\"\n",
      "\u001b[38;5;229m\u001b[48;5;16m[yippy]\u001b[0m \u001b[32mINFO [2025-07-18 08:28:05,108] \u001b[0musort_offaxis_ovc is radially symmetric\n",
      "\u001b[38;5;229m\u001b[48;5;16m[yippy]\u001b[0m \u001b[32mINFO [2025-07-18 08:28:05,119] \u001b[0mCreated usort_offaxis_ovc\n"
     ]
    },
    {
     "name": "stdout",
     "output_type": "stream",
     "text": [
      "Using psf_trunc_ratio to calculate Omega...\n",
      "WARNING: noisefloor_PPF value not provided. Using the default value: 30.0\n",
      "Azimuthally averaging contrast maps and noise floor...\n",
      "Calculating optics throughput from preset...\n",
      "Calculating epswarmTrcold as 1 - optics throughput...\n",
      "WARNING: Planet outside OWA or inside IWA. Hardcoded infinity results.\n",
      "WARNING: ez_PPF not set. Assuming EZ subtraction to Poisson limit (ez_PPF = inf)\n",
      "Observatory Configuration:\n",
      "  Using preset: EAC1\n",
      "\n"
     ]
    },
    {
     "name": "stderr",
     "output_type": "stream",
     "text": [
      "\u001b[38;5;229m\u001b[48;5;16m[yippy]\u001b[0m \u001b[32mINFO [2025-07-18 08:28:09,595] \u001b[0mCreating usort_offaxis_ovc coronagraph\n",
      "\u001b[38;5;229m\u001b[48;5;16m[yippy]\u001b[0m \u001b[33mWARNING [2025-07-18 08:28:09,596] \u001b[0mUnhandled header fields: {'D_INSC'}\n",
      "\u001b[38;5;229m\u001b[48;5;16m[yippy]\u001b[0m \u001b[33mWARNING [2025-07-18 08:28:09,598] \u001b[0mUsing default unit for D: m. Could not extract unit from comment: \"circumscribed diameter of the telescope in mete\"\n",
      "\u001b[38;5;229m\u001b[48;5;16m[yippy]\u001b[0m \u001b[32mINFO [2025-07-18 08:28:09,626] \u001b[0musort_offaxis_ovc is radially symmetric\n",
      "\u001b[38;5;229m\u001b[48;5;16m[yippy]\u001b[0m \u001b[32mINFO [2025-07-18 08:28:09,638] \u001b[0mCreated usort_offaxis_ovc\n"
     ]
    },
    {
     "name": "stdout",
     "output_type": "stream",
     "text": [
      "Using psf_trunc_ratio to calculate Omega...\n",
      "WARNING: noisefloor_PPF value not provided. Using the default value: 30.0\n",
      "Azimuthally averaging contrast maps and noise floor...\n",
      "Calculating optics throughput from preset...\n",
      "Calculating epswarmTrcold as 1 - optics throughput...\n",
      "WARNING: Planet outside OWA or inside IWA. Hardcoded infinity results.\n"
     ]
    },
    {
     "name": "stderr",
     "output_type": "stream",
     "text": [
      "/var/folders/76/44nxzlz96gq60009v_1__gp4vmc5t3/T/ipykernel_99821/3871766042.py:44: UserWarning: No artists with labels found to put in legend.  Note that artists whose label start with an underscore are ignored when legend() is called with no argument.\n",
      "  plt.legend()\n"
     ]
    },
    {
     "data": {
      "image/png": "[encoded data removed]",
      "text/plain": [
       "<Figure size 1000x600 with 2 Axes>"
      ]
     },
     "metadata": {},
     "output_type": "display_data"
    }
   ],
   "source": [
    "separations = np.linspace(0.005, 0.8, 10)  # arcsec \n",
    "\n",
    "exposure_times = []\n",
    "\n",
    "for sep in separations:\n",
    "    params = imaging_params.copy()\n",
    "    params['separation'] = sep\n",
    "    parsed_parameters= parse_input.parse_parameters(params)\n",
    "\n",
    "    texp, _ = calculate_texp(parsed_parameters, verbose=False)\n",
    "    exposure_times.append(texp.to(u.hr)[0].value)\n",
    "\n",
    "# MAKE PLOT\n",
    "fig, ax1 = plt.subplots(figsize=(10, 6))\n",
    "# Primary x-axis (separation arcsec)\n",
    "ax1.plot(separations, exposure_times, marker='o', label='Valid exposures')\n",
    "ax1.plot(separations[np.isinf(exposure_times)],\n",
    "         np.ones_like(separations)[np.isinf(exposure_times)]*50,\n",
    "         marker='x', linestyle='', color='red', label='Infinite exposures')\n",
    "\n",
    "\n",
    "ax1.set_xlabel('Separation (arcsec)')\n",
    "ax1.set_ylabel('Exposure time (hours)')\n",
    "ax1.grid(True)\n",
    "\n",
    "separations_lod = arcsec_to_lambda_d(separations*ARCSEC,\n",
    "0.5*u.micron.to(LENGTH),\n",
    "8.78*u.m.to(LENGTH),\n",
    ")\n",
    "# # Secondary x-axis (lambda/D)\n",
    "num_ticks = 10\n",
    "tick_indices = np.linspace(0, len(separations) - 1, num_ticks, dtype=int)\n",
    "reduced_separations = [separations[i] for i in tick_indices]\n",
    "reduced_separations_lod = [separations_lod[i] for i in tick_indices]\n",
    "ax2 = ax1.twiny()\n",
    "ax2.set_xticks(reduced_separations)\n",
    "ax2.set_xticklabels([f'{m:.1f}' for m in reduced_separations_lod])\n",
    "\n",
    "\n",
    "ax2.set_xlim(ax1.get_xlim())\n",
    "ax2.set_xlabel('Separation (lambda/D)')\n",
    "\n",
    "plt.title('Exposure Time vs. Separation')\n",
    "plt.legend()\n",
    "plt.tight_layout()\n",
    "plt.show()"
   ]
  },
  {
   "cell_type": "markdown",
   "metadata": {},
   "source": [
    "What if you have a planet and you want to vary the physical distance instead of calculating the corresponding separation? You can also use the keyword ``semimajor_axis'' and pyEDITH will calculate the separation internally."
   ]
  },
  {
   "cell_type": "code",
   "execution_count": 9,
   "metadata": {},
   "outputs": [
    {
     "name": "stdout",
     "output_type": "stream",
     "text": [
      "WARNING: ez_PPF not set. Assuming EZ subtraction to Poisson limit (ez_PPF = inf)\n",
      "Observatory Configuration:\n",
      "  Using preset: EAC1\n",
      "\n"
     ]
    },
    {
     "name": "stderr",
     "output_type": "stream",
     "text": [
      "\u001b[38;5;229m\u001b[48;5;16m[yippy]\u001b[0m \u001b[32mINFO [2025-07-18 08:28:14,158] \u001b[0mCreating usort_offaxis_ovc coronagraph\n",
      "\u001b[38;5;229m\u001b[48;5;16m[yippy]\u001b[0m \u001b[33mWARNING [2025-07-18 08:28:14,159] \u001b[0mUnhandled header fields: {'D_INSC'}\n",
      "\u001b[38;5;229m\u001b[48;5;16m[yippy]\u001b[0m \u001b[33mWARNING [2025-07-18 08:28:14,159] \u001b[0mUsing default unit for D: m. Could not extract unit from comment: \"circumscribed diameter of the telescope in mete\"\n",
      "\u001b[38;5;229m\u001b[48;5;16m[yippy]\u001b[0m \u001b[32mINFO [2025-07-18 08:28:14,199] \u001b[0musort_offaxis_ovc is radially symmetric\n",
      "\u001b[38;5;229m\u001b[48;5;16m[yippy]\u001b[0m \u001b[32mINFO [2025-07-18 08:28:14,210] \u001b[0mCreated usort_offaxis_ovc\n"
     ]
    },
    {
     "name": "stdout",
     "output_type": "stream",
     "text": [
      "Using psf_trunc_ratio to calculate Omega...\n",
      "WARNING: noisefloor_PPF value not provided. Using the default value: 30.0\n",
      "Azimuthally averaging contrast maps and noise floor...\n",
      "Calculating optics throughput from preset...\n",
      "Calculating epswarmTrcold as 1 - optics throughput...\n",
      "WARNING: Planet outside OWA or inside IWA. Hardcoded infinity results.\n",
      "WARNING: ez_PPF not set. Assuming EZ subtraction to Poisson limit (ez_PPF = inf)\n",
      "Observatory Configuration:\n",
      "  Using preset: EAC1\n",
      "\n"
     ]
    },
    {
     "name": "stderr",
     "output_type": "stream",
     "text": [
      "\u001b[38;5;229m\u001b[48;5;16m[yippy]\u001b[0m \u001b[32mINFO [2025-07-18 08:28:18,691] \u001b[0mCreating usort_offaxis_ovc coronagraph\n",
      "\u001b[38;5;229m\u001b[48;5;16m[yippy]\u001b[0m \u001b[33mWARNING [2025-07-18 08:28:18,692] \u001b[0mUnhandled header fields: {'D_INSC'}\n",
      "\u001b[38;5;229m\u001b[48;5;16m[yippy]\u001b[0m \u001b[33mWARNING [2025-07-18 08:28:18,692] \u001b[0mUsing default unit for D: m. Could not extract unit from comment: \"circumscribed diameter of the telescope in mete\"\n",
      "\u001b[38;5;229m\u001b[48;5;16m[yippy]\u001b[0m \u001b[32mINFO [2025-07-18 08:28:18,742] \u001b[0musort_offaxis_ovc is radially symmetric\n",
      "\u001b[38;5;229m\u001b[48;5;16m[yippy]\u001b[0m \u001b[32mINFO [2025-07-18 08:28:18,761] \u001b[0mCreated usort_offaxis_ovc\n"
     ]
    },
    {
     "name": "stdout",
     "output_type": "stream",
     "text": [
      "Using psf_trunc_ratio to calculate Omega...\n",
      "WARNING: noisefloor_PPF value not provided. Using the default value: 30.0\n",
      "Azimuthally averaging contrast maps and noise floor...\n",
      "Calculating optics throughput from preset...\n",
      "Calculating epswarmTrcold as 1 - optics throughput...\n",
      "WARNING: ez_PPF not set. Assuming EZ subtraction to Poisson limit (ez_PPF = inf)\n",
      "Observatory Configuration:\n",
      "  Using preset: EAC1\n",
      "\n"
     ]
    },
    {
     "name": "stderr",
     "output_type": "stream",
     "text": [
      "\u001b[38;5;229m\u001b[48;5;16m[yippy]\u001b[0m \u001b[32mINFO [2025-07-18 08:28:23,284] \u001b[0mCreating usort_offaxis_ovc coronagraph\n",
      "\u001b[38;5;229m\u001b[48;5;16m[yippy]\u001b[0m \u001b[33mWARNING [2025-07-18 08:28:23,285] \u001b[0mUnhandled header fields: {'D_INSC'}\n",
      "\u001b[38;5;229m\u001b[48;5;16m[yippy]\u001b[0m \u001b[33mWARNING [2025-07-18 08:28:23,285] \u001b[0mUsing default unit for D: m. Could not extract unit from comment: \"circumscribed diameter of the telescope in mete\"\n",
      "\u001b[38;5;229m\u001b[48;5;16m[yippy]\u001b[0m \u001b[32mINFO [2025-07-18 08:28:23,323] \u001b[0musort_offaxis_ovc is radially symmetric\n",
      "\u001b[38;5;229m\u001b[48;5;16m[yippy]\u001b[0m \u001b[32mINFO [2025-07-18 08:28:23,336] \u001b[0mCreated usort_offaxis_ovc\n"
     ]
    },
    {
     "name": "stdout",
     "output_type": "stream",
     "text": [
      "Using psf_trunc_ratio to calculate Omega...\n",
      "WARNING: noisefloor_PPF value not provided. Using the default value: 30.0\n",
      "Azimuthally averaging contrast maps and noise floor...\n",
      "Calculating optics throughput from preset...\n",
      "Calculating epswarmTrcold as 1 - optics throughput...\n",
      "WARNING: ez_PPF not set. Assuming EZ subtraction to Poisson limit (ez_PPF = inf)\n",
      "Observatory Configuration:\n",
      "  Using preset: EAC1\n",
      "\n"
     ]
    },
    {
     "name": "stderr",
     "output_type": "stream",
     "text": [
      "\u001b[38;5;229m\u001b[48;5;16m[yippy]\u001b[0m \u001b[32mINFO [2025-07-18 08:28:27,793] \u001b[0mCreating usort_offaxis_ovc coronagraph\n",
      "\u001b[38;5;229m\u001b[48;5;16m[yippy]\u001b[0m \u001b[33mWARNING [2025-07-18 08:28:27,794] \u001b[0mUnhandled header fields: {'D_INSC'}\n",
      "\u001b[38;5;229m\u001b[48;5;16m[yippy]\u001b[0m \u001b[33mWARNING [2025-07-18 08:28:27,794] \u001b[0mUsing default unit for D: m. Could not extract unit from comment: \"circumscribed diameter of the telescope in mete\"\n",
      "\u001b[38;5;229m\u001b[48;5;16m[yippy]\u001b[0m \u001b[32mINFO [2025-07-18 08:28:27,820] \u001b[0musort_offaxis_ovc is radially symmetric\n",
      "\u001b[38;5;229m\u001b[48;5;16m[yippy]\u001b[0m \u001b[32mINFO [2025-07-18 08:28:27,831] \u001b[0mCreated usort_offaxis_ovc\n"
     ]
    },
    {
     "name": "stdout",
     "output_type": "stream",
     "text": [
      "Using psf_trunc_ratio to calculate Omega...\n",
      "WARNING: noisefloor_PPF value not provided. Using the default value: 30.0\n",
      "Azimuthally averaging contrast maps and noise floor...\n",
      "Calculating optics throughput from preset...\n",
      "Calculating epswarmTrcold as 1 - optics throughput...\n",
      "WARNING: ez_PPF not set. Assuming EZ subtraction to Poisson limit (ez_PPF = inf)\n",
      "Observatory Configuration:\n",
      "  Using preset: EAC1\n",
      "\n"
     ]
    },
    {
     "name": "stderr",
     "output_type": "stream",
     "text": [
      "\u001b[38;5;229m\u001b[48;5;16m[yippy]\u001b[0m \u001b[32mINFO [2025-07-18 08:28:32,256] \u001b[0mCreating usort_offaxis_ovc coronagraph\n",
      "\u001b[38;5;229m\u001b[48;5;16m[yippy]\u001b[0m \u001b[33mWARNING [2025-07-18 08:28:32,257] \u001b[0mUnhandled header fields: {'D_INSC'}\n",
      "\u001b[38;5;229m\u001b[48;5;16m[yippy]\u001b[0m \u001b[33mWARNING [2025-07-18 08:28:32,258] \u001b[0mUsing default unit for D: m. Could not extract unit from comment: \"circumscribed diameter of the telescope in mete\"\n",
      "\u001b[38;5;229m\u001b[48;5;16m[yippy]\u001b[0m \u001b[32mINFO [2025-07-18 08:28:32,285] \u001b[0musort_offaxis_ovc is radially symmetric\n",
      "\u001b[38;5;229m\u001b[48;5;16m[yippy]\u001b[0m \u001b[32mINFO [2025-07-18 08:28:32,295] \u001b[0mCreated usort_offaxis_ovc\n"
     ]
    },
    {
     "name": "stdout",
     "output_type": "stream",
     "text": [
      "Using psf_trunc_ratio to calculate Omega...\n",
      "WARNING: noisefloor_PPF value not provided. Using the default value: 30.0\n",
      "Azimuthally averaging contrast maps and noise floor...\n",
      "Calculating optics throughput from preset...\n",
      "Calculating epswarmTrcold as 1 - optics throughput...\n",
      "WARNING: ez_PPF not set. Assuming EZ subtraction to Poisson limit (ez_PPF = inf)\n",
      "Observatory Configuration:\n",
      "  Using preset: EAC1\n",
      "\n"
     ]
    },
    {
     "name": "stderr",
     "output_type": "stream",
     "text": [
      "\u001b[38;5;229m\u001b[48;5;16m[yippy]\u001b[0m \u001b[32mINFO [2025-07-18 08:28:36,783] \u001b[0mCreating usort_offaxis_ovc coronagraph\n",
      "\u001b[38;5;229m\u001b[48;5;16m[yippy]\u001b[0m \u001b[33mWARNING [2025-07-18 08:28:36,784] \u001b[0mUnhandled header fields: {'D_INSC'}\n",
      "\u001b[38;5;229m\u001b[48;5;16m[yippy]\u001b[0m \u001b[33mWARNING [2025-07-18 08:28:36,784] \u001b[0mUsing default unit for D: m. Could not extract unit from comment: \"circumscribed diameter of the telescope in mete\"\n",
      "\u001b[38;5;229m\u001b[48;5;16m[yippy]\u001b[0m \u001b[32mINFO [2025-07-18 08:28:36,816] \u001b[0musort_offaxis_ovc is radially symmetric\n",
      "\u001b[38;5;229m\u001b[48;5;16m[yippy]\u001b[0m \u001b[32mINFO [2025-07-18 08:28:36,828] \u001b[0mCreated usort_offaxis_ovc\n"
     ]
    },
    {
     "name": "stdout",
     "output_type": "stream",
     "text": [
      "Using psf_trunc_ratio to calculate Omega...\n",
      "WARNING: noisefloor_PPF value not provided. Using the default value: 30.0\n",
      "Azimuthally averaging contrast maps and noise floor...\n",
      "Calculating optics throughput from preset...\n",
      "Calculating epswarmTrcold as 1 - optics throughput...\n",
      "WARNING: Planet outside OWA or inside IWA. Hardcoded infinity results.\n",
      "WARNING: ez_PPF not set. Assuming EZ subtraction to Poisson limit (ez_PPF = inf)\n",
      "Observatory Configuration:\n",
      "  Using preset: EAC1\n",
      "\n"
     ]
    },
    {
     "name": "stderr",
     "output_type": "stream",
     "text": [
      "\u001b[38;5;229m\u001b[48;5;16m[yippy]\u001b[0m \u001b[32mINFO [2025-07-18 08:28:41,287] \u001b[0mCreating usort_offaxis_ovc coronagraph\n",
      "\u001b[38;5;229m\u001b[48;5;16m[yippy]\u001b[0m \u001b[33mWARNING [2025-07-18 08:28:41,288] \u001b[0mUnhandled header fields: {'D_INSC'}\n",
      "\u001b[38;5;229m\u001b[48;5;16m[yippy]\u001b[0m \u001b[33mWARNING [2025-07-18 08:28:41,288] \u001b[0mUsing default unit for D: m. Could not extract unit from comment: \"circumscribed diameter of the telescope in mete\"\n",
      "\u001b[38;5;229m\u001b[48;5;16m[yippy]\u001b[0m \u001b[32mINFO [2025-07-18 08:28:41,315] \u001b[0musort_offaxis_ovc is radially symmetric\n",
      "\u001b[38;5;229m\u001b[48;5;16m[yippy]\u001b[0m \u001b[32mINFO [2025-07-18 08:28:41,326] \u001b[0mCreated usort_offaxis_ovc\n"
     ]
    },
    {
     "name": "stdout",
     "output_type": "stream",
     "text": [
      "Using psf_trunc_ratio to calculate Omega...\n",
      "WARNING: noisefloor_PPF value not provided. Using the default value: 30.0\n",
      "Azimuthally averaging contrast maps and noise floor...\n",
      "Calculating optics throughput from preset...\n",
      "Calculating epswarmTrcold as 1 - optics throughput...\n",
      "WARNING: Planet outside OWA or inside IWA. Hardcoded infinity results.\n",
      "WARNING: ez_PPF not set. Assuming EZ subtraction to Poisson limit (ez_PPF = inf)\n",
      "Observatory Configuration:\n",
      "  Using preset: EAC1\n",
      "\n"
     ]
    },
    {
     "name": "stderr",
     "output_type": "stream",
     "text": [
      "\u001b[38;5;229m\u001b[48;5;16m[yippy]\u001b[0m \u001b[32mINFO [2025-07-18 08:28:45,790] \u001b[0mCreating usort_offaxis_ovc coronagraph\n",
      "\u001b[38;5;229m\u001b[48;5;16m[yippy]\u001b[0m \u001b[33mWARNING [2025-07-18 08:28:45,791] \u001b[0mUnhandled header fields: {'D_INSC'}\n",
      "\u001b[38;5;229m\u001b[48;5;16m[yippy]\u001b[0m \u001b[33mWARNING [2025-07-18 08:28:45,792] \u001b[0mUsing default unit for D: m. Could not extract unit from comment: \"circumscribed diameter of the telescope in mete\"\n",
      "\u001b[38;5;229m\u001b[48;5;16m[yippy]\u001b[0m \u001b[32mINFO [2025-07-18 08:28:45,820] \u001b[0musort_offaxis_ovc is radially symmetric\n",
      "\u001b[38;5;229m\u001b[48;5;16m[yippy]\u001b[0m \u001b[32mINFO [2025-07-18 08:28:45,832] \u001b[0mCreated usort_offaxis_ovc\n"
     ]
    },
    {
     "name": "stdout",
     "output_type": "stream",
     "text": [
      "Using psf_trunc_ratio to calculate Omega...\n",
      "WARNING: noisefloor_PPF value not provided. Using the default value: 30.0\n",
      "Azimuthally averaging contrast maps and noise floor...\n",
      "Calculating optics throughput from preset...\n",
      "Calculating epswarmTrcold as 1 - optics throughput...\n",
      "WARNING: Planet outside OWA or inside IWA. Hardcoded infinity results.\n",
      "WARNING: ez_PPF not set. Assuming EZ subtraction to Poisson limit (ez_PPF = inf)\n",
      "Observatory Configuration:\n",
      "  Using preset: EAC1\n",
      "\n"
     ]
    },
    {
     "name": "stderr",
     "output_type": "stream",
     "text": [
      "\u001b[38;5;229m\u001b[48;5;16m[yippy]\u001b[0m \u001b[32mINFO [2025-07-18 08:28:50,286] \u001b[0mCreating usort_offaxis_ovc coronagraph\n",
      "\u001b[38;5;229m\u001b[48;5;16m[yippy]\u001b[0m \u001b[33mWARNING [2025-07-18 08:28:50,287] \u001b[0mUnhandled header fields: {'D_INSC'}\n",
      "\u001b[38;5;229m\u001b[48;5;16m[yippy]\u001b[0m \u001b[33mWARNING [2025-07-18 08:28:50,289] \u001b[0mUsing default unit for D: m. Could not extract unit from comment: \"circumscribed diameter of the telescope in mete\"\n",
      "\u001b[38;5;229m\u001b[48;5;16m[yippy]\u001b[0m \u001b[32mINFO [2025-07-18 08:28:50,326] \u001b[0musort_offaxis_ovc is radially symmetric\n",
      "\u001b[38;5;229m\u001b[48;5;16m[yippy]\u001b[0m \u001b[32mINFO [2025-07-18 08:28:50,338] \u001b[0mCreated usort_offaxis_ovc\n"
     ]
    },
    {
     "name": "stdout",
     "output_type": "stream",
     "text": [
      "Using psf_trunc_ratio to calculate Omega...\n",
      "WARNING: noisefloor_PPF value not provided. Using the default value: 30.0\n",
      "Azimuthally averaging contrast maps and noise floor...\n",
      "Calculating optics throughput from preset...\n",
      "Calculating epswarmTrcold as 1 - optics throughput...\n",
      "WARNING: Planet outside OWA or inside IWA. Hardcoded infinity results.\n",
      "WARNING: ez_PPF not set. Assuming EZ subtraction to Poisson limit (ez_PPF = inf)\n",
      "Observatory Configuration:\n",
      "  Using preset: EAC1\n",
      "\n"
     ]
    },
    {
     "name": "stderr",
     "output_type": "stream",
     "text": [
      "\u001b[38;5;229m\u001b[48;5;16m[yippy]\u001b[0m \u001b[32mINFO [2025-07-18 08:28:54,787] \u001b[0mCreating usort_offaxis_ovc coronagraph\n",
      "\u001b[38;5;229m\u001b[48;5;16m[yippy]\u001b[0m \u001b[33mWARNING [2025-07-18 08:28:54,788] \u001b[0mUnhandled header fields: {'D_INSC'}\n",
      "\u001b[38;5;229m\u001b[48;5;16m[yippy]\u001b[0m \u001b[33mWARNING [2025-07-18 08:28:54,789] \u001b[0mUsing default unit for D: m. Could not extract unit from comment: \"circumscribed diameter of the telescope in mete\"\n",
      "\u001b[38;5;229m\u001b[48;5;16m[yippy]\u001b[0m \u001b[32mINFO [2025-07-18 08:28:54,819] \u001b[0musort_offaxis_ovc is radially symmetric\n",
      "\u001b[38;5;229m\u001b[48;5;16m[yippy]\u001b[0m \u001b[32mINFO [2025-07-18 08:28:54,830] \u001b[0mCreated usort_offaxis_ovc\n"
     ]
    },
    {
     "name": "stdout",
     "output_type": "stream",
     "text": [
      "Using psf_trunc_ratio to calculate Omega...\n",
      "WARNING: noisefloor_PPF value not provided. Using the default value: 30.0\n",
      "Azimuthally averaging contrast maps and noise floor...\n",
      "Calculating optics throughput from preset...\n",
      "Calculating epswarmTrcold as 1 - optics throughput...\n",
      "WARNING: Planet outside OWA or inside IWA. Hardcoded infinity results.\n"
     ]
    },
    {
     "data": {
      "image/png": "[encoded data removed]",
      "text/plain": [
       "<Figure size 1000x600 with 1 Axes>"
      ]
     },
     "metadata": {},
     "output_type": "display_data"
    }
   ],
   "source": [
    "semimajor_axes = np.linspace(0.05, 10, 10)  # AU \n",
    "\n",
    "exposure_times = []\n",
    "\n",
    "for a in semimajor_axes:\n",
    "    params = imaging_params.copy()\n",
    "    del params['separation']\n",
    "    params['semimajor_axis'] = a \n",
    "    parsed_parameters= parse_input.parse_parameters(params)\n",
    "\n",
    "    texp, _ = calculate_texp(parsed_parameters, verbose=False)\n",
    "    exposure_times.append(texp.to(u.hr)[0].value)\n",
    "\n",
    "# MAKE PLOT\n",
    "fig, ax1 = plt.subplots(figsize=(10, 6))\n",
    "# Primary x-axis (separation arcsec)\n",
    "ax1.plot(semimajor_axes, exposure_times, marker='o', label='Valid exposures')\n",
    "ax1.plot(semimajor_axes[np.isinf(exposure_times)],\n",
    "         np.ones_like(semimajor_axes)[np.isinf(exposure_times)]*50,\n",
    "         marker='x', linestyle='', color='red', label='Infinite exposures')\n",
    "\n",
    "\n",
    "ax1.set_xlabel('Semi-major axes (AU)')\n",
    "ax1.set_ylabel('Exposure time (hours)')\n",
    "ax1.grid(True)\n",
    "plt.title('Exposure Time vs. Semi-major Axis')\n",
    "plt.legend()\n",
    "plt.tight_layout()\n",
    "plt.show()"
   ]
  },
  {
   "cell_type": "code",
   "execution_count": 10,
   "metadata": {},
   "outputs": [
    {
     "data": {
      "text/plain": [
       "{'nlambda': 1,\n",
       " 'wavelength': array([0.5]),\n",
       " 'Fstar_10pc': array([115.59984]),\n",
       " 'snr': array([7.]),\n",
       " 'Fp/Fs': array([1.6e-08]),\n",
       " 'Lstar': 1.0,\n",
       " 'FstarV_10pc': 122.9279,\n",
       " 'distance': 10.0,\n",
       " 'stellar_radius': 1.0,\n",
       " 'dec': 2.51516683165,\n",
       " 'ra': 236.00757736823,\n",
       " 'semimajor_axis': 10.0,\n",
       " 'nzodis': 3.0,\n",
       " 'bandwidth': 0.2,\n",
       " 'CRb_multiplier': 2.0,\n",
       " 'psf_trunc_ratio': 0.3,\n",
       " 'observatory_preset': 'EAC1',\n",
       " 'observing_mode': 'IMAGER'}"
      ]
     },
     "execution_count": 10,
     "metadata": {},
     "output_type": "execute_result"
    }
   ],
   "source": [
    "parsed_parameters"
   ]
  },
  {
   "cell_type": "markdown",
   "metadata": {},
   "source": [
    "#### 5.3 Telescope Diameter\n",
    "\n",
    "And finally, we can change the telescope diameter and see the impact on the exposure time."
   ]
  },
  {
   "cell_type": "code",
   "execution_count": 11,
   "metadata": {},
   "outputs": [
    {
     "name": "stdout",
     "output_type": "stream",
     "text": [
      "WARNING: ez_PPF not set. Assuming EZ subtraction to Poisson limit (ez_PPF = inf)\n",
      "Observatory Configuration:\n",
      "  Using preset: EAC1\n",
      "\n"
     ]
    },
    {
     "name": "stderr",
     "output_type": "stream",
     "text": [
      "\u001b[38;5;229m\u001b[48;5;16m[yippy]\u001b[0m \u001b[32mINFO [2025-07-18 08:28:59,294] \u001b[0mCreating usort_offaxis_ovc coronagraph\n",
      "\u001b[38;5;229m\u001b[48;5;16m[yippy]\u001b[0m \u001b[33mWARNING [2025-07-18 08:28:59,295] \u001b[0mUnhandled header fields: {'D_INSC'}\n",
      "\u001b[38;5;229m\u001b[48;5;16m[yippy]\u001b[0m \u001b[33mWARNING [2025-07-18 08:28:59,296] \u001b[0mUsing default unit for D: m. Could not extract unit from comment: \"circumscribed diameter of the telescope in mete\"\n",
      "\u001b[38;5;229m\u001b[48;5;16m[yippy]\u001b[0m \u001b[32mINFO [2025-07-18 08:28:59,336] \u001b[0musort_offaxis_ovc is radially symmetric\n",
      "\u001b[38;5;229m\u001b[48;5;16m[yippy]\u001b[0m \u001b[32mINFO [2025-07-18 08:28:59,347] \u001b[0mCreated usort_offaxis_ovc\n"
     ]
    },
    {
     "name": "stdout",
     "output_type": "stream",
     "text": [
      "Using psf_trunc_ratio to calculate Omega...\n",
      "WARNING: noisefloor_PPF value not provided. Using the default value: 30.0\n",
      "Azimuthally averaging contrast maps and noise floor...\n",
      "Calculating optics throughput from preset...\n",
      "Calculating epswarmTrcold as 1 - optics throughput...\n",
      "WARNING: ez_PPF not set. Assuming EZ subtraction to Poisson limit (ez_PPF = inf)\n",
      "Observatory Configuration:\n",
      "  Using preset: EAC1\n",
      "\n"
     ]
    },
    {
     "name": "stderr",
     "output_type": "stream",
     "text": [
      "\u001b[38;5;229m\u001b[48;5;16m[yippy]\u001b[0m \u001b[32mINFO [2025-07-18 08:29:03,818] \u001b[0mCreating usort_offaxis_ovc coronagraph\n",
      "\u001b[38;5;229m\u001b[48;5;16m[yippy]\u001b[0m \u001b[33mWARNING [2025-07-18 08:29:03,819] \u001b[0mUnhandled header fields: {'D_INSC'}\n",
      "\u001b[38;5;229m\u001b[48;5;16m[yippy]\u001b[0m \u001b[33mWARNING [2025-07-18 08:29:03,819] \u001b[0mUsing default unit for D: m. Could not extract unit from comment: \"circumscribed diameter of the telescope in mete\"\n",
      "\u001b[38;5;229m\u001b[48;5;16m[yippy]\u001b[0m \u001b[32mINFO [2025-07-18 08:29:03,844] \u001b[0musort_offaxis_ovc is radially symmetric\n",
      "\u001b[38;5;229m\u001b[48;5;16m[yippy]\u001b[0m \u001b[32mINFO [2025-07-18 08:29:03,856] \u001b[0mCreated usort_offaxis_ovc\n"
     ]
    },
    {
     "name": "stdout",
     "output_type": "stream",
     "text": [
      "Using psf_trunc_ratio to calculate Omega...\n",
      "WARNING: noisefloor_PPF value not provided. Using the default value: 30.0\n",
      "Azimuthally averaging contrast maps and noise floor...\n",
      "Calculating optics throughput from preset...\n",
      "Calculating epswarmTrcold as 1 - optics throughput...\n",
      "WARNING: ez_PPF not set. Assuming EZ subtraction to Poisson limit (ez_PPF = inf)\n",
      "Observatory Configuration:\n",
      "  Using preset: EAC1\n",
      "\n"
     ]
    },
    {
     "name": "stderr",
     "output_type": "stream",
     "text": [
      "\u001b[38;5;229m\u001b[48;5;16m[yippy]\u001b[0m \u001b[32mINFO [2025-07-18 08:29:08,283] \u001b[0mCreating usort_offaxis_ovc coronagraph\n",
      "\u001b[38;5;229m\u001b[48;5;16m[yippy]\u001b[0m \u001b[33mWARNING [2025-07-18 08:29:08,284] \u001b[0mUnhandled header fields: {'D_INSC'}\n",
      "\u001b[38;5;229m\u001b[48;5;16m[yippy]\u001b[0m \u001b[33mWARNING [2025-07-18 08:29:08,284] \u001b[0mUsing default unit for D: m. Could not extract unit from comment: \"circumscribed diameter of the telescope in mete\"\n",
      "\u001b[38;5;229m\u001b[48;5;16m[yippy]\u001b[0m \u001b[32mINFO [2025-07-18 08:29:08,311] \u001b[0musort_offaxis_ovc is radially symmetric\n",
      "\u001b[38;5;229m\u001b[48;5;16m[yippy]\u001b[0m \u001b[32mINFO [2025-07-18 08:29:08,322] \u001b[0mCreated usort_offaxis_ovc\n"
     ]
    },
    {
     "name": "stdout",
     "output_type": "stream",
     "text": [
      "Using psf_trunc_ratio to calculate Omega...\n",
      "WARNING: noisefloor_PPF value not provided. Using the default value: 30.0\n",
      "Azimuthally averaging contrast maps and noise floor...\n",
      "Calculating optics throughput from preset...\n",
      "Calculating epswarmTrcold as 1 - optics throughput...\n",
      "WARNING: ez_PPF not set. Assuming EZ subtraction to Poisson limit (ez_PPF = inf)\n",
      "Observatory Configuration:\n",
      "  Using preset: EAC1\n",
      "\n"
     ]
    },
    {
     "name": "stderr",
     "output_type": "stream",
     "text": [
      "\u001b[38;5;229m\u001b[48;5;16m[yippy]\u001b[0m \u001b[32mINFO [2025-07-18 08:29:12,761] \u001b[0mCreating usort_offaxis_ovc coronagraph\n",
      "\u001b[38;5;229m\u001b[48;5;16m[yippy]\u001b[0m \u001b[33mWARNING [2025-07-18 08:29:12,762] \u001b[0mUnhandled header fields: {'D_INSC'}\n",
      "\u001b[38;5;229m\u001b[48;5;16m[yippy]\u001b[0m \u001b[33mWARNING [2025-07-18 08:29:12,763] \u001b[0mUsing default unit for D: m. Could not extract unit from comment: \"circumscribed diameter of the telescope in mete\"\n",
      "\u001b[38;5;229m\u001b[48;5;16m[yippy]\u001b[0m \u001b[32mINFO [2025-07-18 08:29:12,788] \u001b[0musort_offaxis_ovc is radially symmetric\n",
      "\u001b[38;5;229m\u001b[48;5;16m[yippy]\u001b[0m \u001b[32mINFO [2025-07-18 08:29:12,799] \u001b[0mCreated usort_offaxis_ovc\n"
     ]
    },
    {
     "name": "stdout",
     "output_type": "stream",
     "text": [
      "Using psf_trunc_ratio to calculate Omega...\n",
      "WARNING: noisefloor_PPF value not provided. Using the default value: 30.0\n",
      "Azimuthally averaging contrast maps and noise floor...\n",
      "Calculating optics throughput from preset...\n",
      "Calculating epswarmTrcold as 1 - optics throughput...\n",
      "WARNING: ez_PPF not set. Assuming EZ subtraction to Poisson limit (ez_PPF = inf)\n",
      "Observatory Configuration:\n",
      "  Using preset: EAC1\n",
      "\n"
     ]
    },
    {
     "name": "stderr",
     "output_type": "stream",
     "text": [
      "\u001b[38;5;229m\u001b[48;5;16m[yippy]\u001b[0m \u001b[32mINFO [2025-07-18 08:29:17,250] \u001b[0mCreating usort_offaxis_ovc coronagraph\n",
      "\u001b[38;5;229m\u001b[48;5;16m[yippy]\u001b[0m \u001b[33mWARNING [2025-07-18 08:29:17,251] \u001b[0mUnhandled header fields: {'D_INSC'}\n",
      "\u001b[38;5;229m\u001b[48;5;16m[yippy]\u001b[0m \u001b[33mWARNING [2025-07-18 08:29:17,252] \u001b[0mUsing default unit for D: m. Could not extract unit from comment: \"circumscribed diameter of the telescope in mete\"\n",
      "\u001b[38;5;229m\u001b[48;5;16m[yippy]\u001b[0m \u001b[32mINFO [2025-07-18 08:29:17,281] \u001b[0musort_offaxis_ovc is radially symmetric\n",
      "\u001b[38;5;229m\u001b[48;5;16m[yippy]\u001b[0m \u001b[32mINFO [2025-07-18 08:29:17,294] \u001b[0mCreated usort_offaxis_ovc\n"
     ]
    },
    {
     "name": "stdout",
     "output_type": "stream",
     "text": [
      "Using psf_trunc_ratio to calculate Omega...\n",
      "WARNING: noisefloor_PPF value not provided. Using the default value: 30.0\n",
      "Azimuthally averaging contrast maps and noise floor...\n",
      "Calculating optics throughput from preset...\n",
      "Calculating epswarmTrcold as 1 - optics throughput...\n",
      "WARNING: ez_PPF not set. Assuming EZ subtraction to Poisson limit (ez_PPF = inf)\n",
      "Observatory Configuration:\n",
      "  Using preset: EAC1\n",
      "\n"
     ]
    },
    {
     "name": "stderr",
     "output_type": "stream",
     "text": [
      "\u001b[38;5;229m\u001b[48;5;16m[yippy]\u001b[0m \u001b[32mINFO [2025-07-18 08:29:21,765] \u001b[0mCreating usort_offaxis_ovc coronagraph\n",
      "\u001b[38;5;229m\u001b[48;5;16m[yippy]\u001b[0m \u001b[33mWARNING [2025-07-18 08:29:21,766] \u001b[0mUnhandled header fields: {'D_INSC'}\n",
      "\u001b[38;5;229m\u001b[48;5;16m[yippy]\u001b[0m \u001b[33mWARNING [2025-07-18 08:29:21,767] \u001b[0mUsing default unit for D: m. Could not extract unit from comment: \"circumscribed diameter of the telescope in mete\"\n",
      "\u001b[38;5;229m\u001b[48;5;16m[yippy]\u001b[0m \u001b[32mINFO [2025-07-18 08:29:21,798] \u001b[0musort_offaxis_ovc is radially symmetric\n",
      "\u001b[38;5;229m\u001b[48;5;16m[yippy]\u001b[0m \u001b[32mINFO [2025-07-18 08:29:21,809] \u001b[0mCreated usort_offaxis_ovc\n"
     ]
    },
    {
     "name": "stdout",
     "output_type": "stream",
     "text": [
      "Using psf_trunc_ratio to calculate Omega...\n",
      "WARNING: noisefloor_PPF value not provided. Using the default value: 30.0\n",
      "Azimuthally averaging contrast maps and noise floor...\n",
      "Calculating optics throughput from preset...\n",
      "Calculating epswarmTrcold as 1 - optics throughput...\n"
     ]
    },
    {
     "name": "stderr",
     "output_type": "stream",
     "text": [
      "/var/folders/76/44nxzlz96gq60009v_1__gp4vmc5t3/T/ipykernel_99821/1653988001.py:20: UserWarning: No artists with labels found to put in legend.  Note that artists whose label start with an underscore are ignored when legend() is called with no argument.\n",
      "  plt.legend()\n"
     ]
    },
    {
     "data": {
      "image/png": "[encoded data removed]",
      "text/plain": [
       "<Figure size 1000x600 with 1 Axes>"
      ]
     },
     "metadata": {},
     "output_type": "display_data"
    }
   ],
   "source": [
    "diameters = np.linspace(4, 15, 6)  \n",
    "\n",
    "exposure_times = []\n",
    "\n",
    "for diam in diameters:\n",
    "    params = imaging_params.copy()\n",
    "    params['diameter'] = diam # will overwrite the standard EAC1 telescope diameter\n",
    "    parsed_parameters= parse_input.parse_parameters(params)\n",
    "    texp, _ = calculate_texp(parsed_parameters, verbose=False)\n",
    "    exposure_times.append(texp.to(u.hr)[0].value)\n",
    "\n",
    "\n",
    "# MAKE PLOT\n",
    "plt.figure(figsize=(10, 6))\n",
    "plt.plot(diameters, exposure_times, marker='o')\n",
    "\n",
    "plt.xlabel('Telescope Diameter (m)')\n",
    "plt.ylabel('Exposure Time (hours)')\n",
    "plt.title('Exposure Time vs Telescope Diameter')\n",
    "plt.legend()\n",
    "plt.yscale('log')\n",
    "plt.show()\n"
   ]
  },
  {
   "cell_type": "markdown",
   "metadata": {},
   "source": [
    "### 5.4. PSF Truncation Ratio\n",
    "Also, we can test the effect of varying the PSF trunction ratio. There should exist a PSF truncation ratio that minimizes exposure time and maximizes SNR (and it should be around 0.3). Let's test this:"
   ]
  },
  {
   "cell_type": "code",
   "execution_count": 12,
   "metadata": {},
   "outputs": [
    {
     "name": "stdout",
     "output_type": "stream",
     "text": [
      "WARNING: ez_PPF not set. Assuming EZ subtraction to Poisson limit (ez_PPF = inf)\n",
      "Observatory Configuration:\n",
      "  Using preset: EAC1\n",
      "\n"
     ]
    },
    {
     "name": "stderr",
     "output_type": "stream",
     "text": [
      "\u001b[38;5;229m\u001b[48;5;16m[yippy]\u001b[0m \u001b[32mINFO [2025-07-18 08:29:26,314] \u001b[0mCreating usort_offaxis_ovc coronagraph\n",
      "\u001b[38;5;229m\u001b[48;5;16m[yippy]\u001b[0m \u001b[33mWARNING [2025-07-18 08:29:26,315] \u001b[0mUnhandled header fields: {'D_INSC'}\n",
      "\u001b[38;5;229m\u001b[48;5;16m[yippy]\u001b[0m \u001b[33mWARNING [2025-07-18 08:29:26,316] \u001b[0mUsing default unit for D: m. Could not extract unit from comment: \"circumscribed diameter of the telescope in mete\"\n",
      "\u001b[38;5;229m\u001b[48;5;16m[yippy]\u001b[0m \u001b[32mINFO [2025-07-18 08:29:26,344] \u001b[0musort_offaxis_ovc is radially symmetric\n",
      "\u001b[38;5;229m\u001b[48;5;16m[yippy]\u001b[0m \u001b[32mINFO [2025-07-18 08:29:26,364] \u001b[0mCreated usort_offaxis_ovc\n"
     ]
    },
    {
     "name": "stdout",
     "output_type": "stream",
     "text": [
      "Using psf_trunc_ratio to calculate Omega...\n",
      "WARNING: noisefloor_PPF value not provided. Using the default value: 30.0\n",
      "Azimuthally averaging contrast maps and noise floor...\n",
      "Calculating optics throughput from preset...\n",
      "Calculating epswarmTrcold as 1 - optics throughput...\n",
      "WARNING: ez_PPF not set. Assuming EZ subtraction to Poisson limit (ez_PPF = inf)\n",
      "Observatory Configuration:\n",
      "  Using preset: EAC1\n",
      "\n"
     ]
    },
    {
     "name": "stderr",
     "output_type": "stream",
     "text": [
      "\u001b[38;5;229m\u001b[48;5;16m[yippy]\u001b[0m \u001b[32mINFO [2025-07-18 08:29:35,453] \u001b[0mCreating usort_offaxis_ovc coronagraph\n",
      "\u001b[38;5;229m\u001b[48;5;16m[yippy]\u001b[0m \u001b[33mWARNING [2025-07-18 08:29:35,454] \u001b[0mUnhandled header fields: {'D_INSC'}\n",
      "\u001b[38;5;229m\u001b[48;5;16m[yippy]\u001b[0m \u001b[33mWARNING [2025-07-18 08:29:35,455] \u001b[0mUsing default unit for D: m. Could not extract unit from comment: \"circumscribed diameter of the telescope in mete\"\n",
      "\u001b[38;5;229m\u001b[48;5;16m[yippy]\u001b[0m \u001b[32mINFO [2025-07-18 08:29:35,484] \u001b[0musort_offaxis_ovc is radially symmetric\n",
      "\u001b[38;5;229m\u001b[48;5;16m[yippy]\u001b[0m \u001b[32mINFO [2025-07-18 08:29:35,494] \u001b[0mCreated usort_offaxis_ovc\n"
     ]
    },
    {
     "name": "stdout",
     "output_type": "stream",
     "text": [
      "Using psf_trunc_ratio to calculate Omega...\n",
      "WARNING: noisefloor_PPF value not provided. Using the default value: 30.0\n",
      "Azimuthally averaging contrast maps and noise floor...\n",
      "Calculating optics throughput from preset...\n",
      "Calculating epswarmTrcold as 1 - optics throughput...\n",
      "WARNING: ez_PPF not set. Assuming EZ subtraction to Poisson limit (ez_PPF = inf)\n",
      "Observatory Configuration:\n",
      "  Using preset: EAC1\n",
      "\n"
     ]
    },
    {
     "name": "stderr",
     "output_type": "stream",
     "text": [
      "\u001b[38;5;229m\u001b[48;5;16m[yippy]\u001b[0m \u001b[32mINFO [2025-07-18 08:29:44,584] \u001b[0mCreating usort_offaxis_ovc coronagraph\n",
      "\u001b[38;5;229m\u001b[48;5;16m[yippy]\u001b[0m \u001b[33mWARNING [2025-07-18 08:29:44,585] \u001b[0mUnhandled header fields: {'D_INSC'}\n",
      "\u001b[38;5;229m\u001b[48;5;16m[yippy]\u001b[0m \u001b[33mWARNING [2025-07-18 08:29:44,586] \u001b[0mUsing default unit for D: m. Could not extract unit from comment: \"circumscribed diameter of the telescope in mete\"\n",
      "\u001b[38;5;229m\u001b[48;5;16m[yippy]\u001b[0m \u001b[32mINFO [2025-07-18 08:29:44,612] \u001b[0musort_offaxis_ovc is radially symmetric\n",
      "\u001b[38;5;229m\u001b[48;5;16m[yippy]\u001b[0m \u001b[32mINFO [2025-07-18 08:29:44,622] \u001b[0mCreated usort_offaxis_ovc\n"
     ]
    },
    {
     "name": "stdout",
     "output_type": "stream",
     "text": [
      "Using psf_trunc_ratio to calculate Omega...\n",
      "WARNING: noisefloor_PPF value not provided. Using the default value: 30.0\n",
      "Azimuthally averaging contrast maps and noise floor...\n",
      "Calculating optics throughput from preset...\n",
      "Calculating epswarmTrcold as 1 - optics throughput...\n",
      "WARNING: ez_PPF not set. Assuming EZ subtraction to Poisson limit (ez_PPF = inf)\n",
      "Observatory Configuration:\n",
      "  Using preset: EAC1\n",
      "\n"
     ]
    },
    {
     "name": "stderr",
     "output_type": "stream",
     "text": [
      "\u001b[38;5;229m\u001b[48;5;16m[yippy]\u001b[0m \u001b[32mINFO [2025-07-18 08:29:53,581] \u001b[0mCreating usort_offaxis_ovc coronagraph\n",
      "\u001b[38;5;229m\u001b[48;5;16m[yippy]\u001b[0m \u001b[33mWARNING [2025-07-18 08:29:53,582] \u001b[0mUnhandled header fields: {'D_INSC'}\n",
      "\u001b[38;5;229m\u001b[48;5;16m[yippy]\u001b[0m \u001b[33mWARNING [2025-07-18 08:29:53,583] \u001b[0mUsing default unit for D: m. Could not extract unit from comment: \"circumscribed diameter of the telescope in mete\"\n",
      "\u001b[38;5;229m\u001b[48;5;16m[yippy]\u001b[0m \u001b[32mINFO [2025-07-18 08:29:53,613] \u001b[0musort_offaxis_ovc is radially symmetric\n",
      "\u001b[38;5;229m\u001b[48;5;16m[yippy]\u001b[0m \u001b[32mINFO [2025-07-18 08:29:53,624] \u001b[0mCreated usort_offaxis_ovc\n"
     ]
    },
    {
     "name": "stdout",
     "output_type": "stream",
     "text": [
      "Using psf_trunc_ratio to calculate Omega...\n",
      "WARNING: noisefloor_PPF value not provided. Using the default value: 30.0\n",
      "Azimuthally averaging contrast maps and noise floor...\n",
      "Calculating optics throughput from preset...\n",
      "Calculating epswarmTrcold as 1 - optics throughput...\n",
      "WARNING: ez_PPF not set. Assuming EZ subtraction to Poisson limit (ez_PPF = inf)\n",
      "Observatory Configuration:\n",
      "  Using preset: EAC1\n",
      "\n"
     ]
    },
    {
     "name": "stderr",
     "output_type": "stream",
     "text": [
      "\u001b[38;5;229m\u001b[48;5;16m[yippy]\u001b[0m \u001b[32mINFO [2025-07-18 08:30:02,853] \u001b[0mCreating usort_offaxis_ovc coronagraph\n",
      "\u001b[38;5;229m\u001b[48;5;16m[yippy]\u001b[0m \u001b[33mWARNING [2025-07-18 08:30:02,854] \u001b[0mUnhandled header fields: {'D_INSC'}\n",
      "\u001b[38;5;229m\u001b[48;5;16m[yippy]\u001b[0m \u001b[33mWARNING [2025-07-18 08:30:02,855] \u001b[0mUsing default unit for D: m. Could not extract unit from comment: \"circumscribed diameter of the telescope in mete\"\n",
      "\u001b[38;5;229m\u001b[48;5;16m[yippy]\u001b[0m \u001b[32mINFO [2025-07-18 08:30:02,882] \u001b[0musort_offaxis_ovc is radially symmetric\n",
      "\u001b[38;5;229m\u001b[48;5;16m[yippy]\u001b[0m \u001b[32mINFO [2025-07-18 08:30:02,896] \u001b[0mCreated usort_offaxis_ovc\n"
     ]
    },
    {
     "name": "stdout",
     "output_type": "stream",
     "text": [
      "Using psf_trunc_ratio to calculate Omega...\n",
      "WARNING: noisefloor_PPF value not provided. Using the default value: 30.0\n",
      "Azimuthally averaging contrast maps and noise floor...\n",
      "Calculating optics throughput from preset...\n",
      "Calculating epswarmTrcold as 1 - optics throughput...\n",
      "WARNING: ez_PPF not set. Assuming EZ subtraction to Poisson limit (ez_PPF = inf)\n",
      "Observatory Configuration:\n",
      "  Using preset: EAC1\n",
      "\n"
     ]
    },
    {
     "name": "stderr",
     "output_type": "stream",
     "text": [
      "\u001b[38;5;229m\u001b[48;5;16m[yippy]\u001b[0m \u001b[32mINFO [2025-07-18 08:30:11,359] \u001b[0mCreating usort_offaxis_ovc coronagraph\n",
      "\u001b[38;5;229m\u001b[48;5;16m[yippy]\u001b[0m \u001b[33mWARNING [2025-07-18 08:30:11,360] \u001b[0mUnhandled header fields: {'D_INSC'}\n",
      "\u001b[38;5;229m\u001b[48;5;16m[yippy]\u001b[0m \u001b[33mWARNING [2025-07-18 08:30:11,361] \u001b[0mUsing default unit for D: m. Could not extract unit from comment: \"circumscribed diameter of the telescope in mete\"\n",
      "\u001b[38;5;229m\u001b[48;5;16m[yippy]\u001b[0m \u001b[32mINFO [2025-07-18 08:30:11,387] \u001b[0musort_offaxis_ovc is radially symmetric\n",
      "\u001b[38;5;229m\u001b[48;5;16m[yippy]\u001b[0m \u001b[32mINFO [2025-07-18 08:30:11,399] \u001b[0mCreated usort_offaxis_ovc\n"
     ]
    },
    {
     "name": "stdout",
     "output_type": "stream",
     "text": [
      "Using psf_trunc_ratio to calculate Omega...\n",
      "WARNING: noisefloor_PPF value not provided. Using the default value: 30.0\n",
      "Azimuthally averaging contrast maps and noise floor...\n",
      "Calculating optics throughput from preset...\n",
      "Calculating epswarmTrcold as 1 - optics throughput...\n",
      "WARNING: ez_PPF not set. Assuming EZ subtraction to Poisson limit (ez_PPF = inf)\n",
      "Observatory Configuration:\n",
      "  Using preset: EAC1\n",
      "\n"
     ]
    },
    {
     "name": "stderr",
     "output_type": "stream",
     "text": [
      "\u001b[38;5;229m\u001b[48;5;16m[yippy]\u001b[0m \u001b[32mINFO [2025-07-18 08:30:20,177] \u001b[0mCreating usort_offaxis_ovc coronagraph\n",
      "\u001b[38;5;229m\u001b[48;5;16m[yippy]\u001b[0m \u001b[33mWARNING [2025-07-18 08:30:20,178] \u001b[0mUnhandled header fields: {'D_INSC'}\n",
      "\u001b[38;5;229m\u001b[48;5;16m[yippy]\u001b[0m \u001b[33mWARNING [2025-07-18 08:30:20,178] \u001b[0mUsing default unit for D: m. Could not extract unit from comment: \"circumscribed diameter of the telescope in mete\"\n",
      "\u001b[38;5;229m\u001b[48;5;16m[yippy]\u001b[0m \u001b[32mINFO [2025-07-18 08:30:20,216] \u001b[0musort_offaxis_ovc is radially symmetric\n",
      "\u001b[38;5;229m\u001b[48;5;16m[yippy]\u001b[0m \u001b[32mINFO [2025-07-18 08:30:20,227] \u001b[0mCreated usort_offaxis_ovc\n"
     ]
    },
    {
     "name": "stdout",
     "output_type": "stream",
     "text": [
      "Using psf_trunc_ratio to calculate Omega...\n",
      "WARNING: noisefloor_PPF value not provided. Using the default value: 30.0\n",
      "Azimuthally averaging contrast maps and noise floor...\n",
      "Calculating optics throughput from preset...\n",
      "Calculating epswarmTrcold as 1 - optics throughput...\n",
      "WARNING: ez_PPF not set. Assuming EZ subtraction to Poisson limit (ez_PPF = inf)\n",
      "Observatory Configuration:\n",
      "  Using preset: EAC1\n",
      "\n"
     ]
    },
    {
     "name": "stderr",
     "output_type": "stream",
     "text": [
      "\u001b[38;5;229m\u001b[48;5;16m[yippy]\u001b[0m \u001b[32mINFO [2025-07-18 08:30:28,619] \u001b[0mCreating usort_offaxis_ovc coronagraph\n",
      "\u001b[38;5;229m\u001b[48;5;16m[yippy]\u001b[0m \u001b[33mWARNING [2025-07-18 08:30:28,620] \u001b[0mUnhandled header fields: {'D_INSC'}\n",
      "\u001b[38;5;229m\u001b[48;5;16m[yippy]\u001b[0m \u001b[33mWARNING [2025-07-18 08:30:28,621] \u001b[0mUsing default unit for D: m. Could not extract unit from comment: \"circumscribed diameter of the telescope in mete\"\n",
      "\u001b[38;5;229m\u001b[48;5;16m[yippy]\u001b[0m \u001b[32mINFO [2025-07-18 08:30:28,651] \u001b[0musort_offaxis_ovc is radially symmetric\n",
      "\u001b[38;5;229m\u001b[48;5;16m[yippy]\u001b[0m \u001b[32mINFO [2025-07-18 08:30:28,663] \u001b[0mCreated usort_offaxis_ovc\n"
     ]
    },
    {
     "name": "stdout",
     "output_type": "stream",
     "text": [
      "Using psf_trunc_ratio to calculate Omega...\n",
      "WARNING: noisefloor_PPF value not provided. Using the default value: 30.0\n",
      "Azimuthally averaging contrast maps and noise floor...\n",
      "Calculating optics throughput from preset...\n",
      "Calculating epswarmTrcold as 1 - optics throughput...\n",
      "WARNING: ez_PPF not set. Assuming EZ subtraction to Poisson limit (ez_PPF = inf)\n",
      "Observatory Configuration:\n",
      "  Using preset: EAC1\n",
      "\n"
     ]
    },
    {
     "name": "stderr",
     "output_type": "stream",
     "text": [
      "\u001b[38;5;229m\u001b[48;5;16m[yippy]\u001b[0m \u001b[32mINFO [2025-07-18 08:30:37,025] \u001b[0mCreating usort_offaxis_ovc coronagraph\n",
      "\u001b[38;5;229m\u001b[48;5;16m[yippy]\u001b[0m \u001b[33mWARNING [2025-07-18 08:30:37,026] \u001b[0mUnhandled header fields: {'D_INSC'}\n",
      "\u001b[38;5;229m\u001b[48;5;16m[yippy]\u001b[0m \u001b[33mWARNING [2025-07-18 08:30:37,026] \u001b[0mUsing default unit for D: m. Could not extract unit from comment: \"circumscribed diameter of the telescope in mete\"\n",
      "\u001b[38;5;229m\u001b[48;5;16m[yippy]\u001b[0m \u001b[32mINFO [2025-07-18 08:30:37,055] \u001b[0musort_offaxis_ovc is radially symmetric\n",
      "\u001b[38;5;229m\u001b[48;5;16m[yippy]\u001b[0m \u001b[32mINFO [2025-07-18 08:30:37,066] \u001b[0mCreated usort_offaxis_ovc\n"
     ]
    },
    {
     "name": "stdout",
     "output_type": "stream",
     "text": [
      "Using psf_trunc_ratio to calculate Omega...\n",
      "WARNING: noisefloor_PPF value not provided. Using the default value: 30.0\n",
      "Azimuthally averaging contrast maps and noise floor...\n",
      "Calculating optics throughput from preset...\n",
      "Calculating epswarmTrcold as 1 - optics throughput...\n",
      "WARNING: ez_PPF not set. Assuming EZ subtraction to Poisson limit (ez_PPF = inf)\n",
      "Observatory Configuration:\n",
      "  Using preset: EAC1\n",
      "\n"
     ]
    },
    {
     "name": "stderr",
     "output_type": "stream",
     "text": [
      "\u001b[38;5;229m\u001b[48;5;16m[yippy]\u001b[0m \u001b[32mINFO [2025-07-18 08:30:45,766] \u001b[0mCreating usort_offaxis_ovc coronagraph\n",
      "\u001b[38;5;229m\u001b[48;5;16m[yippy]\u001b[0m \u001b[33mWARNING [2025-07-18 08:30:45,768] \u001b[0mUnhandled header fields: {'D_INSC'}\n",
      "\u001b[38;5;229m\u001b[48;5;16m[yippy]\u001b[0m \u001b[33mWARNING [2025-07-18 08:30:45,769] \u001b[0mUsing default unit for D: m. Could not extract unit from comment: \"circumscribed diameter of the telescope in mete\"\n",
      "\u001b[38;5;229m\u001b[48;5;16m[yippy]\u001b[0m \u001b[32mINFO [2025-07-18 08:30:45,795] \u001b[0musort_offaxis_ovc is radially symmetric\n",
      "\u001b[38;5;229m\u001b[48;5;16m[yippy]\u001b[0m \u001b[32mINFO [2025-07-18 08:30:45,806] \u001b[0mCreated usort_offaxis_ovc\n"
     ]
    },
    {
     "name": "stdout",
     "output_type": "stream",
     "text": [
      "Using psf_trunc_ratio to calculate Omega...\n",
      "WARNING: noisefloor_PPF value not provided. Using the default value: 30.0\n",
      "Azimuthally averaging contrast maps and noise floor...\n",
      "Calculating optics throughput from preset...\n",
      "Calculating epswarmTrcold as 1 - optics throughput...\n",
      "WARNING: ez_PPF not set. Assuming EZ subtraction to Poisson limit (ez_PPF = inf)\n",
      "Observatory Configuration:\n",
      "  Using preset: EAC1\n",
      "\n"
     ]
    },
    {
     "name": "stderr",
     "output_type": "stream",
     "text": [
      "\u001b[38;5;229m\u001b[48;5;16m[yippy]\u001b[0m \u001b[32mINFO [2025-07-18 08:30:54,280] \u001b[0mCreating usort_offaxis_ovc coronagraph\n",
      "\u001b[38;5;229m\u001b[48;5;16m[yippy]\u001b[0m \u001b[33mWARNING [2025-07-18 08:30:54,281] \u001b[0mUnhandled header fields: {'D_INSC'}\n",
      "\u001b[38;5;229m\u001b[48;5;16m[yippy]\u001b[0m \u001b[33mWARNING [2025-07-18 08:30:54,282] \u001b[0mUsing default unit for D: m. Could not extract unit from comment: \"circumscribed diameter of the telescope in mete\"\n",
      "\u001b[38;5;229m\u001b[48;5;16m[yippy]\u001b[0m \u001b[32mINFO [2025-07-18 08:30:54,315] \u001b[0musort_offaxis_ovc is radially symmetric\n",
      "\u001b[38;5;229m\u001b[48;5;16m[yippy]\u001b[0m \u001b[32mINFO [2025-07-18 08:30:54,327] \u001b[0mCreated usort_offaxis_ovc\n"
     ]
    },
    {
     "name": "stdout",
     "output_type": "stream",
     "text": [
      "Using psf_trunc_ratio to calculate Omega...\n",
      "WARNING: noisefloor_PPF value not provided. Using the default value: 30.0\n",
      "Azimuthally averaging contrast maps and noise floor...\n",
      "Calculating optics throughput from preset...\n",
      "Calculating epswarmTrcold as 1 - optics throughput...\n",
      "WARNING: ez_PPF not set. Assuming EZ subtraction to Poisson limit (ez_PPF = inf)\n",
      "Observatory Configuration:\n",
      "  Using preset: EAC1\n",
      "\n"
     ]
    },
    {
     "name": "stderr",
     "output_type": "stream",
     "text": [
      "\u001b[38;5;229m\u001b[48;5;16m[yippy]\u001b[0m \u001b[32mINFO [2025-07-18 08:31:02,502] \u001b[0mCreating usort_offaxis_ovc coronagraph\n",
      "\u001b[38;5;229m\u001b[48;5;16m[yippy]\u001b[0m \u001b[33mWARNING [2025-07-18 08:31:02,503] \u001b[0mUnhandled header fields: {'D_INSC'}\n",
      "\u001b[38;5;229m\u001b[48;5;16m[yippy]\u001b[0m \u001b[33mWARNING [2025-07-18 08:31:02,504] \u001b[0mUsing default unit for D: m. Could not extract unit from comment: \"circumscribed diameter of the telescope in mete\"\n",
      "\u001b[38;5;229m\u001b[48;5;16m[yippy]\u001b[0m \u001b[32mINFO [2025-07-18 08:31:02,548] \u001b[0musort_offaxis_ovc is radially symmetric\n",
      "\u001b[38;5;229m\u001b[48;5;16m[yippy]\u001b[0m \u001b[32mINFO [2025-07-18 08:31:02,560] \u001b[0mCreated usort_offaxis_ovc\n"
     ]
    },
    {
     "name": "stdout",
     "output_type": "stream",
     "text": [
      "Using psf_trunc_ratio to calculate Omega...\n",
      "WARNING: noisefloor_PPF value not provided. Using the default value: 30.0\n",
      "Azimuthally averaging contrast maps and noise floor...\n",
      "Calculating optics throughput from preset...\n",
      "Calculating epswarmTrcold as 1 - optics throughput...\n",
      "WARNING: ez_PPF not set. Assuming EZ subtraction to Poisson limit (ez_PPF = inf)\n",
      "Observatory Configuration:\n",
      "  Using preset: EAC1\n",
      "\n"
     ]
    },
    {
     "name": "stderr",
     "output_type": "stream",
     "text": [
      "\u001b[38;5;229m\u001b[48;5;16m[yippy]\u001b[0m \u001b[32mINFO [2025-07-18 08:31:11,027] \u001b[0mCreating usort_offaxis_ovc coronagraph\n",
      "\u001b[38;5;229m\u001b[48;5;16m[yippy]\u001b[0m \u001b[33mWARNING [2025-07-18 08:31:11,028] \u001b[0mUnhandled header fields: {'D_INSC'}\n",
      "\u001b[38;5;229m\u001b[48;5;16m[yippy]\u001b[0m \u001b[33mWARNING [2025-07-18 08:31:11,029] \u001b[0mUsing default unit for D: m. Could not extract unit from comment: \"circumscribed diameter of the telescope in mete\"\n",
      "\u001b[38;5;229m\u001b[48;5;16m[yippy]\u001b[0m \u001b[32mINFO [2025-07-18 08:31:11,056] \u001b[0musort_offaxis_ovc is radially symmetric\n",
      "\u001b[38;5;229m\u001b[48;5;16m[yippy]\u001b[0m \u001b[32mINFO [2025-07-18 08:31:11,067] \u001b[0mCreated usort_offaxis_ovc\n"
     ]
    },
    {
     "name": "stdout",
     "output_type": "stream",
     "text": [
      "Using psf_trunc_ratio to calculate Omega...\n",
      "WARNING: noisefloor_PPF value not provided. Using the default value: 30.0\n",
      "Azimuthally averaging contrast maps and noise floor...\n",
      "Calculating optics throughput from preset...\n",
      "Calculating epswarmTrcold as 1 - optics throughput...\n",
      "WARNING: ez_PPF not set. Assuming EZ subtraction to Poisson limit (ez_PPF = inf)\n",
      "Observatory Configuration:\n",
      "  Using preset: EAC1\n",
      "\n"
     ]
    },
    {
     "name": "stderr",
     "output_type": "stream",
     "text": [
      "\u001b[38;5;229m\u001b[48;5;16m[yippy]\u001b[0m \u001b[32mINFO [2025-07-18 08:31:19,180] \u001b[0mCreating usort_offaxis_ovc coronagraph\n",
      "\u001b[38;5;229m\u001b[48;5;16m[yippy]\u001b[0m \u001b[33mWARNING [2025-07-18 08:31:19,181] \u001b[0mUnhandled header fields: {'D_INSC'}\n",
      "\u001b[38;5;229m\u001b[48;5;16m[yippy]\u001b[0m \u001b[33mWARNING [2025-07-18 08:31:19,182] \u001b[0mUsing default unit for D: m. Could not extract unit from comment: \"circumscribed diameter of the telescope in mete\"\n",
      "\u001b[38;5;229m\u001b[48;5;16m[yippy]\u001b[0m \u001b[32mINFO [2025-07-18 08:31:19,208] \u001b[0musort_offaxis_ovc is radially symmetric\n",
      "\u001b[38;5;229m\u001b[48;5;16m[yippy]\u001b[0m \u001b[32mINFO [2025-07-18 08:31:19,219] \u001b[0mCreated usort_offaxis_ovc\n"
     ]
    },
    {
     "name": "stdout",
     "output_type": "stream",
     "text": [
      "Using psf_trunc_ratio to calculate Omega...\n",
      "WARNING: noisefloor_PPF value not provided. Using the default value: 30.0\n",
      "Azimuthally averaging contrast maps and noise floor...\n",
      "Calculating optics throughput from preset...\n",
      "Calculating epswarmTrcold as 1 - optics throughput...\n",
      "WARNING: ez_PPF not set. Assuming EZ subtraction to Poisson limit (ez_PPF = inf)\n",
      "Observatory Configuration:\n",
      "  Using preset: EAC1\n",
      "\n"
     ]
    },
    {
     "name": "stderr",
     "output_type": "stream",
     "text": [
      "\u001b[38;5;229m\u001b[48;5;16m[yippy]\u001b[0m \u001b[32mINFO [2025-07-18 08:31:27,444] \u001b[0mCreating usort_offaxis_ovc coronagraph\n",
      "\u001b[38;5;229m\u001b[48;5;16m[yippy]\u001b[0m \u001b[33mWARNING [2025-07-18 08:31:27,445] \u001b[0mUnhandled header fields: {'D_INSC'}\n",
      "\u001b[38;5;229m\u001b[48;5;16m[yippy]\u001b[0m \u001b[33mWARNING [2025-07-18 08:31:27,445] \u001b[0mUsing default unit for D: m. Could not extract unit from comment: \"circumscribed diameter of the telescope in mete\"\n",
      "\u001b[38;5;229m\u001b[48;5;16m[yippy]\u001b[0m \u001b[32mINFO [2025-07-18 08:31:27,481] \u001b[0musort_offaxis_ovc is radially symmetric\n",
      "\u001b[38;5;229m\u001b[48;5;16m[yippy]\u001b[0m \u001b[32mINFO [2025-07-18 08:31:27,493] \u001b[0mCreated usort_offaxis_ovc\n"
     ]
    },
    {
     "name": "stdout",
     "output_type": "stream",
     "text": [
      "Using psf_trunc_ratio to calculate Omega...\n",
      "WARNING: noisefloor_PPF value not provided. Using the default value: 30.0\n",
      "Azimuthally averaging contrast maps and noise floor...\n",
      "Calculating optics throughput from preset...\n",
      "Calculating epswarmTrcold as 1 - optics throughput...\n",
      "WARNING: ez_PPF not set. Assuming EZ subtraction to Poisson limit (ez_PPF = inf)\n",
      "Observatory Configuration:\n",
      "  Using preset: EAC1\n",
      "\n"
     ]
    },
    {
     "name": "stderr",
     "output_type": "stream",
     "text": [
      "\u001b[38;5;229m\u001b[48;5;16m[yippy]\u001b[0m \u001b[32mINFO [2025-07-18 08:31:35,311] \u001b[0mCreating usort_offaxis_ovc coronagraph\n",
      "\u001b[38;5;229m\u001b[48;5;16m[yippy]\u001b[0m \u001b[33mWARNING [2025-07-18 08:31:35,312] \u001b[0mUnhandled header fields: {'D_INSC'}\n",
      "\u001b[38;5;229m\u001b[48;5;16m[yippy]\u001b[0m \u001b[33mWARNING [2025-07-18 08:31:35,312] \u001b[0mUsing default unit for D: m. Could not extract unit from comment: \"circumscribed diameter of the telescope in mete\"\n",
      "\u001b[38;5;229m\u001b[48;5;16m[yippy]\u001b[0m \u001b[32mINFO [2025-07-18 08:31:35,347] \u001b[0musort_offaxis_ovc is radially symmetric\n",
      "\u001b[38;5;229m\u001b[48;5;16m[yippy]\u001b[0m \u001b[32mINFO [2025-07-18 08:31:35,358] \u001b[0mCreated usort_offaxis_ovc\n"
     ]
    },
    {
     "name": "stdout",
     "output_type": "stream",
     "text": [
      "Using psf_trunc_ratio to calculate Omega...\n",
      "WARNING: noisefloor_PPF value not provided. Using the default value: 30.0\n",
      "Azimuthally averaging contrast maps and noise floor...\n",
      "Calculating optics throughput from preset...\n",
      "Calculating epswarmTrcold as 1 - optics throughput...\n",
      "WARNING: ez_PPF not set. Assuming EZ subtraction to Poisson limit (ez_PPF = inf)\n",
      "Observatory Configuration:\n",
      "  Using preset: EAC1\n",
      "\n"
     ]
    },
    {
     "name": "stderr",
     "output_type": "stream",
     "text": [
      "\u001b[38;5;229m\u001b[48;5;16m[yippy]\u001b[0m \u001b[32mINFO [2025-07-18 08:31:42,637] \u001b[0mCreating usort_offaxis_ovc coronagraph\n",
      "\u001b[38;5;229m\u001b[48;5;16m[yippy]\u001b[0m \u001b[33mWARNING [2025-07-18 08:31:42,638] \u001b[0mUnhandled header fields: {'D_INSC'}\n",
      "\u001b[38;5;229m\u001b[48;5;16m[yippy]\u001b[0m \u001b[33mWARNING [2025-07-18 08:31:42,638] \u001b[0mUsing default unit for D: m. Could not extract unit from comment: \"circumscribed diameter of the telescope in mete\"\n",
      "\u001b[38;5;229m\u001b[48;5;16m[yippy]\u001b[0m \u001b[32mINFO [2025-07-18 08:31:42,668] \u001b[0musort_offaxis_ovc is radially symmetric\n",
      "\u001b[38;5;229m\u001b[48;5;16m[yippy]\u001b[0m \u001b[32mINFO [2025-07-18 08:31:42,679] \u001b[0mCreated usort_offaxis_ovc\n"
     ]
    },
    {
     "name": "stdout",
     "output_type": "stream",
     "text": [
      "Using psf_trunc_ratio to calculate Omega...\n",
      "WARNING: noisefloor_PPF value not provided. Using the default value: 30.0\n",
      "Azimuthally averaging contrast maps and noise floor...\n",
      "Calculating optics throughput from preset...\n",
      "Calculating epswarmTrcold as 1 - optics throughput...\n",
      "WARNING: ez_PPF not set. Assuming EZ subtraction to Poisson limit (ez_PPF = inf)\n",
      "Observatory Configuration:\n",
      "  Using preset: EAC1\n",
      "\n"
     ]
    },
    {
     "name": "stderr",
     "output_type": "stream",
     "text": [
      "\u001b[38;5;229m\u001b[48;5;16m[yippy]\u001b[0m \u001b[32mINFO [2025-07-18 08:31:50,572] \u001b[0mCreating usort_offaxis_ovc coronagraph\n",
      "\u001b[38;5;229m\u001b[48;5;16m[yippy]\u001b[0m \u001b[33mWARNING [2025-07-18 08:31:50,573] \u001b[0mUnhandled header fields: {'D_INSC'}\n",
      "\u001b[38;5;229m\u001b[48;5;16m[yippy]\u001b[0m \u001b[33mWARNING [2025-07-18 08:31:50,574] \u001b[0mUsing default unit for D: m. Could not extract unit from comment: \"circumscribed diameter of the telescope in mete\"\n",
      "\u001b[38;5;229m\u001b[48;5;16m[yippy]\u001b[0m \u001b[32mINFO [2025-07-18 08:31:50,601] \u001b[0musort_offaxis_ovc is radially symmetric\n",
      "\u001b[38;5;229m\u001b[48;5;16m[yippy]\u001b[0m \u001b[32mINFO [2025-07-18 08:31:50,613] \u001b[0mCreated usort_offaxis_ovc\n"
     ]
    },
    {
     "name": "stdout",
     "output_type": "stream",
     "text": [
      "Using psf_trunc_ratio to calculate Omega...\n",
      "WARNING: noisefloor_PPF value not provided. Using the default value: 30.0\n",
      "Azimuthally averaging contrast maps and noise floor...\n",
      "Calculating optics throughput from preset...\n",
      "Calculating epswarmTrcold as 1 - optics throughput...\n",
      "WARNING: Photometric aperture is not large enough. Hardcoded infinity results.\n",
      "WARNING: ez_PPF not set. Assuming EZ subtraction to Poisson limit (ez_PPF = inf)\n",
      "Observatory Configuration:\n",
      "  Using preset: EAC1\n",
      "\n"
     ]
    },
    {
     "name": "stderr",
     "output_type": "stream",
     "text": [
      "\u001b[38;5;229m\u001b[48;5;16m[yippy]\u001b[0m \u001b[32mINFO [2025-07-18 08:31:57,443] \u001b[0mCreating usort_offaxis_ovc coronagraph\n",
      "\u001b[38;5;229m\u001b[48;5;16m[yippy]\u001b[0m \u001b[33mWARNING [2025-07-18 08:31:57,444] \u001b[0mUnhandled header fields: {'D_INSC'}\n",
      "\u001b[38;5;229m\u001b[48;5;16m[yippy]\u001b[0m \u001b[33mWARNING [2025-07-18 08:31:57,445] \u001b[0mUsing default unit for D: m. Could not extract unit from comment: \"circumscribed diameter of the telescope in mete\"\n",
      "\u001b[38;5;229m\u001b[48;5;16m[yippy]\u001b[0m \u001b[32mINFO [2025-07-18 08:31:57,475] \u001b[0musort_offaxis_ovc is radially symmetric\n",
      "\u001b[38;5;229m\u001b[48;5;16m[yippy]\u001b[0m \u001b[32mINFO [2025-07-18 08:31:57,487] \u001b[0mCreated usort_offaxis_ovc\n"
     ]
    },
    {
     "name": "stdout",
     "output_type": "stream",
     "text": [
      "Using psf_trunc_ratio to calculate Omega...\n",
      "WARNING: noisefloor_PPF value not provided. Using the default value: 30.0\n",
      "Azimuthally averaging contrast maps and noise floor...\n",
      "Calculating optics throughput from preset...\n",
      "Calculating epswarmTrcold as 1 - optics throughput...\n",
      "WARNING: Photometric aperture is not large enough. Hardcoded infinity results.\n",
      "WARNING: ez_PPF not set. Assuming EZ subtraction to Poisson limit (ez_PPF = inf)\n",
      "Observatory Configuration:\n",
      "  Using preset: EAC1\n",
      "\n"
     ]
    },
    {
     "name": "stderr",
     "output_type": "stream",
     "text": [
      "\u001b[38;5;229m\u001b[48;5;16m[yippy]\u001b[0m \u001b[32mINFO [2025-07-18 08:32:04,556] \u001b[0mCreating usort_offaxis_ovc coronagraph\n",
      "\u001b[38;5;229m\u001b[48;5;16m[yippy]\u001b[0m \u001b[33mWARNING [2025-07-18 08:32:04,557] \u001b[0mUnhandled header fields: {'D_INSC'}\n",
      "\u001b[38;5;229m\u001b[48;5;16m[yippy]\u001b[0m \u001b[33mWARNING [2025-07-18 08:32:04,558] \u001b[0mUsing default unit for D: m. Could not extract unit from comment: \"circumscribed diameter of the telescope in mete\"\n",
      "\u001b[38;5;229m\u001b[48;5;16m[yippy]\u001b[0m \u001b[32mINFO [2025-07-18 08:32:04,585] \u001b[0musort_offaxis_ovc is radially symmetric\n",
      "\u001b[38;5;229m\u001b[48;5;16m[yippy]\u001b[0m \u001b[32mINFO [2025-07-18 08:32:04,596] \u001b[0mCreated usort_offaxis_ovc\n"
     ]
    },
    {
     "name": "stdout",
     "output_type": "stream",
     "text": [
      "Using psf_trunc_ratio to calculate Omega...\n",
      "WARNING: noisefloor_PPF value not provided. Using the default value: 30.0\n",
      "Azimuthally averaging contrast maps and noise floor...\n",
      "Calculating optics throughput from preset...\n",
      "Calculating epswarmTrcold as 1 - optics throughput...\n",
      "WARNING: Photometric aperture is not large enough. Hardcoded infinity results.\n"
     ]
    },
    {
     "data": {
      "image/png": "[encoded data removed]",
      "text/plain": [
       "<Figure size 1000x600 with 1 Axes>"
      ]
     },
     "metadata": {},
     "output_type": "display_data"
    }
   ],
   "source": [
    "psfratios = np.linspace(0.1, 1, 20)   \n",
    "\n",
    "exposure_times = []\n",
    "\n",
    "for ratio in psfratios:\n",
    "    params = imaging_params.copy()\n",
    "    params['psf_trunc_ratio'] = ratio\n",
    "    parsed_parameters= parse_input.parse_parameters(params)\n",
    "    texp, _ = calculate_texp(parsed_parameters, verbose=False)\n",
    "    exposure_times.append(texp.to(u.hr)[0].value)\n",
    "\n",
    "# MAKE PLOT\n",
    "fig, ax1 = plt.subplots(figsize=(10, 6))\n",
    "# Primary x-axis (separation arcsec)\n",
    "ax1.plot(psfratios, exposure_times, marker='o', label='Valid exposures')\n",
    "ax1.plot(psfratios[np.isinf(exposure_times)],\n",
    "         np.ones_like(psfratios)[np.isinf(exposure_times)]*50,\n",
    "         marker='x', linestyle='', color='red', label='Infinite exposures')\n",
    "\n",
    "\n",
    "ax1.set_xlabel('PSF Truncation Ratio')\n",
    "ax1.set_ylabel('Exposure time (hours)')\n",
    "ax1.grid(True)\n",
    "\n",
    "plt.title('Exposure Time vs. PSF Truncation Ratio')\n",
    "plt.legend()\n",
    "plt.tight_layout()\n",
    "plt.show()\n",
    "\n",
    "\n",
    "# exposure time minimized at 0.3, just like it should! "
   ]
  },
  {
   "cell_type": "code",
   "execution_count": 13,
   "metadata": {},
   "outputs": [
    {
     "name": "stdout",
     "output_type": "stream",
     "text": [
      "WARNING: ez_PPF not set. Assuming EZ subtraction to Poisson limit (ez_PPF = inf)\n",
      "Observatory Configuration:\n",
      "  Using preset: EAC1\n",
      "\n"
     ]
    },
    {
     "name": "stderr",
     "output_type": "stream",
     "text": [
      "\u001b[38;5;229m\u001b[48;5;16m[yippy]\u001b[0m \u001b[32mINFO [2025-07-18 08:32:09,687] \u001b[0mCreating usort_offaxis_ovc coronagraph\n",
      "\u001b[38;5;229m\u001b[48;5;16m[yippy]\u001b[0m \u001b[33mWARNING [2025-07-18 08:32:09,689] \u001b[0mUnhandled header fields: {'D_INSC'}\n",
      "\u001b[38;5;229m\u001b[48;5;16m[yippy]\u001b[0m \u001b[33mWARNING [2025-07-18 08:32:09,689] \u001b[0mUsing default unit for D: m. Could not extract unit from comment: \"circumscribed diameter of the telescope in mete\"\n",
      "\u001b[38;5;229m\u001b[48;5;16m[yippy]\u001b[0m \u001b[32mINFO [2025-07-18 08:32:09,721] \u001b[0musort_offaxis_ovc is radially symmetric\n",
      "\u001b[38;5;229m\u001b[48;5;16m[yippy]\u001b[0m \u001b[32mINFO [2025-07-18 08:32:09,733] \u001b[0mCreated usort_offaxis_ovc\n"
     ]
    },
    {
     "name": "stdout",
     "output_type": "stream",
     "text": [
      "Using psf_trunc_ratio to calculate Omega...\n",
      "WARNING: noisefloor_PPF value not provided. Using the default value: 30.0\n",
      "Azimuthally averaging contrast maps and noise floor...\n",
      "Calculating optics throughput from preset...\n",
      "Calculating epswarmTrcold as 1 - optics throughput...\n",
      "WARNING: ez_PPF not set. Assuming EZ subtraction to Poisson limit (ez_PPF = inf)\n",
      "Observatory Configuration:\n",
      "  Using preset: EAC1\n",
      "\n"
     ]
    },
    {
     "name": "stderr",
     "output_type": "stream",
     "text": [
      "\u001b[38;5;229m\u001b[48;5;16m[yippy]\u001b[0m \u001b[32mINFO [2025-07-18 08:32:14,267] \u001b[0mCreating usort_offaxis_ovc coronagraph\n",
      "\u001b[38;5;229m\u001b[48;5;16m[yippy]\u001b[0m \u001b[33mWARNING [2025-07-18 08:32:14,268] \u001b[0mUnhandled header fields: {'D_INSC'}\n",
      "\u001b[38;5;229m\u001b[48;5;16m[yippy]\u001b[0m \u001b[33mWARNING [2025-07-18 08:32:14,268] \u001b[0mUsing default unit for D: m. Could not extract unit from comment: \"circumscribed diameter of the telescope in mete\"\n",
      "\u001b[38;5;229m\u001b[48;5;16m[yippy]\u001b[0m \u001b[32mINFO [2025-07-18 08:32:14,304] \u001b[0musort_offaxis_ovc is radially symmetric\n",
      "\u001b[38;5;229m\u001b[48;5;16m[yippy]\u001b[0m \u001b[32mINFO [2025-07-18 08:32:14,315] \u001b[0mCreated usort_offaxis_ovc\n"
     ]
    },
    {
     "name": "stdout",
     "output_type": "stream",
     "text": [
      "Using psf_trunc_ratio to calculate Omega...\n",
      "WARNING: noisefloor_PPF value not provided. Using the default value: 30.0\n",
      "Azimuthally averaging contrast maps and noise floor...\n",
      "Calculating optics throughput from preset...\n",
      "Calculating epswarmTrcold as 1 - optics throughput...\n",
      "WARNING: ez_PPF not set. Assuming EZ subtraction to Poisson limit (ez_PPF = inf)\n",
      "Observatory Configuration:\n",
      "  Using preset: EAC1\n",
      "\n"
     ]
    },
    {
     "name": "stderr",
     "output_type": "stream",
     "text": [
      "\u001b[38;5;229m\u001b[48;5;16m[yippy]\u001b[0m \u001b[32mINFO [2025-07-18 08:32:18,805] \u001b[0mCreating usort_offaxis_ovc coronagraph\n",
      "\u001b[38;5;229m\u001b[48;5;16m[yippy]\u001b[0m \u001b[33mWARNING [2025-07-18 08:32:18,806] \u001b[0mUnhandled header fields: {'D_INSC'}\n",
      "\u001b[38;5;229m\u001b[48;5;16m[yippy]\u001b[0m \u001b[33mWARNING [2025-07-18 08:32:18,807] \u001b[0mUsing default unit for D: m. Could not extract unit from comment: \"circumscribed diameter of the telescope in mete\"\n",
      "\u001b[38;5;229m\u001b[48;5;16m[yippy]\u001b[0m \u001b[32mINFO [2025-07-18 08:32:18,837] \u001b[0musort_offaxis_ovc is radially symmetric\n",
      "\u001b[38;5;229m\u001b[48;5;16m[yippy]\u001b[0m \u001b[32mINFO [2025-07-18 08:32:18,848] \u001b[0mCreated usort_offaxis_ovc\n"
     ]
    },
    {
     "name": "stdout",
     "output_type": "stream",
     "text": [
      "Using psf_trunc_ratio to calculate Omega...\n",
      "WARNING: noisefloor_PPF value not provided. Using the default value: 30.0\n",
      "Azimuthally averaging contrast maps and noise floor...\n",
      "Calculating optics throughput from preset...\n",
      "Calculating epswarmTrcold as 1 - optics throughput...\n",
      "WARNING: ez_PPF not set. Assuming EZ subtraction to Poisson limit (ez_PPF = inf)\n",
      "Observatory Configuration:\n",
      "  Using preset: EAC1\n",
      "\n"
     ]
    },
    {
     "name": "stderr",
     "output_type": "stream",
     "text": [
      "\u001b[38;5;229m\u001b[48;5;16m[yippy]\u001b[0m \u001b[32mINFO [2025-07-18 08:32:23,473] \u001b[0mCreating usort_offaxis_ovc coronagraph\n",
      "\u001b[38;5;229m\u001b[48;5;16m[yippy]\u001b[0m \u001b[33mWARNING [2025-07-18 08:32:23,474] \u001b[0mUnhandled header fields: {'D_INSC'}\n",
      "\u001b[38;5;229m\u001b[48;5;16m[yippy]\u001b[0m \u001b[33mWARNING [2025-07-18 08:32:23,475] \u001b[0mUsing default unit for D: m. Could not extract unit from comment: \"circumscribed diameter of the telescope in mete\"\n",
      "\u001b[38;5;229m\u001b[48;5;16m[yippy]\u001b[0m \u001b[32mINFO [2025-07-18 08:32:23,504] \u001b[0musort_offaxis_ovc is radially symmetric\n",
      "\u001b[38;5;229m\u001b[48;5;16m[yippy]\u001b[0m \u001b[32mINFO [2025-07-18 08:32:23,516] \u001b[0mCreated usort_offaxis_ovc\n"
     ]
    },
    {
     "name": "stdout",
     "output_type": "stream",
     "text": [
      "Using psf_trunc_ratio to calculate Omega...\n",
      "WARNING: noisefloor_PPF value not provided. Using the default value: 30.0\n",
      "Azimuthally averaging contrast maps and noise floor...\n",
      "Calculating optics throughput from preset...\n",
      "Calculating epswarmTrcold as 1 - optics throughput...\n",
      "WARNING: ez_PPF not set. Assuming EZ subtraction to Poisson limit (ez_PPF = inf)\n",
      "Observatory Configuration:\n",
      "  Using preset: EAC1\n",
      "\n"
     ]
    },
    {
     "name": "stderr",
     "output_type": "stream",
     "text": [
      "\u001b[38;5;229m\u001b[48;5;16m[yippy]\u001b[0m \u001b[32mINFO [2025-07-18 08:32:28,002] \u001b[0mCreating usort_offaxis_ovc coronagraph\n",
      "\u001b[38;5;229m\u001b[48;5;16m[yippy]\u001b[0m \u001b[33mWARNING [2025-07-18 08:32:28,003] \u001b[0mUnhandled header fields: {'D_INSC'}\n",
      "\u001b[38;5;229m\u001b[48;5;16m[yippy]\u001b[0m \u001b[33mWARNING [2025-07-18 08:32:28,003] \u001b[0mUsing default unit for D: m. Could not extract unit from comment: \"circumscribed diameter of the telescope in mete\"\n",
      "\u001b[38;5;229m\u001b[48;5;16m[yippy]\u001b[0m \u001b[32mINFO [2025-07-18 08:32:28,030] \u001b[0musort_offaxis_ovc is radially symmetric\n",
      "\u001b[38;5;229m\u001b[48;5;16m[yippy]\u001b[0m \u001b[32mINFO [2025-07-18 08:32:28,042] \u001b[0mCreated usort_offaxis_ovc\n"
     ]
    },
    {
     "name": "stdout",
     "output_type": "stream",
     "text": [
      "Using psf_trunc_ratio to calculate Omega...\n",
      "WARNING: noisefloor_PPF value not provided. Using the default value: 30.0\n",
      "Azimuthally averaging contrast maps and noise floor...\n",
      "Calculating optics throughput from preset...\n",
      "Calculating epswarmTrcold as 1 - optics throughput...\n",
      "WARNING: ez_PPF not set. Assuming EZ subtraction to Poisson limit (ez_PPF = inf)\n",
      "Observatory Configuration:\n",
      "  Using preset: EAC1\n",
      "\n"
     ]
    },
    {
     "name": "stderr",
     "output_type": "stream",
     "text": [
      "\u001b[38;5;229m\u001b[48;5;16m[yippy]\u001b[0m \u001b[32mINFO [2025-07-18 08:32:32,570] \u001b[0mCreating usort_offaxis_ovc coronagraph\n",
      "\u001b[38;5;229m\u001b[48;5;16m[yippy]\u001b[0m \u001b[33mWARNING [2025-07-18 08:32:32,571] \u001b[0mUnhandled header fields: {'D_INSC'}\n",
      "\u001b[38;5;229m\u001b[48;5;16m[yippy]\u001b[0m \u001b[33mWARNING [2025-07-18 08:32:32,571] \u001b[0mUsing default unit for D: m. Could not extract unit from comment: \"circumscribed diameter of the telescope in mete\"\n",
      "\u001b[38;5;229m\u001b[48;5;16m[yippy]\u001b[0m \u001b[32mINFO [2025-07-18 08:32:32,602] \u001b[0musort_offaxis_ovc is radially symmetric\n",
      "\u001b[38;5;229m\u001b[48;5;16m[yippy]\u001b[0m \u001b[32mINFO [2025-07-18 08:32:32,613] \u001b[0mCreated usort_offaxis_ovc\n"
     ]
    },
    {
     "name": "stdout",
     "output_type": "stream",
     "text": [
      "Using psf_trunc_ratio to calculate Omega...\n",
      "WARNING: noisefloor_PPF value not provided. Using the default value: 30.0\n",
      "Azimuthally averaging contrast maps and noise floor...\n",
      "Calculating optics throughput from preset...\n",
      "Calculating epswarmTrcold as 1 - optics throughput...\n",
      "WARNING: ez_PPF not set. Assuming EZ subtraction to Poisson limit (ez_PPF = inf)\n",
      "Observatory Configuration:\n",
      "  Using preset: EAC1\n",
      "\n"
     ]
    },
    {
     "name": "stderr",
     "output_type": "stream",
     "text": [
      "\u001b[38;5;229m\u001b[48;5;16m[yippy]\u001b[0m \u001b[32mINFO [2025-07-18 08:32:37,101] \u001b[0mCreating usort_offaxis_ovc coronagraph\n",
      "\u001b[38;5;229m\u001b[48;5;16m[yippy]\u001b[0m \u001b[33mWARNING [2025-07-18 08:32:37,102] \u001b[0mUnhandled header fields: {'D_INSC'}\n",
      "\u001b[38;5;229m\u001b[48;5;16m[yippy]\u001b[0m \u001b[33mWARNING [2025-07-18 08:32:37,103] \u001b[0mUsing default unit for D: m. Could not extract unit from comment: \"circumscribed diameter of the telescope in mete\"\n",
      "\u001b[38;5;229m\u001b[48;5;16m[yippy]\u001b[0m \u001b[32mINFO [2025-07-18 08:32:37,132] \u001b[0musort_offaxis_ovc is radially symmetric\n",
      "\u001b[38;5;229m\u001b[48;5;16m[yippy]\u001b[0m \u001b[32mINFO [2025-07-18 08:32:37,144] \u001b[0mCreated usort_offaxis_ovc\n"
     ]
    },
    {
     "name": "stdout",
     "output_type": "stream",
     "text": [
      "Using psf_trunc_ratio to calculate Omega...\n",
      "WARNING: noisefloor_PPF value not provided. Using the default value: 30.0\n",
      "Azimuthally averaging contrast maps and noise floor...\n",
      "Calculating optics throughput from preset...\n",
      "Calculating epswarmTrcold as 1 - optics throughput...\n",
      "WARNING: ez_PPF not set. Assuming EZ subtraction to Poisson limit (ez_PPF = inf)\n",
      "Observatory Configuration:\n",
      "  Using preset: EAC1\n",
      "\n"
     ]
    },
    {
     "name": "stderr",
     "output_type": "stream",
     "text": [
      "\u001b[38;5;229m\u001b[48;5;16m[yippy]\u001b[0m \u001b[32mINFO [2025-07-18 08:32:41,760] \u001b[0mCreating usort_offaxis_ovc coronagraph\n",
      "\u001b[38;5;229m\u001b[48;5;16m[yippy]\u001b[0m \u001b[33mWARNING [2025-07-18 08:32:41,761] \u001b[0mUnhandled header fields: {'D_INSC'}\n",
      "\u001b[38;5;229m\u001b[48;5;16m[yippy]\u001b[0m \u001b[33mWARNING [2025-07-18 08:32:41,763] \u001b[0mUsing default unit for D: m. Could not extract unit from comment: \"circumscribed diameter of the telescope in mete\"\n",
      "\u001b[38;5;229m\u001b[48;5;16m[yippy]\u001b[0m \u001b[32mINFO [2025-07-18 08:32:41,789] \u001b[0musort_offaxis_ovc is radially symmetric\n",
      "\u001b[38;5;229m\u001b[48;5;16m[yippy]\u001b[0m \u001b[32mINFO [2025-07-18 08:32:41,801] \u001b[0mCreated usort_offaxis_ovc\n"
     ]
    },
    {
     "name": "stdout",
     "output_type": "stream",
     "text": [
      "Using psf_trunc_ratio to calculate Omega...\n",
      "WARNING: noisefloor_PPF value not provided. Using the default value: 30.0\n",
      "Azimuthally averaging contrast maps and noise floor...\n",
      "Calculating optics throughput from preset...\n",
      "Calculating epswarmTrcold as 1 - optics throughput...\n",
      "WARNING: ez_PPF not set. Assuming EZ subtraction to Poisson limit (ez_PPF = inf)\n",
      "Observatory Configuration:\n",
      "  Using preset: EAC1\n",
      "\n"
     ]
    },
    {
     "name": "stderr",
     "output_type": "stream",
     "text": [
      "\u001b[38;5;229m\u001b[48;5;16m[yippy]\u001b[0m \u001b[32mINFO [2025-07-18 08:32:46,370] \u001b[0mCreating usort_offaxis_ovc coronagraph\n",
      "\u001b[38;5;229m\u001b[48;5;16m[yippy]\u001b[0m \u001b[33mWARNING [2025-07-18 08:32:46,371] \u001b[0mUnhandled header fields: {'D_INSC'}\n",
      "\u001b[38;5;229m\u001b[48;5;16m[yippy]\u001b[0m \u001b[33mWARNING [2025-07-18 08:32:46,371] \u001b[0mUsing default unit for D: m. Could not extract unit from comment: \"circumscribed diameter of the telescope in mete\"\n",
      "\u001b[38;5;229m\u001b[48;5;16m[yippy]\u001b[0m \u001b[32mINFO [2025-07-18 08:32:46,407] \u001b[0musort_offaxis_ovc is radially symmetric\n",
      "\u001b[38;5;229m\u001b[48;5;16m[yippy]\u001b[0m \u001b[32mINFO [2025-07-18 08:32:46,418] \u001b[0mCreated usort_offaxis_ovc\n"
     ]
    },
    {
     "name": "stdout",
     "output_type": "stream",
     "text": [
      "Using psf_trunc_ratio to calculate Omega...\n",
      "WARNING: noisefloor_PPF value not provided. Using the default value: 30.0\n",
      "Azimuthally averaging contrast maps and noise floor...\n",
      "Calculating optics throughput from preset...\n",
      "Calculating epswarmTrcold as 1 - optics throughput...\n",
      "WARNING: ez_PPF not set. Assuming EZ subtraction to Poisson limit (ez_PPF = inf)\n",
      "Observatory Configuration:\n",
      "  Using preset: EAC1\n",
      "\n"
     ]
    },
    {
     "name": "stderr",
     "output_type": "stream",
     "text": [
      "\u001b[38;5;229m\u001b[48;5;16m[yippy]\u001b[0m \u001b[32mINFO [2025-07-18 08:32:50,892] \u001b[0mCreating usort_offaxis_ovc coronagraph\n",
      "\u001b[38;5;229m\u001b[48;5;16m[yippy]\u001b[0m \u001b[33mWARNING [2025-07-18 08:32:50,893] \u001b[0mUnhandled header fields: {'D_INSC'}\n",
      "\u001b[38;5;229m\u001b[48;5;16m[yippy]\u001b[0m \u001b[33mWARNING [2025-07-18 08:32:50,893] \u001b[0mUsing default unit for D: m. Could not extract unit from comment: \"circumscribed diameter of the telescope in mete\"\n",
      "\u001b[38;5;229m\u001b[48;5;16m[yippy]\u001b[0m \u001b[32mINFO [2025-07-18 08:32:50,939] \u001b[0musort_offaxis_ovc is radially symmetric\n",
      "\u001b[38;5;229m\u001b[48;5;16m[yippy]\u001b[0m \u001b[32mINFO [2025-07-18 08:32:50,956] \u001b[0mCreated usort_offaxis_ovc\n"
     ]
    },
    {
     "name": "stdout",
     "output_type": "stream",
     "text": [
      "Using psf_trunc_ratio to calculate Omega...\n",
      "WARNING: noisefloor_PPF value not provided. Using the default value: 30.0\n",
      "Azimuthally averaging contrast maps and noise floor...\n",
      "Calculating optics throughput from preset...\n",
      "Calculating epswarmTrcold as 1 - optics throughput...\n",
      "WARNING: ez_PPF not set. Assuming EZ subtraction to Poisson limit (ez_PPF = inf)\n",
      "Observatory Configuration:\n",
      "  Using preset: EAC1\n",
      "\n"
     ]
    },
    {
     "name": "stderr",
     "output_type": "stream",
     "text": [
      "\u001b[38;5;229m\u001b[48;5;16m[yippy]\u001b[0m \u001b[32mINFO [2025-07-18 08:32:55,431] \u001b[0mCreating usort_offaxis_ovc coronagraph\n",
      "\u001b[38;5;229m\u001b[48;5;16m[yippy]\u001b[0m \u001b[33mWARNING [2025-07-18 08:32:55,432] \u001b[0mUnhandled header fields: {'D_INSC'}\n",
      "\u001b[38;5;229m\u001b[48;5;16m[yippy]\u001b[0m \u001b[33mWARNING [2025-07-18 08:32:55,433] \u001b[0mUsing default unit for D: m. Could not extract unit from comment: \"circumscribed diameter of the telescope in mete\"\n",
      "\u001b[38;5;229m\u001b[48;5;16m[yippy]\u001b[0m \u001b[32mINFO [2025-07-18 08:32:55,460] \u001b[0musort_offaxis_ovc is radially symmetric\n",
      "\u001b[38;5;229m\u001b[48;5;16m[yippy]\u001b[0m \u001b[32mINFO [2025-07-18 08:32:55,471] \u001b[0mCreated usort_offaxis_ovc\n"
     ]
    },
    {
     "name": "stdout",
     "output_type": "stream",
     "text": [
      "Using psf_trunc_ratio to calculate Omega...\n",
      "WARNING: noisefloor_PPF value not provided. Using the default value: 30.0\n",
      "Azimuthally averaging contrast maps and noise floor...\n",
      "Calculating optics throughput from preset...\n",
      "Calculating epswarmTrcold as 1 - optics throughput...\n",
      "WARNING: ez_PPF not set. Assuming EZ subtraction to Poisson limit (ez_PPF = inf)\n",
      "Observatory Configuration:\n",
      "  Using preset: EAC1\n",
      "\n"
     ]
    },
    {
     "name": "stderr",
     "output_type": "stream",
     "text": [
      "\u001b[38;5;229m\u001b[48;5;16m[yippy]\u001b[0m \u001b[32mINFO [2025-07-18 08:33:00,023] \u001b[0mCreating usort_offaxis_ovc coronagraph\n",
      "\u001b[38;5;229m\u001b[48;5;16m[yippy]\u001b[0m \u001b[33mWARNING [2025-07-18 08:33:00,024] \u001b[0mUnhandled header fields: {'D_INSC'}\n",
      "\u001b[38;5;229m\u001b[48;5;16m[yippy]\u001b[0m \u001b[33mWARNING [2025-07-18 08:33:00,024] \u001b[0mUsing default unit for D: m. Could not extract unit from comment: \"circumscribed diameter of the telescope in mete\"\n",
      "\u001b[38;5;229m\u001b[48;5;16m[yippy]\u001b[0m \u001b[32mINFO [2025-07-18 08:33:00,087] \u001b[0musort_offaxis_ovc is radially symmetric\n",
      "\u001b[38;5;229m\u001b[48;5;16m[yippy]\u001b[0m \u001b[32mINFO [2025-07-18 08:33:00,107] \u001b[0mCreated usort_offaxis_ovc\n"
     ]
    },
    {
     "name": "stdout",
     "output_type": "stream",
     "text": [
      "Using psf_trunc_ratio to calculate Omega...\n",
      "WARNING: noisefloor_PPF value not provided. Using the default value: 30.0\n",
      "Azimuthally averaging contrast maps and noise floor...\n",
      "Calculating optics throughput from preset...\n",
      "Calculating epswarmTrcold as 1 - optics throughput...\n",
      "WARNING: ez_PPF not set. Assuming EZ subtraction to Poisson limit (ez_PPF = inf)\n",
      "Observatory Configuration:\n",
      "  Using preset: EAC1\n",
      "\n"
     ]
    },
    {
     "name": "stderr",
     "output_type": "stream",
     "text": [
      "\u001b[38;5;229m\u001b[48;5;16m[yippy]\u001b[0m \u001b[32mINFO [2025-07-18 08:33:04,934] \u001b[0mCreating usort_offaxis_ovc coronagraph\n",
      "\u001b[38;5;229m\u001b[48;5;16m[yippy]\u001b[0m \u001b[33mWARNING [2025-07-18 08:33:04,935] \u001b[0mUnhandled header fields: {'D_INSC'}\n",
      "\u001b[38;5;229m\u001b[48;5;16m[yippy]\u001b[0m \u001b[33mWARNING [2025-07-18 08:33:04,936] \u001b[0mUsing default unit for D: m. Could not extract unit from comment: \"circumscribed diameter of the telescope in mete\"\n",
      "\u001b[38;5;229m\u001b[48;5;16m[yippy]\u001b[0m \u001b[32mINFO [2025-07-18 08:33:05,022] \u001b[0musort_offaxis_ovc is radially symmetric\n",
      "\u001b[38;5;229m\u001b[48;5;16m[yippy]\u001b[0m \u001b[32mINFO [2025-07-18 08:33:05,042] \u001b[0mCreated usort_offaxis_ovc\n"
     ]
    },
    {
     "name": "stdout",
     "output_type": "stream",
     "text": [
      "Using psf_trunc_ratio to calculate Omega...\n",
      "WARNING: noisefloor_PPF value not provided. Using the default value: 30.0\n",
      "Azimuthally averaging contrast maps and noise floor...\n",
      "Calculating optics throughput from preset...\n",
      "Calculating epswarmTrcold as 1 - optics throughput...\n",
      "WARNING: ez_PPF not set. Assuming EZ subtraction to Poisson limit (ez_PPF = inf)\n",
      "Observatory Configuration:\n",
      "  Using preset: EAC1\n",
      "\n"
     ]
    },
    {
     "name": "stderr",
     "output_type": "stream",
     "text": [
      "\u001b[38;5;229m\u001b[48;5;16m[yippy]\u001b[0m \u001b[32mINFO [2025-07-18 08:33:09,578] \u001b[0mCreating usort_offaxis_ovc coronagraph\n",
      "\u001b[38;5;229m\u001b[48;5;16m[yippy]\u001b[0m \u001b[33mWARNING [2025-07-18 08:33:09,579] \u001b[0mUnhandled header fields: {'D_INSC'}\n",
      "\u001b[38;5;229m\u001b[48;5;16m[yippy]\u001b[0m \u001b[33mWARNING [2025-07-18 08:33:09,579] \u001b[0mUsing default unit for D: m. Could not extract unit from comment: \"circumscribed diameter of the telescope in mete\"\n",
      "\u001b[38;5;229m\u001b[48;5;16m[yippy]\u001b[0m \u001b[32mINFO [2025-07-18 08:33:09,613] \u001b[0musort_offaxis_ovc is radially symmetric\n",
      "\u001b[38;5;229m\u001b[48;5;16m[yippy]\u001b[0m \u001b[32mINFO [2025-07-18 08:33:09,630] \u001b[0mCreated usort_offaxis_ovc\n"
     ]
    },
    {
     "name": "stdout",
     "output_type": "stream",
     "text": [
      "Using psf_trunc_ratio to calculate Omega...\n",
      "WARNING: noisefloor_PPF value not provided. Using the default value: 30.0\n",
      "Azimuthally averaging contrast maps and noise floor...\n",
      "Calculating optics throughput from preset...\n",
      "Calculating epswarmTrcold as 1 - optics throughput...\n",
      "WARNING: ez_PPF not set. Assuming EZ subtraction to Poisson limit (ez_PPF = inf)\n",
      "Observatory Configuration:\n",
      "  Using preset: EAC1\n",
      "\n"
     ]
    },
    {
     "name": "stderr",
     "output_type": "stream",
     "text": [
      "\u001b[38;5;229m\u001b[48;5;16m[yippy]\u001b[0m \u001b[32mINFO [2025-07-18 08:33:14,135] \u001b[0mCreating usort_offaxis_ovc coronagraph\n",
      "\u001b[38;5;229m\u001b[48;5;16m[yippy]\u001b[0m \u001b[33mWARNING [2025-07-18 08:33:14,136] \u001b[0mUnhandled header fields: {'D_INSC'}\n",
      "\u001b[38;5;229m\u001b[48;5;16m[yippy]\u001b[0m \u001b[33mWARNING [2025-07-18 08:33:14,136] \u001b[0mUsing default unit for D: m. Could not extract unit from comment: \"circumscribed diameter of the telescope in mete\"\n",
      "\u001b[38;5;229m\u001b[48;5;16m[yippy]\u001b[0m \u001b[32mINFO [2025-07-18 08:33:14,179] \u001b[0musort_offaxis_ovc is radially symmetric\n",
      "\u001b[38;5;229m\u001b[48;5;16m[yippy]\u001b[0m \u001b[32mINFO [2025-07-18 08:33:14,195] \u001b[0mCreated usort_offaxis_ovc\n"
     ]
    },
    {
     "name": "stdout",
     "output_type": "stream",
     "text": [
      "Using psf_trunc_ratio to calculate Omega...\n",
      "WARNING: noisefloor_PPF value not provided. Using the default value: 30.0\n",
      "Azimuthally averaging contrast maps and noise floor...\n",
      "Calculating optics throughput from preset...\n",
      "Calculating epswarmTrcold as 1 - optics throughput...\n",
      "WARNING: ez_PPF not set. Assuming EZ subtraction to Poisson limit (ez_PPF = inf)\n",
      "Observatory Configuration:\n",
      "  Using preset: EAC1\n",
      "\n"
     ]
    },
    {
     "name": "stderr",
     "output_type": "stream",
     "text": [
      "\u001b[38;5;229m\u001b[48;5;16m[yippy]\u001b[0m \u001b[32mINFO [2025-07-18 08:33:18,676] \u001b[0mCreating usort_offaxis_ovc coronagraph\n",
      "\u001b[38;5;229m\u001b[48;5;16m[yippy]\u001b[0m \u001b[33mWARNING [2025-07-18 08:33:18,677] \u001b[0mUnhandled header fields: {'D_INSC'}\n",
      "\u001b[38;5;229m\u001b[48;5;16m[yippy]\u001b[0m \u001b[33mWARNING [2025-07-18 08:33:18,677] \u001b[0mUsing default unit for D: m. Could not extract unit from comment: \"circumscribed diameter of the telescope in mete\"\n",
      "\u001b[38;5;229m\u001b[48;5;16m[yippy]\u001b[0m \u001b[32mINFO [2025-07-18 08:33:18,706] \u001b[0musort_offaxis_ovc is radially symmetric\n",
      "\u001b[38;5;229m\u001b[48;5;16m[yippy]\u001b[0m \u001b[32mINFO [2025-07-18 08:33:18,717] \u001b[0mCreated usort_offaxis_ovc\n"
     ]
    },
    {
     "name": "stdout",
     "output_type": "stream",
     "text": [
      "Using psf_trunc_ratio to calculate Omega...\n",
      "WARNING: noisefloor_PPF value not provided. Using the default value: 30.0\n",
      "Azimuthally averaging contrast maps and noise floor...\n",
      "Calculating optics throughput from preset...\n",
      "Calculating epswarmTrcold as 1 - optics throughput...\n",
      "WARNING: ez_PPF not set. Assuming EZ subtraction to Poisson limit (ez_PPF = inf)\n",
      "Observatory Configuration:\n",
      "  Using preset: EAC1\n",
      "\n"
     ]
    },
    {
     "name": "stderr",
     "output_type": "stream",
     "text": [
      "\u001b[38;5;229m\u001b[48;5;16m[yippy]\u001b[0m \u001b[32mINFO [2025-07-18 08:33:23,320] \u001b[0mCreating usort_offaxis_ovc coronagraph\n",
      "\u001b[38;5;229m\u001b[48;5;16m[yippy]\u001b[0m \u001b[33mWARNING [2025-07-18 08:33:23,321] \u001b[0mUnhandled header fields: {'D_INSC'}\n",
      "\u001b[38;5;229m\u001b[48;5;16m[yippy]\u001b[0m \u001b[33mWARNING [2025-07-18 08:33:23,323] \u001b[0mUsing default unit for D: m. Could not extract unit from comment: \"circumscribed diameter of the telescope in mete\"\n",
      "\u001b[38;5;229m\u001b[48;5;16m[yippy]\u001b[0m \u001b[32mINFO [2025-07-18 08:33:23,360] \u001b[0musort_offaxis_ovc is radially symmetric\n",
      "\u001b[38;5;229m\u001b[48;5;16m[yippy]\u001b[0m \u001b[32mINFO [2025-07-18 08:33:23,372] \u001b[0mCreated usort_offaxis_ovc\n"
     ]
    },
    {
     "name": "stdout",
     "output_type": "stream",
     "text": [
      "Using psf_trunc_ratio to calculate Omega...\n",
      "WARNING: noisefloor_PPF value not provided. Using the default value: 30.0\n",
      "Azimuthally averaging contrast maps and noise floor...\n",
      "Calculating optics throughput from preset...\n",
      "Calculating epswarmTrcold as 1 - optics throughput...\n",
      "WARNING: ez_PPF not set. Assuming EZ subtraction to Poisson limit (ez_PPF = inf)\n",
      "Observatory Configuration:\n",
      "  Using preset: EAC1\n",
      "\n"
     ]
    },
    {
     "name": "stderr",
     "output_type": "stream",
     "text": [
      "\u001b[38;5;229m\u001b[48;5;16m[yippy]\u001b[0m \u001b[32mINFO [2025-07-18 08:33:27,823] \u001b[0mCreating usort_offaxis_ovc coronagraph\n",
      "\u001b[38;5;229m\u001b[48;5;16m[yippy]\u001b[0m \u001b[33mWARNING [2025-07-18 08:33:27,824] \u001b[0mUnhandled header fields: {'D_INSC'}\n",
      "\u001b[38;5;229m\u001b[48;5;16m[yippy]\u001b[0m \u001b[33mWARNING [2025-07-18 08:33:27,825] \u001b[0mUsing default unit for D: m. Could not extract unit from comment: \"circumscribed diameter of the telescope in mete\"\n",
      "\u001b[38;5;229m\u001b[48;5;16m[yippy]\u001b[0m \u001b[32mINFO [2025-07-18 08:33:27,875] \u001b[0musort_offaxis_ovc is radially symmetric\n",
      "\u001b[38;5;229m\u001b[48;5;16m[yippy]\u001b[0m \u001b[32mINFO [2025-07-18 08:33:27,890] \u001b[0mCreated usort_offaxis_ovc\n"
     ]
    },
    {
     "name": "stdout",
     "output_type": "stream",
     "text": [
      "Using psf_trunc_ratio to calculate Omega...\n",
      "WARNING: noisefloor_PPF value not provided. Using the default value: 30.0\n",
      "Azimuthally averaging contrast maps and noise floor...\n",
      "Calculating optics throughput from preset...\n",
      "Calculating epswarmTrcold as 1 - optics throughput...\n",
      "WARNING: Photometric aperture is not large enough. Hardcoded infinity results.\n",
      "WARNING: ez_PPF not set. Assuming EZ subtraction to Poisson limit (ez_PPF = inf)\n",
      "Observatory Configuration:\n",
      "  Using preset: EAC1\n",
      "\n"
     ]
    },
    {
     "name": "stderr",
     "output_type": "stream",
     "text": [
      "\u001b[38;5;229m\u001b[48;5;16m[yippy]\u001b[0m \u001b[32mINFO [2025-07-18 08:33:32,347] \u001b[0mCreating usort_offaxis_ovc coronagraph\n",
      "\u001b[38;5;229m\u001b[48;5;16m[yippy]\u001b[0m \u001b[33mWARNING [2025-07-18 08:33:32,348] \u001b[0mUnhandled header fields: {'D_INSC'}\n",
      "\u001b[38;5;229m\u001b[48;5;16m[yippy]\u001b[0m \u001b[33mWARNING [2025-07-18 08:33:32,348] \u001b[0mUsing default unit for D: m. Could not extract unit from comment: \"circumscribed diameter of the telescope in mete\"\n",
      "\u001b[38;5;229m\u001b[48;5;16m[yippy]\u001b[0m \u001b[32mINFO [2025-07-18 08:33:32,379] \u001b[0musort_offaxis_ovc is radially symmetric\n",
      "\u001b[38;5;229m\u001b[48;5;16m[yippy]\u001b[0m \u001b[32mINFO [2025-07-18 08:33:32,391] \u001b[0mCreated usort_offaxis_ovc\n"
     ]
    },
    {
     "name": "stdout",
     "output_type": "stream",
     "text": [
      "Using psf_trunc_ratio to calculate Omega...\n",
      "WARNING: noisefloor_PPF value not provided. Using the default value: 30.0\n",
      "Azimuthally averaging contrast maps and noise floor...\n",
      "Calculating optics throughput from preset...\n",
      "Calculating epswarmTrcold as 1 - optics throughput...\n",
      "WARNING: Photometric aperture is not large enough. Hardcoded infinity results.\n",
      "WARNING: ez_PPF not set. Assuming EZ subtraction to Poisson limit (ez_PPF = inf)\n",
      "Observatory Configuration:\n",
      "  Using preset: EAC1\n",
      "\n"
     ]
    },
    {
     "name": "stderr",
     "output_type": "stream",
     "text": [
      "\u001b[38;5;229m\u001b[48;5;16m[yippy]\u001b[0m \u001b[32mINFO [2025-07-18 08:33:36,985] \u001b[0mCreating usort_offaxis_ovc coronagraph\n",
      "\u001b[38;5;229m\u001b[48;5;16m[yippy]\u001b[0m \u001b[33mWARNING [2025-07-18 08:33:36,986] \u001b[0mUnhandled header fields: {'D_INSC'}\n",
      "\u001b[38;5;229m\u001b[48;5;16m[yippy]\u001b[0m \u001b[33mWARNING [2025-07-18 08:33:36,987] \u001b[0mUsing default unit for D: m. Could not extract unit from comment: \"circumscribed diameter of the telescope in mete\"\n",
      "\u001b[38;5;229m\u001b[48;5;16m[yippy]\u001b[0m \u001b[32mINFO [2025-07-18 08:33:37,017] \u001b[0musort_offaxis_ovc is radially symmetric\n",
      "\u001b[38;5;229m\u001b[48;5;16m[yippy]\u001b[0m \u001b[32mINFO [2025-07-18 08:33:37,029] \u001b[0mCreated usort_offaxis_ovc\n"
     ]
    },
    {
     "name": "stdout",
     "output_type": "stream",
     "text": [
      "Using psf_trunc_ratio to calculate Omega...\n",
      "WARNING: noisefloor_PPF value not provided. Using the default value: 30.0\n",
      "Azimuthally averaging contrast maps and noise floor...\n",
      "Calculating optics throughput from preset...\n",
      "Calculating epswarmTrcold as 1 - optics throughput...\n",
      "WARNING: Photometric aperture is not large enough. Hardcoded infinity results.\n"
     ]
    },
    {
     "data": {
      "image/png": "[encoded data removed]",
      "text/plain": [
       "<Figure size 1000x600 with 1 Axes>"
      ]
     },
     "metadata": {},
     "output_type": "display_data"
    }
   ],
   "source": [
    "# SNR Case\n",
    " \n",
    "psfratios = np.linspace(0.1, 1, 20)   \n",
    "exptime=15*u.hr\n",
    "snrs = []\n",
    "\n",
    "for ratio in psfratios:\n",
    "    params = imaging_params.copy()\n",
    "    params['psf_trunc_ratio'] = ratio\n",
    "    parsed_parameters= parse_input.parse_parameters(params)\n",
    "    snr,_ = calculate_snr(parsed_parameters,exptime, verbose=False)\n",
    "    snrs.append(snr[0].value)\n",
    "\n",
    "# MAKE PLOT\n",
    "fig, ax1 = plt.subplots(figsize=(10, 6))\n",
    "# Primary x-axis (separation arcsec)\n",
    "ax1.plot(psfratios, snrs, marker='o', label='Valid exposures')\n",
    "\n",
    "\n",
    "ax1.set_xlabel('PSF Truncation Ratio')\n",
    "ax1.set_ylabel('SNR')\n",
    "ax1.grid(True)\n",
    "\n",
    "plt.title('SNR vs. PSF Truncation Ratio')\n",
    "plt.legend()\n",
    "plt.tight_layout()\n",
    "plt.show()\n",
    "\n",
    "# SNR maximized at 0.3, just like it should! "
   ]
  },
  {
   "cell_type": "markdown",
   "metadata": {},
   "source": [
    "## 6. Advanced Tutorials\n",
    "\n",
    "From the previous examples you noticed that we called `calculate_texp` in a loop multiple times. This makes the code start over and over, which slows down the process for large loops. If you want to speed up the calculation, you can work within `calculate_texp` and loop only what you need. Here are the contents of `calculate_texp`."
   ]
  },
  {
   "cell_type": "code",
   "execution_count": 14,
   "metadata": {},
   "outputs": [
    {
     "data": {
      "text/plain": [
       "{'wavelength': 0.5,\n",
       " 'snr': 7,\n",
       " 'bandwidth': 0.2,\n",
       " 'CRb_multiplier': 2.0,\n",
       " 'psf_trunc_ratio': np.float64(1.0),\n",
       " 'Lstar': 1,\n",
       " 'distance': 10,\n",
       " 'FstarV_10pc': 122.9279,\n",
       " 'Fstar_10pc': 115.59984,\n",
       " 'Fp/Fs': 1.6e-08,\n",
       " 'stellar_radius': 1,\n",
       " 'nzodis': 3.0,\n",
       " 'ra': 236.00757736823,\n",
       " 'dec': 2.51516683165,\n",
       " 'separation': 0.1,\n",
       " 'observatory_preset': 'EAC1',\n",
       " 'observing_mode': 'IMAGER'}"
      ]
     },
     "execution_count": 14,
     "metadata": {},
     "output_type": "execute_result"
    }
   ],
   "source": [
    "params"
   ]
  },
  {
   "cell_type": "code",
   "execution_count": 15,
   "metadata": {},
   "outputs": [
    {
     "name": "stdout",
     "output_type": "stream",
     "text": [
      "WARNING: ez_PPF not set. Assuming EZ subtraction to Poisson limit (ez_PPF = inf)\n",
      "Observatory Configuration:\n",
      "  Using preset: EAC1\n",
      "\n"
     ]
    },
    {
     "name": "stderr",
     "output_type": "stream",
     "text": [
      "\u001b[38;5;229m\u001b[48;5;16m[yippy]\u001b[0m \u001b[32mINFO [2025-07-18 08:33:41,816] \u001b[0mCreating usort_offaxis_ovc coronagraph\n",
      "\u001b[38;5;229m\u001b[48;5;16m[yippy]\u001b[0m \u001b[33mWARNING [2025-07-18 08:33:41,817] \u001b[0mUnhandled header fields: {'D_INSC'}\n",
      "\u001b[38;5;229m\u001b[48;5;16m[yippy]\u001b[0m \u001b[33mWARNING [2025-07-18 08:33:41,818] \u001b[0mUsing default unit for D: m. Could not extract unit from comment: \"circumscribed diameter of the telescope in mete\"\n",
      "\u001b[38;5;229m\u001b[48;5;16m[yippy]\u001b[0m \u001b[32mINFO [2025-07-18 08:33:41,861] \u001b[0musort_offaxis_ovc is radially symmetric\n",
      "\u001b[38;5;229m\u001b[48;5;16m[yippy]\u001b[0m \u001b[32mINFO [2025-07-18 08:33:41,874] \u001b[0mCreated usort_offaxis_ovc\n"
     ]
    },
    {
     "name": "stdout",
     "output_type": "stream",
     "text": [
      "Using psf_trunc_ratio to calculate Omega...\n",
      "WARNING: noisefloor_PPF value not provided. Using the default value: 30.0\n",
      "Azimuthally averaging contrast maps and noise floor...\n",
      "Calculating optics throughput from preset...\n",
      "Calculating epswarmTrcold as 1 - optics throughput...\n"
     ]
    }
   ],
   "source": [
    "from pyEDITH import calculate_exposure_time_or_snr, parse_input\n",
    "params = imaging_params.copy()\n",
    "params['wavelength']=0.55\n",
    "# Parse the desired parameters\n",
    "parsed_parameters= parse_input.parse_parameters(params)\n",
    "\n",
    "# Define Observation and load relevant parameters\n",
    "observation = Observation()\n",
    "observation.load_configuration(parsed_parameters)\n",
    "observation.set_output_arrays()\n",
    "observation.validate_configuration()\n",
    "\n",
    "# Define Astrophysical Scene and load relevant parameters,\n",
    "# then calculate zodi/exozodi\n",
    "scene = AstrophysicalScene()\n",
    "scene.load_configuration(parsed_parameters)\n",
    "scene.calculate_zodi_exozodi(parsed_parameters)\n",
    "scene.validate_configuration()\n",
    "\n",
    "# Create and configure Observatory using ObservatoryBuilder\n",
    "observatory_config = parse_input.get_observatory_config(parsed_parameters)\n",
    "observatory = ObservatoryBuilder.create_observatory(observatory_config)\n",
    "ObservatoryBuilder.configure_observatory(\n",
    "    observatory, parsed_parameters, observation, scene\n",
    ")\n",
    "observatory.validate_configuration()\n",
    "\n",
    "# EXPOSURE TIME CALCULATION\n",
    "calculate_exposure_time_or_snr(\n",
    "    observation,\n",
    "    scene,\n",
    "    observatory,\n",
    "    verbose=False,\n",
    "    mode=\"exposure_time\",\n",
    ")"
   ]
  },
  {
   "cell_type": "code",
   "execution_count": 16,
   "metadata": {},
   "outputs": [
    {
     "data": {
      "text/plain": [
       "{'telescope': <pyEDITH.components.telescopes.EACTelescope at 0x39d3b5060>,\n",
       " 'detector': <pyEDITH.components.detectors.EACDetector at 0x35b1a46d0>,\n",
       " 'coronagraph': <pyEDITH.components.coronagraphs.CoronagraphYIP at 0x4251f7310>,\n",
       " 'observing_mode': 'IMAGER',\n",
       " 'optics_throughput': <Quantity [0.36520385]>,\n",
       " 'epswarmTrcold': <Quantity [0.63479615]>,\n",
       " 'total_throughput': <Quantity [0.25793525] electron / ph>}"
      ]
     },
     "execution_count": 16,
     "metadata": {},
     "output_type": "execute_result"
    }
   ],
   "source": [
    "observatory.__dict__"
   ]
  },
  {
   "cell_type": "markdown",
   "metadata": {},
   "source": [
    "If we want to loop, we would just do (separation example):"
   ]
  },
  {
   "cell_type": "code",
   "execution_count": 17,
   "metadata": {},
   "outputs": [
    {
     "name": "stdout",
     "output_type": "stream",
     "text": [
      "WARNING: ez_PPF not set. Assuming EZ subtraction to Poisson limit (ez_PPF = inf)\n",
      "Observatory Configuration:\n",
      "  Using preset: EAC1\n",
      "\n"
     ]
    },
    {
     "name": "stderr",
     "output_type": "stream",
     "text": [
      "\u001b[38;5;229m\u001b[48;5;16m[yippy]\u001b[0m \u001b[32mINFO [2025-07-18 08:33:46,351] \u001b[0mCreating usort_offaxis_ovc coronagraph\n",
      "\u001b[38;5;229m\u001b[48;5;16m[yippy]\u001b[0m \u001b[33mWARNING [2025-07-18 08:33:46,352] \u001b[0mUnhandled header fields: {'D_INSC'}\n",
      "\u001b[38;5;229m\u001b[48;5;16m[yippy]\u001b[0m \u001b[33mWARNING [2025-07-18 08:33:46,353] \u001b[0mUsing default unit for D: m. Could not extract unit from comment: \"circumscribed diameter of the telescope in mete\"\n",
      "\u001b[38;5;229m\u001b[48;5;16m[yippy]\u001b[0m \u001b[32mINFO [2025-07-18 08:33:46,386] \u001b[0musort_offaxis_ovc is radially symmetric\n",
      "\u001b[38;5;229m\u001b[48;5;16m[yippy]\u001b[0m \u001b[32mINFO [2025-07-18 08:33:46,398] \u001b[0mCreated usort_offaxis_ovc\n"
     ]
    },
    {
     "name": "stdout",
     "output_type": "stream",
     "text": [
      "Using psf_trunc_ratio to calculate Omega...\n",
      "WARNING: noisefloor_PPF value not provided. Using the default value: 30.0\n",
      "Azimuthally averaging contrast maps and noise floor...\n",
      "Calculating optics throughput from preset...\n",
      "Calculating epswarmTrcold as 1 - optics throughput...\n",
      "WARNING: Planet outside OWA or inside IWA. Hardcoded infinity results.\n",
      "WARNING: Planet outside OWA or inside IWA. Hardcoded infinity results.\n",
      "WARNING: Planet outside OWA or inside IWA. Hardcoded infinity results.\n",
      "WARNING: Planet outside OWA or inside IWA. Hardcoded infinity results.\n",
      "WARNING: Planet outside OWA or inside IWA. Hardcoded infinity results.\n",
      "WARNING: Planet outside OWA or inside IWA. Hardcoded infinity results.\n",
      "WARNING: Planet outside OWA or inside IWA. Hardcoded infinity results.\n",
      "WARNING: Planet outside OWA or inside IWA. Hardcoded infinity results.\n",
      "WARNING: Planet outside OWA or inside IWA. Hardcoded infinity results.\n",
      "WARNING: Planet outside OWA or inside IWA. Hardcoded infinity results.\n"
     ]
    },
    {
     "name": "stderr",
     "output_type": "stream",
     "text": [
      "/var/folders/76/44nxzlz96gq60009v_1__gp4vmc5t3/T/ipykernel_99821/838087252.py:75: UserWarning: No artists with labels found to put in legend.  Note that artists whose label start with an underscore are ignored when legend() is called with no argument.\n",
      "  plt.legend()\n"
     ]
    },
    {
     "data": {
      "image/png": "[encoded data removed]",
      "text/plain": [
       "<Figure size 1000x600 with 2 Axes>"
      ]
     },
     "metadata": {},
     "output_type": "display_data"
    }
   ],
   "source": [
    "separations = np.linspace(0.005, 0.8, 20)  # arcsec \n",
    "\n",
    "exposure_times=[]\n",
    "params = imaging_params.copy()\n",
    "\n",
    "from pyEDITH import calculate_exposure_time_or_snr, parse_input\n",
    "\n",
    "# Parse the desired parameters\n",
    "parsed_parameters= parse_input.parse_parameters(params)\n",
    "\n",
    "# Define Observation and load relevant parameters\n",
    "observation = Observation()\n",
    "observation.load_configuration(parsed_parameters)\n",
    "observation.set_output_arrays()\n",
    "observation.validate_configuration()\n",
    "\n",
    "# Define Astrophysical Scene and load relevant parameters,\n",
    "# then calculate zodi/exozodi\n",
    "scene = AstrophysicalScene()\n",
    "scene.load_configuration(parsed_parameters)\n",
    "scene.calculate_zodi_exozodi(parsed_parameters)\n",
    "scene.validate_configuration()\n",
    "\n",
    "# Create and configure Observatory using ObservatoryBuilder\n",
    "observatory_config = parse_input.get_observatory_config(parsed_parameters)\n",
    "observatory = ObservatoryBuilder.create_observatory(observatory_config)\n",
    "ObservatoryBuilder.configure_observatory(\n",
    "    observatory, parsed_parameters, observation, scene\n",
    ")\n",
    "observatory.validate_configuration()\n",
    "\n",
    "for sep in separations:\n",
    "    \n",
    "    scene.separation = sep * ARCSEC #radial separation\n",
    "    scene.xp = sep*ARCSEC #x axis separation\n",
    "\n",
    "    calculate_exposure_time_or_snr(\n",
    "    observation,\n",
    "    scene,\n",
    "    observatory,\n",
    "    verbose=False,\n",
    "    mode=\"exposure_time\",\n",
    ")\n",
    "    exposure_times.append(observation.exptime[0].to(u.hr).value)\n",
    "\n",
    "\n",
    "fig, ax1 = plt.subplots(figsize=(10, 6))\n",
    "# Primary x-axis (separation arcsec)\n",
    "ax1.plot(separations, exposure_times, marker='o', label='Valid exposures')\n",
    "ax1.plot(separations[np.isinf(exposure_times)],\n",
    "         np.ones_like(separations)[np.isinf(exposure_times)]*50,\n",
    "         marker='x', linestyle='', color='red', label='Infinite exposures')\n",
    "\n",
    "\n",
    "ax1.set_xlabel('Separation (arcsec)')\n",
    "ax1.set_ylabel('Exposure time (hours)')\n",
    "ax1.grid(True)\n",
    "\n",
    "separations_lod = arcsec_to_lambda_d(separations*ARCSEC,\n",
    "observation.wavelength[0].to(LENGTH),\n",
    "observatory.telescope.diameter.to(LENGTH),\n",
    ")\n",
    "# # Secondary x-axis (lambda/D)\n",
    "num_ticks = 5 \n",
    "tick_indices = np.linspace(0, len(separations) - 1, num_ticks, dtype=int)\n",
    "reduced_separations = [separations[i] for i in tick_indices]\n",
    "reduced_separations_lod = [separations_lod[i] for i in tick_indices]\n",
    "ax2 = ax1.twiny()\n",
    "ax2.set_xticks(reduced_separations)\n",
    "ax2.set_xticklabels([f'{m:.1f}' for m in reduced_separations_lod])\n",
    "ax2.set_xlim(ax1.get_xlim())\n",
    "ax2.set_xlabel('Separation (lambda/D)')\n",
    "\n",
    "plt.title('Exposure Time vs. Separation')\n",
    "plt.legend()\n",
    "plt.tight_layout()\n",
    "\n",
    "\n"
   ]
  }
 ],
 "metadata": {
  "kernelspec": {
   "display_name": "test_eacy",
   "language": "python",
   "name": "python3"
  },
  "language_info": {
   "codemirror_mode": {
    "name": "ipython",
    "version": 3
   },
   "file_extension": ".py",
   "mimetype": "text/x-python",
   "name": "python",
   "nbconvert_exporter": "python",
   "pygments_lexer": "ipython3",
   "version": "3.10.16"
  }
 },
 "nbformat": 4,
 "nbformat_minor": 2
}

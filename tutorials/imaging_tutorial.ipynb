{
 "cells": [
  {
   "cell_type": "markdown",
   "metadata": {},
   "source": [
    "# pyEDITH Tutorial: Imaging Mode\n",
    "\n",
    "This tutorial will guide you through using pyEDITH in imaging mode.\n",
    "\n",
    "## Before we start\n",
    "\n",
    "Make sure you download the latest YAML files  at https://github.com/HWO-GOMAP-Working-Groups/Sci-Eng-Interface/tree/main\n",
    "and make a folder that contains your Coronagraph Input Package YIP files.\n",
    "\n",
    "## Setup\n",
    "First, let's import the necessary modules and set up our environment:\n"
   ]
  },
  {
   "cell_type": "code",
   "execution_count": 1,
   "metadata": {},
   "outputs": [],
   "source": [
    "import os\n",
    "import numpy as np\n",
    "import matplotlib.pyplot as plt\n",
    "from astropy import units as u\n",
    "from pyEDITH import parse_input, calculate_texp, calculate_snr, AstrophysicalScene, Observation, ObservatoryBuilder\n",
    "from pyEDITH.units import *\n",
    "\n",
    "# Set the necessary environment variables --> REPLACE WITH YOUR PATHS. \n",
    "# You can also open your .bashrc (or .zshrc) and type:\n",
    "# export SCI_ENG_DIR=\"/path/to/Sci-Eng-Interface/hwo_sci_eng\"\n",
    "# export YIP_CORO_DIR=\"/path/to/yips\"\n",
    "\n",
    "\n",
    "os.environ['SCI_ENG_DIR']=\"/Users/ealei/Coding/Sci-Eng-Interface/hwo_sci_eng\"\n",
    "os.environ['YIP_CORO_DIR']=\"/Users/ealei/Coding/yips\"\n"
   ]
  },
  {
   "cell_type": "markdown",
   "metadata": {},
   "source": [
    "### 1. Setting up the Observation Parameters\n",
    "\n",
    "Let's start by defining the parameters for an Earth-like planet around HIP 79672 (used in the ETC validation).\n",
    "\n",
    "**Note:** Parameters that vary with lambda (lambd, resolution, snr, mag, delta_mag...) can be both floats and lists. If len(lambd)>1 and any of the other values is a float, it becomes a list of length len(lambd) internally."
   ]
  },
  {
   "cell_type": "code",
   "execution_count": null,
   "metadata": {},
   "outputs": [],
   "source": [
    "# TODO ADD UNITS\n",
    "imaging_params = {\n",
    "    'wavelength': 0.5,  # Wavelength in microns\n",
    "    'snr': 7,  # Desired signal-to-noise ratio\n",
    "    'bandwidth': 0.2,  # Bandwidth of observation\n",
    "    'photap_rad': 0.85,  # Photometric aperture radius # USE ONLY FOR VALIDATIOn\n",
    "    'CRb_multiplier': 2.0,  # Count rate ratio multiplier\n",
    "    'psf_trunc_ratio': 0.3,\n",
    "    'Lstar': 1.8,  # Stellar luminosity in Solar luminosity units\n",
    "    'magV': 5.44,  # Stellar magnitude in V band\n",
    "    'mag': 5.687,  # Stellar magnitude in observation band\n",
    "    'distance': 18.2,  # Distance to star in parsecs\n",
    "    'angular_diameter': 0.0006,  # Angular diameter of star in arcseconds\n",
    "    'nzodis': 3.0,  # Number of zodiacal light disks\n",
    "    'ra': 101.5589542028,  # Right ascension of star\n",
    "    'dec': 79.56481016336,  # Declination of star\n",
    "    'separation': 0.07420559867718164,  # Separation between star and planet in arcseconds\n",
    "    'delta_mag_min': 25,  # Minimum delta magnitude\n",
    "    'delta_mag': 25.5,  # Delta magnitude between star and planet\n",
    "    'observatory_preset': 'EAC1',  # Preset observatory configuration\n",
    "    'observing_mode': 'IMAGER',  # Observing mode\n",
    "}\n"
   ]
  },
  {
   "cell_type": "markdown",
   "metadata": {},
   "source": [
    "### 2. Calculating Exposure Time\n",
    "Now, let's calculate the exposure time for our imaging observation:"
   ]
  },
  {
   "cell_type": "code",
   "execution_count": 3,
   "metadata": {},
   "outputs": [
    {
     "name": "stdout",
     "output_type": "stream",
     "text": [
      "Observatory Configuration:\n",
      "  Using preset: EAC1\n",
      "\n"
     ]
    },
    {
     "name": "stderr",
     "output_type": "stream",
     "text": [
      "\u001b[38;5;229m\u001b[48;5;16m[yippy]\u001b[0m \u001b[32mINFO [2025-04-15 12:59:14,810] \u001b[0mCreating usort_offaxis_ovc coronagraph\n",
      "\u001b[38;5;229m\u001b[48;5;16m[yippy]\u001b[0m \u001b[33mWARNING [2025-04-15 12:59:14,811] \u001b[0mUnhandled header fields: {'D_INSC'}\n",
      "\u001b[38;5;229m\u001b[48;5;16m[yippy]\u001b[0m \u001b[33mWARNING [2025-04-15 12:59:14,812] \u001b[0mUsing default unit for D: m. Could not extract unit from comment: \"circumscribed diameter of the telescope in mete\"\n",
      "\u001b[38;5;229m\u001b[48;5;16m[yippy]\u001b[0m \u001b[32mINFO [2025-04-15 12:59:14,872] \u001b[0musort_offaxis_ovc is radially symmetric\n",
      "\u001b[38;5;229m\u001b[48;5;16m[yippy]\u001b[0m \u001b[32mINFO [2025-04-15 12:59:15,412] \u001b[0mCreated usort_offaxis_ovc\n"
     ]
    },
    {
     "name": "stdout",
     "output_type": "stream",
     "text": [
      "Setting the noise floor via user-supplied noisefloor_PPF...\n",
      "Azimuthally averaging contrast maps and noise floor...\n",
      "Calculating optics throughput from preset...\n",
      "Calculating epswarmTrcold as 1 - optics throughput...\n",
      "Calculated exposure time: [14.79872375] h\n"
     ]
    }
   ],
   "source": [
    "# make the parameters be the shape that the code desires \n",
    "parsed_parameters= parse_input.parse_parameters(imaging_params)\n",
    "#calculate Exposure time\n",
    "texp, validation_output = calculate_texp(parsed_parameters, verbose=False)\n",
    "print(f\"Calculated exposure time: {texp.to(u.hr)}\")"
   ]
  },
  {
   "cell_type": "markdown",
   "metadata": {},
   "source": [
    "### 3. Calculate SNR\n",
    "\n",
    "Given an exposure time (e.g. 10 hrs), we can calculate the SNR for the desired bandpass."
   ]
  },
  {
   "cell_type": "code",
   "execution_count": 4,
   "metadata": {},
   "outputs": [
    {
     "name": "stdout",
     "output_type": "stream",
     "text": [
      "Observatory Configuration:\n",
      "  Using preset: EAC1\n",
      "\n"
     ]
    },
    {
     "name": "stderr",
     "output_type": "stream",
     "text": [
      "\u001b[38;5;229m\u001b[48;5;16m[yippy]\u001b[0m \u001b[32mINFO [2025-04-15 12:59:25,750] \u001b[0mCreating usort_offaxis_ovc coronagraph\n",
      "\u001b[38;5;229m\u001b[48;5;16m[yippy]\u001b[0m \u001b[33mWARNING [2025-04-15 12:59:25,751] \u001b[0mUnhandled header fields: {'D_INSC'}\n",
      "\u001b[38;5;229m\u001b[48;5;16m[yippy]\u001b[0m \u001b[33mWARNING [2025-04-15 12:59:25,752] \u001b[0mUsing default unit for D: m. Could not extract unit from comment: \"circumscribed diameter of the telescope in mete\"\n",
      "\u001b[38;5;229m\u001b[48;5;16m[yippy]\u001b[0m \u001b[32mINFO [2025-04-15 12:59:25,790] \u001b[0musort_offaxis_ovc is radially symmetric\n",
      "\u001b[38;5;229m\u001b[48;5;16m[yippy]\u001b[0m \u001b[32mINFO [2025-04-15 12:59:25,807] \u001b[0mCreated usort_offaxis_ovc\n"
     ]
    },
    {
     "name": "stdout",
     "output_type": "stream",
     "text": [
      "Setting the noise floor via user-supplied noisefloor_PPF...\n",
      "Azimuthally averaging contrast maps and noise floor...\n",
      "Calculating optics throughput from preset...\n",
      "Calculating epswarmTrcold as 1 - optics throughput...\n",
      "Calculated snr: [5.49541784]\n"
     ]
    }
   ],
   "source": [
    "# make the parameters be the shape that the code desires \n",
    "parsed_parameters= parse_input.parse_parameters(imaging_params)\n",
    "#calculate SNR\n",
    "\n",
    "texp = 10*u.hr\n",
    "snr, validation_output = calculate_snr(parsed_parameters, texp, verbose=False)\n",
    "print(f\"Calculated snr: {snr}\")"
   ]
  },
  {
   "cell_type": "markdown",
   "metadata": {},
   "source": [
    "`validation_output` contains some interesting quantities that you can use to double check or validate, or to plot additional quantities."
   ]
  },
  {
   "cell_type": "code",
   "execution_count": 5,
   "metadata": {},
   "outputs": [
    {
     "data": {
      "text/plain": [
       "{0: {'F0': <Quantity 12638.83670769 ph / (nm s cm2)>,\n",
       "  'magstar': <Quantity [5.687] mag>,\n",
       "  'Lstar': <Quantity 1.8 solLum>,\n",
       "  'dist': <Quantity 18.2 pc>,\n",
       "  'D': <Quantity 7.225765 m>,\n",
       "  'A_cm': <Quantity 410069.58591604 cm2>,\n",
       "  'wavelength': <Quantity 500. nm>,\n",
       "  'deltalambda_nm': <Quantity 100. nm>,\n",
       "  'snr': <Quantity 7.>,\n",
       "  'nzodis': <Quantity 3. zodi>,\n",
       "  'toverhead_fixed': <Quantity 8250. s>,\n",
       "  'toverhead_multi': <Quantity 1.1>,\n",
       "  'det_DC': <Quantity 3.e-05 electron / (pix s)>,\n",
       "  'det_RN': <Quantity 0.1 electron / (pix read)>,\n",
       "  'det_CIC': <Quantity 0. electron / (frame pix)>,\n",
       "  'det_tread': <Quantity 1000. s / read>,\n",
       "  'det_pixscale_mas': <Quantity 7.13643491 mas>,\n",
       "  'dQE': <Quantity 0.75>,\n",
       "  'QE': <Quantity 0.88749741 electron / ph>,\n",
       "  'Toptical': <Quantity 0.36198356>,\n",
       "  'Fstar': <Quantity 67.12852472 ph / (nm s cm2)>,\n",
       "  'Fp': <Quantity 4.23552357e-09 ph / (nm s cm2)>,\n",
       "  'Fzodi': <Quantity 4.71862514e-06 ph / (nm s arcsec2 cm2)>,\n",
       "  'Fexozodi': <Quantity 4.95627062e-05 arcsec^-2 ph / (nm s arcsec2 cm2 pc2)>,\n",
       "  'sp_lod': <Quantity 5.19906646 λ/D>,\n",
       "  'omega_lod': <Quantity 2.80619768>,\n",
       "  'T_core or photap_frac': <Quantity 0.35196856>,\n",
       "  'Istar': <Quantity 3.02668705e-15>,\n",
       "  'Istar*oneopixscale2 in (l/D)^-2': <Quantity 4.84269928e-14>,\n",
       "  'contrast * offset PSF peak *oneopixscale2  in (l/D)^-2 (unused)': <Quantity 2.73e-14>,\n",
       "  'skytrans': <Quantity 0.56503755>,\n",
       "  'skytrans*oneopixscale2  in (l/D)^-2': <Quantity 9.04060084>,\n",
       "  'det_npix': <Quantity 27.0660789 pix>,\n",
       "  't_photon_count': <Quantity 5.77291516 s / frame>,\n",
       "  'CRp': <Quantity 0.02945885 electron / s>,\n",
       "  'CRbs': <Quantity 0.00018027 electron / s>,\n",
       "  'CRbz': <Quantity 0.03011885>,\n",
       "  'CRbez': <Quantity 0.31635737>,\n",
       "  'CRbbin': <Quantity 0. electron / s>,\n",
       "  'CRbth': <Quantity 1.81083333e-29 electron / s>,\n",
       "  'CRb': <Quantity 0.34773913 electron / s>,\n",
       "  'CRbd': <Quantity 0.00108264 electron / s>,\n",
       "  'CRnf': <Quantity 6.00891937e-07 electron / s>,\n",
       "  'sciencetime': <Quantity 0.>,\n",
       "  'exptime': <Quantity 0. s>}}"
      ]
     },
     "execution_count": 5,
     "metadata": {},
     "output_type": "execute_result"
    }
   ],
   "source": [
    "validation_output"
   ]
  },
  {
   "cell_type": "markdown",
   "metadata": {},
   "source": [
    "### 4. Simultaneous Observations (primary Exposure Time informs secondary SNR)\n",
    "\n",
    "This is useful to simulate simultaneous observations. For example, we assume the primary (detection) bandpass to be 0.5 micron with 20% bandwidth. What is the SNR of a secondary bandpass at 1 micron with 20% bandpass?"
   ]
  },
  {
   "cell_type": "code",
   "execution_count": 6,
   "metadata": {},
   "outputs": [
    {
     "name": "stdout",
     "output_type": "stream",
     "text": [
      "Calculating texp from primary lambda\n",
      "Observatory Configuration:\n",
      "  Using preset: EAC1\n",
      "\n"
     ]
    },
    {
     "name": "stderr",
     "output_type": "stream",
     "text": [
      "\u001b[38;5;229m\u001b[48;5;16m[yippy]\u001b[0m \u001b[32mINFO [2025-04-15 12:59:30,558] \u001b[0mCreating usort_offaxis_ovc coronagraph\n",
      "\u001b[38;5;229m\u001b[48;5;16m[yippy]\u001b[0m \u001b[33mWARNING [2025-04-15 12:59:30,559] \u001b[0mUnhandled header fields: {'D_INSC'}\n",
      "\u001b[38;5;229m\u001b[48;5;16m[yippy]\u001b[0m \u001b[33mWARNING [2025-04-15 12:59:30,560] \u001b[0mUsing default unit for D: m. Could not extract unit from comment: \"circumscribed diameter of the telescope in mete\"\n",
      "\u001b[38;5;229m\u001b[48;5;16m[yippy]\u001b[0m \u001b[32mINFO [2025-04-15 12:59:30,599] \u001b[0musort_offaxis_ovc is radially symmetric\n",
      "\u001b[38;5;229m\u001b[48;5;16m[yippy]\u001b[0m \u001b[32mINFO [2025-04-15 12:59:30,615] \u001b[0mCreated usort_offaxis_ovc\n"
     ]
    },
    {
     "name": "stdout",
     "output_type": "stream",
     "text": [
      "Setting the noise floor via user-supplied noisefloor_PPF...\n",
      "Azimuthally averaging contrast maps and noise floor...\n",
      "Calculating optics throughput from preset...\n",
      "Calculating epswarmTrcold as 1 - optics throughput...\n",
      "Reference exposure time:  [14.79872375] h\n",
      "Calculating snr on secondary lambda\n",
      "Observatory Configuration:\n",
      "  Using preset: EAC1\n",
      "\n"
     ]
    },
    {
     "name": "stderr",
     "output_type": "stream",
     "text": [
      "\u001b[38;5;229m\u001b[48;5;16m[yippy]\u001b[0m \u001b[32mINFO [2025-04-15 12:59:35,330] \u001b[0mCreating usort_offaxis_ovc coronagraph\n",
      "\u001b[38;5;229m\u001b[48;5;16m[yippy]\u001b[0m \u001b[33mWARNING [2025-04-15 12:59:35,331] \u001b[0mUnhandled header fields: {'D_INSC'}\n",
      "\u001b[38;5;229m\u001b[48;5;16m[yippy]\u001b[0m \u001b[33mWARNING [2025-04-15 12:59:35,331] \u001b[0mUsing default unit for D: m. Could not extract unit from comment: \"circumscribed diameter of the telescope in mete\"\n",
      "\u001b[38;5;229m\u001b[48;5;16m[yippy]\u001b[0m \u001b[32mINFO [2025-04-15 12:59:35,365] \u001b[0musort_offaxis_ovc is radially symmetric\n",
      "\u001b[38;5;229m\u001b[48;5;16m[yippy]\u001b[0m \u001b[32mINFO [2025-04-15 12:59:35,381] \u001b[0mCreated usort_offaxis_ovc\n"
     ]
    },
    {
     "name": "stdout",
     "output_type": "stream",
     "text": [
      "Setting the noise floor via user-supplied noisefloor_PPF...\n",
      "Azimuthally averaging contrast maps and noise floor...\n",
      "Calculating optics throughput from preset...\n",
      "Calculating epswarmTrcold as 1 - optics throughput...\n",
      "SNR at the secondary lambda:  [2.78076409]\n"
     ]
    }
   ],
   "source": [
    "# Let's note down the values that change compared to imaging_params\n",
    "secondary_imaging_params = {\n",
    "    'wavelength': 1,  # Wavelength in microns\n",
    "    'mag': 4.742178,  # Stellar magnitude in observation band\n",
    "    }\n",
    "\n",
    "#fill the missing values\n",
    "for key in imaging_params:\n",
    "        if key not in secondary_imaging_params:\n",
    "            secondary_imaging_params[key] = imaging_params[key]\n",
    "\n",
    "print(\"Calculating texp from primary lambda\")\n",
    "parsed_parameters= parse_input.parse_parameters(imaging_params)\n",
    "texp, _ = calculate_texp(parsed_parameters, verbose=False)\n",
    "print(\"Reference exposure time: \", texp.to(u.hr))\n",
    "if np.isfinite(texp).all():\n",
    "    print(\"Calculating snr on secondary lambda\")\n",
    "    parsed_secondary_parameters= parse_input.parse_parameters(secondary_imaging_params)\n",
    "\n",
    "    snr, _ = calculate_snr(parsed_secondary_parameters, texp, verbose=True)\n",
    "    print(\"SNR at the secondary lambda: \", snr)\n",
    "else:\n",
    "    raise ValueError(\"Returned exposure time is infinity.\")"
   ]
  },
  {
   "cell_type": "markdown",
   "metadata": {},
   "source": [
    "### 5. Exploring The Parameter Space\n"
   ]
  },
  {
   "cell_type": "markdown",
   "metadata": {},
   "source": [
    "#### 5.1. Planet-to-star contrast\n",
    "Let's explore how the exposure time changes with planet-to-star contrast:\n",
    "\n"
   ]
  },
  {
   "cell_type": "code",
   "execution_count": 7,
   "metadata": {},
   "outputs": [
    {
     "name": "stdout",
     "output_type": "stream",
     "text": [
      "Observatory Configuration:\n",
      "  Using preset: EAC1\n",
      "\n"
     ]
    },
    {
     "name": "stderr",
     "output_type": "stream",
     "text": [
      "\u001b[38;5;229m\u001b[48;5;16m[yippy]\u001b[0m \u001b[32mINFO [2025-04-15 12:59:40,130] \u001b[0mCreating usort_offaxis_ovc coronagraph\n",
      "\u001b[38;5;229m\u001b[48;5;16m[yippy]\u001b[0m \u001b[33mWARNING [2025-04-15 12:59:40,131] \u001b[0mUnhandled header fields: {'D_INSC'}\n",
      "\u001b[38;5;229m\u001b[48;5;16m[yippy]\u001b[0m \u001b[33mWARNING [2025-04-15 12:59:40,132] \u001b[0mUsing default unit for D: m. Could not extract unit from comment: \"circumscribed diameter of the telescope in mete\"\n",
      "\u001b[38;5;229m\u001b[48;5;16m[yippy]\u001b[0m \u001b[32mINFO [2025-04-15 12:59:40,164] \u001b[0musort_offaxis_ovc is radially symmetric\n",
      "\u001b[38;5;229m\u001b[48;5;16m[yippy]\u001b[0m \u001b[32mINFO [2025-04-15 12:59:40,181] \u001b[0mCreated usort_offaxis_ovc\n"
     ]
    },
    {
     "name": "stdout",
     "output_type": "stream",
     "text": [
      "Setting the noise floor via user-supplied noisefloor_PPF...\n",
      "Azimuthally averaging contrast maps and noise floor...\n",
      "Calculating optics throughput from preset...\n",
      "Calculating epswarmTrcold as 1 - optics throughput...\n",
      "Observatory Configuration:\n",
      "  Using preset: EAC1\n",
      "\n"
     ]
    },
    {
     "name": "stderr",
     "output_type": "stream",
     "text": [
      "\u001b[38;5;229m\u001b[48;5;16m[yippy]\u001b[0m \u001b[32mINFO [2025-04-15 12:59:44,744] \u001b[0mCreating usort_offaxis_ovc coronagraph\n",
      "\u001b[38;5;229m\u001b[48;5;16m[yippy]\u001b[0m \u001b[33mWARNING [2025-04-15 12:59:44,746] \u001b[0mUnhandled header fields: {'D_INSC'}\n",
      "\u001b[38;5;229m\u001b[48;5;16m[yippy]\u001b[0m \u001b[33mWARNING [2025-04-15 12:59:44,746] \u001b[0mUsing default unit for D: m. Could not extract unit from comment: \"circumscribed diameter of the telescope in mete\"\n",
      "\u001b[38;5;229m\u001b[48;5;16m[yippy]\u001b[0m \u001b[32mINFO [2025-04-15 12:59:44,779] \u001b[0musort_offaxis_ovc is radially symmetric\n",
      "\u001b[38;5;229m\u001b[48;5;16m[yippy]\u001b[0m \u001b[32mINFO [2025-04-15 12:59:44,799] \u001b[0mCreated usort_offaxis_ovc\n"
     ]
    },
    {
     "name": "stdout",
     "output_type": "stream",
     "text": [
      "Setting the noise floor via user-supplied noisefloor_PPF...\n",
      "Azimuthally averaging contrast maps and noise floor...\n",
      "Calculating optics throughput from preset...\n",
      "Calculating epswarmTrcold as 1 - optics throughput...\n",
      "Observatory Configuration:\n",
      "  Using preset: EAC1\n",
      "\n"
     ]
    },
    {
     "name": "stderr",
     "output_type": "stream",
     "text": [
      "\u001b[38;5;229m\u001b[48;5;16m[yippy]\u001b[0m \u001b[32mINFO [2025-04-15 12:59:49,369] \u001b[0mCreating usort_offaxis_ovc coronagraph\n",
      "\u001b[38;5;229m\u001b[48;5;16m[yippy]\u001b[0m \u001b[33mWARNING [2025-04-15 12:59:49,370] \u001b[0mUnhandled header fields: {'D_INSC'}\n",
      "\u001b[38;5;229m\u001b[48;5;16m[yippy]\u001b[0m \u001b[33mWARNING [2025-04-15 12:59:49,370] \u001b[0mUsing default unit for D: m. Could not extract unit from comment: \"circumscribed diameter of the telescope in mete\"\n",
      "\u001b[38;5;229m\u001b[48;5;16m[yippy]\u001b[0m \u001b[32mINFO [2025-04-15 12:59:49,405] \u001b[0musort_offaxis_ovc is radially symmetric\n",
      "\u001b[38;5;229m\u001b[48;5;16m[yippy]\u001b[0m \u001b[32mINFO [2025-04-15 12:59:49,425] \u001b[0mCreated usort_offaxis_ovc\n"
     ]
    },
    {
     "name": "stdout",
     "output_type": "stream",
     "text": [
      "Setting the noise floor via user-supplied noisefloor_PPF...\n",
      "Azimuthally averaging contrast maps and noise floor...\n",
      "Calculating optics throughput from preset...\n",
      "Calculating epswarmTrcold as 1 - optics throughput...\n",
      "Observatory Configuration:\n",
      "  Using preset: EAC1\n",
      "\n"
     ]
    },
    {
     "name": "stderr",
     "output_type": "stream",
     "text": [
      "\u001b[38;5;229m\u001b[48;5;16m[yippy]\u001b[0m \u001b[32mINFO [2025-04-15 12:59:54,216] \u001b[0mCreating usort_offaxis_ovc coronagraph\n",
      "\u001b[38;5;229m\u001b[48;5;16m[yippy]\u001b[0m \u001b[33mWARNING [2025-04-15 12:59:54,218] \u001b[0mUnhandled header fields: {'D_INSC'}\n",
      "\u001b[38;5;229m\u001b[48;5;16m[yippy]\u001b[0m \u001b[33mWARNING [2025-04-15 12:59:54,218] \u001b[0mUsing default unit for D: m. Could not extract unit from comment: \"circumscribed diameter of the telescope in mete\"\n",
      "\u001b[38;5;229m\u001b[48;5;16m[yippy]\u001b[0m \u001b[32mINFO [2025-04-15 12:59:54,254] \u001b[0musort_offaxis_ovc is radially symmetric\n",
      "\u001b[38;5;229m\u001b[48;5;16m[yippy]\u001b[0m \u001b[32mINFO [2025-04-15 12:59:54,272] \u001b[0mCreated usort_offaxis_ovc\n"
     ]
    },
    {
     "name": "stdout",
     "output_type": "stream",
     "text": [
      "Setting the noise floor via user-supplied noisefloor_PPF...\n",
      "Azimuthally averaging contrast maps and noise floor...\n",
      "Calculating optics throughput from preset...\n",
      "Calculating epswarmTrcold as 1 - optics throughput...\n",
      "Observatory Configuration:\n",
      "  Using preset: EAC1\n",
      "\n"
     ]
    },
    {
     "name": "stderr",
     "output_type": "stream",
     "text": [
      "\u001b[38;5;229m\u001b[48;5;16m[yippy]\u001b[0m \u001b[32mINFO [2025-04-15 12:59:58,908] \u001b[0mCreating usort_offaxis_ovc coronagraph\n",
      "\u001b[38;5;229m\u001b[48;5;16m[yippy]\u001b[0m \u001b[33mWARNING [2025-04-15 12:59:58,909] \u001b[0mUnhandled header fields: {'D_INSC'}\n",
      "\u001b[38;5;229m\u001b[48;5;16m[yippy]\u001b[0m \u001b[33mWARNING [2025-04-15 12:59:58,910] \u001b[0mUsing default unit for D: m. Could not extract unit from comment: \"circumscribed diameter of the telescope in mete\"\n",
      "\u001b[38;5;229m\u001b[48;5;16m[yippy]\u001b[0m \u001b[32mINFO [2025-04-15 12:59:58,947] \u001b[0musort_offaxis_ovc is radially symmetric\n",
      "\u001b[38;5;229m\u001b[48;5;16m[yippy]\u001b[0m \u001b[32mINFO [2025-04-15 12:59:58,963] \u001b[0mCreated usort_offaxis_ovc\n"
     ]
    },
    {
     "name": "stdout",
     "output_type": "stream",
     "text": [
      "Setting the noise floor via user-supplied noisefloor_PPF...\n",
      "Azimuthally averaging contrast maps and noise floor...\n",
      "Calculating optics throughput from preset...\n",
      "Calculating epswarmTrcold as 1 - optics throughput...\n",
      "Observatory Configuration:\n",
      "  Using preset: EAC1\n",
      "\n"
     ]
    },
    {
     "name": "stderr",
     "output_type": "stream",
     "text": [
      "\u001b[38;5;229m\u001b[48;5;16m[yippy]\u001b[0m \u001b[32mINFO [2025-04-15 13:00:03,596] \u001b[0mCreating usort_offaxis_ovc coronagraph\n",
      "\u001b[38;5;229m\u001b[48;5;16m[yippy]\u001b[0m \u001b[33mWARNING [2025-04-15 13:00:03,597] \u001b[0mUnhandled header fields: {'D_INSC'}\n",
      "\u001b[38;5;229m\u001b[48;5;16m[yippy]\u001b[0m \u001b[33mWARNING [2025-04-15 13:00:03,597] \u001b[0mUsing default unit for D: m. Could not extract unit from comment: \"circumscribed diameter of the telescope in mete\"\n",
      "\u001b[38;5;229m\u001b[48;5;16m[yippy]\u001b[0m \u001b[32mINFO [2025-04-15 13:00:03,634] \u001b[0musort_offaxis_ovc is radially symmetric\n",
      "\u001b[38;5;229m\u001b[48;5;16m[yippy]\u001b[0m \u001b[32mINFO [2025-04-15 13:00:03,649] \u001b[0mCreated usort_offaxis_ovc\n"
     ]
    },
    {
     "name": "stdout",
     "output_type": "stream",
     "text": [
      "Setting the noise floor via user-supplied noisefloor_PPF...\n",
      "Azimuthally averaging contrast maps and noise floor...\n",
      "Calculating optics throughput from preset...\n",
      "Calculating epswarmTrcold as 1 - optics throughput...\n",
      "Observatory Configuration:\n",
      "  Using preset: EAC1\n",
      "\n"
     ]
    },
    {
     "name": "stderr",
     "output_type": "stream",
     "text": [
      "\u001b[38;5;229m\u001b[48;5;16m[yippy]\u001b[0m \u001b[32mINFO [2025-04-15 13:00:08,254] \u001b[0mCreating usort_offaxis_ovc coronagraph\n",
      "\u001b[38;5;229m\u001b[48;5;16m[yippy]\u001b[0m \u001b[33mWARNING [2025-04-15 13:00:08,256] \u001b[0mUnhandled header fields: {'D_INSC'}\n",
      "\u001b[38;5;229m\u001b[48;5;16m[yippy]\u001b[0m \u001b[33mWARNING [2025-04-15 13:00:08,256] \u001b[0mUsing default unit for D: m. Could not extract unit from comment: \"circumscribed diameter of the telescope in mete\"\n",
      "\u001b[38;5;229m\u001b[48;5;16m[yippy]\u001b[0m \u001b[32mINFO [2025-04-15 13:00:08,288] \u001b[0musort_offaxis_ovc is radially symmetric\n",
      "\u001b[38;5;229m\u001b[48;5;16m[yippy]\u001b[0m \u001b[32mINFO [2025-04-15 13:00:08,308] \u001b[0mCreated usort_offaxis_ovc\n"
     ]
    },
    {
     "name": "stdout",
     "output_type": "stream",
     "text": [
      "Setting the noise floor via user-supplied noisefloor_PPF...\n",
      "Azimuthally averaging contrast maps and noise floor...\n",
      "Calculating optics throughput from preset...\n",
      "Calculating epswarmTrcold as 1 - optics throughput...\n",
      "Observatory Configuration:\n",
      "  Using preset: EAC1\n",
      "\n"
     ]
    },
    {
     "name": "stderr",
     "output_type": "stream",
     "text": [
      "\u001b[38;5;229m\u001b[48;5;16m[yippy]\u001b[0m \u001b[32mINFO [2025-04-15 13:00:13,215] \u001b[0mCreating usort_offaxis_ovc coronagraph\n",
      "\u001b[38;5;229m\u001b[48;5;16m[yippy]\u001b[0m \u001b[33mWARNING [2025-04-15 13:00:13,217] \u001b[0mUnhandled header fields: {'D_INSC'}\n",
      "\u001b[38;5;229m\u001b[48;5;16m[yippy]\u001b[0m \u001b[33mWARNING [2025-04-15 13:00:13,217] \u001b[0mUsing default unit for D: m. Could not extract unit from comment: \"circumscribed diameter of the telescope in mete\"\n",
      "\u001b[38;5;229m\u001b[48;5;16m[yippy]\u001b[0m \u001b[32mINFO [2025-04-15 13:00:13,257] \u001b[0musort_offaxis_ovc is radially symmetric\n",
      "\u001b[38;5;229m\u001b[48;5;16m[yippy]\u001b[0m \u001b[32mINFO [2025-04-15 13:00:13,274] \u001b[0mCreated usort_offaxis_ovc\n"
     ]
    },
    {
     "name": "stdout",
     "output_type": "stream",
     "text": [
      "Setting the noise floor via user-supplied noisefloor_PPF...\n",
      "Azimuthally averaging contrast maps and noise floor...\n",
      "Calculating optics throughput from preset...\n",
      "Calculating epswarmTrcold as 1 - optics throughput...\n",
      "Observatory Configuration:\n",
      "  Using preset: EAC1\n",
      "\n"
     ]
    },
    {
     "name": "stderr",
     "output_type": "stream",
     "text": [
      "\u001b[38;5;229m\u001b[48;5;16m[yippy]\u001b[0m \u001b[32mINFO [2025-04-15 13:00:17,957] \u001b[0mCreating usort_offaxis_ovc coronagraph\n",
      "\u001b[38;5;229m\u001b[48;5;16m[yippy]\u001b[0m \u001b[33mWARNING [2025-04-15 13:00:17,958] \u001b[0mUnhandled header fields: {'D_INSC'}\n",
      "\u001b[38;5;229m\u001b[48;5;16m[yippy]\u001b[0m \u001b[33mWARNING [2025-04-15 13:00:17,959] \u001b[0mUsing default unit for D: m. Could not extract unit from comment: \"circumscribed diameter of the telescope in mete\"\n",
      "\u001b[38;5;229m\u001b[48;5;16m[yippy]\u001b[0m \u001b[32mINFO [2025-04-15 13:00:17,993] \u001b[0musort_offaxis_ovc is radially symmetric\n",
      "\u001b[38;5;229m\u001b[48;5;16m[yippy]\u001b[0m \u001b[32mINFO [2025-04-15 13:00:18,010] \u001b[0mCreated usort_offaxis_ovc\n"
     ]
    },
    {
     "name": "stdout",
     "output_type": "stream",
     "text": [
      "Setting the noise floor via user-supplied noisefloor_PPF...\n",
      "Azimuthally averaging contrast maps and noise floor...\n",
      "Calculating optics throughput from preset...\n",
      "Calculating epswarmTrcold as 1 - optics throughput...\n",
      "Observatory Configuration:\n",
      "  Using preset: EAC1\n",
      "\n"
     ]
    },
    {
     "name": "stderr",
     "output_type": "stream",
     "text": [
      "\u001b[38;5;229m\u001b[48;5;16m[yippy]\u001b[0m \u001b[32mINFO [2025-04-15 13:00:22,945] \u001b[0mCreating usort_offaxis_ovc coronagraph\n",
      "\u001b[38;5;229m\u001b[48;5;16m[yippy]\u001b[0m \u001b[33mWARNING [2025-04-15 13:00:22,947] \u001b[0mUnhandled header fields: {'D_INSC'}\n",
      "\u001b[38;5;229m\u001b[48;5;16m[yippy]\u001b[0m \u001b[33mWARNING [2025-04-15 13:00:22,947] \u001b[0mUsing default unit for D: m. Could not extract unit from comment: \"circumscribed diameter of the telescope in mete\"\n",
      "\u001b[38;5;229m\u001b[48;5;16m[yippy]\u001b[0m \u001b[32mINFO [2025-04-15 13:00:22,983] \u001b[0musort_offaxis_ovc is radially symmetric\n",
      "\u001b[38;5;229m\u001b[48;5;16m[yippy]\u001b[0m \u001b[32mINFO [2025-04-15 13:00:23,005] \u001b[0mCreated usort_offaxis_ovc\n"
     ]
    },
    {
     "name": "stdout",
     "output_type": "stream",
     "text": [
      "Setting the noise floor via user-supplied noisefloor_PPF...\n",
      "Azimuthally averaging contrast maps and noise floor...\n",
      "Calculating optics throughput from preset...\n",
      "Calculating epswarmTrcold as 1 - optics throughput...\n"
     ]
    },
    {
     "data": {
      "image/png": "[encoded data removed]",
      "text/plain": [
       "<Figure size 1000x600 with 2 Axes>"
      ]
     },
     "metadata": {},
     "output_type": "display_data"
    }
   ],
   "source": [
    "contrasts = np.logspace(-11, -9, 10)\n",
    "magnitudes = -2.5 * np.log10(contrasts)\n",
    "exposure_times = []\n",
    "\n",
    "\n",
    "for magnitude in magnitudes:\n",
    "    params = imaging_params.copy()\n",
    "    params['delta_mag'] = magnitude\n",
    "    # make the parameters be the shape that the code desires \n",
    "    parsed_parameters= parse_input.parse_parameters(params)\n",
    "    texp, validation_output = calculate_texp(parsed_parameters, verbose=False)\n",
    "\n",
    "\n",
    "    exposure_times.append(texp.to(u.hr).value)\n",
    "\n",
    "fig, ax1 = plt.subplots(figsize=(10, 6))\n",
    "# Primary x-axis (contrast)\n",
    "ax1.semilogx(contrasts, exposure_times,marker='o')\n",
    "ax1.set_xlabel('Planet-to-star contrast')\n",
    "ax1.set_ylabel('Exposure time (hours)')\n",
    "ax1.grid(True)\n",
    "\n",
    "# Secondary x-axis (magnitude)\n",
    "ax2 = ax1.twiny()\n",
    "ax2.set_xscale('linear')\n",
    "ax2.set_xlim(ax1.get_xlim())\n",
    "\n",
    "# Reduce ticks on secondary axis\n",
    "num_ticks = 3 \n",
    "tick_indices = np.linspace(0, len(contrasts) - 1, num_ticks, dtype=int)\n",
    "reduced_contrasts = [contrasts[i] for i in tick_indices]\n",
    "reduced_magnitudes = [magnitudes[i] for i in tick_indices]\n",
    "ax2.set_xticks(reduced_contrasts)\n",
    "ax2.set_xticklabels([f'{m:.1f}' for m in reduced_magnitudes])\n",
    "ax2.set_xlabel('Magnitude difference (Δmag)')\n",
    "\n",
    "plt.title('Exposure Time vs Planet-to-Star Contrast')\n",
    "plt.tight_layout()\n",
    "plt.show()\n",
    "\n"
   ]
  },
  {
   "cell_type": "markdown",
   "metadata": {},
   "source": [
    "#### 5.2 Separation\n",
    "\n",
    "Now let's change the separation of the planet and see how the exposure time changes."
   ]
  },
  {
   "cell_type": "code",
   "execution_count": null,
   "metadata": {},
   "outputs": [
    {
     "name": "stdout",
     "output_type": "stream",
     "text": [
      "Observatory Configuration:\n",
      "  Using preset: EAC1\n",
      "\n"
     ]
    },
    {
     "name": "stderr",
     "output_type": "stream",
     "text": [
      "\u001b[38;5;229m\u001b[48;5;16m[yippy]\u001b[0m \u001b[32mINFO [2025-04-15 13:00:27,927] \u001b[0mCreating usort_offaxis_ovc coronagraph\n",
      "\u001b[38;5;229m\u001b[48;5;16m[yippy]\u001b[0m \u001b[33mWARNING [2025-04-15 13:00:27,929] \u001b[0mUnhandled header fields: {'D_INSC'}\n",
      "\u001b[38;5;229m\u001b[48;5;16m[yippy]\u001b[0m \u001b[33mWARNING [2025-04-15 13:00:27,929] \u001b[0mUsing default unit for D: m. Could not extract unit from comment: \"circumscribed diameter of the telescope in mete\"\n",
      "\u001b[38;5;229m\u001b[48;5;16m[yippy]\u001b[0m \u001b[32mINFO [2025-04-15 13:00:27,960] \u001b[0musort_offaxis_ovc is radially symmetric\n",
      "\u001b[38;5;229m\u001b[48;5;16m[yippy]\u001b[0m \u001b[32mINFO [2025-04-15 13:00:27,977] \u001b[0mCreated usort_offaxis_ovc\n"
     ]
    },
    {
     "name": "stdout",
     "output_type": "stream",
     "text": [
      "Setting the noise floor via user-supplied noisefloor_PPF...\n",
      "Azimuthally averaging contrast maps and noise floor...\n",
      "Calculating optics throughput from preset...\n",
      "Calculating epswarmTrcold as 1 - optics throughput...\n",
      "WARNING: Planet outside OWA or inside IWA. Hardcoded infinity results.\n",
      "Observatory Configuration:\n",
      "  Using preset: EAC1\n",
      "\n"
     ]
    },
    {
     "name": "stderr",
     "output_type": "stream",
     "text": [
      "\u001b[38;5;229m\u001b[48;5;16m[yippy]\u001b[0m \u001b[32mINFO [2025-04-15 13:00:32,784] \u001b[0mCreating usort_offaxis_ovc coronagraph\n",
      "\u001b[38;5;229m\u001b[48;5;16m[yippy]\u001b[0m \u001b[33mWARNING [2025-04-15 13:00:32,786] \u001b[0mUnhandled header fields: {'D_INSC'}\n",
      "\u001b[38;5;229m\u001b[48;5;16m[yippy]\u001b[0m \u001b[33mWARNING [2025-04-15 13:00:32,786] \u001b[0mUsing default unit for D: m. Could not extract unit from comment: \"circumscribed diameter of the telescope in mete\"\n",
      "\u001b[38;5;229m\u001b[48;5;16m[yippy]\u001b[0m \u001b[32mINFO [2025-04-15 13:00:32,818] \u001b[0musort_offaxis_ovc is radially symmetric\n",
      "\u001b[38;5;229m\u001b[48;5;16m[yippy]\u001b[0m \u001b[32mINFO [2025-04-15 13:00:32,839] \u001b[0mCreated usort_offaxis_ovc\n"
     ]
    },
    {
     "name": "stdout",
     "output_type": "stream",
     "text": [
      "Setting the noise floor via user-supplied noisefloor_PPF...\n",
      "Azimuthally averaging contrast maps and noise floor...\n",
      "Calculating optics throughput from preset...\n",
      "Calculating epswarmTrcold as 1 - optics throughput...\n",
      "Observatory Configuration:\n",
      "  Using preset: EAC1\n",
      "\n"
     ]
    },
    {
     "name": "stderr",
     "output_type": "stream",
     "text": [
      "\u001b[38;5;229m\u001b[48;5;16m[yippy]\u001b[0m \u001b[32mINFO [2025-04-15 13:00:37,531] \u001b[0mCreating usort_offaxis_ovc coronagraph\n",
      "\u001b[38;5;229m\u001b[48;5;16m[yippy]\u001b[0m \u001b[33mWARNING [2025-04-15 13:00:37,533] \u001b[0mUnhandled header fields: {'D_INSC'}\n",
      "\u001b[38;5;229m\u001b[48;5;16m[yippy]\u001b[0m \u001b[33mWARNING [2025-04-15 13:00:37,534] \u001b[0mUsing default unit for D: m. Could not extract unit from comment: \"circumscribed diameter of the telescope in mete\"\n",
      "\u001b[38;5;229m\u001b[48;5;16m[yippy]\u001b[0m \u001b[32mINFO [2025-04-15 13:00:37,572] \u001b[0musort_offaxis_ovc is radially symmetric\n",
      "\u001b[38;5;229m\u001b[48;5;16m[yippy]\u001b[0m \u001b[32mINFO [2025-04-15 13:00:37,588] \u001b[0mCreated usort_offaxis_ovc\n"
     ]
    },
    {
     "name": "stdout",
     "output_type": "stream",
     "text": [
      "Setting the noise floor via user-supplied noisefloor_PPF...\n",
      "Azimuthally averaging contrast maps and noise floor...\n",
      "Calculating optics throughput from preset...\n",
      "Calculating epswarmTrcold as 1 - optics throughput...\n",
      "Observatory Configuration:\n",
      "  Using preset: EAC1\n",
      "\n"
     ]
    },
    {
     "name": "stderr",
     "output_type": "stream",
     "text": [
      "\u001b[38;5;229m\u001b[48;5;16m[yippy]\u001b[0m \u001b[32mINFO [2025-04-15 13:00:42,263] \u001b[0mCreating usort_offaxis_ovc coronagraph\n",
      "\u001b[38;5;229m\u001b[48;5;16m[yippy]\u001b[0m \u001b[33mWARNING [2025-04-15 13:00:42,264] \u001b[0mUnhandled header fields: {'D_INSC'}\n",
      "\u001b[38;5;229m\u001b[48;5;16m[yippy]\u001b[0m \u001b[33mWARNING [2025-04-15 13:00:42,265] \u001b[0mUsing default unit for D: m. Could not extract unit from comment: \"circumscribed diameter of the telescope in mete\"\n",
      "\u001b[38;5;229m\u001b[48;5;16m[yippy]\u001b[0m \u001b[32mINFO [2025-04-15 13:00:42,301] \u001b[0musort_offaxis_ovc is radially symmetric\n",
      "\u001b[38;5;229m\u001b[48;5;16m[yippy]\u001b[0m \u001b[32mINFO [2025-04-15 13:00:42,317] \u001b[0mCreated usort_offaxis_ovc\n"
     ]
    },
    {
     "name": "stdout",
     "output_type": "stream",
     "text": [
      "Setting the noise floor via user-supplied noisefloor_PPF...\n",
      "Azimuthally averaging contrast maps and noise floor...\n",
      "Calculating optics throughput from preset...\n",
      "Calculating epswarmTrcold as 1 - optics throughput...\n",
      "Observatory Configuration:\n",
      "  Using preset: EAC1\n",
      "\n"
     ]
    },
    {
     "name": "stderr",
     "output_type": "stream",
     "text": [
      "\u001b[38;5;229m\u001b[48;5;16m[yippy]\u001b[0m \u001b[32mINFO [2025-04-15 13:00:47,300] \u001b[0mCreating usort_offaxis_ovc coronagraph\n",
      "\u001b[38;5;229m\u001b[48;5;16m[yippy]\u001b[0m \u001b[33mWARNING [2025-04-15 13:00:47,301] \u001b[0mUnhandled header fields: {'D_INSC'}\n",
      "\u001b[38;5;229m\u001b[48;5;16m[yippy]\u001b[0m \u001b[33mWARNING [2025-04-15 13:00:47,302] \u001b[0mUsing default unit for D: m. Could not extract unit from comment: \"circumscribed diameter of the telescope in mete\"\n",
      "\u001b[38;5;229m\u001b[48;5;16m[yippy]\u001b[0m \u001b[32mINFO [2025-04-15 13:00:47,335] \u001b[0musort_offaxis_ovc is radially symmetric\n",
      "\u001b[38;5;229m\u001b[48;5;16m[yippy]\u001b[0m \u001b[32mINFO [2025-04-15 13:00:47,357] \u001b[0mCreated usort_offaxis_ovc\n"
     ]
    },
    {
     "name": "stdout",
     "output_type": "stream",
     "text": [
      "Setting the noise floor via user-supplied noisefloor_PPF...\n",
      "Azimuthally averaging contrast maps and noise floor...\n",
      "Calculating optics throughput from preset...\n",
      "Calculating epswarmTrcold as 1 - optics throughput...\n",
      "Observatory Configuration:\n",
      "  Using preset: EAC1\n",
      "\n"
     ]
    },
    {
     "name": "stderr",
     "output_type": "stream",
     "text": [
      "\u001b[38;5;229m\u001b[48;5;16m[yippy]\u001b[0m \u001b[32mINFO [2025-04-15 13:00:52,092] \u001b[0mCreating usort_offaxis_ovc coronagraph\n",
      "\u001b[38;5;229m\u001b[48;5;16m[yippy]\u001b[0m \u001b[33mWARNING [2025-04-15 13:00:52,093] \u001b[0mUnhandled header fields: {'D_INSC'}\n",
      "\u001b[38;5;229m\u001b[48;5;16m[yippy]\u001b[0m \u001b[33mWARNING [2025-04-15 13:00:52,094] \u001b[0mUsing default unit for D: m. Could not extract unit from comment: \"circumscribed diameter of the telescope in mete\"\n",
      "\u001b[38;5;229m\u001b[48;5;16m[yippy]\u001b[0m \u001b[32mINFO [2025-04-15 13:00:52,132] \u001b[0musort_offaxis_ovc is radially symmetric\n",
      "\u001b[38;5;229m\u001b[48;5;16m[yippy]\u001b[0m \u001b[32mINFO [2025-04-15 13:00:52,158] \u001b[0mCreated usort_offaxis_ovc\n"
     ]
    },
    {
     "name": "stdout",
     "output_type": "stream",
     "text": [
      "Setting the noise floor via user-supplied noisefloor_PPF...\n",
      "Azimuthally averaging contrast maps and noise floor...\n",
      "Calculating optics throughput from preset...\n",
      "Calculating epswarmTrcold as 1 - optics throughput...\n",
      "Observatory Configuration:\n",
      "  Using preset: EAC1\n",
      "\n"
     ]
    },
    {
     "name": "stderr",
     "output_type": "stream",
     "text": [
      "\u001b[38;5;229m\u001b[48;5;16m[yippy]\u001b[0m \u001b[32mINFO [2025-04-15 13:00:56,844] \u001b[0mCreating usort_offaxis_ovc coronagraph\n",
      "\u001b[38;5;229m\u001b[48;5;16m[yippy]\u001b[0m \u001b[33mWARNING [2025-04-15 13:00:56,845] \u001b[0mUnhandled header fields: {'D_INSC'}\n",
      "\u001b[38;5;229m\u001b[48;5;16m[yippy]\u001b[0m \u001b[33mWARNING [2025-04-15 13:00:56,846] \u001b[0mUsing default unit for D: m. Could not extract unit from comment: \"circumscribed diameter of the telescope in mete\"\n",
      "\u001b[38;5;229m\u001b[48;5;16m[yippy]\u001b[0m \u001b[32mINFO [2025-04-15 13:00:56,887] \u001b[0musort_offaxis_ovc is radially symmetric\n",
      "\u001b[38;5;229m\u001b[48;5;16m[yippy]\u001b[0m \u001b[32mINFO [2025-04-15 13:00:56,902] \u001b[0mCreated usort_offaxis_ovc\n"
     ]
    },
    {
     "name": "stdout",
     "output_type": "stream",
     "text": [
      "Setting the noise floor via user-supplied noisefloor_PPF...\n",
      "Azimuthally averaging contrast maps and noise floor...\n",
      "Calculating optics throughput from preset...\n",
      "Calculating epswarmTrcold as 1 - optics throughput...\n",
      "WARNING: Planet outside OWA or inside IWA. Hardcoded infinity results.\n",
      "Observatory Configuration:\n",
      "  Using preset: EAC1\n",
      "\n"
     ]
    },
    {
     "name": "stderr",
     "output_type": "stream",
     "text": [
      "\u001b[38;5;229m\u001b[48;5;16m[yippy]\u001b[0m \u001b[32mINFO [2025-04-15 13:01:01,547] \u001b[0mCreating usort_offaxis_ovc coronagraph\n",
      "\u001b[38;5;229m\u001b[48;5;16m[yippy]\u001b[0m \u001b[33mWARNING [2025-04-15 13:01:01,548] \u001b[0mUnhandled header fields: {'D_INSC'}\n",
      "\u001b[38;5;229m\u001b[48;5;16m[yippy]\u001b[0m \u001b[33mWARNING [2025-04-15 13:01:01,549] \u001b[0mUsing default unit for D: m. Could not extract unit from comment: \"circumscribed diameter of the telescope in mete\"\n",
      "\u001b[38;5;229m\u001b[48;5;16m[yippy]\u001b[0m \u001b[32mINFO [2025-04-15 13:01:01,585] \u001b[0musort_offaxis_ovc is radially symmetric\n",
      "\u001b[38;5;229m\u001b[48;5;16m[yippy]\u001b[0m \u001b[32mINFO [2025-04-15 13:01:01,600] \u001b[0mCreated usort_offaxis_ovc\n"
     ]
    },
    {
     "name": "stdout",
     "output_type": "stream",
     "text": [
      "Setting the noise floor via user-supplied noisefloor_PPF...\n",
      "Azimuthally averaging contrast maps and noise floor...\n",
      "Calculating optics throughput from preset...\n",
      "Calculating epswarmTrcold as 1 - optics throughput...\n",
      "WARNING: Planet outside OWA or inside IWA. Hardcoded infinity results.\n",
      "Observatory Configuration:\n",
      "  Using preset: EAC1\n",
      "\n"
     ]
    },
    {
     "name": "stderr",
     "output_type": "stream",
     "text": [
      "\u001b[38;5;229m\u001b[48;5;16m[yippy]\u001b[0m \u001b[32mINFO [2025-04-15 13:01:06,190] \u001b[0mCreating usort_offaxis_ovc coronagraph\n",
      "\u001b[38;5;229m\u001b[48;5;16m[yippy]\u001b[0m \u001b[33mWARNING [2025-04-15 13:01:06,191] \u001b[0mUnhandled header fields: {'D_INSC'}\n",
      "\u001b[38;5;229m\u001b[48;5;16m[yippy]\u001b[0m \u001b[33mWARNING [2025-04-15 13:01:06,192] \u001b[0mUsing default unit for D: m. Could not extract unit from comment: \"circumscribed diameter of the telescope in mete\"\n",
      "\u001b[38;5;229m\u001b[48;5;16m[yippy]\u001b[0m \u001b[32mINFO [2025-04-15 13:01:06,223] \u001b[0musort_offaxis_ovc is radially symmetric\n",
      "\u001b[38;5;229m\u001b[48;5;16m[yippy]\u001b[0m \u001b[32mINFO [2025-04-15 13:01:06,240] \u001b[0mCreated usort_offaxis_ovc\n"
     ]
    },
    {
     "name": "stdout",
     "output_type": "stream",
     "text": [
      "Setting the noise floor via user-supplied noisefloor_PPF...\n",
      "Azimuthally averaging contrast maps and noise floor...\n",
      "Calculating optics throughput from preset...\n",
      "Calculating epswarmTrcold as 1 - optics throughput...\n",
      "WARNING: Planet outside OWA or inside IWA. Hardcoded infinity results.\n",
      "Observatory Configuration:\n",
      "  Using preset: EAC1\n",
      "\n"
     ]
    },
    {
     "name": "stderr",
     "output_type": "stream",
     "text": [
      "\u001b[38;5;229m\u001b[48;5;16m[yippy]\u001b[0m \u001b[32mINFO [2025-04-15 13:01:10,896] \u001b[0mCreating usort_offaxis_ovc coronagraph\n",
      "\u001b[38;5;229m\u001b[48;5;16m[yippy]\u001b[0m \u001b[33mWARNING [2025-04-15 13:01:10,897] \u001b[0mUnhandled header fields: {'D_INSC'}\n",
      "\u001b[38;5;229m\u001b[48;5;16m[yippy]\u001b[0m \u001b[33mWARNING [2025-04-15 13:01:10,898] \u001b[0mUsing default unit for D: m. Could not extract unit from comment: \"circumscribed diameter of the telescope in mete\"\n",
      "\u001b[38;5;229m\u001b[48;5;16m[yippy]\u001b[0m \u001b[32mINFO [2025-04-15 13:01:10,930] \u001b[0musort_offaxis_ovc is radially symmetric\n",
      "\u001b[38;5;229m\u001b[48;5;16m[yippy]\u001b[0m \u001b[32mINFO [2025-04-15 13:01:10,945] \u001b[0mCreated usort_offaxis_ovc\n"
     ]
    },
    {
     "name": "stdout",
     "output_type": "stream",
     "text": [
      "Setting the noise floor via user-supplied noisefloor_PPF...\n",
      "Azimuthally averaging contrast maps and noise floor...\n",
      "Calculating optics throughput from preset...\n",
      "Calculating epswarmTrcold as 1 - optics throughput...\n",
      "WARNING: Planet outside OWA or inside IWA. Hardcoded infinity results.\n"
     ]
    },
    {
     "name": "stderr",
     "output_type": "stream",
     "text": [
      "/var/folders/10/v9qwyn2d7mx1blfr1v345wz80000gp/T/ipykernel_45668/1873697519.py:42: UserWarning: No artists with labels found to put in legend.  Note that artists whose label start with an underscore are ignored when legend() is called with no argument.\n",
      "  plt.legend()\n"
     ]
    },
    {
     "data": {
      "image/png": "[encoded data removed]",
      "text/plain": [
       "<Figure size 1000x600 with 2 Axes>"
      ]
     },
     "metadata": {},
     "output_type": "display_data"
    }
   ],
   "source": [
    "separations = np.linspace(0.005, 0.8, 10)  # arcsec \n",
    "\n",
    "exposure_times = []\n",
    "\n",
    "for sep in separations:\n",
    "    params = imaging_params.copy()\n",
    "    params['separation'] = sep\n",
    "    parsed_parameters= parse_input.parse_parameters(params)\n",
    "    texp, _ = calculate_texp(parsed_parameters, verbose=False)\n",
    "    exposure_times.append(texp.to(u.hr)[0].value)\n",
    "\n",
    "\n",
    "fig, ax1 = plt.subplots(figsize=(10, 6))\n",
    "# Primary x-axis (separation arcsec)\n",
    "ax1.plot(separations, exposure_times, marker='o', label='Valid exposures')\n",
    "ax1.plot(separations[np.isinf(exposure_times)],\n",
    "         np.ones_like(separations)[np.isinf(exposure_times)]*50,\n",
    "         marker='x', linestyle='', color='red', label='Infinite exposures')\n",
    "\n",
    "\n",
    "ax1.set_xlabel('Separation (arcsec)')\n",
    "ax1.set_ylabel('Exposure time (hours)')\n",
    "ax1.grid(True)\n",
    "\n",
    "separations_lod = arcsec_to_lambda_d(separations*ARCSEC,\n",
    "0.5*u.micron.to(LENGTH),\n",
    "8.78*u.m.to(LENGTH),\n",
    ")\n",
    "# # Secondary x-axis (lambda/D)\n",
    "num_ticks = 5 \n",
    "tick_indices = np.linspace(0, len(separations) - 1, num_ticks, dtype=int)\n",
    "reduced_separations = [separations[i] for i in tick_indices]\n",
    "reduced_separations_lod = [separations_lod[i] for i in tick_indices]\n",
    "ax2.set_xticks(reduced_separations)\n",
    "ax2.set_xticklabels([f'{m:.1f}' for m in reduced_separations_lod])\n",
    "ax2 = ax1.twiny()\n",
    "\n",
    "ax2.set_xlim(ax1.get_xlim())\n",
    "ax2.set_xlabel('Separation (lambda/D)')\n",
    "\n",
    "plt.title('Exposure Time vs. Separation')\n",
    "plt.legend()\n",
    "plt.tight_layout()\n",
    "plt.show()\n",
    "\n",
    "\n",
    "# TODO check axes"
   ]
  },
  {
   "cell_type": "markdown",
   "metadata": {},
   "source": [
    "#### 5.3 Telescope Diameter\n",
    "\n",
    "And finally, we can change the telescope diameter and see the impact on the exposure time."
   ]
  },
  {
   "cell_type": "code",
   "execution_count": 9,
   "metadata": {},
   "outputs": [
    {
     "name": "stdout",
     "output_type": "stream",
     "text": [
      "Observatory Configuration:\n",
      "  Using preset: EAC1\n",
      "\n"
     ]
    },
    {
     "name": "stderr",
     "output_type": "stream",
     "text": [
      "\u001b[38;5;229m\u001b[48;5;16m[yippy]\u001b[0m \u001b[32mINFO [2025-04-15 13:01:15,791] \u001b[0mCreating usort_offaxis_ovc coronagraph\n",
      "\u001b[38;5;229m\u001b[48;5;16m[yippy]\u001b[0m \u001b[33mWARNING [2025-04-15 13:01:15,793] \u001b[0mUnhandled header fields: {'D_INSC'}\n",
      "\u001b[38;5;229m\u001b[48;5;16m[yippy]\u001b[0m \u001b[33mWARNING [2025-04-15 13:01:15,793] \u001b[0mUsing default unit for D: m. Could not extract unit from comment: \"circumscribed diameter of the telescope in mete\"\n",
      "\u001b[38;5;229m\u001b[48;5;16m[yippy]\u001b[0m \u001b[32mINFO [2025-04-15 13:01:15,828] \u001b[0musort_offaxis_ovc is radially symmetric\n",
      "\u001b[38;5;229m\u001b[48;5;16m[yippy]\u001b[0m \u001b[32mINFO [2025-04-15 13:01:15,844] \u001b[0mCreated usort_offaxis_ovc\n"
     ]
    },
    {
     "name": "stdout",
     "output_type": "stream",
     "text": [
      "Setting the noise floor via user-supplied noisefloor_PPF...\n",
      "Azimuthally averaging contrast maps and noise floor...\n",
      "Calculating optics throughput from preset...\n",
      "Calculating epswarmTrcold as 1 - optics throughput...\n",
      "Observatory Configuration:\n",
      "  Using preset: EAC1\n",
      "\n"
     ]
    },
    {
     "name": "stderr",
     "output_type": "stream",
     "text": [
      "\u001b[38;5;229m\u001b[48;5;16m[yippy]\u001b[0m \u001b[32mINFO [2025-04-15 13:01:22,562] \u001b[0mCreating usort_offaxis_ovc coronagraph\n",
      "\u001b[38;5;229m\u001b[48;5;16m[yippy]\u001b[0m \u001b[33mWARNING [2025-04-15 13:01:22,565] \u001b[0mUnhandled header fields: {'D_INSC'}\n",
      "\u001b[38;5;229m\u001b[48;5;16m[yippy]\u001b[0m \u001b[33mWARNING [2025-04-15 13:01:22,566] \u001b[0mUsing default unit for D: m. Could not extract unit from comment: \"circumscribed diameter of the telescope in mete\"\n",
      "\u001b[38;5;229m\u001b[48;5;16m[yippy]\u001b[0m \u001b[32mINFO [2025-04-15 13:01:22,612] \u001b[0musort_offaxis_ovc is radially symmetric\n",
      "\u001b[38;5;229m\u001b[48;5;16m[yippy]\u001b[0m \u001b[32mINFO [2025-04-15 13:01:22,639] \u001b[0mCreated usort_offaxis_ovc\n"
     ]
    },
    {
     "name": "stdout",
     "output_type": "stream",
     "text": [
      "Setting the noise floor via user-supplied noisefloor_PPF...\n",
      "Azimuthally averaging contrast maps and noise floor...\n",
      "Calculating optics throughput from preset...\n",
      "Calculating epswarmTrcold as 1 - optics throughput...\n",
      "Observatory Configuration:\n",
      "  Using preset: EAC1\n",
      "\n"
     ]
    },
    {
     "name": "stderr",
     "output_type": "stream",
     "text": [
      "\u001b[38;5;229m\u001b[48;5;16m[yippy]\u001b[0m \u001b[32mINFO [2025-04-15 13:01:28,968] \u001b[0mCreating usort_offaxis_ovc coronagraph\n",
      "\u001b[38;5;229m\u001b[48;5;16m[yippy]\u001b[0m \u001b[33mWARNING [2025-04-15 13:01:28,969] \u001b[0mUnhandled header fields: {'D_INSC'}\n",
      "\u001b[38;5;229m\u001b[48;5;16m[yippy]\u001b[0m \u001b[33mWARNING [2025-04-15 13:01:28,970] \u001b[0mUsing default unit for D: m. Could not extract unit from comment: \"circumscribed diameter of the telescope in mete\"\n",
      "\u001b[38;5;229m\u001b[48;5;16m[yippy]\u001b[0m \u001b[32mINFO [2025-04-15 13:01:29,013] \u001b[0musort_offaxis_ovc is radially symmetric\n",
      "\u001b[38;5;229m\u001b[48;5;16m[yippy]\u001b[0m \u001b[32mINFO [2025-04-15 13:01:29,031] \u001b[0mCreated usort_offaxis_ovc\n"
     ]
    },
    {
     "name": "stdout",
     "output_type": "stream",
     "text": [
      "Setting the noise floor via user-supplied noisefloor_PPF...\n",
      "Azimuthally averaging contrast maps and noise floor...\n",
      "Calculating optics throughput from preset...\n",
      "Calculating epswarmTrcold as 1 - optics throughput...\n",
      "Observatory Configuration:\n",
      "  Using preset: EAC1\n",
      "\n"
     ]
    },
    {
     "name": "stderr",
     "output_type": "stream",
     "text": [
      "\u001b[38;5;229m\u001b[48;5;16m[yippy]\u001b[0m \u001b[32mINFO [2025-04-15 13:01:33,757] \u001b[0mCreating usort_offaxis_ovc coronagraph\n",
      "\u001b[38;5;229m\u001b[48;5;16m[yippy]\u001b[0m \u001b[33mWARNING [2025-04-15 13:01:33,758] \u001b[0mUnhandled header fields: {'D_INSC'}\n",
      "\u001b[38;5;229m\u001b[48;5;16m[yippy]\u001b[0m \u001b[33mWARNING [2025-04-15 13:01:33,758] \u001b[0mUsing default unit for D: m. Could not extract unit from comment: \"circumscribed diameter of the telescope in mete\"\n",
      "\u001b[38;5;229m\u001b[48;5;16m[yippy]\u001b[0m \u001b[32mINFO [2025-04-15 13:01:33,796] \u001b[0musort_offaxis_ovc is radially symmetric\n",
      "\u001b[38;5;229m\u001b[48;5;16m[yippy]\u001b[0m \u001b[32mINFO [2025-04-15 13:01:33,813] \u001b[0mCreated usort_offaxis_ovc\n"
     ]
    },
    {
     "name": "stdout",
     "output_type": "stream",
     "text": [
      "Setting the noise floor via user-supplied noisefloor_PPF...\n",
      "Azimuthally averaging contrast maps and noise floor...\n",
      "Calculating optics throughput from preset...\n",
      "Calculating epswarmTrcold as 1 - optics throughput...\n",
      "Observatory Configuration:\n",
      "  Using preset: EAC1\n",
      "\n"
     ]
    },
    {
     "name": "stderr",
     "output_type": "stream",
     "text": [
      "\u001b[38;5;229m\u001b[48;5;16m[yippy]\u001b[0m \u001b[32mINFO [2025-04-15 13:01:38,484] \u001b[0mCreating usort_offaxis_ovc coronagraph\n",
      "\u001b[38;5;229m\u001b[48;5;16m[yippy]\u001b[0m \u001b[33mWARNING [2025-04-15 13:01:38,485] \u001b[0mUnhandled header fields: {'D_INSC'}\n",
      "\u001b[38;5;229m\u001b[48;5;16m[yippy]\u001b[0m \u001b[33mWARNING [2025-04-15 13:01:38,486] \u001b[0mUsing default unit for D: m. Could not extract unit from comment: \"circumscribed diameter of the telescope in mete\"\n",
      "\u001b[38;5;229m\u001b[48;5;16m[yippy]\u001b[0m \u001b[32mINFO [2025-04-15 13:01:38,524] \u001b[0musort_offaxis_ovc is radially symmetric\n",
      "\u001b[38;5;229m\u001b[48;5;16m[yippy]\u001b[0m \u001b[32mINFO [2025-04-15 13:01:38,539] \u001b[0mCreated usort_offaxis_ovc\n"
     ]
    },
    {
     "name": "stdout",
     "output_type": "stream",
     "text": [
      "Setting the noise floor via user-supplied noisefloor_PPF...\n",
      "Azimuthally averaging contrast maps and noise floor...\n",
      "Calculating optics throughput from preset...\n",
      "Calculating epswarmTrcold as 1 - optics throughput...\n",
      "Observatory Configuration:\n",
      "  Using preset: EAC1\n",
      "\n"
     ]
    },
    {
     "name": "stderr",
     "output_type": "stream",
     "text": [
      "\u001b[38;5;229m\u001b[48;5;16m[yippy]\u001b[0m \u001b[32mINFO [2025-04-15 13:01:43,382] \u001b[0mCreating usort_offaxis_ovc coronagraph\n",
      "\u001b[38;5;229m\u001b[48;5;16m[yippy]\u001b[0m \u001b[33mWARNING [2025-04-15 13:01:43,384] \u001b[0mUnhandled header fields: {'D_INSC'}\n",
      "\u001b[38;5;229m\u001b[48;5;16m[yippy]\u001b[0m \u001b[33mWARNING [2025-04-15 13:01:43,384] \u001b[0mUsing default unit for D: m. Could not extract unit from comment: \"circumscribed diameter of the telescope in mete\"\n",
      "\u001b[38;5;229m\u001b[48;5;16m[yippy]\u001b[0m \u001b[32mINFO [2025-04-15 13:01:43,422] \u001b[0musort_offaxis_ovc is radially symmetric\n",
      "\u001b[38;5;229m\u001b[48;5;16m[yippy]\u001b[0m \u001b[32mINFO [2025-04-15 13:01:43,438] \u001b[0mCreated usort_offaxis_ovc\n"
     ]
    },
    {
     "name": "stdout",
     "output_type": "stream",
     "text": [
      "Setting the noise floor via user-supplied noisefloor_PPF...\n",
      "Azimuthally averaging contrast maps and noise floor...\n",
      "Calculating optics throughput from preset...\n",
      "Calculating epswarmTrcold as 1 - optics throughput...\n"
     ]
    },
    {
     "name": "stderr",
     "output_type": "stream",
     "text": [
      "/var/folders/10/v9qwyn2d7mx1blfr1v345wz80000gp/T/ipykernel_45668/1432815686.py:19: UserWarning: No artists with labels found to put in legend.  Note that artists whose label start with an underscore are ignored when legend() is called with no argument.\n",
      "  plt.legend()\n"
     ]
    },
    {
     "data": {
      "image/png": "[encoded data removed]",
      "text/plain": [
       "<Figure size 1000x600 with 1 Axes>"
      ]
     },
     "metadata": {},
     "output_type": "display_data"
    }
   ],
   "source": [
    "diameters = np.linspace(4, 15, 6)  \n",
    "\n",
    "exposure_times = []\n",
    "\n",
    "for diam in diameters:\n",
    "    params = imaging_params.copy()\n",
    "    params['diameter'] = diam # will overwrite the standard EAC1 telescope diameter\n",
    "    parsed_parameters= parse_input.parse_parameters(params)\n",
    "    texp, _ = calculate_texp(parsed_parameters, verbose=False)\n",
    "    exposure_times.append(texp.to(u.hr)[0].value)\n",
    "\n",
    "\n",
    "plt.figure(figsize=(10, 6))\n",
    "plt.plot(diameters, exposure_times, marker='o')\n",
    "\n",
    "plt.xlabel('Telescope Diameter (m)')\n",
    "plt.ylabel('Exposure Time (hours)')\n",
    "plt.title('Exposure Time vs Telescope Diameter')\n",
    "plt.legend()\n",
    "plt.yscale('log')\n",
    "plt.show()\n"
   ]
  },
  {
   "cell_type": "markdown",
   "metadata": {},
   "source": [
    "### 5.4. PSF Truncation Ratio"
   ]
  },
  {
   "cell_type": "code",
   "execution_count": null,
   "metadata": {},
   "outputs": [
    {
     "name": "stdout",
     "output_type": "stream",
     "text": [
      "Observatory Configuration:\n",
      "  Using preset: EAC1\n",
      "\n"
     ]
    },
    {
     "name": "stderr",
     "output_type": "stream",
     "text": [
      "\u001b[38;5;229m\u001b[48;5;16m[yippy]\u001b[0m \u001b[32mINFO [2025-04-15 13:01:48,395] \u001b[0mCreating usort_offaxis_ovc coronagraph\n",
      "\u001b[38;5;229m\u001b[48;5;16m[yippy]\u001b[0m \u001b[33mWARNING [2025-04-15 13:01:48,396] \u001b[0mUnhandled header fields: {'D_INSC'}\n",
      "\u001b[38;5;229m\u001b[48;5;16m[yippy]\u001b[0m \u001b[33mWARNING [2025-04-15 13:01:48,397] \u001b[0mUsing default unit for D: m. Could not extract unit from comment: \"circumscribed diameter of the telescope in mete\"\n",
      "\u001b[38;5;229m\u001b[48;5;16m[yippy]\u001b[0m \u001b[32mINFO [2025-04-15 13:01:48,439] \u001b[0musort_offaxis_ovc is radially symmetric\n",
      "\u001b[38;5;229m\u001b[48;5;16m[yippy]\u001b[0m \u001b[32mINFO [2025-04-15 13:01:48,457] \u001b[0mCreated usort_offaxis_ovc\n"
     ]
    },
    {
     "name": "stdout",
     "output_type": "stream",
     "text": [
      "Setting the noise floor via user-supplied noisefloor_PPF...\n",
      "Azimuthally averaging contrast maps and noise floor...\n",
      "Calculating optics throughput from preset...\n",
      "Calculating epswarmTrcold as 1 - optics throughput...\n",
      "Observatory Configuration:\n",
      "  Using preset: EAC1\n",
      "\n"
     ]
    },
    {
     "name": "stderr",
     "output_type": "stream",
     "text": [
      "\u001b[38;5;229m\u001b[48;5;16m[yippy]\u001b[0m \u001b[32mINFO [2025-04-15 13:01:54,724] \u001b[0mCreating usort_offaxis_ovc coronagraph\n",
      "\u001b[38;5;229m\u001b[48;5;16m[yippy]\u001b[0m \u001b[33mWARNING [2025-04-15 13:01:54,725] \u001b[0mUnhandled header fields: {'D_INSC'}\n",
      "\u001b[38;5;229m\u001b[48;5;16m[yippy]\u001b[0m \u001b[33mWARNING [2025-04-15 13:01:54,725] \u001b[0mUsing default unit for D: m. Could not extract unit from comment: \"circumscribed diameter of the telescope in mete\"\n",
      "\u001b[38;5;229m\u001b[48;5;16m[yippy]\u001b[0m \u001b[32mINFO [2025-04-15 13:01:54,762] \u001b[0musort_offaxis_ovc is radially symmetric\n",
      "\u001b[38;5;229m\u001b[48;5;16m[yippy]\u001b[0m \u001b[32mINFO [2025-04-15 13:01:54,782] \u001b[0mCreated usort_offaxis_ovc\n"
     ]
    },
    {
     "name": "stdout",
     "output_type": "stream",
     "text": [
      "Setting the noise floor via user-supplied noisefloor_PPF...\n",
      "Azimuthally averaging contrast maps and noise floor...\n",
      "Calculating optics throughput from preset...\n",
      "Calculating epswarmTrcold as 1 - optics throughput...\n",
      "Observatory Configuration:\n",
      "  Using preset: EAC1\n",
      "\n"
     ]
    },
    {
     "name": "stderr",
     "output_type": "stream",
     "text": [
      "\u001b[38;5;229m\u001b[48;5;16m[yippy]\u001b[0m \u001b[32mINFO [2025-04-15 13:02:05,715] \u001b[0mCreating usort_offaxis_ovc coronagraph\n",
      "\u001b[38;5;229m\u001b[48;5;16m[yippy]\u001b[0m \u001b[33mWARNING [2025-04-15 13:02:05,717] \u001b[0mUnhandled header fields: {'D_INSC'}\n",
      "\u001b[38;5;229m\u001b[48;5;16m[yippy]\u001b[0m \u001b[33mWARNING [2025-04-15 13:02:05,718] \u001b[0mUsing default unit for D: m. Could not extract unit from comment: \"circumscribed diameter of the telescope in mete\"\n",
      "\u001b[38;5;229m\u001b[48;5;16m[yippy]\u001b[0m \u001b[32mINFO [2025-04-15 13:02:05,758] \u001b[0musort_offaxis_ovc is radially symmetric\n",
      "\u001b[38;5;229m\u001b[48;5;16m[yippy]\u001b[0m \u001b[32mINFO [2025-04-15 13:02:05,782] \u001b[0mCreated usort_offaxis_ovc\n"
     ]
    },
    {
     "name": "stdout",
     "output_type": "stream",
     "text": [
      "Setting the noise floor via user-supplied noisefloor_PPF...\n",
      "Azimuthally averaging contrast maps and noise floor...\n",
      "Calculating optics throughput from preset...\n",
      "Calculating epswarmTrcold as 1 - optics throughput...\n",
      "Observatory Configuration:\n",
      "  Using preset: EAC1\n",
      "\n"
     ]
    },
    {
     "name": "stderr",
     "output_type": "stream",
     "text": [
      "\u001b[38;5;229m\u001b[48;5;16m[yippy]\u001b[0m \u001b[32mINFO [2025-04-15 13:02:18,388] \u001b[0mCreating usort_offaxis_ovc coronagraph\n",
      "\u001b[38;5;229m\u001b[48;5;16m[yippy]\u001b[0m \u001b[33mWARNING [2025-04-15 13:02:18,390] \u001b[0mUnhandled header fields: {'D_INSC'}\n",
      "\u001b[38;5;229m\u001b[48;5;16m[yippy]\u001b[0m \u001b[33mWARNING [2025-04-15 13:02:18,391] \u001b[0mUsing default unit for D: m. Could not extract unit from comment: \"circumscribed diameter of the telescope in mete\"\n",
      "\u001b[38;5;229m\u001b[48;5;16m[yippy]\u001b[0m \u001b[32mINFO [2025-04-15 13:02:18,436] \u001b[0musort_offaxis_ovc is radially symmetric\n",
      "\u001b[38;5;229m\u001b[48;5;16m[yippy]\u001b[0m \u001b[32mINFO [2025-04-15 13:02:18,487] \u001b[0mCreated usort_offaxis_ovc\n"
     ]
    },
    {
     "name": "stdout",
     "output_type": "stream",
     "text": [
      "Setting the noise floor via user-supplied noisefloor_PPF...\n",
      "Azimuthally averaging contrast maps and noise floor...\n",
      "Calculating optics throughput from preset...\n",
      "Calculating epswarmTrcold as 1 - optics throughput...\n",
      "Observatory Configuration:\n",
      "  Using preset: EAC1\n",
      "\n"
     ]
    },
    {
     "name": "stderr",
     "output_type": "stream",
     "text": [
      "\u001b[38;5;229m\u001b[48;5;16m[yippy]\u001b[0m \u001b[32mINFO [2025-04-15 13:02:29,383] \u001b[0mCreating usort_offaxis_ovc coronagraph\n",
      "\u001b[38;5;229m\u001b[48;5;16m[yippy]\u001b[0m \u001b[33mWARNING [2025-04-15 13:02:29,384] \u001b[0mUnhandled header fields: {'D_INSC'}\n",
      "\u001b[38;5;229m\u001b[48;5;16m[yippy]\u001b[0m \u001b[33mWARNING [2025-04-15 13:02:29,385] \u001b[0mUsing default unit for D: m. Could not extract unit from comment: \"circumscribed diameter of the telescope in mete\"\n",
      "\u001b[38;5;229m\u001b[48;5;16m[yippy]\u001b[0m \u001b[32mINFO [2025-04-15 13:02:29,433] \u001b[0musort_offaxis_ovc is radially symmetric\n",
      "\u001b[38;5;229m\u001b[48;5;16m[yippy]\u001b[0m \u001b[32mINFO [2025-04-15 13:02:29,478] \u001b[0mCreated usort_offaxis_ovc\n"
     ]
    },
    {
     "name": "stdout",
     "output_type": "stream",
     "text": [
      "Setting the noise floor via user-supplied noisefloor_PPF...\n",
      "Azimuthally averaging contrast maps and noise floor...\n",
      "Calculating optics throughput from preset...\n",
      "Calculating epswarmTrcold as 1 - optics throughput...\n",
      "Observatory Configuration:\n",
      "  Using preset: EAC1\n",
      "\n"
     ]
    },
    {
     "name": "stderr",
     "output_type": "stream",
     "text": [
      "\u001b[38;5;229m\u001b[48;5;16m[yippy]\u001b[0m \u001b[32mINFO [2025-04-15 13:02:41,502] \u001b[0mCreating usort_offaxis_ovc coronagraph\n",
      "\u001b[38;5;229m\u001b[48;5;16m[yippy]\u001b[0m \u001b[33mWARNING [2025-04-15 13:02:41,504] \u001b[0mUnhandled header fields: {'D_INSC'}\n",
      "\u001b[38;5;229m\u001b[48;5;16m[yippy]\u001b[0m \u001b[33mWARNING [2025-04-15 13:02:41,504] \u001b[0mUsing default unit for D: m. Could not extract unit from comment: \"circumscribed diameter of the telescope in mete\"\n",
      "\u001b[38;5;229m\u001b[48;5;16m[yippy]\u001b[0m \u001b[32mINFO [2025-04-15 13:02:41,537] \u001b[0musort_offaxis_ovc is radially symmetric\n",
      "\u001b[38;5;229m\u001b[48;5;16m[yippy]\u001b[0m \u001b[32mINFO [2025-04-15 13:02:41,559] \u001b[0mCreated usort_offaxis_ovc\n"
     ]
    },
    {
     "name": "stdout",
     "output_type": "stream",
     "text": [
      "Setting the noise floor via user-supplied noisefloor_PPF...\n",
      "Azimuthally averaging contrast maps and noise floor...\n",
      "Calculating optics throughput from preset...\n",
      "Calculating epswarmTrcold as 1 - optics throughput...\n",
      "Observatory Configuration:\n",
      "  Using preset: EAC1\n",
      "\n"
     ]
    },
    {
     "name": "stderr",
     "output_type": "stream",
     "text": [
      "\u001b[38;5;229m\u001b[48;5;16m[yippy]\u001b[0m \u001b[32mINFO [2025-04-15 13:02:52,277] \u001b[0mCreating usort_offaxis_ovc coronagraph\n",
      "\u001b[38;5;229m\u001b[48;5;16m[yippy]\u001b[0m \u001b[33mWARNING [2025-04-15 13:02:52,278] \u001b[0mUnhandled header fields: {'D_INSC'}\n",
      "\u001b[38;5;229m\u001b[48;5;16m[yippy]\u001b[0m \u001b[33mWARNING [2025-04-15 13:02:52,279] \u001b[0mUsing default unit for D: m. Could not extract unit from comment: \"circumscribed diameter of the telescope in mete\"\n",
      "\u001b[38;5;229m\u001b[48;5;16m[yippy]\u001b[0m \u001b[32mINFO [2025-04-15 13:02:52,318] \u001b[0musort_offaxis_ovc is radially symmetric\n",
      "\u001b[38;5;229m\u001b[48;5;16m[yippy]\u001b[0m \u001b[32mINFO [2025-04-15 13:02:52,335] \u001b[0mCreated usort_offaxis_ovc\n"
     ]
    },
    {
     "name": "stdout",
     "output_type": "stream",
     "text": [
      "Setting the noise floor via user-supplied noisefloor_PPF...\n",
      "Azimuthally averaging contrast maps and noise floor...\n",
      "Calculating optics throughput from preset...\n",
      "Calculating epswarmTrcold as 1 - optics throughput...\n",
      "Observatory Configuration:\n",
      "  Using preset: EAC1\n",
      "\n"
     ]
    },
    {
     "name": "stderr",
     "output_type": "stream",
     "text": [
      "\u001b[38;5;229m\u001b[48;5;16m[yippy]\u001b[0m \u001b[32mINFO [2025-04-15 13:03:02,528] \u001b[0mCreating usort_offaxis_ovc coronagraph\n",
      "\u001b[38;5;229m\u001b[48;5;16m[yippy]\u001b[0m \u001b[33mWARNING [2025-04-15 13:03:02,529] \u001b[0mUnhandled header fields: {'D_INSC'}\n",
      "\u001b[38;5;229m\u001b[48;5;16m[yippy]\u001b[0m \u001b[33mWARNING [2025-04-15 13:03:02,529] \u001b[0mUsing default unit for D: m. Could not extract unit from comment: \"circumscribed diameter of the telescope in mete\"\n",
      "\u001b[38;5;229m\u001b[48;5;16m[yippy]\u001b[0m \u001b[32mINFO [2025-04-15 13:03:02,569] \u001b[0musort_offaxis_ovc is radially symmetric\n",
      "\u001b[38;5;229m\u001b[48;5;16m[yippy]\u001b[0m \u001b[32mINFO [2025-04-15 13:03:02,588] \u001b[0mCreated usort_offaxis_ovc\n"
     ]
    },
    {
     "name": "stdout",
     "output_type": "stream",
     "text": [
      "Setting the noise floor via user-supplied noisefloor_PPF...\n",
      "Azimuthally averaging contrast maps and noise floor...\n",
      "Calculating optics throughput from preset...\n",
      "Calculating epswarmTrcold as 1 - optics throughput...\n",
      "Observatory Configuration:\n",
      "  Using preset: EAC1\n",
      "\n"
     ]
    },
    {
     "name": "stderr",
     "output_type": "stream",
     "text": [
      "\u001b[38;5;229m\u001b[48;5;16m[yippy]\u001b[0m \u001b[32mINFO [2025-04-15 13:03:12,934] \u001b[0mCreating usort_offaxis_ovc coronagraph\n",
      "\u001b[38;5;229m\u001b[48;5;16m[yippy]\u001b[0m \u001b[33mWARNING [2025-04-15 13:03:12,936] \u001b[0mUnhandled header fields: {'D_INSC'}\n",
      "\u001b[38;5;229m\u001b[48;5;16m[yippy]\u001b[0m \u001b[33mWARNING [2025-04-15 13:03:12,937] \u001b[0mUsing default unit for D: m. Could not extract unit from comment: \"circumscribed diameter of the telescope in mete\"\n",
      "\u001b[38;5;229m\u001b[48;5;16m[yippy]\u001b[0m \u001b[32mINFO [2025-04-15 13:03:12,969] \u001b[0musort_offaxis_ovc is radially symmetric\n",
      "\u001b[38;5;229m\u001b[48;5;16m[yippy]\u001b[0m \u001b[32mINFO [2025-04-15 13:03:12,985] \u001b[0mCreated usort_offaxis_ovc\n"
     ]
    },
    {
     "name": "stdout",
     "output_type": "stream",
     "text": [
      "Setting the noise floor via user-supplied noisefloor_PPF...\n",
      "Azimuthally averaging contrast maps and noise floor...\n",
      "Calculating optics throughput from preset...\n",
      "Calculating epswarmTrcold as 1 - optics throughput...\n",
      "Observatory Configuration:\n",
      "  Using preset: EAC1\n",
      "\n"
     ]
    },
    {
     "name": "stderr",
     "output_type": "stream",
     "text": [
      "\u001b[38;5;229m\u001b[48;5;16m[yippy]\u001b[0m \u001b[32mINFO [2025-04-15 13:03:23,051] \u001b[0mCreating usort_offaxis_ovc coronagraph\n",
      "\u001b[38;5;229m\u001b[48;5;16m[yippy]\u001b[0m \u001b[33mWARNING [2025-04-15 13:03:23,053] \u001b[0mUnhandled header fields: {'D_INSC'}\n",
      "\u001b[38;5;229m\u001b[48;5;16m[yippy]\u001b[0m \u001b[33mWARNING [2025-04-15 13:03:23,054] \u001b[0mUsing default unit for D: m. Could not extract unit from comment: \"circumscribed diameter of the telescope in mete\"\n",
      "\u001b[38;5;229m\u001b[48;5;16m[yippy]\u001b[0m \u001b[32mINFO [2025-04-15 13:03:23,093] \u001b[0musort_offaxis_ovc is radially symmetric\n",
      "\u001b[38;5;229m\u001b[48;5;16m[yippy]\u001b[0m \u001b[32mINFO [2025-04-15 13:03:23,109] \u001b[0mCreated usort_offaxis_ovc\n"
     ]
    },
    {
     "name": "stdout",
     "output_type": "stream",
     "text": [
      "Setting the noise floor via user-supplied noisefloor_PPF...\n",
      "Azimuthally averaging contrast maps and noise floor...\n",
      "Calculating optics throughput from preset...\n",
      "Calculating epswarmTrcold as 1 - optics throughput...\n",
      "Observatory Configuration:\n",
      "  Using preset: EAC1\n",
      "\n"
     ]
    },
    {
     "name": "stderr",
     "output_type": "stream",
     "text": [
      "\u001b[38;5;229m\u001b[48;5;16m[yippy]\u001b[0m \u001b[32mINFO [2025-04-15 13:03:32,964] \u001b[0mCreating usort_offaxis_ovc coronagraph\n",
      "\u001b[38;5;229m\u001b[48;5;16m[yippy]\u001b[0m \u001b[33mWARNING [2025-04-15 13:03:32,965] \u001b[0mUnhandled header fields: {'D_INSC'}\n",
      "\u001b[38;5;229m\u001b[48;5;16m[yippy]\u001b[0m \u001b[33mWARNING [2025-04-15 13:03:32,965] \u001b[0mUsing default unit for D: m. Could not extract unit from comment: \"circumscribed diameter of the telescope in mete\"\n",
      "\u001b[38;5;229m\u001b[48;5;16m[yippy]\u001b[0m \u001b[32mINFO [2025-04-15 13:03:33,002] \u001b[0musort_offaxis_ovc is radially symmetric\n",
      "\u001b[38;5;229m\u001b[48;5;16m[yippy]\u001b[0m \u001b[32mINFO [2025-04-15 13:03:33,017] \u001b[0mCreated usort_offaxis_ovc\n"
     ]
    },
    {
     "name": "stdout",
     "output_type": "stream",
     "text": [
      "Setting the noise floor via user-supplied noisefloor_PPF...\n",
      "Azimuthally averaging contrast maps and noise floor...\n",
      "Calculating optics throughput from preset...\n",
      "Calculating epswarmTrcold as 1 - optics throughput...\n",
      "Observatory Configuration:\n",
      "  Using preset: EAC1\n",
      "\n"
     ]
    },
    {
     "name": "stderr",
     "output_type": "stream",
     "text": [
      "\u001b[38;5;229m\u001b[48;5;16m[yippy]\u001b[0m \u001b[32mINFO [2025-04-15 13:03:42,530] \u001b[0mCreating usort_offaxis_ovc coronagraph\n",
      "\u001b[38;5;229m\u001b[48;5;16m[yippy]\u001b[0m \u001b[33mWARNING [2025-04-15 13:03:42,531] \u001b[0mUnhandled header fields: {'D_INSC'}\n",
      "\u001b[38;5;229m\u001b[48;5;16m[yippy]\u001b[0m \u001b[33mWARNING [2025-04-15 13:03:42,532] \u001b[0mUsing default unit for D: m. Could not extract unit from comment: \"circumscribed diameter of the telescope in mete\"\n",
      "\u001b[38;5;229m\u001b[48;5;16m[yippy]\u001b[0m \u001b[32mINFO [2025-04-15 13:03:42,565] \u001b[0musort_offaxis_ovc is radially symmetric\n",
      "\u001b[38;5;229m\u001b[48;5;16m[yippy]\u001b[0m \u001b[32mINFO [2025-04-15 13:03:42,583] \u001b[0mCreated usort_offaxis_ovc\n"
     ]
    },
    {
     "name": "stdout",
     "output_type": "stream",
     "text": [
      "Setting the noise floor via user-supplied noisefloor_PPF...\n",
      "Azimuthally averaging contrast maps and noise floor...\n",
      "Calculating optics throughput from preset...\n",
      "Calculating epswarmTrcold as 1 - optics throughput...\n",
      "Observatory Configuration:\n",
      "  Using preset: EAC1\n",
      "\n"
     ]
    },
    {
     "name": "stderr",
     "output_type": "stream",
     "text": [
      "\u001b[38;5;229m\u001b[48;5;16m[yippy]\u001b[0m \u001b[32mINFO [2025-04-15 13:03:52,585] \u001b[0mCreating usort_offaxis_ovc coronagraph\n",
      "\u001b[38;5;229m\u001b[48;5;16m[yippy]\u001b[0m \u001b[33mWARNING [2025-04-15 13:03:52,587] \u001b[0mUnhandled header fields: {'D_INSC'}\n",
      "\u001b[38;5;229m\u001b[48;5;16m[yippy]\u001b[0m \u001b[33mWARNING [2025-04-15 13:03:52,588] \u001b[0mUsing default unit for D: m. Could not extract unit from comment: \"circumscribed diameter of the telescope in mete\"\n",
      "\u001b[38;5;229m\u001b[48;5;16m[yippy]\u001b[0m \u001b[32mINFO [2025-04-15 13:03:52,624] \u001b[0musort_offaxis_ovc is radially symmetric\n",
      "\u001b[38;5;229m\u001b[48;5;16m[yippy]\u001b[0m \u001b[32mINFO [2025-04-15 13:03:52,641] \u001b[0mCreated usort_offaxis_ovc\n"
     ]
    },
    {
     "name": "stdout",
     "output_type": "stream",
     "text": [
      "Setting the noise floor via user-supplied noisefloor_PPF...\n",
      "Azimuthally averaging contrast maps and noise floor...\n",
      "Calculating optics throughput from preset...\n",
      "Calculating epswarmTrcold as 1 - optics throughput...\n",
      "Observatory Configuration:\n",
      "  Using preset: EAC1\n",
      "\n"
     ]
    },
    {
     "name": "stderr",
     "output_type": "stream",
     "text": [
      "\u001b[38;5;229m\u001b[48;5;16m[yippy]\u001b[0m \u001b[32mINFO [2025-04-15 13:04:02,451] \u001b[0mCreating usort_offaxis_ovc coronagraph\n",
      "\u001b[38;5;229m\u001b[48;5;16m[yippy]\u001b[0m \u001b[33mWARNING [2025-04-15 13:04:02,452] \u001b[0mUnhandled header fields: {'D_INSC'}\n",
      "\u001b[38;5;229m\u001b[48;5;16m[yippy]\u001b[0m \u001b[33mWARNING [2025-04-15 13:04:02,452] \u001b[0mUsing default unit for D: m. Could not extract unit from comment: \"circumscribed diameter of the telescope in mete\"\n",
      "\u001b[38;5;229m\u001b[48;5;16m[yippy]\u001b[0m \u001b[32mINFO [2025-04-15 13:04:02,494] \u001b[0musort_offaxis_ovc is radially symmetric\n",
      "\u001b[38;5;229m\u001b[48;5;16m[yippy]\u001b[0m \u001b[32mINFO [2025-04-15 13:04:02,510] \u001b[0mCreated usort_offaxis_ovc\n"
     ]
    },
    {
     "name": "stdout",
     "output_type": "stream",
     "text": [
      "Setting the noise floor via user-supplied noisefloor_PPF...\n",
      "Azimuthally averaging contrast maps and noise floor...\n",
      "Calculating optics throughput from preset...\n",
      "Calculating epswarmTrcold as 1 - optics throughput...\n",
      "Observatory Configuration:\n",
      "  Using preset: EAC1\n",
      "\n"
     ]
    },
    {
     "name": "stderr",
     "output_type": "stream",
     "text": [
      "\u001b[38;5;229m\u001b[48;5;16m[yippy]\u001b[0m \u001b[32mINFO [2025-04-15 13:04:11,874] \u001b[0mCreating usort_offaxis_ovc coronagraph\n",
      "\u001b[38;5;229m\u001b[48;5;16m[yippy]\u001b[0m \u001b[33mWARNING [2025-04-15 13:04:11,875] \u001b[0mUnhandled header fields: {'D_INSC'}\n",
      "\u001b[38;5;229m\u001b[48;5;16m[yippy]\u001b[0m \u001b[33mWARNING [2025-04-15 13:04:11,876] \u001b[0mUsing default unit for D: m. Could not extract unit from comment: \"circumscribed diameter of the telescope in mete\"\n",
      "\u001b[38;5;229m\u001b[48;5;16m[yippy]\u001b[0m \u001b[32mINFO [2025-04-15 13:04:11,907] \u001b[0musort_offaxis_ovc is radially symmetric\n",
      "\u001b[38;5;229m\u001b[48;5;16m[yippy]\u001b[0m \u001b[32mINFO [2025-04-15 13:04:11,922] \u001b[0mCreated usort_offaxis_ovc\n"
     ]
    },
    {
     "name": "stdout",
     "output_type": "stream",
     "text": [
      "Setting the noise floor via user-supplied noisefloor_PPF...\n",
      "Azimuthally averaging contrast maps and noise floor...\n",
      "Calculating optics throughput from preset...\n",
      "Calculating epswarmTrcold as 1 - optics throughput...\n",
      "Observatory Configuration:\n",
      "  Using preset: EAC1\n",
      "\n"
     ]
    },
    {
     "name": "stderr",
     "output_type": "stream",
     "text": [
      "\u001b[38;5;229m\u001b[48;5;16m[yippy]\u001b[0m \u001b[32mINFO [2025-04-15 13:04:20,409] \u001b[0mCreating usort_offaxis_ovc coronagraph\n",
      "\u001b[38;5;229m\u001b[48;5;16m[yippy]\u001b[0m \u001b[33mWARNING [2025-04-15 13:04:20,411] \u001b[0mUnhandled header fields: {'D_INSC'}\n",
      "\u001b[38;5;229m\u001b[48;5;16m[yippy]\u001b[0m \u001b[33mWARNING [2025-04-15 13:04:20,412] \u001b[0mUsing default unit for D: m. Could not extract unit from comment: \"circumscribed diameter of the telescope in mete\"\n",
      "\u001b[38;5;229m\u001b[48;5;16m[yippy]\u001b[0m \u001b[32mINFO [2025-04-15 13:04:20,448] \u001b[0musort_offaxis_ovc is radially symmetric\n",
      "\u001b[38;5;229m\u001b[48;5;16m[yippy]\u001b[0m \u001b[32mINFO [2025-04-15 13:04:20,467] \u001b[0mCreated usort_offaxis_ovc\n"
     ]
    },
    {
     "name": "stdout",
     "output_type": "stream",
     "text": [
      "Setting the noise floor via user-supplied noisefloor_PPF...\n",
      "Azimuthally averaging contrast maps and noise floor...\n",
      "Calculating optics throughput from preset...\n",
      "Calculating epswarmTrcold as 1 - optics throughput...\n",
      "Observatory Configuration:\n",
      "  Using preset: EAC1\n",
      "\n"
     ]
    },
    {
     "name": "stderr",
     "output_type": "stream",
     "text": [
      "\u001b[38;5;229m\u001b[48;5;16m[yippy]\u001b[0m \u001b[32mINFO [2025-04-15 13:04:29,998] \u001b[0mCreating usort_offaxis_ovc coronagraph\n",
      "\u001b[38;5;229m\u001b[48;5;16m[yippy]\u001b[0m \u001b[33mWARNING [2025-04-15 13:04:29,999] \u001b[0mUnhandled header fields: {'D_INSC'}\n",
      "\u001b[38;5;229m\u001b[48;5;16m[yippy]\u001b[0m \u001b[33mWARNING [2025-04-15 13:04:29,999] \u001b[0mUsing default unit for D: m. Could not extract unit from comment: \"circumscribed diameter of the telescope in mete\"\n",
      "\u001b[38;5;229m\u001b[48;5;16m[yippy]\u001b[0m \u001b[32mINFO [2025-04-15 13:04:30,037] \u001b[0musort_offaxis_ovc is radially symmetric\n",
      "\u001b[38;5;229m\u001b[48;5;16m[yippy]\u001b[0m \u001b[32mINFO [2025-04-15 13:04:30,060] \u001b[0mCreated usort_offaxis_ovc\n"
     ]
    },
    {
     "name": "stdout",
     "output_type": "stream",
     "text": [
      "Setting the noise floor via user-supplied noisefloor_PPF...\n",
      "Azimuthally averaging contrast maps and noise floor...\n",
      "Calculating optics throughput from preset...\n",
      "Calculating epswarmTrcold as 1 - optics throughput...\n",
      "Observatory Configuration:\n",
      "  Using preset: EAC1\n",
      "\n"
     ]
    },
    {
     "name": "stderr",
     "output_type": "stream",
     "text": [
      "\u001b[38;5;229m\u001b[48;5;16m[yippy]\u001b[0m \u001b[32mINFO [2025-04-15 13:04:38,767] \u001b[0mCreating usort_offaxis_ovc coronagraph\n",
      "\u001b[38;5;229m\u001b[48;5;16m[yippy]\u001b[0m \u001b[33mWARNING [2025-04-15 13:04:38,768] \u001b[0mUnhandled header fields: {'D_INSC'}\n",
      "\u001b[38;5;229m\u001b[48;5;16m[yippy]\u001b[0m \u001b[33mWARNING [2025-04-15 13:04:38,769] \u001b[0mUsing default unit for D: m. Could not extract unit from comment: \"circumscribed diameter of the telescope in mete\"\n",
      "\u001b[38;5;229m\u001b[48;5;16m[yippy]\u001b[0m \u001b[32mINFO [2025-04-15 13:04:38,802] \u001b[0musort_offaxis_ovc is radially symmetric\n",
      "\u001b[38;5;229m\u001b[48;5;16m[yippy]\u001b[0m \u001b[32mINFO [2025-04-15 13:04:38,819] \u001b[0mCreated usort_offaxis_ovc\n"
     ]
    },
    {
     "name": "stdout",
     "output_type": "stream",
     "text": [
      "Setting the noise floor via user-supplied noisefloor_PPF...\n",
      "Azimuthally averaging contrast maps and noise floor...\n",
      "Calculating optics throughput from preset...\n",
      "Calculating epswarmTrcold as 1 - optics throughput...\n",
      "Observatory Configuration:\n",
      "  Using preset: EAC1\n",
      "\n"
     ]
    },
    {
     "name": "stderr",
     "output_type": "stream",
     "text": [
      "\u001b[38;5;229m\u001b[48;5;16m[yippy]\u001b[0m \u001b[32mINFO [2025-04-15 13:04:47,175] \u001b[0mCreating usort_offaxis_ovc coronagraph\n",
      "\u001b[38;5;229m\u001b[48;5;16m[yippy]\u001b[0m \u001b[33mWARNING [2025-04-15 13:04:47,176] \u001b[0mUnhandled header fields: {'D_INSC'}\n",
      "\u001b[38;5;229m\u001b[48;5;16m[yippy]\u001b[0m \u001b[33mWARNING [2025-04-15 13:04:47,177] \u001b[0mUsing default unit for D: m. Could not extract unit from comment: \"circumscribed diameter of the telescope in mete\"\n",
      "\u001b[38;5;229m\u001b[48;5;16m[yippy]\u001b[0m \u001b[32mINFO [2025-04-15 13:04:47,225] \u001b[0musort_offaxis_ovc is radially symmetric\n",
      "\u001b[38;5;229m\u001b[48;5;16m[yippy]\u001b[0m \u001b[32mINFO [2025-04-15 13:04:47,246] \u001b[0mCreated usort_offaxis_ovc\n"
     ]
    },
    {
     "name": "stdout",
     "output_type": "stream",
     "text": [
      "Setting the noise floor via user-supplied noisefloor_PPF...\n",
      "Azimuthally averaging contrast maps and noise floor...\n",
      "Calculating optics throughput from preset...\n",
      "Calculating epswarmTrcold as 1 - optics throughput...\n",
      "WARNING: Photometric aperture is not large enough. Hardcoded infinity results.\n",
      "Observatory Configuration:\n",
      "  Using preset: EAC1\n",
      "\n"
     ]
    },
    {
     "name": "stderr",
     "output_type": "stream",
     "text": [
      "\u001b[38;5;229m\u001b[48;5;16m[yippy]\u001b[0m \u001b[32mINFO [2025-04-15 13:04:55,048] \u001b[0mCreating usort_offaxis_ovc coronagraph\n",
      "\u001b[38;5;229m\u001b[48;5;16m[yippy]\u001b[0m \u001b[33mWARNING [2025-04-15 13:04:55,050] \u001b[0mUnhandled header fields: {'D_INSC'}\n",
      "\u001b[38;5;229m\u001b[48;5;16m[yippy]\u001b[0m \u001b[33mWARNING [2025-04-15 13:04:55,051] \u001b[0mUsing default unit for D: m. Could not extract unit from comment: \"circumscribed diameter of the telescope in mete\"\n",
      "\u001b[38;5;229m\u001b[48;5;16m[yippy]\u001b[0m \u001b[32mINFO [2025-04-15 13:04:55,091] \u001b[0musort_offaxis_ovc is radially symmetric\n",
      "\u001b[38;5;229m\u001b[48;5;16m[yippy]\u001b[0m \u001b[32mINFO [2025-04-15 13:04:55,107] \u001b[0mCreated usort_offaxis_ovc\n"
     ]
    },
    {
     "name": "stdout",
     "output_type": "stream",
     "text": [
      "Setting the noise floor via user-supplied noisefloor_PPF...\n",
      "Azimuthally averaging contrast maps and noise floor...\n",
      "Calculating optics throughput from preset...\n",
      "Calculating epswarmTrcold as 1 - optics throughput...\n",
      "WARNING: Photometric aperture is not large enough. Hardcoded infinity results.\n"
     ]
    },
    {
     "data": {
      "image/png": "[encoded data removed]",
      "text/plain": [
       "<Figure size 1000x600 with 1 Axes>"
      ]
     },
     "metadata": {},
     "output_type": "display_data"
    }
   ],
   "source": [
    "psfratios = np.linspace(0., 1, 20)   \n",
    "\n",
    "exposure_times = []\n",
    "\n",
    "for ratio in psfratios:\n",
    "    params = imaging_params.copy()\n",
    "    params['psf_trunc_ratio'] = ratio\n",
    "    parsed_parameters= parse_input.parse_parameters(params)\n",
    "    texp, _ = calculate_texp(parsed_parameters, verbose=False)\n",
    "    exposure_times.append(texp.to(u.hr)[0].value)\n",
    "\n",
    "\n",
    "fig, ax1 = plt.subplots(figsize=(10, 6))\n",
    "# Primary x-axis (separation arcsec)\n",
    "ax1.plot(psfratios, exposure_times, marker='o', label='Valid exposures')\n",
    "ax1.plot(psfratios[np.isinf(exposure_times)],\n",
    "         np.ones_like(psfratios)[np.isinf(exposure_times)]*50,\n",
    "         marker='x', linestyle='', color='red', label='Infinite exposures')\n",
    "\n",
    "\n",
    "ax1.set_xlabel('PSF Truncation Ratio')\n",
    "ax1.set_ylabel('Exposure time (hours)')\n",
    "ax1.grid(True)\n",
    "\n",
    "plt.title('Exposure Time vs. PSF Truncation Ratio')\n",
    "plt.legend()\n",
    "plt.tight_layout()\n",
    "plt.show()\n",
    "\n",
    "\n",
    "# TODO CHECK PEAK OF PSF_RATIOS for a given exp time, there should be something that maximises the SNR\n"
   ]
  },
  {
   "cell_type": "code",
   "execution_count": 21,
   "metadata": {},
   "outputs": [
    {
     "name": "stdout",
     "output_type": "stream",
     "text": [
      "Observatory Configuration:\n",
      "  Using preset: EAC1\n",
      "\n"
     ]
    },
    {
     "name": "stderr",
     "output_type": "stream",
     "text": [
      "\u001b[38;5;229m\u001b[48;5;16m[yippy]\u001b[0m \u001b[32mINFO [2025-04-15 14:54:01,921] \u001b[0mCreating usort_offaxis_ovc coronagraph\n",
      "\u001b[38;5;229m\u001b[48;5;16m[yippy]\u001b[0m \u001b[33mWARNING [2025-04-15 14:54:01,923] \u001b[0mUnhandled header fields: {'D_INSC'}\n",
      "\u001b[38;5;229m\u001b[48;5;16m[yippy]\u001b[0m \u001b[33mWARNING [2025-04-15 14:54:01,924] \u001b[0mUsing default unit for D: m. Could not extract unit from comment: \"circumscribed diameter of the telescope in mete\"\n",
      "\u001b[38;5;229m\u001b[48;5;16m[yippy]\u001b[0m \u001b[32mINFO [2025-04-15 14:54:01,979] \u001b[0musort_offaxis_ovc is radially symmetric\n",
      "\u001b[38;5;229m\u001b[48;5;16m[yippy]\u001b[0m \u001b[32mINFO [2025-04-15 14:54:02,058] \u001b[0mCreated usort_offaxis_ovc\n"
     ]
    },
    {
     "name": "stdout",
     "output_type": "stream",
     "text": [
      "Setting the noise floor via user-supplied noisefloor_PPF...\n",
      "Azimuthally averaging contrast maps and noise floor...\n",
      "Calculating optics throughput from preset...\n",
      "Calculating epswarmTrcold as 1 - optics throughput...\n",
      "Observatory Configuration:\n",
      "  Using preset: EAC1\n",
      "\n"
     ]
    },
    {
     "name": "stderr",
     "output_type": "stream",
     "text": [
      "\u001b[38;5;229m\u001b[48;5;16m[yippy]\u001b[0m \u001b[32mINFO [2025-04-15 14:54:12,958] \u001b[0mCreating usort_offaxis_ovc coronagraph\n",
      "\u001b[38;5;229m\u001b[48;5;16m[yippy]\u001b[0m \u001b[33mWARNING [2025-04-15 14:54:12,959] \u001b[0mUnhandled header fields: {'D_INSC'}\n",
      "\u001b[38;5;229m\u001b[48;5;16m[yippy]\u001b[0m \u001b[33mWARNING [2025-04-15 14:54:12,959] \u001b[0mUsing default unit for D: m. Could not extract unit from comment: \"circumscribed diameter of the telescope in mete\"\n",
      "\u001b[38;5;229m\u001b[48;5;16m[yippy]\u001b[0m \u001b[32mINFO [2025-04-15 14:54:13,006] \u001b[0musort_offaxis_ovc is radially symmetric\n",
      "\u001b[38;5;229m\u001b[48;5;16m[yippy]\u001b[0m \u001b[32mINFO [2025-04-15 14:54:13,053] \u001b[0mCreated usort_offaxis_ovc\n"
     ]
    },
    {
     "name": "stdout",
     "output_type": "stream",
     "text": [
      "Setting the noise floor via user-supplied noisefloor_PPF...\n",
      "Azimuthally averaging contrast maps and noise floor...\n",
      "Calculating optics throughput from preset...\n",
      "Calculating epswarmTrcold as 1 - optics throughput...\n",
      "Observatory Configuration:\n",
      "  Using preset: EAC1\n",
      "\n"
     ]
    },
    {
     "name": "stderr",
     "output_type": "stream",
     "text": [
      "\u001b[38;5;229m\u001b[48;5;16m[yippy]\u001b[0m \u001b[32mINFO [2025-04-15 14:54:23,280] \u001b[0mCreating usort_offaxis_ovc coronagraph\n",
      "\u001b[38;5;229m\u001b[48;5;16m[yippy]\u001b[0m \u001b[33mWARNING [2025-04-15 14:54:23,281] \u001b[0mUnhandled header fields: {'D_INSC'}\n",
      "\u001b[38;5;229m\u001b[48;5;16m[yippy]\u001b[0m \u001b[33mWARNING [2025-04-15 14:54:23,281] \u001b[0mUsing default unit for D: m. Could not extract unit from comment: \"circumscribed diameter of the telescope in mete\"\n",
      "\u001b[38;5;229m\u001b[48;5;16m[yippy]\u001b[0m \u001b[32mINFO [2025-04-15 14:54:23,317] \u001b[0musort_offaxis_ovc is radially symmetric\n",
      "\u001b[38;5;229m\u001b[48;5;16m[yippy]\u001b[0m \u001b[32mINFO [2025-04-15 14:54:23,334] \u001b[0mCreated usort_offaxis_ovc\n"
     ]
    },
    {
     "name": "stdout",
     "output_type": "stream",
     "text": [
      "Setting the noise floor via user-supplied noisefloor_PPF...\n",
      "Azimuthally averaging contrast maps and noise floor...\n",
      "Calculating optics throughput from preset...\n",
      "Calculating epswarmTrcold as 1 - optics throughput...\n",
      "Observatory Configuration:\n",
      "  Using preset: EAC1\n",
      "\n"
     ]
    },
    {
     "name": "stderr",
     "output_type": "stream",
     "text": [
      "\u001b[38;5;229m\u001b[48;5;16m[yippy]\u001b[0m \u001b[32mINFO [2025-04-15 14:54:34,402] \u001b[0mCreating usort_offaxis_ovc coronagraph\n",
      "\u001b[38;5;229m\u001b[48;5;16m[yippy]\u001b[0m \u001b[33mWARNING [2025-04-15 14:54:34,404] \u001b[0mUnhandled header fields: {'D_INSC'}\n",
      "\u001b[38;5;229m\u001b[48;5;16m[yippy]\u001b[0m \u001b[33mWARNING [2025-04-15 14:54:34,405] \u001b[0mUsing default unit for D: m. Could not extract unit from comment: \"circumscribed diameter of the telescope in mete\"\n",
      "\u001b[38;5;229m\u001b[48;5;16m[yippy]\u001b[0m \u001b[32mINFO [2025-04-15 14:54:34,451] \u001b[0musort_offaxis_ovc is radially symmetric\n",
      "\u001b[38;5;229m\u001b[48;5;16m[yippy]\u001b[0m \u001b[32mINFO [2025-04-15 14:54:34,497] \u001b[0mCreated usort_offaxis_ovc\n"
     ]
    },
    {
     "name": "stdout",
     "output_type": "stream",
     "text": [
      "Setting the noise floor via user-supplied noisefloor_PPF...\n",
      "Azimuthally averaging contrast maps and noise floor...\n",
      "Calculating optics throughput from preset...\n",
      "Calculating epswarmTrcold as 1 - optics throughput...\n",
      "Observatory Configuration:\n",
      "  Using preset: EAC1\n",
      "\n"
     ]
    },
    {
     "name": "stderr",
     "output_type": "stream",
     "text": [
      "\u001b[38;5;229m\u001b[48;5;16m[yippy]\u001b[0m \u001b[32mINFO [2025-04-15 14:54:44,848] \u001b[0mCreating usort_offaxis_ovc coronagraph\n",
      "\u001b[38;5;229m\u001b[48;5;16m[yippy]\u001b[0m \u001b[33mWARNING [2025-04-15 14:54:44,849] \u001b[0mUnhandled header fields: {'D_INSC'}\n",
      "\u001b[38;5;229m\u001b[48;5;16m[yippy]\u001b[0m \u001b[33mWARNING [2025-04-15 14:54:44,850] \u001b[0mUsing default unit for D: m. Could not extract unit from comment: \"circumscribed diameter of the telescope in mete\"\n",
      "\u001b[38;5;229m\u001b[48;5;16m[yippy]\u001b[0m \u001b[32mINFO [2025-04-15 14:54:44,901] \u001b[0musort_offaxis_ovc is radially symmetric\n",
      "\u001b[38;5;229m\u001b[48;5;16m[yippy]\u001b[0m \u001b[32mINFO [2025-04-15 14:54:44,932] \u001b[0mCreated usort_offaxis_ovc\n"
     ]
    },
    {
     "name": "stdout",
     "output_type": "stream",
     "text": [
      "Setting the noise floor via user-supplied noisefloor_PPF...\n",
      "Azimuthally averaging contrast maps and noise floor...\n",
      "Calculating optics throughput from preset...\n",
      "Calculating epswarmTrcold as 1 - optics throughput...\n",
      "Observatory Configuration:\n",
      "  Using preset: EAC1\n",
      "\n"
     ]
    },
    {
     "name": "stderr",
     "output_type": "stream",
     "text": [
      "\u001b[38;5;229m\u001b[48;5;16m[yippy]\u001b[0m \u001b[32mINFO [2025-04-15 14:54:54,601] \u001b[0mCreating usort_offaxis_ovc coronagraph\n",
      "\u001b[38;5;229m\u001b[48;5;16m[yippy]\u001b[0m \u001b[33mWARNING [2025-04-15 14:54:54,603] \u001b[0mUnhandled header fields: {'D_INSC'}\n",
      "\u001b[38;5;229m\u001b[48;5;16m[yippy]\u001b[0m \u001b[33mWARNING [2025-04-15 14:54:54,603] \u001b[0mUsing default unit for D: m. Could not extract unit from comment: \"circumscribed diameter of the telescope in mete\"\n",
      "\u001b[38;5;229m\u001b[48;5;16m[yippy]\u001b[0m \u001b[32mINFO [2025-04-15 14:54:54,666] \u001b[0musort_offaxis_ovc is radially symmetric\n",
      "\u001b[38;5;229m\u001b[48;5;16m[yippy]\u001b[0m \u001b[32mINFO [2025-04-15 14:54:54,687] \u001b[0mCreated usort_offaxis_ovc\n"
     ]
    },
    {
     "name": "stdout",
     "output_type": "stream",
     "text": [
      "Setting the noise floor via user-supplied noisefloor_PPF...\n",
      "Azimuthally averaging contrast maps and noise floor...\n",
      "Calculating optics throughput from preset...\n",
      "Calculating epswarmTrcold as 1 - optics throughput...\n",
      "Observatory Configuration:\n",
      "  Using preset: EAC1\n",
      "\n"
     ]
    },
    {
     "name": "stderr",
     "output_type": "stream",
     "text": [
      "\u001b[38;5;229m\u001b[48;5;16m[yippy]\u001b[0m \u001b[32mINFO [2025-04-15 14:55:04,050] \u001b[0mCreating usort_offaxis_ovc coronagraph\n",
      "\u001b[38;5;229m\u001b[48;5;16m[yippy]\u001b[0m \u001b[33mWARNING [2025-04-15 14:55:04,051] \u001b[0mUnhandled header fields: {'D_INSC'}\n",
      "\u001b[38;5;229m\u001b[48;5;16m[yippy]\u001b[0m \u001b[33mWARNING [2025-04-15 14:55:04,052] \u001b[0mUsing default unit for D: m. Could not extract unit from comment: \"circumscribed diameter of the telescope in mete\"\n",
      "\u001b[38;5;229m\u001b[48;5;16m[yippy]\u001b[0m \u001b[32mINFO [2025-04-15 14:55:04,122] \u001b[0musort_offaxis_ovc is radially symmetric\n",
      "\u001b[38;5;229m\u001b[48;5;16m[yippy]\u001b[0m \u001b[32mINFO [2025-04-15 14:55:04,146] \u001b[0mCreated usort_offaxis_ovc\n"
     ]
    },
    {
     "name": "stdout",
     "output_type": "stream",
     "text": [
      "Setting the noise floor via user-supplied noisefloor_PPF...\n",
      "Azimuthally averaging contrast maps and noise floor...\n",
      "Calculating optics throughput from preset...\n",
      "Calculating epswarmTrcold as 1 - optics throughput...\n",
      "Observatory Configuration:\n",
      "  Using preset: EAC1\n",
      "\n"
     ]
    },
    {
     "name": "stderr",
     "output_type": "stream",
     "text": [
      "\u001b[38;5;229m\u001b[48;5;16m[yippy]\u001b[0m \u001b[32mINFO [2025-04-15 14:55:12,952] \u001b[0mCreating usort_offaxis_ovc coronagraph\n",
      "\u001b[38;5;229m\u001b[48;5;16m[yippy]\u001b[0m \u001b[33mWARNING [2025-04-15 14:55:12,953] \u001b[0mUnhandled header fields: {'D_INSC'}\n",
      "\u001b[38;5;229m\u001b[48;5;16m[yippy]\u001b[0m \u001b[33mWARNING [2025-04-15 14:55:12,953] \u001b[0mUsing default unit for D: m. Could not extract unit from comment: \"circumscribed diameter of the telescope in mete\"\n",
      "\u001b[38;5;229m\u001b[48;5;16m[yippy]\u001b[0m \u001b[32mINFO [2025-04-15 14:55:12,987] \u001b[0musort_offaxis_ovc is radially symmetric\n",
      "\u001b[38;5;229m\u001b[48;5;16m[yippy]\u001b[0m \u001b[32mINFO [2025-04-15 14:55:13,005] \u001b[0mCreated usort_offaxis_ovc\n"
     ]
    },
    {
     "name": "stdout",
     "output_type": "stream",
     "text": [
      "Setting the noise floor via user-supplied noisefloor_PPF...\n",
      "Azimuthally averaging contrast maps and noise floor...\n",
      "Calculating optics throughput from preset...\n",
      "Calculating epswarmTrcold as 1 - optics throughput...\n",
      "Observatory Configuration:\n",
      "  Using preset: EAC1\n",
      "\n"
     ]
    },
    {
     "name": "stderr",
     "output_type": "stream",
     "text": [
      "\u001b[38;5;229m\u001b[48;5;16m[yippy]\u001b[0m \u001b[32mINFO [2025-04-15 14:55:21,639] \u001b[0mCreating usort_offaxis_ovc coronagraph\n",
      "\u001b[38;5;229m\u001b[48;5;16m[yippy]\u001b[0m \u001b[33mWARNING [2025-04-15 14:55:21,641] \u001b[0mUnhandled header fields: {'D_INSC'}\n",
      "\u001b[38;5;229m\u001b[48;5;16m[yippy]\u001b[0m \u001b[33mWARNING [2025-04-15 14:55:21,641] \u001b[0mUsing default unit for D: m. Could not extract unit from comment: \"circumscribed diameter of the telescope in mete\"\n",
      "\u001b[38;5;229m\u001b[48;5;16m[yippy]\u001b[0m \u001b[32mINFO [2025-04-15 14:55:21,676] \u001b[0musort_offaxis_ovc is radially symmetric\n",
      "\u001b[38;5;229m\u001b[48;5;16m[yippy]\u001b[0m \u001b[32mINFO [2025-04-15 14:55:21,693] \u001b[0mCreated usort_offaxis_ovc\n"
     ]
    },
    {
     "name": "stdout",
     "output_type": "stream",
     "text": [
      "Setting the noise floor via user-supplied noisefloor_PPF...\n",
      "Azimuthally averaging contrast maps and noise floor...\n",
      "Calculating optics throughput from preset...\n",
      "Calculating epswarmTrcold as 1 - optics throughput...\n",
      "Observatory Configuration:\n",
      "  Using preset: EAC1\n",
      "\n"
     ]
    },
    {
     "name": "stderr",
     "output_type": "stream",
     "text": [
      "\u001b[38;5;229m\u001b[48;5;16m[yippy]\u001b[0m \u001b[32mINFO [2025-04-15 14:55:30,519] \u001b[0mCreating usort_offaxis_ovc coronagraph\n",
      "\u001b[38;5;229m\u001b[48;5;16m[yippy]\u001b[0m \u001b[33mWARNING [2025-04-15 14:55:30,520] \u001b[0mUnhandled header fields: {'D_INSC'}\n",
      "\u001b[38;5;229m\u001b[48;5;16m[yippy]\u001b[0m \u001b[33mWARNING [2025-04-15 14:55:30,520] \u001b[0mUsing default unit for D: m. Could not extract unit from comment: \"circumscribed diameter of the telescope in mete\"\n",
      "\u001b[38;5;229m\u001b[48;5;16m[yippy]\u001b[0m \u001b[32mINFO [2025-04-15 14:55:30,554] \u001b[0musort_offaxis_ovc is radially symmetric\n",
      "\u001b[38;5;229m\u001b[48;5;16m[yippy]\u001b[0m \u001b[32mINFO [2025-04-15 14:55:30,576] \u001b[0mCreated usort_offaxis_ovc\n"
     ]
    },
    {
     "name": "stdout",
     "output_type": "stream",
     "text": [
      "Setting the noise floor via user-supplied noisefloor_PPF...\n",
      "Azimuthally averaging contrast maps and noise floor...\n",
      "Calculating optics throughput from preset...\n",
      "Calculating epswarmTrcold as 1 - optics throughput...\n",
      "Observatory Configuration:\n",
      "  Using preset: EAC1\n",
      "\n"
     ]
    },
    {
     "name": "stderr",
     "output_type": "stream",
     "text": [
      "\u001b[38;5;229m\u001b[48;5;16m[yippy]\u001b[0m \u001b[32mINFO [2025-04-15 14:55:35,497] \u001b[0mCreating usort_offaxis_ovc coronagraph\n",
      "\u001b[38;5;229m\u001b[48;5;16m[yippy]\u001b[0m \u001b[33mWARNING [2025-04-15 14:55:35,498] \u001b[0mUnhandled header fields: {'D_INSC'}\n",
      "\u001b[38;5;229m\u001b[48;5;16m[yippy]\u001b[0m \u001b[33mWARNING [2025-04-15 14:55:35,498] \u001b[0mUsing default unit for D: m. Could not extract unit from comment: \"circumscribed diameter of the telescope in mete\"\n",
      "\u001b[38;5;229m\u001b[48;5;16m[yippy]\u001b[0m \u001b[32mINFO [2025-04-15 14:55:35,532] \u001b[0musort_offaxis_ovc is radially symmetric\n",
      "\u001b[38;5;229m\u001b[48;5;16m[yippy]\u001b[0m \u001b[32mINFO [2025-04-15 14:55:35,551] \u001b[0mCreated usort_offaxis_ovc\n"
     ]
    },
    {
     "name": "stdout",
     "output_type": "stream",
     "text": [
      "Setting the noise floor via user-supplied noisefloor_PPF...\n",
      "Azimuthally averaging contrast maps and noise floor...\n",
      "Calculating optics throughput from preset...\n",
      "Calculating epswarmTrcold as 1 - optics throughput...\n",
      "Observatory Configuration:\n",
      "  Using preset: EAC1\n",
      "\n"
     ]
    },
    {
     "name": "stderr",
     "output_type": "stream",
     "text": [
      "\u001b[38;5;229m\u001b[48;5;16m[yippy]\u001b[0m \u001b[32mINFO [2025-04-15 14:55:43,629] \u001b[0mCreating usort_offaxis_ovc coronagraph\n",
      "\u001b[38;5;229m\u001b[48;5;16m[yippy]\u001b[0m \u001b[33mWARNING [2025-04-15 14:55:43,630] \u001b[0mUnhandled header fields: {'D_INSC'}\n",
      "\u001b[38;5;229m\u001b[48;5;16m[yippy]\u001b[0m \u001b[33mWARNING [2025-04-15 14:55:43,631] \u001b[0mUsing default unit for D: m. Could not extract unit from comment: \"circumscribed diameter of the telescope in mete\"\n",
      "\u001b[38;5;229m\u001b[48;5;16m[yippy]\u001b[0m \u001b[32mINFO [2025-04-15 14:55:43,666] \u001b[0musort_offaxis_ovc is radially symmetric\n",
      "\u001b[38;5;229m\u001b[48;5;16m[yippy]\u001b[0m \u001b[32mINFO [2025-04-15 14:55:43,683] \u001b[0mCreated usort_offaxis_ovc\n"
     ]
    },
    {
     "name": "stdout",
     "output_type": "stream",
     "text": [
      "Setting the noise floor via user-supplied noisefloor_PPF...\n",
      "Azimuthally averaging contrast maps and noise floor...\n",
      "Calculating optics throughput from preset...\n",
      "Calculating epswarmTrcold as 1 - optics throughput...\n",
      "Observatory Configuration:\n",
      "  Using preset: EAC1\n",
      "\n"
     ]
    },
    {
     "name": "stderr",
     "output_type": "stream",
     "text": [
      "\u001b[38;5;229m\u001b[48;5;16m[yippy]\u001b[0m \u001b[32mINFO [2025-04-15 14:55:51,608] \u001b[0mCreating usort_offaxis_ovc coronagraph\n",
      "\u001b[38;5;229m\u001b[48;5;16m[yippy]\u001b[0m \u001b[33mWARNING [2025-04-15 14:55:51,609] \u001b[0mUnhandled header fields: {'D_INSC'}\n",
      "\u001b[38;5;229m\u001b[48;5;16m[yippy]\u001b[0m \u001b[33mWARNING [2025-04-15 14:55:51,610] \u001b[0mUsing default unit for D: m. Could not extract unit from comment: \"circumscribed diameter of the telescope in mete\"\n",
      "\u001b[38;5;229m\u001b[48;5;16m[yippy]\u001b[0m \u001b[32mINFO [2025-04-15 14:55:51,677] \u001b[0musort_offaxis_ovc is radially symmetric\n",
      "\u001b[38;5;229m\u001b[48;5;16m[yippy]\u001b[0m \u001b[32mINFO [2025-04-15 14:55:51,704] \u001b[0mCreated usort_offaxis_ovc\n"
     ]
    },
    {
     "name": "stdout",
     "output_type": "stream",
     "text": [
      "Setting the noise floor via user-supplied noisefloor_PPF...\n",
      "Azimuthally averaging contrast maps and noise floor...\n",
      "Calculating optics throughput from preset...\n",
      "Calculating epswarmTrcold as 1 - optics throughput...\n",
      "Observatory Configuration:\n",
      "  Using preset: EAC1\n",
      "\n"
     ]
    },
    {
     "name": "stderr",
     "output_type": "stream",
     "text": [
      "\u001b[38;5;229m\u001b[48;5;16m[yippy]\u001b[0m \u001b[32mINFO [2025-04-15 14:55:59,691] \u001b[0mCreating usort_offaxis_ovc coronagraph\n",
      "\u001b[38;5;229m\u001b[48;5;16m[yippy]\u001b[0m \u001b[33mWARNING [2025-04-15 14:55:59,693] \u001b[0mUnhandled header fields: {'D_INSC'}\n",
      "\u001b[38;5;229m\u001b[48;5;16m[yippy]\u001b[0m \u001b[33mWARNING [2025-04-15 14:55:59,694] \u001b[0mUsing default unit for D: m. Could not extract unit from comment: \"circumscribed diameter of the telescope in mete\"\n",
      "\u001b[38;5;229m\u001b[48;5;16m[yippy]\u001b[0m \u001b[32mINFO [2025-04-15 14:55:59,728] \u001b[0musort_offaxis_ovc is radially symmetric\n",
      "\u001b[38;5;229m\u001b[48;5;16m[yippy]\u001b[0m \u001b[32mINFO [2025-04-15 14:55:59,744] \u001b[0mCreated usort_offaxis_ovc\n"
     ]
    },
    {
     "name": "stdout",
     "output_type": "stream",
     "text": [
      "Setting the noise floor via user-supplied noisefloor_PPF...\n",
      "Azimuthally averaging contrast maps and noise floor...\n",
      "Calculating optics throughput from preset...\n",
      "Calculating epswarmTrcold as 1 - optics throughput...\n",
      "Observatory Configuration:\n",
      "  Using preset: EAC1\n",
      "\n"
     ]
    },
    {
     "name": "stderr",
     "output_type": "stream",
     "text": [
      "\u001b[38;5;229m\u001b[48;5;16m[yippy]\u001b[0m \u001b[32mINFO [2025-04-15 14:56:07,880] \u001b[0mCreating usort_offaxis_ovc coronagraph\n",
      "\u001b[38;5;229m\u001b[48;5;16m[yippy]\u001b[0m \u001b[33mWARNING [2025-04-15 14:56:07,881] \u001b[0mUnhandled header fields: {'D_INSC'}\n",
      "\u001b[38;5;229m\u001b[48;5;16m[yippy]\u001b[0m \u001b[33mWARNING [2025-04-15 14:56:07,881] \u001b[0mUsing default unit for D: m. Could not extract unit from comment: \"circumscribed diameter of the telescope in mete\"\n",
      "\u001b[38;5;229m\u001b[48;5;16m[yippy]\u001b[0m \u001b[32mINFO [2025-04-15 14:56:07,918] \u001b[0musort_offaxis_ovc is radially symmetric\n",
      "\u001b[38;5;229m\u001b[48;5;16m[yippy]\u001b[0m \u001b[32mINFO [2025-04-15 14:56:07,936] \u001b[0mCreated usort_offaxis_ovc\n"
     ]
    },
    {
     "name": "stdout",
     "output_type": "stream",
     "text": [
      "Setting the noise floor via user-supplied noisefloor_PPF...\n",
      "Azimuthally averaging contrast maps and noise floor...\n",
      "Calculating optics throughput from preset...\n",
      "Calculating epswarmTrcold as 1 - optics throughput...\n",
      "Observatory Configuration:\n",
      "  Using preset: EAC1\n",
      "\n"
     ]
    },
    {
     "name": "stderr",
     "output_type": "stream",
     "text": [
      "\u001b[38;5;229m\u001b[48;5;16m[yippy]\u001b[0m \u001b[32mINFO [2025-04-15 14:56:15,476] \u001b[0mCreating usort_offaxis_ovc coronagraph\n",
      "\u001b[38;5;229m\u001b[48;5;16m[yippy]\u001b[0m \u001b[33mWARNING [2025-04-15 14:56:15,478] \u001b[0mUnhandled header fields: {'D_INSC'}\n",
      "\u001b[38;5;229m\u001b[48;5;16m[yippy]\u001b[0m \u001b[33mWARNING [2025-04-15 14:56:15,478] \u001b[0mUsing default unit for D: m. Could not extract unit from comment: \"circumscribed diameter of the telescope in mete\"\n",
      "\u001b[38;5;229m\u001b[48;5;16m[yippy]\u001b[0m \u001b[32mINFO [2025-04-15 14:56:15,513] \u001b[0musort_offaxis_ovc is radially symmetric\n",
      "\u001b[38;5;229m\u001b[48;5;16m[yippy]\u001b[0m \u001b[32mINFO [2025-04-15 14:56:15,529] \u001b[0mCreated usort_offaxis_ovc\n"
     ]
    },
    {
     "name": "stdout",
     "output_type": "stream",
     "text": [
      "Setting the noise floor via user-supplied noisefloor_PPF...\n",
      "Azimuthally averaging contrast maps and noise floor...\n",
      "Calculating optics throughput from preset...\n",
      "Calculating epswarmTrcold as 1 - optics throughput...\n",
      "Observatory Configuration:\n",
      "  Using preset: EAC1\n",
      "\n"
     ]
    },
    {
     "name": "stderr",
     "output_type": "stream",
     "text": [
      "\u001b[38;5;229m\u001b[48;5;16m[yippy]\u001b[0m \u001b[32mINFO [2025-04-15 14:56:23,119] \u001b[0mCreating usort_offaxis_ovc coronagraph\n",
      "\u001b[38;5;229m\u001b[48;5;16m[yippy]\u001b[0m \u001b[33mWARNING [2025-04-15 14:56:23,121] \u001b[0mUnhandled header fields: {'D_INSC'}\n",
      "\u001b[38;5;229m\u001b[48;5;16m[yippy]\u001b[0m \u001b[33mWARNING [2025-04-15 14:56:23,121] \u001b[0mUsing default unit for D: m. Could not extract unit from comment: \"circumscribed diameter of the telescope in mete\"\n",
      "\u001b[38;5;229m\u001b[48;5;16m[yippy]\u001b[0m \u001b[32mINFO [2025-04-15 14:56:23,157] \u001b[0musort_offaxis_ovc is radially symmetric\n",
      "\u001b[38;5;229m\u001b[48;5;16m[yippy]\u001b[0m \u001b[32mINFO [2025-04-15 14:56:23,181] \u001b[0mCreated usort_offaxis_ovc\n"
     ]
    },
    {
     "name": "stdout",
     "output_type": "stream",
     "text": [
      "Setting the noise floor via user-supplied noisefloor_PPF...\n",
      "Azimuthally averaging contrast maps and noise floor...\n",
      "Calculating optics throughput from preset...\n",
      "Calculating epswarmTrcold as 1 - optics throughput...\n",
      "Observatory Configuration:\n",
      "  Using preset: EAC1\n",
      "\n"
     ]
    },
    {
     "name": "stderr",
     "output_type": "stream",
     "text": [
      "\u001b[38;5;229m\u001b[48;5;16m[yippy]\u001b[0m \u001b[32mINFO [2025-04-15 14:56:30,400] \u001b[0mCreating usort_offaxis_ovc coronagraph\n",
      "\u001b[38;5;229m\u001b[48;5;16m[yippy]\u001b[0m \u001b[33mWARNING [2025-04-15 14:56:30,402] \u001b[0mUnhandled header fields: {'D_INSC'}\n",
      "\u001b[38;5;229m\u001b[48;5;16m[yippy]\u001b[0m \u001b[33mWARNING [2025-04-15 14:56:30,402] \u001b[0mUsing default unit for D: m. Could not extract unit from comment: \"circumscribed diameter of the telescope in mete\"\n",
      "\u001b[38;5;229m\u001b[48;5;16m[yippy]\u001b[0m \u001b[32mINFO [2025-04-15 14:56:30,456] \u001b[0musort_offaxis_ovc is radially symmetric\n",
      "\u001b[38;5;229m\u001b[48;5;16m[yippy]\u001b[0m \u001b[32mINFO [2025-04-15 14:56:30,475] \u001b[0mCreated usort_offaxis_ovc\n"
     ]
    },
    {
     "name": "stdout",
     "output_type": "stream",
     "text": [
      "Setting the noise floor via user-supplied noisefloor_PPF...\n",
      "Azimuthally averaging contrast maps and noise floor...\n",
      "Calculating optics throughput from preset...\n",
      "Calculating epswarmTrcold as 1 - optics throughput...\n",
      "Observatory Configuration:\n",
      "  Using preset: EAC1\n",
      "\n"
     ]
    },
    {
     "name": "stderr",
     "output_type": "stream",
     "text": [
      "\u001b[38;5;229m\u001b[48;5;16m[yippy]\u001b[0m \u001b[32mINFO [2025-04-15 14:56:37,815] \u001b[0mCreating usort_offaxis_ovc coronagraph\n",
      "\u001b[38;5;229m\u001b[48;5;16m[yippy]\u001b[0m \u001b[33mWARNING [2025-04-15 14:56:37,816] \u001b[0mUnhandled header fields: {'D_INSC'}\n",
      "\u001b[38;5;229m\u001b[48;5;16m[yippy]\u001b[0m \u001b[33mWARNING [2025-04-15 14:56:37,817] \u001b[0mUsing default unit for D: m. Could not extract unit from comment: \"circumscribed diameter of the telescope in mete\"\n",
      "\u001b[38;5;229m\u001b[48;5;16m[yippy]\u001b[0m \u001b[32mINFO [2025-04-15 14:56:37,867] \u001b[0musort_offaxis_ovc is radially symmetric\n",
      "\u001b[38;5;229m\u001b[48;5;16m[yippy]\u001b[0m \u001b[32mINFO [2025-04-15 14:56:37,919] \u001b[0mCreated usort_offaxis_ovc\n"
     ]
    },
    {
     "name": "stdout",
     "output_type": "stream",
     "text": [
      "Setting the noise floor via user-supplied noisefloor_PPF...\n",
      "Azimuthally averaging contrast maps and noise floor...\n",
      "Calculating optics throughput from preset...\n",
      "Calculating epswarmTrcold as 1 - optics throughput...\n",
      "WARNING: Photometric aperture is not large enough. Hardcoded infinity results.\n",
      "Observatory Configuration:\n",
      "  Using preset: EAC1\n",
      "\n"
     ]
    },
    {
     "name": "stderr",
     "output_type": "stream",
     "text": [
      "\u001b[38;5;229m\u001b[48;5;16m[yippy]\u001b[0m \u001b[32mINFO [2025-04-15 14:56:44,293] \u001b[0mCreating usort_offaxis_ovc coronagraph\n",
      "\u001b[38;5;229m\u001b[48;5;16m[yippy]\u001b[0m \u001b[33mWARNING [2025-04-15 14:56:44,294] \u001b[0mUnhandled header fields: {'D_INSC'}\n",
      "\u001b[38;5;229m\u001b[48;5;16m[yippy]\u001b[0m \u001b[33mWARNING [2025-04-15 14:56:44,295] \u001b[0mUsing default unit for D: m. Could not extract unit from comment: \"circumscribed diameter of the telescope in mete\"\n",
      "\u001b[38;5;229m\u001b[48;5;16m[yippy]\u001b[0m \u001b[32mINFO [2025-04-15 14:56:44,342] \u001b[0musort_offaxis_ovc is radially symmetric\n",
      "\u001b[38;5;229m\u001b[48;5;16m[yippy]\u001b[0m \u001b[32mINFO [2025-04-15 14:56:44,359] \u001b[0mCreated usort_offaxis_ovc\n"
     ]
    },
    {
     "name": "stdout",
     "output_type": "stream",
     "text": [
      "Setting the noise floor via user-supplied noisefloor_PPF...\n",
      "Azimuthally averaging contrast maps and noise floor...\n",
      "Calculating optics throughput from preset...\n",
      "Calculating epswarmTrcold as 1 - optics throughput...\n",
      "WARNING: Photometric aperture is not large enough. Hardcoded infinity results.\n"
     ]
    },
    {
     "data": {
      "image/png": "[encoded data removed]",
      "text/plain": [
       "<Figure size 1000x600 with 1 Axes>"
      ]
     },
     "metadata": {},
     "output_type": "display_data"
    }
   ],
   "source": [
    "psfratios = np.linspace(0.1, 1, 20)   \n",
    "exptime=15*u.hr\n",
    "snrs = []\n",
    "\n",
    "for ratio in psfratios:\n",
    "    params = imaging_params.copy()\n",
    "    params['psf_trunc_ratio'] = ratio\n",
    "    parsed_parameters= parse_input.parse_parameters(params)\n",
    "    snr,_ = calculate_snr(parsed_parameters,exptime, verbose=False)\n",
    "    snrs.append(snr[0].value)\n",
    "\n",
    "\n",
    "fig, ax1 = plt.subplots(figsize=(10, 6))\n",
    "# Primary x-axis (separation arcsec)\n",
    "ax1.plot(psfratios, snrs, marker='o', label='Valid exposures')\n",
    "\n",
    "\n",
    "ax1.set_xlabel('PSF Truncation Ratio')\n",
    "ax1.set_ylabel('SNR')\n",
    "ax1.grid(True)\n",
    "\n",
    "plt.title('SNR vs. PSF Truncation Ratio')\n",
    "plt.legend()\n",
    "plt.tight_layout()\n",
    "plt.show()\n"
   ]
  },
  {
   "cell_type": "markdown",
   "metadata": {},
   "source": [
    "## 6. Advanced Tutorials\n",
    "\n",
    "From the previous examples you noticed that we called `calculate_texp` in a loop multiple times. This makes the code start over and over, which slows down the process for large loops. If you want to speed up the calculation, you can work within `calculate_texp` and loop only what you need. Here are the contents of `calculate_texp`."
   ]
  },
  {
   "cell_type": "code",
   "execution_count": 11,
   "metadata": {},
   "outputs": [
    {
     "name": "stdout",
     "output_type": "stream",
     "text": [
      "Observatory Configuration:\n",
      "  Using preset: EAC1\n",
      "\n"
     ]
    },
    {
     "name": "stderr",
     "output_type": "stream",
     "text": [
      "\u001b[38;5;229m\u001b[48;5;16m[yippy]\u001b[0m \u001b[32mINFO [2025-04-15 13:05:00,560] \u001b[0mCreating usort_offaxis_ovc coronagraph\n",
      "\u001b[38;5;229m\u001b[48;5;16m[yippy]\u001b[0m \u001b[33mWARNING [2025-04-15 13:05:00,561] \u001b[0mUnhandled header fields: {'D_INSC'}\n",
      "\u001b[38;5;229m\u001b[48;5;16m[yippy]\u001b[0m \u001b[33mWARNING [2025-04-15 13:05:00,562] \u001b[0mUsing default unit for D: m. Could not extract unit from comment: \"circumscribed diameter of the telescope in mete\"\n",
      "\u001b[38;5;229m\u001b[48;5;16m[yippy]\u001b[0m \u001b[32mINFO [2025-04-15 13:05:00,597] \u001b[0musort_offaxis_ovc is radially symmetric\n",
      "\u001b[38;5;229m\u001b[48;5;16m[yippy]\u001b[0m \u001b[32mINFO [2025-04-15 13:05:00,613] \u001b[0mCreated usort_offaxis_ovc\n"
     ]
    },
    {
     "name": "stdout",
     "output_type": "stream",
     "text": [
      "Setting the noise floor via user-supplied noisefloor_PPF...\n",
      "Azimuthally averaging contrast maps and noise floor...\n",
      "Calculating optics throughput from preset...\n",
      "Calculating epswarmTrcold as 1 - optics throughput...\n"
     ]
    }
   ],
   "source": [
    "from pyEDITH import calculate_exposure_time_or_snr, parse_input\n",
    "params = imaging_params.copy()\n",
    "\n",
    "# Parse the desired parameters\n",
    "parsed_parameters= parse_input.parse_parameters(params)\n",
    "\n",
    "# Define Observation and load relevant parameters\n",
    "observation = Observation()\n",
    "observation.load_configuration(parsed_parameters)\n",
    "observation.set_output_arrays()\n",
    "observation.validate_configuration()\n",
    "\n",
    "# Define Astrophysical Scene and load relevant parameters,\n",
    "# then calculate zodi/exozodi\n",
    "scene = AstrophysicalScene()\n",
    "scene.load_configuration(parsed_parameters)\n",
    "scene.calculate_zodi_exozodi(observation)\n",
    "scene.validate_configuration()\n",
    "\n",
    "# Create and configure Observatory using ObservatoryBuilder\n",
    "observatory_config = parse_input.get_observatory_config(parsed_parameters)\n",
    "observatory = ObservatoryBuilder.create_observatory(observatory_config)\n",
    "ObservatoryBuilder.configure_observatory(\n",
    "    observatory, parsed_parameters, observation, scene\n",
    ")\n",
    "observatory.validate_configuration()\n",
    "\n",
    "# EXPOSURE TIME CALCULATION\n",
    "calculate_exposure_time_or_snr(\n",
    "    observation,\n",
    "    scene,\n",
    "    observatory,\n",
    "    verbose=False,\n",
    "    mode=\"exposure_time\",\n",
    ")"
   ]
  },
  {
   "cell_type": "markdown",
   "metadata": {},
   "source": [
    "If we want to loop, we would just do (separation example):"
   ]
  },
  {
   "cell_type": "code",
   "execution_count": 12,
   "metadata": {},
   "outputs": [
    {
     "name": "stdout",
     "output_type": "stream",
     "text": [
      "Observatory Configuration:\n",
      "  Using preset: EAC1\n",
      "\n"
     ]
    },
    {
     "name": "stderr",
     "output_type": "stream",
     "text": [
      "\u001b[38;5;229m\u001b[48;5;16m[yippy]\u001b[0m \u001b[32mINFO [2025-04-15 13:05:05,347] \u001b[0mCreating usort_offaxis_ovc coronagraph\n",
      "\u001b[38;5;229m\u001b[48;5;16m[yippy]\u001b[0m \u001b[33mWARNING [2025-04-15 13:05:05,348] \u001b[0mUnhandled header fields: {'D_INSC'}\n",
      "\u001b[38;5;229m\u001b[48;5;16m[yippy]\u001b[0m \u001b[33mWARNING [2025-04-15 13:05:05,348] \u001b[0mUsing default unit for D: m. Could not extract unit from comment: \"circumscribed diameter of the telescope in mete\"\n",
      "\u001b[38;5;229m\u001b[48;5;16m[yippy]\u001b[0m \u001b[32mINFO [2025-04-15 13:05:05,387] \u001b[0musort_offaxis_ovc is radially symmetric\n",
      "\u001b[38;5;229m\u001b[48;5;16m[yippy]\u001b[0m \u001b[32mINFO [2025-04-15 13:05:05,406] \u001b[0mCreated usort_offaxis_ovc\n"
     ]
    },
    {
     "name": "stdout",
     "output_type": "stream",
     "text": [
      "Setting the noise floor via user-supplied noisefloor_PPF...\n",
      "Azimuthally averaging contrast maps and noise floor...\n",
      "Calculating optics throughput from preset...\n",
      "Calculating epswarmTrcold as 1 - optics throughput...\n",
      "WARNING: Planet outside OWA or inside IWA. Hardcoded infinity results.\n",
      "WARNING: Planet outside OWA or inside IWA. Hardcoded infinity results.\n",
      "WARNING: Planet outside OWA or inside IWA. Hardcoded infinity results.\n",
      "WARNING: Planet outside OWA or inside IWA. Hardcoded infinity results.\n",
      "WARNING: Planet outside OWA or inside IWA. Hardcoded infinity results.\n",
      "WARNING: Planet outside OWA or inside IWA. Hardcoded infinity results.\n",
      "WARNING: Planet outside OWA or inside IWA. Hardcoded infinity results.\n",
      "WARNING: Planet outside OWA or inside IWA. Hardcoded infinity results.\n",
      "WARNING: Planet outside OWA or inside IWA. Hardcoded infinity results.\n",
      "WARNING: Planet outside OWA or inside IWA. Hardcoded infinity results.\n"
     ]
    },
    {
     "name": "stderr",
     "output_type": "stream",
     "text": [
      "/var/folders/10/v9qwyn2d7mx1blfr1v345wz80000gp/T/ipykernel_45668/1424174634.py:76: UserWarning: No artists with labels found to put in legend.  Note that artists whose label start with an underscore are ignored when legend() is called with no argument.\n",
      "  plt.legend()\n"
     ]
    },
    {
     "data": {
      "image/png": "[encoded data removed]",
      "text/plain": [
       "<Figure size 1000x600 with 2 Axes>"
      ]
     },
     "metadata": {},
     "output_type": "display_data"
    }
   ],
   "source": [
    "separations = np.linspace(0.005, 0.8, 20)  # arcsec \n",
    "\n",
    "exposure_times=[]\n",
    "params = imaging_params.copy()\n",
    "\n",
    "from pyEDITH import calculate_exposure_time_or_snr, parse_input\n",
    "\n",
    "# Parse the desired parameters\n",
    "parsed_parameters= parse_input.parse_parameters(params)\n",
    "\n",
    "# Define Observation and load relevant parameters\n",
    "observation = Observation()\n",
    "observation.load_configuration(parsed_parameters)\n",
    "observation.set_output_arrays()\n",
    "observation.validate_configuration()\n",
    "\n",
    "# Define Astrophysical Scene and load relevant parameters,\n",
    "# then calculate zodi/exozodi\n",
    "scene = AstrophysicalScene()\n",
    "scene.load_configuration(parsed_parameters)\n",
    "scene.calculate_zodi_exozodi(observation)\n",
    "scene.validate_configuration()\n",
    "\n",
    "# Create and configure Observatory using ObservatoryBuilder\n",
    "observatory_config = parse_input.get_observatory_config(parsed_parameters)\n",
    "observatory = ObservatoryBuilder.create_observatory(observatory_config)\n",
    "ObservatoryBuilder.configure_observatory(\n",
    "    observatory, parsed_parameters, observation, scene\n",
    ")\n",
    "observatory.validate_configuration()\n",
    "\n",
    "for sep in separations:\n",
    "    \n",
    "    scene.separation = sep * ARCSEC #radial separation\n",
    "    scene.xp = sep*ARCSEC #x axis separation\n",
    "\n",
    "    calculate_exposure_time_or_snr(\n",
    "    observation,\n",
    "    scene,\n",
    "    observatory,\n",
    "    verbose=False,\n",
    "    mode=\"exposure_time\",\n",
    ")\n",
    "    exposure_times.append(observation.exptime[0].to(u.hr).value)\n",
    "\n",
    "\n",
    "fig, ax1 = plt.subplots(figsize=(10, 6))\n",
    "# Primary x-axis (separation arcsec)\n",
    "ax1.plot(separations, exposure_times, marker='o', label='Valid exposures')\n",
    "ax1.plot(separations[np.isinf(exposure_times)],\n",
    "         np.ones_like(separations)[np.isinf(exposure_times)]*50,\n",
    "         marker='x', linestyle='', color='red', label='Infinite exposures')\n",
    "\n",
    "\n",
    "ax1.set_xlabel('Separation (arcsec)')\n",
    "ax1.set_ylabel('Exposure time (hours)')\n",
    "ax1.grid(True)\n",
    "\n",
    "separations_lod = arcsec_to_lambda_d(separations*ARCSEC,\n",
    "observation.wavelength[0].to(LENGTH),\n",
    "observatory.telescope.diameter.to(LENGTH),\n",
    ")\n",
    "# # Secondary x-axis (lambda/D)\n",
    "num_ticks = 5 \n",
    "tick_indices = np.linspace(0, len(separations) - 1, num_ticks, dtype=int)\n",
    "reduced_separations = [separations[i] for i in tick_indices]\n",
    "reduced_separations_lod = [separations_lod[i] for i in tick_indices]\n",
    "ax2.set_xticks(reduced_separations)\n",
    "ax2.set_xticklabels([f'{m:.1f}' for m in reduced_separations_lod])\n",
    "ax2 = ax1.twiny()\n",
    "\n",
    "ax2.set_xlim(ax1.get_xlim())\n",
    "ax2.set_xlabel('Separation (lambda/D)')\n",
    "\n",
    "plt.title('Exposure Time vs. Separation')\n",
    "plt.legend()\n",
    "plt.tight_layout()\n",
    "plt.show()\n",
    "\n",
    "\n"
   ]
  },
  {
   "cell_type": "code",
   "execution_count": null,
   "metadata": {},
   "outputs": [],
   "source": []
  }
 ],
 "metadata": {
  "kernelspec": {
   "display_name": ".venv",
   "language": "python",
   "name": "python3"
  },
  "language_info": {
   "codemirror_mode": {
    "name": "ipython",
    "version": 3
   },
   "file_extension": ".py",
   "mimetype": "text/x-python",
   "name": "python",
   "nbconvert_exporter": "python",
   "pygments_lexer": "ipython3",
   "version": "3.12.4"
  }
 },
 "nbformat": 4,
 "nbformat_minor": 2
}

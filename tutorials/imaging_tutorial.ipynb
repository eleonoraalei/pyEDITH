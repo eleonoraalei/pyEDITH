{
 "cells": [
  {
   "cell_type": "markdown",
   "metadata": {},
   "source": [
    "# pyEDITH Tutorial: Imaging Mode\n",
    "\n",
    "This tutorial will guide you through using pyEDITH in imaging mode.\n",
    "\n",
    "## Before we start\n",
    "\n",
    "Make sure you download the latest YAML files  at https://github.com/HWO-GOMAP-Working-Groups/Sci-Eng-Interface/tree/main\n",
    "and make a folder that contains your Coronagraph Input Package YIP files.\n",
    "\n",
    "## Setup\n",
    "First, let's import the necessary modules and set up our environment:\n"
   ]
  },
  {
   "cell_type": "code",
   "execution_count": null,
   "metadata": {},
   "outputs": [],
   "source": [
    "import os\n",
    "import numpy as np\n",
    "import matplotlib.pyplot as plt\n",
    "from astropy import units as u\n",
    "from pyEDITH import parse_input, calculate_texp, calculate_snr, AstrophysicalScene, Observation, ObservatoryBuilder\n",
    "from pyEDITH.units import *\n",
    "\n",
    "# Set the necessary environment variables --> REPLACE WITH YOUR PATHS. \n",
    "# You can also open your .bashrc (or .zshrc) and type:\n",
    "# export SCI_ENG_DIR=\"/path/to/Sci-Eng-Interface/hwo_sci_eng\"\n",
    "# export YIP_CORO_DIR=\"/path/to/yips\"\n",
    "\n"
   ]
  },
  {
   "cell_type": "markdown",
   "metadata": {},
   "source": [
    "### 1. Setting up the Observation Parameters\n",
    "\n",
    "Let's start by defining the parameters for an Earth-like planet around a Sun-like star.\n",
    "\n",
    "**Note:** Parameters that vary with lambda (lambd, resolution, snr, fluxes, contrasts...) can be both floats and lists. If len(lambd)>1 and any of the other values is a float, it becomes a list of length len(lambd) internally."
   ]
  },
  {
   "cell_type": "code",
   "execution_count": null,
   "metadata": {},
   "outputs": [],
   "source": [
    "imaging_params = {\n",
    "    'wavelength': 0.5,              # Wavelength in microns\n",
    "    'snr': 7,                       # Desired signal-to-noise ratio\n",
    "    'bandwidth': 0.2,               # Bandwidth of observation\n",
    "    'CRb_multiplier': 2.0,          # Count rate ratio multiplier (assuming differential imaging for PSF subtraction)\n",
    "    'psf_trunc_ratio': 0.3,         # PSF Truncation Ratio to calculate photometric aperture of solid angle Omega. \n",
    "    'Lstar': 1,                     # Stellar luminosity in Solar luminosity units\n",
    "    'distance': 10,                 # Distance to star in parsecs\n",
    "    'FstarV_10pc': 122.9279,        # Stellar flux at 10 pc in the V band [ph/cm2/s/nm]\n",
    "    'Fstar_10pc': 115.59984,        # Stellar flux at 10 pc in the observed band [ph/cm2/s/nm]\n",
    "    'Fp/Fs': 1.6e-8,                # Planet-to-star contrast\n",
    "    'stellar_radius': 1,            # Stellar radius in solar radii\n",
    "    'nzodis': 3.0,                  # Number of zodiacal light disks\n",
    "    'ra': 236.00757736823,          # Right ascension of star [deg]\n",
    "    'dec': 2.51516683165,           # Declination of star [deg]\n",
    "    'separation': 0.1,              # Separation between star and planet in arcseconds\n",
    "    'observatory_preset': 'EAC1',   # Preset observatory configuration\n",
    "    'observing_mode': 'IMAGER',     # Observing mode\n",
    "    \"Fp_min/Fs\": 1e-11              # minimum detectable planet (used to estimate detector noise)\n",
    "}\n"
   ]
  },
  {
   "cell_type": "markdown",
   "metadata": {},
   "source": [
    "### 2. Calculating Exposure Time\n",
    "Now, let's calculate the exposure time for our imaging observation:"
   ]
  },
  {
   "cell_type": "code",
   "execution_count": null,
   "metadata": {},
   "outputs": [],
   "source": [
    "# Make the parameters be the shape that the code desires \n",
    "parsed_parameters= parse_input.parse_parameters(imaging_params)\n",
    "\n",
    "# Calculate Exposure time\n",
    "texp, validation_output = calculate_texp(parsed_parameters, verbose=False)\n",
    "print(f\"Calculated exposure time: {texp.to(u.hr)}\")"
   ]
  },
  {
   "cell_type": "markdown",
   "metadata": {},
   "source": [
    "### 3. Calculate SNR\n",
    "\n",
    "Given an exposure time (e.g. 10 hrs), we can calculate the SNR for the desired bandpass."
   ]
  },
  {
   "cell_type": "code",
   "execution_count": null,
   "metadata": {},
   "outputs": [],
   "source": [
    "# Make the parameters be the shape that the code desires \n",
    "parsed_parameters= parse_input.parse_parameters(imaging_params)\n",
    "\n",
    "# Calculate SNR given a specific exposure time\n",
    "texp = 3*u.hr\n",
    "snr, validation_output = calculate_snr(parsed_parameters, texp, verbose=False)\n",
    "print(f\"Calculated snr: {snr}\")"
   ]
  },
  {
   "cell_type": "markdown",
   "metadata": {},
   "source": [
    "`validation_output` contains some interesting quantities that you can use to double check or validate, or to plot additional quantities."
   ]
  },
  {
   "cell_type": "code",
   "execution_count": null,
   "metadata": {},
   "outputs": [],
   "source": [
    "validation_output"
   ]
  },
  {
   "cell_type": "markdown",
   "metadata": {},
   "source": [
    "### 4. Simultaneous Observations (primary Exposure Time informs secondary SNR)\n",
    "\n",
    "This is useful to simulate simultaneous observations. For example, we assume the primary (detection) bandpass to be 0.5 micron with 20% bandwidth. What is the SNR of a secondary bandpass at 1 micron with 20% bandpass?"
   ]
  },
  {
   "cell_type": "code",
   "execution_count": null,
   "metadata": {},
   "outputs": [],
   "source": [
    "# Let's note down the values that change compared to imaging_params\n",
    "secondary_imaging_params = {\n",
    "    'wavelength': 1,  # Wavelength in microns\n",
    "    'Fstar_10pc': 100,  # Stellar flux in observation band\n",
    "    }\n",
    "\n",
    "# Fill the missing values\n",
    "for key in imaging_params:\n",
    "        if key not in secondary_imaging_params:\n",
    "            secondary_imaging_params[key] = imaging_params[key]\n",
    "\n",
    "print(\"Calculating texp from primary lambda\")\n",
    "parsed_parameters= parse_input.parse_parameters(imaging_params)\n",
    "\n",
    "texp, _ = calculate_texp(parsed_parameters, verbose=False)\n",
    "print(\"Reference exposure time: \", texp.to(u.hr))\n",
    "if np.isfinite(texp).all():\n",
    "    print(\"Calculating snr on secondary lambda\")\n",
    "    parsed_secondary_parameters= parse_input.parse_parameters(secondary_imaging_params)\n",
    "\n",
    "    snr, _ = calculate_snr(parsed_secondary_parameters, texp, verbose=True)\n",
    "    print(\"SNR at the secondary lambda: \", snr)\n",
    "else:\n",
    "    raise ValueError(\"Returned exposure time is infinity.\")"
   ]
  },
  {
   "cell_type": "markdown",
   "metadata": {},
   "source": [
    "### 5. Exploring The Parameter Space\n"
   ]
  },
  {
   "cell_type": "markdown",
   "metadata": {},
   "source": [
    "#### 5.1. Planet-to-star contrast\n",
    "Let's explore how the exposure time changes with planet-to-star contrast:\n",
    "\n"
   ]
  },
  {
   "cell_type": "code",
   "execution_count": null,
   "metadata": {},
   "outputs": [],
   "source": [
    "contrasts = np.logspace(-6, -11, 10)\n",
    "exposure_times = []\n",
    "\n",
    "\n",
    "for contrast in contrasts:\n",
    "    params = imaging_params.copy()\n",
    "    params['Fp/Fs'] = contrast\n",
    "    # make the parameters be the shape that the code desires \n",
    "    parsed_parameters= parse_input.parse_parameters(params)\n",
    "\n",
    "    texp, validation_output = calculate_texp(parsed_parameters, verbose=False)\n",
    "\n",
    "\n",
    "    exposure_times.append(texp.to(u.hr).value)\n",
    "\n",
    "\n",
    "# MAKE PLOT\n",
    "fig, ax1 = plt.subplots(figsize=(10, 6))\n",
    "# Primary x-axis (contrast)\n",
    "ax1.semilogx(contrasts, exposure_times,marker='o')\n",
    "ax1.set_xlim([1e-6,1e-11])\n",
    "ax1.set_xlabel('Planet-to-star contrast')\n",
    "ax1.set_ylabel('Exposure time (hours)')\n",
    "ax1.grid(True)\n",
    "\n",
    "plt.title('Exposure Time vs Planet-to-Star Contrast')\n",
    "plt.tight_layout()\n",
    "plt.show()\n",
    "\n"
   ]
  },
  {
   "cell_type": "markdown",
   "metadata": {},
   "source": [
    "#### 5.2 Separation\n",
    "\n",
    "Now let's change the separation of the planet and see how the exposure time changes."
   ]
  },
  {
   "cell_type": "code",
   "execution_count": null,
   "metadata": {},
   "outputs": [],
   "source": [
    "separations = np.linspace(0.005, 0.8, 10)  # arcsec \n",
    "\n",
    "exposure_times = []\n",
    "\n",
    "for sep in separations:\n",
    "    params = imaging_params.copy()\n",
    "    params['separation'] = sep\n",
    "    parsed_parameters= parse_input.parse_parameters(params)\n",
    "\n",
    "    texp, _ = calculate_texp(parsed_parameters, verbose=False)\n",
    "    exposure_times.append(texp.to(u.hr)[0].value)\n",
    "\n",
    "# MAKE PLOT\n",
    "fig, ax1 = plt.subplots(figsize=(10, 6))\n",
    "# Primary x-axis (separation arcsec)\n",
    "ax1.plot(separations, exposure_times, marker='o', label='Valid exposures')\n",
    "ax1.plot(separations[np.isinf(exposure_times)],\n",
    "         np.ones_like(separations)[np.isinf(exposure_times)]*50,\n",
    "         marker='x', linestyle='', color='red', label='Infinite exposures')\n",
    "\n",
    "\n",
    "ax1.set_xlabel('Separation (arcsec)')\n",
    "ax1.set_ylabel('Exposure time (hours)')\n",
    "ax1.grid(True)\n",
    "\n",
    "separations_lod = arcsec_to_lambda_d(separations*ARCSEC,\n",
    "0.5*u.micron.to(LENGTH),\n",
    "8.78*u.m.to(LENGTH),\n",
    ")\n",
    "# # Secondary x-axis (lambda/D)\n",
    "num_ticks = 10\n",
    "tick_indices = np.linspace(0, len(separations) - 1, num_ticks, dtype=int)\n",
    "reduced_separations = [separations[i] for i in tick_indices]\n",
    "reduced_separations_lod = [separations_lod[i] for i in tick_indices]\n",
    "ax2 = ax1.twiny()\n",
    "ax2.set_xticks(reduced_separations)\n",
    "ax2.set_xticklabels([f'{m:.1f}' for m in reduced_separations_lod])\n",
    "\n",
    "\n",
    "ax2.set_xlim(ax1.get_xlim())\n",
    "ax2.set_xlabel('Separation (lambda/D)')\n",
    "\n",
    "plt.title('Exposure Time vs. Separation')\n",
    "plt.legend()\n",
    "plt.tight_layout()\n",
    "plt.show()"
   ]
  },
  {
   "cell_type": "markdown",
   "metadata": {},
   "source": [
    "What if you have a planet and you want to vary the physical distance instead of calculating the corresponding separation? You can also use the keyword ``semimajor_axis'' and pyEDITH will calculate the separation internally."
   ]
  },
  {
   "cell_type": "code",
   "execution_count": null,
   "metadata": {},
   "outputs": [],
   "source": [
    "semimajor_axes = np.linspace(0.05, 10, 10)  # AU \n",
    "\n",
    "exposure_times = []\n",
    "\n",
    "for a in semimajor_axes:\n",
    "    params = imaging_params.copy()\n",
    "    del params['separation']\n",
    "    params['semimajor_axis'] = a \n",
    "    parsed_parameters= parse_input.parse_parameters(params)\n",
    "\n",
    "    texp, _ = calculate_texp(parsed_parameters, verbose=False)\n",
    "    exposure_times.append(texp.to(u.hr)[0].value)\n",
    "\n",
    "# MAKE PLOT\n",
    "fig, ax1 = plt.subplots(figsize=(10, 6))\n",
    "# Primary x-axis (separation arcsec)\n",
    "ax1.plot(semimajor_axes, exposure_times, marker='o', label='Valid exposures')\n",
    "ax1.plot(semimajor_axes[np.isinf(exposure_times)],\n",
    "         np.ones_like(semimajor_axes)[np.isinf(exposure_times)]*50,\n",
    "         marker='x', linestyle='', color='red', label='Infinite exposures')\n",
    "\n",
    "\n",
    "ax1.set_xlabel('Semi-major axes (AU)')\n",
    "ax1.set_ylabel('Exposure time (hours)')\n",
    "ax1.grid(True)\n",
    "plt.title('Exposure Time vs. Semi-major Axis')\n",
    "plt.legend()\n",
    "plt.tight_layout()\n",
    "plt.show()"
   ]
  },
  {
   "cell_type": "code",
   "execution_count": null,
   "metadata": {},
   "outputs": [],
   "source": [
    "parsed_parameters"
   ]
  },
  {
   "cell_type": "markdown",
   "metadata": {},
   "source": [
    "#### 5.3 Telescope Diameter\n",
    "\n",
    "And finally, we can change the telescope diameter and see the impact on the exposure time."
   ]
  },
  {
   "cell_type": "code",
   "execution_count": null,
   "metadata": {},
   "outputs": [],
   "source": [
    "diameters = np.linspace(4, 15, 6)  \n",
    "\n",
    "exposure_times = []\n",
    "\n",
    "for diam in diameters:\n",
    "    params = imaging_params.copy()\n",
    "    params['diameter'] = diam # will overwrite the standard EAC1 telescope diameter\n",
    "    parsed_parameters= parse_input.parse_parameters(params)\n",
    "    texp, _ = calculate_texp(parsed_parameters, verbose=False)\n",
    "    exposure_times.append(texp.to(u.hr)[0].value)\n",
    "\n",
    "\n",
    "# MAKE PLOT\n",
    "plt.figure(figsize=(10, 6))\n",
    "plt.plot(diameters, exposure_times, marker='o')\n",
    "\n",
    "plt.xlabel('Telescope Diameter (m)')\n",
    "plt.ylabel('Exposure Time (hours)')\n",
    "plt.title('Exposure Time vs Telescope Diameter')\n",
    "plt.legend()\n",
    "plt.yscale('log')\n",
    "plt.show()\n"
   ]
  },
  {
   "cell_type": "markdown",
   "metadata": {},
   "source": [
    "### 5.4. PSF Truncation Ratio\n",
    "Also, we can test the effect of varying the PSF trunction ratio. There should exist a PSF truncation ratio that minimizes exposure time and maximizes SNR (and it should be around 0.3). Let's test this:"
   ]
  },
  {
   "cell_type": "code",
   "execution_count": null,
   "metadata": {},
   "outputs": [],
   "source": [
    "psfratios = np.linspace(0.1, 1, 20)   \n",
    "\n",
    "exposure_times = []\n",
    "\n",
    "for ratio in psfratios:\n",
    "    params = imaging_params.copy()\n",
    "    params['psf_trunc_ratio'] = ratio\n",
    "    parsed_parameters= parse_input.parse_parameters(params)\n",
    "    texp, _ = calculate_texp(parsed_parameters, verbose=False)\n",
    "    exposure_times.append(texp.to(u.hr)[0].value)\n",
    "\n",
    "# MAKE PLOT\n",
    "fig, ax1 = plt.subplots(figsize=(10, 6))\n",
    "# Primary x-axis (separation arcsec)\n",
    "ax1.plot(psfratios, exposure_times, marker='o', label='Valid exposures')\n",
    "ax1.plot(psfratios[np.isinf(exposure_times)],\n",
    "         np.ones_like(psfratios)[np.isinf(exposure_times)]*50,\n",
    "         marker='x', linestyle='', color='red', label='Infinite exposures')\n",
    "\n",
    "\n",
    "ax1.set_xlabel('PSF Truncation Ratio')\n",
    "ax1.set_ylabel('Exposure time (hours)')\n",
    "ax1.grid(True)\n",
    "\n",
    "plt.title('Exposure Time vs. PSF Truncation Ratio')\n",
    "plt.legend()\n",
    "plt.tight_layout()\n",
    "plt.show()\n",
    "\n",
    "\n",
    "# exposure time minimized at 0.3, just like it should! "
   ]
  },
  {
   "cell_type": "code",
   "execution_count": null,
   "metadata": {},
   "outputs": [],
   "source": [
    "# SNR Case\n",
    " \n",
    "psfratios = np.linspace(0.1, 1, 20)   \n",
    "exptime=15*u.hr\n",
    "snrs = []\n",
    "\n",
    "for ratio in psfratios:\n",
    "    params = imaging_params.copy()\n",
    "    params['psf_trunc_ratio'] = ratio\n",
    "    parsed_parameters= parse_input.parse_parameters(params)\n",
    "    snr,_ = calculate_snr(parsed_parameters,exptime, verbose=False)\n",
    "    snrs.append(snr[0].value)\n",
    "\n",
    "# MAKE PLOT\n",
    "fig, ax1 = plt.subplots(figsize=(10, 6))\n",
    "# Primary x-axis (separation arcsec)\n",
    "ax1.plot(psfratios, snrs, marker='o', label='Valid exposures')\n",
    "\n",
    "\n",
    "ax1.set_xlabel('PSF Truncation Ratio')\n",
    "ax1.set_ylabel('SNR')\n",
    "ax1.grid(True)\n",
    "\n",
    "plt.title('SNR vs. PSF Truncation Ratio')\n",
    "plt.legend()\n",
    "plt.tight_layout()\n",
    "plt.show()\n",
    "\n",
    "# SNR maximized at 0.3, just like it should! "
   ]
  },
  {
   "cell_type": "markdown",
   "metadata": {},
   "source": [
    "## 6. Advanced Tutorials\n",
    "\n",
    "From the previous examples you noticed that we called `calculate_texp` in a loop multiple times. This makes the code start over and over, which slows down the process for large loops. If you want to speed up the calculation, you can work within `calculate_texp` and loop only what you need. Here are the contents of `calculate_texp`."
   ]
  },
  {
   "cell_type": "code",
   "execution_count": null,
   "metadata": {},
   "outputs": [],
   "source": [
    "params"
   ]
  },
  {
   "cell_type": "code",
   "execution_count": null,
   "metadata": {},
   "outputs": [],
   "source": [
    "from pyEDITH import calculate_exposure_time_or_snr, parse_input\n",
    "params = imaging_params.copy()\n",
    "params['wavelength']=0.55\n",
    "# Parse the desired parameters\n",
    "parsed_parameters= parse_input.parse_parameters(params)\n",
    "\n",
    "# Define Observation and load relevant parameters\n",
    "observation = Observation()\n",
    "observation.load_configuration(parsed_parameters)\n",
    "observation.set_output_arrays()\n",
    "observation.validate_configuration()\n",
    "\n",
    "# Define Astrophysical Scene and load relevant parameters,\n",
    "# then calculate zodi/exozodi\n",
    "scene = AstrophysicalScene()\n",
    "scene.load_configuration(parsed_parameters)\n",
    "scene.calculate_zodi_exozodi(parsed_parameters)\n",
    "scene.validate_configuration()\n",
    "\n",
    "# Create and configure Observatory using ObservatoryBuilder\n",
    "observatory_config = parse_input.get_observatory_config(parsed_parameters)\n",
    "observatory = ObservatoryBuilder.create_observatory(observatory_config)\n",
    "ObservatoryBuilder.configure_observatory(\n",
    "    observatory, parsed_parameters, observation, scene\n",
    ")\n",
    "observatory.validate_configuration()\n",
    "\n",
    "# EXPOSURE TIME CALCULATION\n",
    "calculate_exposure_time_or_snr(\n",
    "    observation,\n",
    "    scene,\n",
    "    observatory,\n",
    "    verbose=False,\n",
    "    mode=\"exposure_time\",\n",
    ")"
   ]
  },
  {
   "cell_type": "code",
   "execution_count": null,
   "metadata": {},
   "outputs": [],
   "source": [
    "observatory.__dict__"
   ]
  },
  {
   "cell_type": "markdown",
   "metadata": {},
   "source": [
    "If we want to loop, we would just do (separation example):"
   ]
  },
  {
   "cell_type": "code",
   "execution_count": null,
   "metadata": {},
   "outputs": [],
   "source": [
    "separations = np.linspace(0.005, 0.8, 20)  # arcsec \n",
    "\n",
    "exposure_times=[]\n",
    "params = imaging_params.copy()\n",
    "\n",
    "from pyEDITH import calculate_exposure_time_or_snr, parse_input\n",
    "\n",
    "# Parse the desired parameters\n",
    "parsed_parameters= parse_input.parse_parameters(params)\n",
    "\n",
    "# Define Observation and load relevant parameters\n",
    "observation = Observation()\n",
    "observation.load_configuration(parsed_parameters)\n",
    "observation.set_output_arrays()\n",
    "observation.validate_configuration()\n",
    "\n",
    "# Define Astrophysical Scene and load relevant parameters,\n",
    "# then calculate zodi/exozodi\n",
    "scene = AstrophysicalScene()\n",
    "scene.load_configuration(parsed_parameters)\n",
    "scene.calculate_zodi_exozodi(parsed_parameters)\n",
    "scene.validate_configuration()\n",
    "\n",
    "# Create and configure Observatory using ObservatoryBuilder\n",
    "observatory_config = parse_input.get_observatory_config(parsed_parameters)\n",
    "observatory = ObservatoryBuilder.create_observatory(observatory_config)\n",
    "ObservatoryBuilder.configure_observatory(\n",
    "    observatory, parsed_parameters, observation, scene\n",
    ")\n",
    "observatory.validate_configuration()\n",
    "\n",
    "for sep in separations:\n",
    "    \n",
    "    scene.separation = sep * ARCSEC #radial separation\n",
    "    scene.xp = sep*ARCSEC #x axis separation\n",
    "\n",
    "    calculate_exposure_time_or_snr(\n",
    "    observation,\n",
    "    scene,\n",
    "    observatory,\n",
    "    verbose=False,\n",
    "    mode=\"exposure_time\",\n",
    ")\n",
    "    exposure_times.append(observation.exptime[0].to(u.hr).value)\n",
    "\n",
    "\n",
    "fig, ax1 = plt.subplots(figsize=(10, 6))\n",
    "# Primary x-axis (separation arcsec)\n",
    "ax1.plot(separations, exposure_times, marker='o', label='Valid exposures')\n",
    "ax1.plot(separations[np.isinf(exposure_times)],\n",
    "         np.ones_like(separations)[np.isinf(exposure_times)]*50,\n",
    "         marker='x', linestyle='', color='red', label='Infinite exposures')\n",
    "\n",
    "\n",
    "ax1.set_xlabel('Separation (arcsec)')\n",
    "ax1.set_ylabel('Exposure time (hours)')\n",
    "ax1.grid(True)\n",
    "\n",
    "separations_lod = arcsec_to_lambda_d(separations*ARCSEC,\n",
    "observation.wavelength[0].to(LENGTH),\n",
    "observatory.telescope.diameter.to(LENGTH),\n",
    ")\n",
    "# # Secondary x-axis (lambda/D)\n",
    "num_ticks = 5 \n",
    "tick_indices = np.linspace(0, len(separations) - 1, num_ticks, dtype=int)\n",
    "reduced_separations = [separations[i] for i in tick_indices]\n",
    "reduced_separations_lod = [separations_lod[i] for i in tick_indices]\n",
    "ax2 = ax1.twiny()\n",
    "ax2.set_xticks(reduced_separations)\n",
    "ax2.set_xticklabels([f'{m:.1f}' for m in reduced_separations_lod])\n",
    "ax2.set_xlim(ax1.get_xlim())\n",
    "ax2.set_xlabel('Separation (lambda/D)')\n",
    "\n",
    "plt.title('Exposure Time vs. Separation')\n",
    "plt.legend()\n",
    "plt.tight_layout()\n",
    "\n",
    "\n"
   ]
  }
 ],
 "metadata": {
  "kernelspec": {
   "display_name": ".venv",
   "language": "python",
   "name": "python3"
  },
  "language_info": {
   "codemirror_mode": {
    "name": "ipython",
    "version": 3
   },
   "file_extension": ".py",
   "mimetype": "text/x-python",
   "name": "python",
   "nbconvert_exporter": "python",
   "pygments_lexer": "ipython3",
   "version": "3.12.4"
  }
 },
 "nbformat": 4,
 "nbformat_minor": 2
}
